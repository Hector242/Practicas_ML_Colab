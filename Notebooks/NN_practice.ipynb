{
  "nbformat": 4,
  "nbformat_minor": 0,
  "metadata": {
    "colab": {
      "provenance": []
    },
    "kernelspec": {
      "name": "python3",
      "display_name": "Python 3"
    },
    "language_info": {
      "name": "python"
    }
  },
  "cells": [
    {
      "cell_type": "markdown",
      "source": [
        "## Upload Titanic Dataset"
      ],
      "metadata": {
        "id": "S8rC9MW_fPnH"
      }
    },
    {
      "cell_type": "code",
      "execution_count": null,
      "metadata": {
        "colab": {
          "base_uri": "https://localhost:8080/",
          "height": 91
        },
        "id": "Bez0B1rGdXWz",
        "outputId": "305b6c82-19a6-4765-e761-d8477bb894b3"
      },
      "outputs": [
        {
          "output_type": "display_data",
          "data": {
            "text/plain": [
              "<IPython.core.display.HTML object>"
            ],
            "text/html": [
              "\n",
              "     <input type=\"file\" id=\"files-9cf05250-a677-4fcf-88ee-e35573529c5c\" name=\"files[]\" multiple disabled\n",
              "        style=\"border:none\" />\n",
              "     <output id=\"result-9cf05250-a677-4fcf-88ee-e35573529c5c\">\n",
              "      Upload widget is only available when the cell has been executed in the\n",
              "      current browser session. Please rerun this cell to enable.\n",
              "      </output>\n",
              "      <script>// Copyright 2017 Google LLC\n",
              "//\n",
              "// Licensed under the Apache License, Version 2.0 (the \"License\");\n",
              "// you may not use this file except in compliance with the License.\n",
              "// You may obtain a copy of the License at\n",
              "//\n",
              "//      http://www.apache.org/licenses/LICENSE-2.0\n",
              "//\n",
              "// Unless required by applicable law or agreed to in writing, software\n",
              "// distributed under the License is distributed on an \"AS IS\" BASIS,\n",
              "// WITHOUT WARRANTIES OR CONDITIONS OF ANY KIND, either express or implied.\n",
              "// See the License for the specific language governing permissions and\n",
              "// limitations under the License.\n",
              "\n",
              "/**\n",
              " * @fileoverview Helpers for google.colab Python module.\n",
              " */\n",
              "(function(scope) {\n",
              "function span(text, styleAttributes = {}) {\n",
              "  const element = document.createElement('span');\n",
              "  element.textContent = text;\n",
              "  for (const key of Object.keys(styleAttributes)) {\n",
              "    element.style[key] = styleAttributes[key];\n",
              "  }\n",
              "  return element;\n",
              "}\n",
              "\n",
              "// Max number of bytes which will be uploaded at a time.\n",
              "const MAX_PAYLOAD_SIZE = 100 * 1024;\n",
              "\n",
              "function _uploadFiles(inputId, outputId) {\n",
              "  const steps = uploadFilesStep(inputId, outputId);\n",
              "  const outputElement = document.getElementById(outputId);\n",
              "  // Cache steps on the outputElement to make it available for the next call\n",
              "  // to uploadFilesContinue from Python.\n",
              "  outputElement.steps = steps;\n",
              "\n",
              "  return _uploadFilesContinue(outputId);\n",
              "}\n",
              "\n",
              "// This is roughly an async generator (not supported in the browser yet),\n",
              "// where there are multiple asynchronous steps and the Python side is going\n",
              "// to poll for completion of each step.\n",
              "// This uses a Promise to block the python side on completion of each step,\n",
              "// then passes the result of the previous step as the input to the next step.\n",
              "function _uploadFilesContinue(outputId) {\n",
              "  const outputElement = document.getElementById(outputId);\n",
              "  const steps = outputElement.steps;\n",
              "\n",
              "  const next = steps.next(outputElement.lastPromiseValue);\n",
              "  return Promise.resolve(next.value.promise).then((value) => {\n",
              "    // Cache the last promise value to make it available to the next\n",
              "    // step of the generator.\n",
              "    outputElement.lastPromiseValue = value;\n",
              "    return next.value.response;\n",
              "  });\n",
              "}\n",
              "\n",
              "/**\n",
              " * Generator function which is called between each async step of the upload\n",
              " * process.\n",
              " * @param {string} inputId Element ID of the input file picker element.\n",
              " * @param {string} outputId Element ID of the output display.\n",
              " * @return {!Iterable<!Object>} Iterable of next steps.\n",
              " */\n",
              "function* uploadFilesStep(inputId, outputId) {\n",
              "  const inputElement = document.getElementById(inputId);\n",
              "  inputElement.disabled = false;\n",
              "\n",
              "  const outputElement = document.getElementById(outputId);\n",
              "  outputElement.innerHTML = '';\n",
              "\n",
              "  const pickedPromise = new Promise((resolve) => {\n",
              "    inputElement.addEventListener('change', (e) => {\n",
              "      resolve(e.target.files);\n",
              "    });\n",
              "  });\n",
              "\n",
              "  const cancel = document.createElement('button');\n",
              "  inputElement.parentElement.appendChild(cancel);\n",
              "  cancel.textContent = 'Cancel upload';\n",
              "  const cancelPromise = new Promise((resolve) => {\n",
              "    cancel.onclick = () => {\n",
              "      resolve(null);\n",
              "    };\n",
              "  });\n",
              "\n",
              "  // Wait for the user to pick the files.\n",
              "  const files = yield {\n",
              "    promise: Promise.race([pickedPromise, cancelPromise]),\n",
              "    response: {\n",
              "      action: 'starting',\n",
              "    }\n",
              "  };\n",
              "\n",
              "  cancel.remove();\n",
              "\n",
              "  // Disable the input element since further picks are not allowed.\n",
              "  inputElement.disabled = true;\n",
              "\n",
              "  if (!files) {\n",
              "    return {\n",
              "      response: {\n",
              "        action: 'complete',\n",
              "      }\n",
              "    };\n",
              "  }\n",
              "\n",
              "  for (const file of files) {\n",
              "    const li = document.createElement('li');\n",
              "    li.append(span(file.name, {fontWeight: 'bold'}));\n",
              "    li.append(span(\n",
              "        `(${file.type || 'n/a'}) - ${file.size} bytes, ` +\n",
              "        `last modified: ${\n",
              "            file.lastModifiedDate ? file.lastModifiedDate.toLocaleDateString() :\n",
              "                                    'n/a'} - `));\n",
              "    const percent = span('0% done');\n",
              "    li.appendChild(percent);\n",
              "\n",
              "    outputElement.appendChild(li);\n",
              "\n",
              "    const fileDataPromise = new Promise((resolve) => {\n",
              "      const reader = new FileReader();\n",
              "      reader.onload = (e) => {\n",
              "        resolve(e.target.result);\n",
              "      };\n",
              "      reader.readAsArrayBuffer(file);\n",
              "    });\n",
              "    // Wait for the data to be ready.\n",
              "    let fileData = yield {\n",
              "      promise: fileDataPromise,\n",
              "      response: {\n",
              "        action: 'continue',\n",
              "      }\n",
              "    };\n",
              "\n",
              "    // Use a chunked sending to avoid message size limits. See b/62115660.\n",
              "    let position = 0;\n",
              "    do {\n",
              "      const length = Math.min(fileData.byteLength - position, MAX_PAYLOAD_SIZE);\n",
              "      const chunk = new Uint8Array(fileData, position, length);\n",
              "      position += length;\n",
              "\n",
              "      const base64 = btoa(String.fromCharCode.apply(null, chunk));\n",
              "      yield {\n",
              "        response: {\n",
              "          action: 'append',\n",
              "          file: file.name,\n",
              "          data: base64,\n",
              "        },\n",
              "      };\n",
              "\n",
              "      let percentDone = fileData.byteLength === 0 ?\n",
              "          100 :\n",
              "          Math.round((position / fileData.byteLength) * 100);\n",
              "      percent.textContent = `${percentDone}% done`;\n",
              "\n",
              "    } while (position < fileData.byteLength);\n",
              "  }\n",
              "\n",
              "  // All done.\n",
              "  yield {\n",
              "    response: {\n",
              "      action: 'complete',\n",
              "    }\n",
              "  };\n",
              "}\n",
              "\n",
              "scope.google = scope.google || {};\n",
              "scope.google.colab = scope.google.colab || {};\n",
              "scope.google.colab._files = {\n",
              "  _uploadFiles,\n",
              "  _uploadFilesContinue,\n",
              "};\n",
              "})(self);\n",
              "</script> "
            ]
          },
          "metadata": {}
        },
        {
          "output_type": "stream",
          "name": "stdout",
          "text": [
            "Saving titanic.csv to titanic.csv\n",
            "User uploaded file \"titanic.csv\" with length 60302 bytes\n"
          ]
        }
      ],
      "source": [
        "from google.colab import files\n",
        "\n",
        "uploaded = files.upload()\n",
        "\n",
        "for fn in uploaded.keys():\n",
        "  print('User uploaded file \"{name}\" with length {length} bytes'.format(\n",
        "      name=fn, length=len(uploaded[fn])))"
      ]
    },
    {
      "cell_type": "code",
      "source": [
        "# Import libraries\n",
        "import pandas as pd\n",
        "import numpy as np\n",
        "import matplotlib.pyplot as plt\n",
        "import seaborn as sns"
      ],
      "metadata": {
        "id": "rXj3g1M4fYDm"
      },
      "execution_count": null,
      "outputs": []
    },
    {
      "cell_type": "code",
      "source": [
        "# load dataframe\n",
        "df = pd.read_csv('titanic.csv')\n",
        "df.head()"
      ],
      "metadata": {
        "colab": {
          "base_uri": "https://localhost:8080/",
          "height": 206
        },
        "id": "oF_8OtOTfmnN",
        "outputId": "573add85-e397-493b-c743-6b1b22cabf77"
      },
      "execution_count": null,
      "outputs": [
        {
          "output_type": "execute_result",
          "data": {
            "text/plain": [
              "   PassengerId  Survived  Pclass  \\\n",
              "0            1         0       3   \n",
              "1            2         1       1   \n",
              "2            3         1       3   \n",
              "3            4         1       1   \n",
              "4            5         0       3   \n",
              "\n",
              "                                                Name     Sex   Age  SibSp  \\\n",
              "0                            Braund, Mr. Owen Harris    male  22.0      1   \n",
              "1  Cumings, Mrs. John Bradley (Florence Briggs Th...  female  38.0      1   \n",
              "2                             Heikkinen, Miss. Laina  female  26.0      0   \n",
              "3       Futrelle, Mrs. Jacques Heath (Lily May Peel)  female  35.0      1   \n",
              "4                           Allen, Mr. William Henry    male  35.0      0   \n",
              "\n",
              "   Parch            Ticket     Fare Cabin Embarked  \n",
              "0      0         A/5 21171   7.2500   NaN        S  \n",
              "1      0          PC 17599  71.2833   C85        C  \n",
              "2      0  STON/O2. 3101282   7.9250   NaN        S  \n",
              "3      0            113803  53.1000  C123        S  \n",
              "4      0            373450   8.0500   NaN        S  "
            ],
            "text/html": [
              "\n",
              "\n",
              "  <div id=\"df-d21dc636-f332-44cf-99fa-5c432de456f0\">\n",
              "    <div class=\"colab-df-container\">\n",
              "      <div>\n",
              "<style scoped>\n",
              "    .dataframe tbody tr th:only-of-type {\n",
              "        vertical-align: middle;\n",
              "    }\n",
              "\n",
              "    .dataframe tbody tr th {\n",
              "        vertical-align: top;\n",
              "    }\n",
              "\n",
              "    .dataframe thead th {\n",
              "        text-align: right;\n",
              "    }\n",
              "</style>\n",
              "<table border=\"1\" class=\"dataframe\">\n",
              "  <thead>\n",
              "    <tr style=\"text-align: right;\">\n",
              "      <th></th>\n",
              "      <th>PassengerId</th>\n",
              "      <th>Survived</th>\n",
              "      <th>Pclass</th>\n",
              "      <th>Name</th>\n",
              "      <th>Sex</th>\n",
              "      <th>Age</th>\n",
              "      <th>SibSp</th>\n",
              "      <th>Parch</th>\n",
              "      <th>Ticket</th>\n",
              "      <th>Fare</th>\n",
              "      <th>Cabin</th>\n",
              "      <th>Embarked</th>\n",
              "    </tr>\n",
              "  </thead>\n",
              "  <tbody>\n",
              "    <tr>\n",
              "      <th>0</th>\n",
              "      <td>1</td>\n",
              "      <td>0</td>\n",
              "      <td>3</td>\n",
              "      <td>Braund, Mr. Owen Harris</td>\n",
              "      <td>male</td>\n",
              "      <td>22.0</td>\n",
              "      <td>1</td>\n",
              "      <td>0</td>\n",
              "      <td>A/5 21171</td>\n",
              "      <td>7.2500</td>\n",
              "      <td>NaN</td>\n",
              "      <td>S</td>\n",
              "    </tr>\n",
              "    <tr>\n",
              "      <th>1</th>\n",
              "      <td>2</td>\n",
              "      <td>1</td>\n",
              "      <td>1</td>\n",
              "      <td>Cumings, Mrs. John Bradley (Florence Briggs Th...</td>\n",
              "      <td>female</td>\n",
              "      <td>38.0</td>\n",
              "      <td>1</td>\n",
              "      <td>0</td>\n",
              "      <td>PC 17599</td>\n",
              "      <td>71.2833</td>\n",
              "      <td>C85</td>\n",
              "      <td>C</td>\n",
              "    </tr>\n",
              "    <tr>\n",
              "      <th>2</th>\n",
              "      <td>3</td>\n",
              "      <td>1</td>\n",
              "      <td>3</td>\n",
              "      <td>Heikkinen, Miss. Laina</td>\n",
              "      <td>female</td>\n",
              "      <td>26.0</td>\n",
              "      <td>0</td>\n",
              "      <td>0</td>\n",
              "      <td>STON/O2. 3101282</td>\n",
              "      <td>7.9250</td>\n",
              "      <td>NaN</td>\n",
              "      <td>S</td>\n",
              "    </tr>\n",
              "    <tr>\n",
              "      <th>3</th>\n",
              "      <td>4</td>\n",
              "      <td>1</td>\n",
              "      <td>1</td>\n",
              "      <td>Futrelle, Mrs. Jacques Heath (Lily May Peel)</td>\n",
              "      <td>female</td>\n",
              "      <td>35.0</td>\n",
              "      <td>1</td>\n",
              "      <td>0</td>\n",
              "      <td>113803</td>\n",
              "      <td>53.1000</td>\n",
              "      <td>C123</td>\n",
              "      <td>S</td>\n",
              "    </tr>\n",
              "    <tr>\n",
              "      <th>4</th>\n",
              "      <td>5</td>\n",
              "      <td>0</td>\n",
              "      <td>3</td>\n",
              "      <td>Allen, Mr. William Henry</td>\n",
              "      <td>male</td>\n",
              "      <td>35.0</td>\n",
              "      <td>0</td>\n",
              "      <td>0</td>\n",
              "      <td>373450</td>\n",
              "      <td>8.0500</td>\n",
              "      <td>NaN</td>\n",
              "      <td>S</td>\n",
              "    </tr>\n",
              "  </tbody>\n",
              "</table>\n",
              "</div>\n",
              "      <button class=\"colab-df-convert\" onclick=\"convertToInteractive('df-d21dc636-f332-44cf-99fa-5c432de456f0')\"\n",
              "              title=\"Convert this dataframe to an interactive table.\"\n",
              "              style=\"display:none;\">\n",
              "\n",
              "  <svg xmlns=\"http://www.w3.org/2000/svg\" height=\"24px\"viewBox=\"0 0 24 24\"\n",
              "       width=\"24px\">\n",
              "    <path d=\"M0 0h24v24H0V0z\" fill=\"none\"/>\n",
              "    <path d=\"M18.56 5.44l.94 2.06.94-2.06 2.06-.94-2.06-.94-.94-2.06-.94 2.06-2.06.94zm-11 1L8.5 8.5l.94-2.06 2.06-.94-2.06-.94L8.5 2.5l-.94 2.06-2.06.94zm10 10l.94 2.06.94-2.06 2.06-.94-2.06-.94-.94-2.06-.94 2.06-2.06.94z\"/><path d=\"M17.41 7.96l-1.37-1.37c-.4-.4-.92-.59-1.43-.59-.52 0-1.04.2-1.43.59L10.3 9.45l-7.72 7.72c-.78.78-.78 2.05 0 2.83L4 21.41c.39.39.9.59 1.41.59.51 0 1.02-.2 1.41-.59l7.78-7.78 2.81-2.81c.8-.78.8-2.07 0-2.86zM5.41 20L4 18.59l7.72-7.72 1.47 1.35L5.41 20z\"/>\n",
              "  </svg>\n",
              "      </button>\n",
              "\n",
              "\n",
              "\n",
              "    <div id=\"df-2581930b-0ffa-481e-a74c-16a3a3093592\">\n",
              "      <button class=\"colab-df-quickchart\" onclick=\"quickchart('df-2581930b-0ffa-481e-a74c-16a3a3093592')\"\n",
              "              title=\"Suggest charts.\"\n",
              "              style=\"display:none;\">\n",
              "\n",
              "<svg xmlns=\"http://www.w3.org/2000/svg\" height=\"24px\"viewBox=\"0 0 24 24\"\n",
              "     width=\"24px\">\n",
              "    <g>\n",
              "        <path d=\"M19 3H5c-1.1 0-2 .9-2 2v14c0 1.1.9 2 2 2h14c1.1 0 2-.9 2-2V5c0-1.1-.9-2-2-2zM9 17H7v-7h2v7zm4 0h-2V7h2v10zm4 0h-2v-4h2v4z\"/>\n",
              "    </g>\n",
              "</svg>\n",
              "      </button>\n",
              "    </div>\n",
              "\n",
              "<style>\n",
              "  .colab-df-quickchart {\n",
              "    background-color: #E8F0FE;\n",
              "    border: none;\n",
              "    border-radius: 50%;\n",
              "    cursor: pointer;\n",
              "    display: none;\n",
              "    fill: #1967D2;\n",
              "    height: 32px;\n",
              "    padding: 0 0 0 0;\n",
              "    width: 32px;\n",
              "  }\n",
              "\n",
              "  .colab-df-quickchart:hover {\n",
              "    background-color: #E2EBFA;\n",
              "    box-shadow: 0px 1px 2px rgba(60, 64, 67, 0.3), 0px 1px 3px 1px rgba(60, 64, 67, 0.15);\n",
              "    fill: #174EA6;\n",
              "  }\n",
              "\n",
              "  [theme=dark] .colab-df-quickchart {\n",
              "    background-color: #3B4455;\n",
              "    fill: #D2E3FC;\n",
              "  }\n",
              "\n",
              "  [theme=dark] .colab-df-quickchart:hover {\n",
              "    background-color: #434B5C;\n",
              "    box-shadow: 0px 1px 3px 1px rgba(0, 0, 0, 0.15);\n",
              "    filter: drop-shadow(0px 1px 2px rgba(0, 0, 0, 0.3));\n",
              "    fill: #FFFFFF;\n",
              "  }\n",
              "</style>\n",
              "\n",
              "    <script>\n",
              "      async function quickchart(key) {\n",
              "        const containerElement = document.querySelector('#' + key);\n",
              "        const charts = await google.colab.kernel.invokeFunction(\n",
              "            'suggestCharts', [key], {});\n",
              "      }\n",
              "    </script>\n",
              "\n",
              "      <script>\n",
              "\n",
              "function displayQuickchartButton(domScope) {\n",
              "  let quickchartButtonEl =\n",
              "    domScope.querySelector('#df-2581930b-0ffa-481e-a74c-16a3a3093592 button.colab-df-quickchart');\n",
              "  quickchartButtonEl.style.display =\n",
              "    google.colab.kernel.accessAllowed ? 'block' : 'none';\n",
              "}\n",
              "\n",
              "        displayQuickchartButton(document);\n",
              "      </script>\n",
              "      <style>\n",
              "    .colab-df-container {\n",
              "      display:flex;\n",
              "      flex-wrap:wrap;\n",
              "      gap: 12px;\n",
              "    }\n",
              "\n",
              "    .colab-df-convert {\n",
              "      background-color: #E8F0FE;\n",
              "      border: none;\n",
              "      border-radius: 50%;\n",
              "      cursor: pointer;\n",
              "      display: none;\n",
              "      fill: #1967D2;\n",
              "      height: 32px;\n",
              "      padding: 0 0 0 0;\n",
              "      width: 32px;\n",
              "    }\n",
              "\n",
              "    .colab-df-convert:hover {\n",
              "      background-color: #E2EBFA;\n",
              "      box-shadow: 0px 1px 2px rgba(60, 64, 67, 0.3), 0px 1px 3px 1px rgba(60, 64, 67, 0.15);\n",
              "      fill: #174EA6;\n",
              "    }\n",
              "\n",
              "    [theme=dark] .colab-df-convert {\n",
              "      background-color: #3B4455;\n",
              "      fill: #D2E3FC;\n",
              "    }\n",
              "\n",
              "    [theme=dark] .colab-df-convert:hover {\n",
              "      background-color: #434B5C;\n",
              "      box-shadow: 0px 1px 3px 1px rgba(0, 0, 0, 0.15);\n",
              "      filter: drop-shadow(0px 1px 2px rgba(0, 0, 0, 0.3));\n",
              "      fill: #FFFFFF;\n",
              "    }\n",
              "  </style>\n",
              "\n",
              "      <script>\n",
              "        const buttonEl =\n",
              "          document.querySelector('#df-d21dc636-f332-44cf-99fa-5c432de456f0 button.colab-df-convert');\n",
              "        buttonEl.style.display =\n",
              "          google.colab.kernel.accessAllowed ? 'block' : 'none';\n",
              "\n",
              "        async function convertToInteractive(key) {\n",
              "          const element = document.querySelector('#df-d21dc636-f332-44cf-99fa-5c432de456f0');\n",
              "          const dataTable =\n",
              "            await google.colab.kernel.invokeFunction('convertToInteractive',\n",
              "                                                     [key], {});\n",
              "          if (!dataTable) return;\n",
              "\n",
              "          const docLinkHtml = 'Like what you see? Visit the ' +\n",
              "            '<a target=\"_blank\" href=https://colab.research.google.com/notebooks/data_table.ipynb>data table notebook</a>'\n",
              "            + ' to learn more about interactive tables.';\n",
              "          element.innerHTML = '';\n",
              "          dataTable['output_type'] = 'display_data';\n",
              "          await google.colab.output.renderOutput(dataTable, element);\n",
              "          const docLink = document.createElement('div');\n",
              "          docLink.innerHTML = docLinkHtml;\n",
              "          element.appendChild(docLink);\n",
              "        }\n",
              "      </script>\n",
              "    </div>\n",
              "  </div>\n"
            ]
          },
          "metadata": {},
          "execution_count": 3
        }
      ]
    },
    {
      "cell_type": "markdown",
      "source": [
        "## Minimun EDA"
      ],
      "metadata": {
        "id": "ezINFSiogAUL"
      }
    },
    {
      "cell_type": "code",
      "source": [
        "# Dataset size\n",
        "n_samples, n_features = df.shape\n",
        "print(f\"Cantidad de Observaciones: {n_samples}, Cantidad de caracteristicas: {n_features}\")"
      ],
      "metadata": {
        "colab": {
          "base_uri": "https://localhost:8080/"
        },
        "id": "JG_pdleqf-jI",
        "outputId": "50e3fe2c-742f-4717-d5f5-fac700b6dfdc"
      },
      "execution_count": null,
      "outputs": [
        {
          "output_type": "stream",
          "name": "stdout",
          "text": [
            "Cantidad de Observaciones: 891, Cantidad de caracteristicas: 12\n"
          ]
        }
      ]
    },
    {
      "cell_type": "code",
      "source": [
        "# Stadistic analisys\n",
        "df.describe()"
      ],
      "metadata": {
        "colab": {
          "base_uri": "https://localhost:8080/",
          "height": 300
        },
        "id": "8OTfOFX4ipu_",
        "outputId": "c8a5d066-ddd9-4436-84a3-cecceba310d9"
      },
      "execution_count": null,
      "outputs": [
        {
          "output_type": "execute_result",
          "data": {
            "text/plain": [
              "       PassengerId    Survived      Pclass         Age       SibSp  \\\n",
              "count   891.000000  891.000000  891.000000  714.000000  891.000000   \n",
              "mean    446.000000    0.383838    2.308642   29.699118    0.523008   \n",
              "std     257.353842    0.486592    0.836071   14.526497    1.102743   \n",
              "min       1.000000    0.000000    1.000000    0.420000    0.000000   \n",
              "25%     223.500000    0.000000    2.000000   20.125000    0.000000   \n",
              "50%     446.000000    0.000000    3.000000   28.000000    0.000000   \n",
              "75%     668.500000    1.000000    3.000000   38.000000    1.000000   \n",
              "max     891.000000    1.000000    3.000000   80.000000    8.000000   \n",
              "\n",
              "            Parch        Fare  \n",
              "count  891.000000  891.000000  \n",
              "mean     0.381594   32.204208  \n",
              "std      0.806057   49.693429  \n",
              "min      0.000000    0.000000  \n",
              "25%      0.000000    7.910400  \n",
              "50%      0.000000   14.454200  \n",
              "75%      0.000000   31.000000  \n",
              "max      6.000000  512.329200  "
            ],
            "text/html": [
              "\n",
              "\n",
              "  <div id=\"df-a4cfc460-074b-46b5-a319-b9f941143f89\">\n",
              "    <div class=\"colab-df-container\">\n",
              "      <div>\n",
              "<style scoped>\n",
              "    .dataframe tbody tr th:only-of-type {\n",
              "        vertical-align: middle;\n",
              "    }\n",
              "\n",
              "    .dataframe tbody tr th {\n",
              "        vertical-align: top;\n",
              "    }\n",
              "\n",
              "    .dataframe thead th {\n",
              "        text-align: right;\n",
              "    }\n",
              "</style>\n",
              "<table border=\"1\" class=\"dataframe\">\n",
              "  <thead>\n",
              "    <tr style=\"text-align: right;\">\n",
              "      <th></th>\n",
              "      <th>PassengerId</th>\n",
              "      <th>Survived</th>\n",
              "      <th>Pclass</th>\n",
              "      <th>Age</th>\n",
              "      <th>SibSp</th>\n",
              "      <th>Parch</th>\n",
              "      <th>Fare</th>\n",
              "    </tr>\n",
              "  </thead>\n",
              "  <tbody>\n",
              "    <tr>\n",
              "      <th>count</th>\n",
              "      <td>891.000000</td>\n",
              "      <td>891.000000</td>\n",
              "      <td>891.000000</td>\n",
              "      <td>714.000000</td>\n",
              "      <td>891.000000</td>\n",
              "      <td>891.000000</td>\n",
              "      <td>891.000000</td>\n",
              "    </tr>\n",
              "    <tr>\n",
              "      <th>mean</th>\n",
              "      <td>446.000000</td>\n",
              "      <td>0.383838</td>\n",
              "      <td>2.308642</td>\n",
              "      <td>29.699118</td>\n",
              "      <td>0.523008</td>\n",
              "      <td>0.381594</td>\n",
              "      <td>32.204208</td>\n",
              "    </tr>\n",
              "    <tr>\n",
              "      <th>std</th>\n",
              "      <td>257.353842</td>\n",
              "      <td>0.486592</td>\n",
              "      <td>0.836071</td>\n",
              "      <td>14.526497</td>\n",
              "      <td>1.102743</td>\n",
              "      <td>0.806057</td>\n",
              "      <td>49.693429</td>\n",
              "    </tr>\n",
              "    <tr>\n",
              "      <th>min</th>\n",
              "      <td>1.000000</td>\n",
              "      <td>0.000000</td>\n",
              "      <td>1.000000</td>\n",
              "      <td>0.420000</td>\n",
              "      <td>0.000000</td>\n",
              "      <td>0.000000</td>\n",
              "      <td>0.000000</td>\n",
              "    </tr>\n",
              "    <tr>\n",
              "      <th>25%</th>\n",
              "      <td>223.500000</td>\n",
              "      <td>0.000000</td>\n",
              "      <td>2.000000</td>\n",
              "      <td>20.125000</td>\n",
              "      <td>0.000000</td>\n",
              "      <td>0.000000</td>\n",
              "      <td>7.910400</td>\n",
              "    </tr>\n",
              "    <tr>\n",
              "      <th>50%</th>\n",
              "      <td>446.000000</td>\n",
              "      <td>0.000000</td>\n",
              "      <td>3.000000</td>\n",
              "      <td>28.000000</td>\n",
              "      <td>0.000000</td>\n",
              "      <td>0.000000</td>\n",
              "      <td>14.454200</td>\n",
              "    </tr>\n",
              "    <tr>\n",
              "      <th>75%</th>\n",
              "      <td>668.500000</td>\n",
              "      <td>1.000000</td>\n",
              "      <td>3.000000</td>\n",
              "      <td>38.000000</td>\n",
              "      <td>1.000000</td>\n",
              "      <td>0.000000</td>\n",
              "      <td>31.000000</td>\n",
              "    </tr>\n",
              "    <tr>\n",
              "      <th>max</th>\n",
              "      <td>891.000000</td>\n",
              "      <td>1.000000</td>\n",
              "      <td>3.000000</td>\n",
              "      <td>80.000000</td>\n",
              "      <td>8.000000</td>\n",
              "      <td>6.000000</td>\n",
              "      <td>512.329200</td>\n",
              "    </tr>\n",
              "  </tbody>\n",
              "</table>\n",
              "</div>\n",
              "      <button class=\"colab-df-convert\" onclick=\"convertToInteractive('df-a4cfc460-074b-46b5-a319-b9f941143f89')\"\n",
              "              title=\"Convert this dataframe to an interactive table.\"\n",
              "              style=\"display:none;\">\n",
              "\n",
              "  <svg xmlns=\"http://www.w3.org/2000/svg\" height=\"24px\"viewBox=\"0 0 24 24\"\n",
              "       width=\"24px\">\n",
              "    <path d=\"M0 0h24v24H0V0z\" fill=\"none\"/>\n",
              "    <path d=\"M18.56 5.44l.94 2.06.94-2.06 2.06-.94-2.06-.94-.94-2.06-.94 2.06-2.06.94zm-11 1L8.5 8.5l.94-2.06 2.06-.94-2.06-.94L8.5 2.5l-.94 2.06-2.06.94zm10 10l.94 2.06.94-2.06 2.06-.94-2.06-.94-.94-2.06-.94 2.06-2.06.94z\"/><path d=\"M17.41 7.96l-1.37-1.37c-.4-.4-.92-.59-1.43-.59-.52 0-1.04.2-1.43.59L10.3 9.45l-7.72 7.72c-.78.78-.78 2.05 0 2.83L4 21.41c.39.39.9.59 1.41.59.51 0 1.02-.2 1.41-.59l7.78-7.78 2.81-2.81c.8-.78.8-2.07 0-2.86zM5.41 20L4 18.59l7.72-7.72 1.47 1.35L5.41 20z\"/>\n",
              "  </svg>\n",
              "      </button>\n",
              "\n",
              "\n",
              "\n",
              "    <div id=\"df-3a938adf-d23b-42f1-818c-384be555abd5\">\n",
              "      <button class=\"colab-df-quickchart\" onclick=\"quickchart('df-3a938adf-d23b-42f1-818c-384be555abd5')\"\n",
              "              title=\"Suggest charts.\"\n",
              "              style=\"display:none;\">\n",
              "\n",
              "<svg xmlns=\"http://www.w3.org/2000/svg\" height=\"24px\"viewBox=\"0 0 24 24\"\n",
              "     width=\"24px\">\n",
              "    <g>\n",
              "        <path d=\"M19 3H5c-1.1 0-2 .9-2 2v14c0 1.1.9 2 2 2h14c1.1 0 2-.9 2-2V5c0-1.1-.9-2-2-2zM9 17H7v-7h2v7zm4 0h-2V7h2v10zm4 0h-2v-4h2v4z\"/>\n",
              "    </g>\n",
              "</svg>\n",
              "      </button>\n",
              "    </div>\n",
              "\n",
              "<style>\n",
              "  .colab-df-quickchart {\n",
              "    background-color: #E8F0FE;\n",
              "    border: none;\n",
              "    border-radius: 50%;\n",
              "    cursor: pointer;\n",
              "    display: none;\n",
              "    fill: #1967D2;\n",
              "    height: 32px;\n",
              "    padding: 0 0 0 0;\n",
              "    width: 32px;\n",
              "  }\n",
              "\n",
              "  .colab-df-quickchart:hover {\n",
              "    background-color: #E2EBFA;\n",
              "    box-shadow: 0px 1px 2px rgba(60, 64, 67, 0.3), 0px 1px 3px 1px rgba(60, 64, 67, 0.15);\n",
              "    fill: #174EA6;\n",
              "  }\n",
              "\n",
              "  [theme=dark] .colab-df-quickchart {\n",
              "    background-color: #3B4455;\n",
              "    fill: #D2E3FC;\n",
              "  }\n",
              "\n",
              "  [theme=dark] .colab-df-quickchart:hover {\n",
              "    background-color: #434B5C;\n",
              "    box-shadow: 0px 1px 3px 1px rgba(0, 0, 0, 0.15);\n",
              "    filter: drop-shadow(0px 1px 2px rgba(0, 0, 0, 0.3));\n",
              "    fill: #FFFFFF;\n",
              "  }\n",
              "</style>\n",
              "\n",
              "    <script>\n",
              "      async function quickchart(key) {\n",
              "        const containerElement = document.querySelector('#' + key);\n",
              "        const charts = await google.colab.kernel.invokeFunction(\n",
              "            'suggestCharts', [key], {});\n",
              "      }\n",
              "    </script>\n",
              "\n",
              "      <script>\n",
              "\n",
              "function displayQuickchartButton(domScope) {\n",
              "  let quickchartButtonEl =\n",
              "    domScope.querySelector('#df-3a938adf-d23b-42f1-818c-384be555abd5 button.colab-df-quickchart');\n",
              "  quickchartButtonEl.style.display =\n",
              "    google.colab.kernel.accessAllowed ? 'block' : 'none';\n",
              "}\n",
              "\n",
              "        displayQuickchartButton(document);\n",
              "      </script>\n",
              "      <style>\n",
              "    .colab-df-container {\n",
              "      display:flex;\n",
              "      flex-wrap:wrap;\n",
              "      gap: 12px;\n",
              "    }\n",
              "\n",
              "    .colab-df-convert {\n",
              "      background-color: #E8F0FE;\n",
              "      border: none;\n",
              "      border-radius: 50%;\n",
              "      cursor: pointer;\n",
              "      display: none;\n",
              "      fill: #1967D2;\n",
              "      height: 32px;\n",
              "      padding: 0 0 0 0;\n",
              "      width: 32px;\n",
              "    }\n",
              "\n",
              "    .colab-df-convert:hover {\n",
              "      background-color: #E2EBFA;\n",
              "      box-shadow: 0px 1px 2px rgba(60, 64, 67, 0.3), 0px 1px 3px 1px rgba(60, 64, 67, 0.15);\n",
              "      fill: #174EA6;\n",
              "    }\n",
              "\n",
              "    [theme=dark] .colab-df-convert {\n",
              "      background-color: #3B4455;\n",
              "      fill: #D2E3FC;\n",
              "    }\n",
              "\n",
              "    [theme=dark] .colab-df-convert:hover {\n",
              "      background-color: #434B5C;\n",
              "      box-shadow: 0px 1px 3px 1px rgba(0, 0, 0, 0.15);\n",
              "      filter: drop-shadow(0px 1px 2px rgba(0, 0, 0, 0.3));\n",
              "      fill: #FFFFFF;\n",
              "    }\n",
              "  </style>\n",
              "\n",
              "      <script>\n",
              "        const buttonEl =\n",
              "          document.querySelector('#df-a4cfc460-074b-46b5-a319-b9f941143f89 button.colab-df-convert');\n",
              "        buttonEl.style.display =\n",
              "          google.colab.kernel.accessAllowed ? 'block' : 'none';\n",
              "\n",
              "        async function convertToInteractive(key) {\n",
              "          const element = document.querySelector('#df-a4cfc460-074b-46b5-a319-b9f941143f89');\n",
              "          const dataTable =\n",
              "            await google.colab.kernel.invokeFunction('convertToInteractive',\n",
              "                                                     [key], {});\n",
              "          if (!dataTable) return;\n",
              "\n",
              "          const docLinkHtml = 'Like what you see? Visit the ' +\n",
              "            '<a target=\"_blank\" href=https://colab.research.google.com/notebooks/data_table.ipynb>data table notebook</a>'\n",
              "            + ' to learn more about interactive tables.';\n",
              "          element.innerHTML = '';\n",
              "          dataTable['output_type'] = 'display_data';\n",
              "          await google.colab.output.renderOutput(dataTable, element);\n",
              "          const docLink = document.createElement('div');\n",
              "          docLink.innerHTML = docLinkHtml;\n",
              "          element.appendChild(docLink);\n",
              "        }\n",
              "      </script>\n",
              "    </div>\n",
              "  </div>\n"
            ]
          },
          "metadata": {},
          "execution_count": 5
        }
      ]
    },
    {
      "cell_type": "code",
      "source": [
        "# null values\n",
        "df.isnull().sum()"
      ],
      "metadata": {
        "colab": {
          "base_uri": "https://localhost:8080/"
        },
        "id": "we6WpcI0jU8y",
        "outputId": "13e8eb4e-85f6-4747-f4b8-44205e782a29"
      },
      "execution_count": null,
      "outputs": [
        {
          "output_type": "execute_result",
          "data": {
            "text/plain": [
              "PassengerId      0\n",
              "Survived         0\n",
              "Pclass           0\n",
              "Name             0\n",
              "Sex              0\n",
              "Age            177\n",
              "SibSp            0\n",
              "Parch            0\n",
              "Ticket           0\n",
              "Fare             0\n",
              "Cabin          687\n",
              "Embarked         2\n",
              "dtype: int64"
            ]
          },
          "metadata": {},
          "execution_count": 6
        }
      ]
    },
    {
      "cell_type": "markdown",
      "source": [
        "Se observar que las caracteristicas:\n",
        "\n",
        "\n",
        "*   Age tiene 177 valores nulos\n",
        "*   Cabin tiene 687 valores nulos\n",
        "*   Embarked tiene 2 valores nulos\n",
        "\n"
      ],
      "metadata": {
        "id": "FojA0xEqpdrt"
      }
    },
    {
      "cell_type": "code",
      "source": [
        "# data type\n",
        "df.info()"
      ],
      "metadata": {
        "colab": {
          "base_uri": "https://localhost:8080/"
        },
        "id": "2uM9klw7j1jG",
        "outputId": "7bb23255-3341-405f-c2ae-c642ab146aa8"
      },
      "execution_count": null,
      "outputs": [
        {
          "output_type": "stream",
          "name": "stdout",
          "text": [
            "<class 'pandas.core.frame.DataFrame'>\n",
            "RangeIndex: 891 entries, 0 to 890\n",
            "Data columns (total 12 columns):\n",
            " #   Column       Non-Null Count  Dtype  \n",
            "---  ------       --------------  -----  \n",
            " 0   PassengerId  891 non-null    int64  \n",
            " 1   Survived     891 non-null    int64  \n",
            " 2   Pclass       891 non-null    int64  \n",
            " 3   Name         891 non-null    object \n",
            " 4   Sex          891 non-null    object \n",
            " 5   Age          714 non-null    float64\n",
            " 6   SibSp        891 non-null    int64  \n",
            " 7   Parch        891 non-null    int64  \n",
            " 8   Ticket       891 non-null    object \n",
            " 9   Fare         891 non-null    float64\n",
            " 10  Cabin        204 non-null    object \n",
            " 11  Embarked     889 non-null    object \n",
            "dtypes: float64(2), int64(5), object(5)\n",
            "memory usage: 83.7+ KB\n"
          ]
        }
      ]
    },
    {
      "cell_type": "markdown",
      "source": [
        "**analisis**\n",
        "\n",
        "* Sex se puede pasar a booleano 1 para male y 0 para famale\n",
        "* Otras variables categoricas como Name y Cabin se les debe evaluar la cardinalidad.\n",
        "* Variable target \"Survived\" se tiene que evaluar si esta balanceada o no\n",
        "\n",
        "\n",
        "\n",
        "\n",
        "\n"
      ],
      "metadata": {
        "id": "vRRXK98GqBRx"
      }
    },
    {
      "cell_type": "code",
      "source": [
        "# taking numerical features to make a correlation study\n",
        "df_corr = df.copy()\n",
        "df_corr = df_corr.select_dtypes(include='number')\n",
        "\n",
        "df_corr.columns"
      ],
      "metadata": {
        "colab": {
          "base_uri": "https://localhost:8080/"
        },
        "id": "NAPMl5bakRi5",
        "outputId": "1ffea457-5bdf-467b-e4f5-01e1dee836d0"
      },
      "execution_count": null,
      "outputs": [
        {
          "output_type": "execute_result",
          "data": {
            "text/plain": [
              "Index(['PassengerId', 'Survived', 'Pclass', 'Age', 'SibSp', 'Parch', 'Fare'], dtype='object')"
            ]
          },
          "metadata": {},
          "execution_count": 8
        }
      ]
    },
    {
      "cell_type": "code",
      "source": [
        "# finding lineal patterns in the features\n",
        "from scipy import stats\n",
        "import matplotlib.pyplot as plt\n",
        "\n",
        "df_corr.dropna(inplace=True)\n",
        "\n",
        "num_features = len(df_corr.columns)\n",
        "num_rows = (num_features + 1) // 2\n",
        "num_cols = 2\n",
        "\n",
        "fig, axes = plt.subplots(num_rows, num_cols, figsize=(10, 15))\n",
        "\n",
        "for k, xi in enumerate(df_corr.columns):\n",
        "    row = k // num_cols\n",
        "    col = k % num_cols\n",
        "    stats.probplot(df_corr[xi], dist=\"norm\", plot=axes[row, col])\n",
        "    axes[row, col].set_title(xi)\n",
        "    axes[row, col].get_lines()[0].set_markerfacecolor('#66c2a5')\n",
        "    axes[row, col].get_lines()[0].set_markeredgecolor('#007540')\n",
        "\n",
        "\n",
        "if num_features % 2 != 0:\n",
        "    axes[num_rows - 1, num_cols - 1].axis(\"off\")\n",
        "\n",
        "plt.tight_layout()\n",
        "plt.show()"
      ],
      "metadata": {
        "colab": {
          "base_uri": "https://localhost:8080/",
          "height": 1000
        },
        "id": "ARR9llZnm-pA",
        "outputId": "9b45f509-31cd-404f-e481-44e22990c61e"
      },
      "execution_count": null,
      "outputs": [
        {
          "output_type": "display_data",
          "data": {
            "text/plain": [
              "<Figure size 1000x1500 with 8 Axes>"
            ],
            "image/png": "[encoded data removed]"
          },
          "metadata": {}
        }
      ]
    },
    {
      "cell_type": "markdown",
      "source": [
        "**Analisis**\n",
        "\n",
        "No se observa una linealidad sobre todas las features numericas, por lo tanto, no se puede hacer un estudio de correlacion con pearson y se tendra que realizar con spearman."
      ],
      "metadata": {
        "id": "uLs1GbgpBQu_"
      }
    },
    {
      "cell_type": "code",
      "source": [
        "# heatmap for correlation\n",
        "corr = df_corr.corr(method='spearman')\n",
        "fig = plt.figure(figsize=(15,5))\n",
        "plt.title(\"Spearman\")\n",
        "sns.heatmap(corr, cmap=sns.diverging_palette(220,10,as_cmap=True),annot=True,fmt=\".2f\")\n",
        "sns.set(font_scale=0.9)"
      ],
      "metadata": {
        "colab": {
          "base_uri": "https://localhost:8080/",
          "height": 468
        },
        "id": "pAaNqcybCBKb",
        "outputId": "db5d5261-b614-4fbd-eba9-85146bbdd98a"
      },
      "execution_count": null,
      "outputs": [
        {
          "output_type": "display_data",
          "data": {
            "text/plain": [
              "<Figure size 1500x500 with 2 Axes>"
            ],
            "image/png": "[encoded data removed]"
          },
          "metadata": {}
        }
      ]
    },
    {
      "cell_type": "markdown",
      "source": [
        "Las caracteristicas que tienen una mayor correlacion positiva con la variable target son:\n",
        "* Fare\n",
        "* Parch\n",
        "\n",
        "Por otro lado, \"Age\" y \"Pclass\" tiene una correlacion negativa con respecto a la variable target lo que quiere decir que esta inversamente relacionada."
      ],
      "metadata": {
        "id": "YxagLJSfDmAX"
      }
    },
    {
      "cell_type": "code",
      "source": [
        "# checking distributions\n",
        "fig = plt.figure(figsize=(15,5))\n",
        "for i in range(len(df_corr.columns)):\n",
        "  fig.add_subplot(3, 3, i +1)\n",
        "  sns.histplot(data=df_corr, x=df_corr.columns[i], color='green')\n",
        "  plt.tight_layout()\n",
        "plt.show()"
      ],
      "metadata": {
        "id": "3jtZNiwADw78",
        "colab": {
          "base_uri": "https://localhost:8080/",
          "height": 504
        },
        "outputId": "2cffc962-b13f-47a7-f87f-bec490f87cba"
      },
      "execution_count": null,
      "outputs": [
        {
          "output_type": "display_data",
          "data": {
            "text/plain": [
              "<Figure size 1500x500 with 7 Axes>"
            ],
            "image/png": "[encoded data removed]"
          },
          "metadata": {}
        }
      ]
    },
    {
      "cell_type": "markdown",
      "source": [
        "**Analisis**\n",
        "\n",
        "Como se puede notar las distribuciones no son normales como ya se habia probado anteriormente."
      ],
      "metadata": {
        "id": "BLExP7Lf0BLU"
      }
    },
    {
      "cell_type": "code",
      "source": [
        "# testing balance dataset on target feature\n",
        "df['Survived'].value_counts()"
      ],
      "metadata": {
        "colab": {
          "base_uri": "https://localhost:8080/"
        },
        "id": "5hfAVimD0ulg",
        "outputId": "eacd3766-d37f-424e-a1e8-faa542064964"
      },
      "execution_count": null,
      "outputs": [
        {
          "output_type": "execute_result",
          "data": {
            "text/plain": [
              "0    549\n",
              "1    342\n",
              "Name: Survived, dtype: int64"
            ]
          },
          "metadata": {},
          "execution_count": 17
        }
      ]
    },
    {
      "cell_type": "markdown",
      "source": [
        "**Analsis**\n",
        "\n",
        "El dataset esta ligeramente desbalanceado, teniendo mas casos de la clase 0 que de la ."
      ],
      "metadata": {
        "id": "mWO2CfOI1Av_"
      }
    },
    {
      "cell_type": "markdown",
      "source": [
        "## Feature Engineering"
      ],
      "metadata": {
        "id": "WMdyMMF80QR3"
      }
    },
    {
      "cell_type": "code",
      "source": [
        "# Import libraries\n",
        "import pandas as pd\n",
        "import numpy as np\n",
        "from sklearn.impute import SimpleImputer\n",
        "from sklearn.model_selection import train_test_split\n",
        "from sklearn.preprocessing import StandardScaler, OneHotEncoder"
      ],
      "metadata": {
        "id": "FnMmobjK0ULn"
      },
      "execution_count": null,
      "outputs": []
    },
    {
      "cell_type": "markdown",
      "source": [
        "#### Split dataset"
      ],
      "metadata": {
        "id": "6itfPBjUqjaD"
      }
    },
    {
      "cell_type": "code",
      "source": [
        "# split data\n",
        "train_ratio = 0.70\n",
        "test_ratio = 0.30\n",
        "\n",
        "X = df.drop(columns='Survived')\n",
        "y = df['Survived']\n",
        "\n",
        "X_train, X_test, y_train, y_test = train_test_split(X, y, test_size=test_ratio)\n",
        "print(\"Train: \", X_train.shape,y_train.shape)\n",
        "print(\"Test:\", X_test.shape,y_test.shape)"
      ],
      "metadata": {
        "colab": {
          "base_uri": "https://localhost:8080/"
        },
        "id": "zpTz64a6qiDQ",
        "outputId": "2a59e46c-2d19-431d-dc03-3fc70e8d58a8"
      },
      "execution_count": null,
      "outputs": [
        {
          "output_type": "stream",
          "name": "stdout",
          "text": [
            "Train:  (623, 11) (623,)\n",
            "Test: (268, 11) (268,)\n"
          ]
        }
      ]
    },
    {
      "cell_type": "markdown",
      "source": [
        "#### Missing values"
      ],
      "metadata": {
        "id": "YBa85FF3A-Xe"
      }
    },
    {
      "cell_type": "code",
      "source": [
        "# Missing values\n",
        "X_train['Cabin'].head(10)"
      ],
      "metadata": {
        "colab": {
          "base_uri": "https://localhost:8080/"
        },
        "id": "NtZdN6Vb0oSd",
        "outputId": "82f5aa03-6459-46d4-e199-b11a2416ec0a"
      },
      "execution_count": null,
      "outputs": [
        {
          "output_type": "execute_result",
          "data": {
            "text/plain": [
              "92     E31\n",
              "497    NaN\n",
              "140    NaN\n",
              "864    NaN\n",
              "319    E34\n",
              "152    NaN\n",
              "407    NaN\n",
              "749    NaN\n",
              "467    NaN\n",
              "745    B22\n",
              "Name: Cabin, dtype: object"
            ]
          },
          "metadata": {},
          "execution_count": 6
        }
      ]
    },
    {
      "cell_type": "code",
      "source": [
        "X_test['Cabin'].head(10)"
      ],
      "metadata": {
        "colab": {
          "base_uri": "https://localhost:8080/"
        },
        "id": "_GWZlJQnr8Mz",
        "outputId": "174b12d0-0fa2-48d2-aad6-d459e399fdfd"
      },
      "execution_count": null,
      "outputs": [
        {
          "output_type": "execute_result",
          "data": {
            "text/plain": [
              "327      D\n",
              "172    NaN\n",
              "15     NaN\n",
              "875    NaN\n",
              "419    NaN\n",
              "868    NaN\n",
              "409    NaN\n",
              "339      T\n",
              "144    NaN\n",
              "354    NaN\n",
              "Name: Cabin, dtype: object"
            ]
          },
          "metadata": {},
          "execution_count": 7
        }
      ]
    },
    {
      "cell_type": "markdown",
      "source": [
        "**Analisis**\n",
        "\n",
        "Los valores de los nombres de las cabinas puede tratarse de un MNAR (Missing Data not at Random) por lo que se piensa que esta data faltante tiene una explicación.\n",
        "\n",
        "Por lo tanto se tratara con una Imputacion por valor arbitrario, ya que este metodo puede capturar la importancia de los datos faltantes, en caso de haberla."
      ],
      "metadata": {
        "id": "lJ0rhOQ3BETg"
      }
    },
    {
      "cell_type": "code",
      "source": [
        "# replace NaN for -1 (Imputacion por valor arbitrario)\n",
        "X_train['Cabin'].replace(to_replace=np.nan, value=-1, inplace=True)\n",
        "X_test['Cabin'].replace(to_replace=np.nan, value=-1, inplace=True)"
      ],
      "metadata": {
        "id": "VmYX7suDB1uf"
      },
      "execution_count": null,
      "outputs": []
    },
    {
      "cell_type": "code",
      "source": [
        "X_train['Cabin'].isnull().sum()"
      ],
      "metadata": {
        "colab": {
          "base_uri": "https://localhost:8080/"
        },
        "id": "F_lUo2H2Hj4S",
        "outputId": "c1be8776-0754-4a0c-8aa1-0618e6080f7e"
      },
      "execution_count": null,
      "outputs": [
        {
          "output_type": "execute_result",
          "data": {
            "text/plain": [
              "0"
            ]
          },
          "metadata": {},
          "execution_count": 9
        }
      ]
    },
    {
      "cell_type": "code",
      "source": [
        "X_test['Cabin'].isnull().sum()"
      ],
      "metadata": {
        "colab": {
          "base_uri": "https://localhost:8080/"
        },
        "id": "borGmLt6sRfa",
        "outputId": "62c1e4d9-715f-4552-df02-349ad67251ce"
      },
      "execution_count": null,
      "outputs": [
        {
          "output_type": "execute_result",
          "data": {
            "text/plain": [
              "0"
            ]
          },
          "metadata": {},
          "execution_count": 10
        }
      ]
    },
    {
      "cell_type": "code",
      "source": [
        "# Age\n",
        "X_train['Age'].head(10)"
      ],
      "metadata": {
        "colab": {
          "base_uri": "https://localhost:8080/"
        },
        "id": "3dUj11KOIVQg",
        "outputId": "5091d7db-e308-4b4f-f2a4-71727c8b633e"
      },
      "execution_count": null,
      "outputs": [
        {
          "output_type": "execute_result",
          "data": {
            "text/plain": [
              "92     46.0\n",
              "497     NaN\n",
              "140     NaN\n",
              "864    24.0\n",
              "319    40.0\n",
              "152    55.5\n",
              "407     3.0\n",
              "749    31.0\n",
              "467    56.0\n",
              "745    70.0\n",
              "Name: Age, dtype: float64"
            ]
          },
          "metadata": {},
          "execution_count": 11
        }
      ]
    },
    {
      "cell_type": "code",
      "source": [
        "X_train['Age'].isnull().sum()"
      ],
      "metadata": {
        "colab": {
          "base_uri": "https://localhost:8080/"
        },
        "id": "2jRw--tUb1lm",
        "outputId": "5db7c233-394f-4e99-ccc7-4e6d4bc50fa3"
      },
      "execution_count": null,
      "outputs": [
        {
          "output_type": "execute_result",
          "data": {
            "text/plain": [
              "121"
            ]
          },
          "metadata": {},
          "execution_count": 12
        }
      ]
    },
    {
      "cell_type": "code",
      "source": [
        "X_test['Age'].isnull().sum()"
      ],
      "metadata": {
        "colab": {
          "base_uri": "https://localhost:8080/"
        },
        "id": "U5xyWFDMse0n",
        "outputId": "4c3012f8-d770-4b4d-8627-e869e01c75c7"
      },
      "execution_count": null,
      "outputs": [
        {
          "output_type": "execute_result",
          "data": {
            "text/plain": [
              "56"
            ]
          },
          "metadata": {},
          "execution_count": 13
        }
      ]
    },
    {
      "cell_type": "markdown",
      "source": [
        "**Analisis**\n",
        "\n",
        "para este caso como son edades y tiene muchos datos faltantes sacar la media podría agregar distorsion. Sin embargo por simplicidad se continuara con el promedio."
      ],
      "metadata": {
        "id": "1jR7pjWHIena"
      }
    },
    {
      "cell_type": "code",
      "source": [
        "# apply mean imputation\n",
        "imputer = SimpleImputer(missing_values=np.nan, strategy='mean')\n",
        "X_train[['Age']] = imputer.fit_transform(X_train[['Age']])\n",
        "X_test[['Age']] = imputer.transform(X_test[['Age']])"
      ],
      "metadata": {
        "id": "QkyiGSafniVy"
      },
      "execution_count": null,
      "outputs": []
    },
    {
      "cell_type": "code",
      "source": [
        "X_train['Age'].isnull().sum()"
      ],
      "metadata": {
        "colab": {
          "base_uri": "https://localhost:8080/"
        },
        "id": "Y5x4INUZoBzo",
        "outputId": "08fedce2-99ee-4586-9f0d-d04e905ed7ed"
      },
      "execution_count": null,
      "outputs": [
        {
          "output_type": "execute_result",
          "data": {
            "text/plain": [
              "0"
            ]
          },
          "metadata": {},
          "execution_count": 15
        }
      ]
    },
    {
      "cell_type": "code",
      "source": [
        "X_test['Age'].isnull().sum()"
      ],
      "metadata": {
        "colab": {
          "base_uri": "https://localhost:8080/"
        },
        "id": "-vGbeKw-s4Sy",
        "outputId": "82d91af6-9ab0-4d7f-e423-d2d3caaeec56"
      },
      "execution_count": null,
      "outputs": [
        {
          "output_type": "execute_result",
          "data": {
            "text/plain": [
              "0"
            ]
          },
          "metadata": {},
          "execution_count": 16
        }
      ]
    },
    {
      "cell_type": "markdown",
      "source": [
        "**Analisis**\n",
        "\n",
        "Imputacion para Embarked. Al ser una varible categorica se podría imputar por el valor mas frecuente. Por lo que se ve es una variables con cardinalidad baja"
      ],
      "metadata": {
        "id": "eflsyT9FtgJm"
      }
    },
    {
      "cell_type": "code",
      "source": [
        "X_train['Embarked'].unique()"
      ],
      "metadata": {
        "colab": {
          "base_uri": "https://localhost:8080/"
        },
        "id": "rqijMSVmtuxi",
        "outputId": "6c19e6f0-d40d-4cb5-faad-d2252c269fc7"
      },
      "execution_count": null,
      "outputs": [
        {
          "output_type": "execute_result",
          "data": {
            "text/plain": [
              "array(['S', 'C', 'Q', nan], dtype=object)"
            ]
          },
          "metadata": {},
          "execution_count": 17
        }
      ]
    },
    {
      "cell_type": "code",
      "source": [
        "X_train['Embarked'].value_counts()"
      ],
      "metadata": {
        "colab": {
          "base_uri": "https://localhost:8080/"
        },
        "id": "0vGwlZVat9uy",
        "outputId": "0b2e5879-771d-4421-a58c-98fa1db84939"
      },
      "execution_count": null,
      "outputs": [
        {
          "output_type": "execute_result",
          "data": {
            "text/plain": [
              "S    451\n",
              "C    114\n",
              "Q     56\n",
              "Name: Embarked, dtype: int64"
            ]
          },
          "metadata": {},
          "execution_count": 18
        }
      ]
    },
    {
      "cell_type": "code",
      "source": [
        "X_train['Embarked'].isnull().sum()"
      ],
      "metadata": {
        "colab": {
          "base_uri": "https://localhost:8080/"
        },
        "id": "DksR8RpSui0G",
        "outputId": "0b6cc0ae-c4fd-47aa-f584-14f47b4b020f"
      },
      "execution_count": null,
      "outputs": [
        {
          "output_type": "execute_result",
          "data": {
            "text/plain": [
              "2"
            ]
          },
          "metadata": {},
          "execution_count": 19
        }
      ]
    },
    {
      "cell_type": "code",
      "source": [
        "X_test['Embarked'].isnull().sum()"
      ],
      "metadata": {
        "colab": {
          "base_uri": "https://localhost:8080/"
        },
        "id": "rJPGS1aDuwwe",
        "outputId": "830ed8f3-5db3-4088-d6d1-75ca3bc309af"
      },
      "execution_count": null,
      "outputs": [
        {
          "output_type": "execute_result",
          "data": {
            "text/plain": [
              "0"
            ]
          },
          "metadata": {},
          "execution_count": 20
        }
      ]
    },
    {
      "cell_type": "code",
      "source": [
        "imputer_02 = SimpleImputer(missing_values=np.nan, strategy='most_frequent')\n",
        "X_train[['Embarked']] = imputer_02.fit_transform(X_train[['Embarked']])\n",
        "X_test[['Embarked']] = imputer_02.transform(X_test[['Embarked']])"
      ],
      "metadata": {
        "id": "_8bqJbhQuz60"
      },
      "execution_count": null,
      "outputs": []
    },
    {
      "cell_type": "code",
      "source": [
        "X_train['Embarked'].isnull().sum()"
      ],
      "metadata": {
        "colab": {
          "base_uri": "https://localhost:8080/"
        },
        "id": "LsYtJXS6_5Jt",
        "outputId": "b61d4516-a65c-46f3-ea09-b77f436bd38b"
      },
      "execution_count": null,
      "outputs": [
        {
          "output_type": "execute_result",
          "data": {
            "text/plain": [
              "0"
            ]
          },
          "metadata": {},
          "execution_count": 22
        }
      ]
    },
    {
      "cell_type": "code",
      "source": [
        "X_test['Embarked'].isnull().sum()"
      ],
      "metadata": {
        "colab": {
          "base_uri": "https://localhost:8080/"
        },
        "id": "pf23Lg8x_6Vw",
        "outputId": "df881595-9024-4fe6-c352-41f5e8c950fe"
      },
      "execution_count": null,
      "outputs": [
        {
          "output_type": "execute_result",
          "data": {
            "text/plain": [
              "0"
            ]
          },
          "metadata": {},
          "execution_count": 23
        }
      ]
    },
    {
      "cell_type": "markdown",
      "source": [
        "#### Encoding"
      ],
      "metadata": {
        "id": "goEKZviJveFv"
      }
    },
    {
      "cell_type": "code",
      "source": [
        "# encoding sex male: 1 and famale: 0\n",
        "dict_sex = {\n",
        "    'male':'1',\n",
        "    'female':'0'\n",
        "}\n",
        "X_train[['Sex']] = X_train[['Sex']].replace(dict_sex).astype(float)\n",
        "X_test[['Sex']] = X_test[['Sex']].replace(dict_sex).astype(float)\n",
        "X_train['Sex'].head()"
      ],
      "metadata": {
        "colab": {
          "base_uri": "https://localhost:8080/"
        },
        "id": "qtWt-nU-__5v",
        "outputId": "e02e8379-8bdb-4c5a-87a9-582469580516"
      },
      "execution_count": null,
      "outputs": [
        {
          "output_type": "execute_result",
          "data": {
            "text/plain": [
              "92     1.0\n",
              "497    1.0\n",
              "140    0.0\n",
              "864    1.0\n",
              "319    0.0\n",
              "Name: Sex, dtype: float64"
            ]
          },
          "metadata": {},
          "execution_count": 24
        }
      ]
    },
    {
      "cell_type": "code",
      "source": [
        "# list variables with high cardinality\n",
        "X_train['Name'].unique()"
      ],
      "metadata": {
        "colab": {
          "base_uri": "https://localhost:8080/"
        },
        "id": "6bxuXicgBbu2",
        "outputId": "0940cf10-10a2-4672-e46c-a455eca7fea6"
      },
      "execution_count": null,
      "outputs": [
        {
          "output_type": "execute_result",
          "data": {
            "text/plain": [
              "array(['Chaffee, Mr. Herbert Fuller', 'Shellard, Mr. Frederick William',\n",
              "       'Boulos, Mrs. Joseph (Sultana)', 'Gill, Mr. John William',\n",
              "       'Spedden, Mrs. Frederic Oakley (Margaretta Corning Stone)',\n",
              "       'Meo, Mr. Alfonzo', 'Richards, Master. William Rowe',\n",
              "       'Connaghton, Mr. Michael', 'Smart, Mr. John Montgomery',\n",
              "       'Crosby, Capt. Edward Gifford', 'Barah, Mr. Hanna Assi',\n",
              "       'Abbing, Mr. Anthony', 'Jansson, Mr. Carl Olof',\n",
              "       'Smith, Mr. Thomas', 'Givard, Mr. Hans Kristensen',\n",
              "       'Laroche, Mrs. Joseph (Juliette Marie Louise Lafargue)',\n",
              "       'Beckwith, Mrs. Richard Leonard (Sallie Monypeny)',\n",
              "       'Garside, Miss. Ethel', 'Duane, Mr. Frank',\n",
              "       'Astor, Mrs. John Jacob (Madeleine Talmadge Force)',\n",
              "       'Rice, Master. Eugene', 'Nenkoff, Mr. Christo',\n",
              "       'Lemore, Mrs. (Amelia Milley)', 'Sawyer, Mr. Frederick Charles',\n",
              "       'Davies, Mr. Alfred J',\n",
              "       'Phillips, Miss. Kate Florence (\"Mrs Kate Louise Phillips Marshall\")',\n",
              "       'Hoyt, Mr. Frederick Maxfield',\n",
              "       'Meyer, Mrs. Edgar Joseph (Leila Saks)', 'Mionoff, Mr. Stoytcho',\n",
              "       'Razi, Mr. Raihed', 'Lennon, Mr. Denis',\n",
              "       'Vander Planke, Miss. Augusta Maria', 'Matthews, Mr. William John',\n",
              "       'Holverson, Mr. Alexander Oskar', 'Somerton, Mr. Francis William',\n",
              "       'Cook, Mr. Jacob', 'Romaine, Mr. Charles Hallace (\"Mr C Rolmane\")',\n",
              "       'Ridsdale, Miss. Lucy', 'Goldsmith, Mr. Frank John',\n",
              "       'Soholt, Mr. Peter Andreas Lauritz Andersen',\n",
              "       'Adahl, Mr. Mauritz Nils Martin', 'Mallet, Mr. Albert',\n",
              "       'Fischer, Mr. Eberhard Thelander', 'Richard, Mr. Emile',\n",
              "       'Andersson, Miss. Sigrid Elisabeth',\n",
              "       'Williams, Mr. Howard Hugh \"Harry\"',\n",
              "       'Parr, Mr. William Henry Marsh',\n",
              "       'Watt, Mrs. James (Elizabeth \"Bessie\" Inglis Milne)',\n",
              "       'Chibnall, Mrs. (Edith Martha Bowerman)',\n",
              "       'Backstrom, Mrs. Karl Alfred (Maria Mathilda Gustafsson)',\n",
              "       'Oreskovic, Mr. Luka', 'Gale, Mr. Shadrach',\n",
              "       'Van Impe, Mr. Jean Baptiste', 'Mitkoff, Mr. Mito',\n",
              "       'Vander Planke, Mrs. Julius (Emelia Maria Vandemoortele)',\n",
              "       'Reuchlin, Jonkheer. John George', 'Troupiansky, Mr. Moses Aaron',\n",
              "       'Spencer, Mrs. William Augustus (Marie Eugenie)',\n",
              "       'Kalvik, Mr. Johannes Halvorsen', 'McMahon, Mr. Martin',\n",
              "       'Madsen, Mr. Fridtjof Arne', 'Foo, Mr. Choong',\n",
              "       'Laroche, Mr. Joseph Philippe Lemercier', 'Slabenoff, Mr. Petco',\n",
              "       'Ekstrom, Mr. Johan', 'Asplund, Master. Edvin Rojj Felix',\n",
              "       'Petranec, Miss. Matilda', 'Lang, Mr. Fang',\n",
              "       'Frost, Mr. Anthony Wood \"Archie\"', 'Gillespie, Mr. William Henry',\n",
              "       'Clarke, Mrs. Charles V (Ada Maria Winfield)',\n",
              "       'Sage, Miss. Constance Gladys', 'Olsen, Mr. Henry Margido',\n",
              "       'Skoog, Master. Karl Thorsten', 'Ross, Mr. John Hugo',\n",
              "       'Andersson, Miss. Ingeborg Constanzia',\n",
              "       'Sunderland, Mr. Victor Francis',\n",
              "       'Lahtinen, Mrs. William (Anna Sylfven)',\n",
              "       'Collyer, Miss. Marjorie \"Lottie\"', 'Cameron, Miss. Clear Annie',\n",
              "       'Hagland, Mr. Konrad Mathias Reiersen',\n",
              "       'Richards, Mrs. Sidney (Emily Hocking)', 'Daly, Mr. Peter Denis ',\n",
              "       'Rosblom, Mr. Viktor Richard', 'Slocovski, Mr. Selman Francis',\n",
              "       'Nasser, Mr. Nicholas', 'Rush, Mr. Alfred George John',\n",
              "       'Carter, Miss. Lucile Polk',\n",
              "       'Laroche, Miss. Simonne Marie Anne Andree', 'Sagesser, Mlle. Emma',\n",
              "       'Webber, Mr. James', 'Bazzani, Miss. Albina', 'Nakid, Mr. Sahid',\n",
              "       'Attalah, Mr. Sleiman', 'McCoy, Mr. Bernard',\n",
              "       'Jussila, Miss. Katriina',\n",
              "       'Jerwan, Mrs. Amin S (Marie Marthe Thuillard)',\n",
              "       'Stephenson, Mrs. Walter Bertram (Martha Eustis)',\n",
              "       'Laitinen, Miss. Kristina Sofia', 'Frauenthal, Dr. Henry William',\n",
              "       'Seward, Mr. Frederic Kimber', 'Windelov, Mr. Einar',\n",
              "       'Dean, Mr. Bertram Frank', 'Leinonen, Mr. Antti Gustaf',\n",
              "       'West, Mr. Edwy Arthur', 'Peters, Miss. Katie',\n",
              "       'Moran, Mr. Daniel J', 'Ryerson, Miss. Susan Parker \"Suzette\"',\n",
              "       'Svensson, Mr. Olof', 'West, Mrs. Edwy Arthur (Ada Mary Worth)',\n",
              "       'Toufik, Mr. Nakli', 'Smith, Mr. Richard William',\n",
              "       'Doling, Miss. Elsie', 'Sjoblom, Miss. Anna Sofia',\n",
              "       'Hassan, Mr. Houssein G N', 'Sivola, Mr. Antti Wilhelm',\n",
              "       'Kink, Mr. Vincenz', 'Icard, Miss. Amelie',\n",
              "       'O\\'Brien, Mrs. Thomas (Johanna \"Hannah\" Godfrey)',\n",
              "       'Turkula, Mrs. (Hedwig)',\n",
              "       'Allison, Mrs. Hudson J C (Bessie Waldo Daniels)',\n",
              "       'Karaic, Mr. Milan', 'Fleming, Miss. Margaret', 'Elias, Mr. Dibo',\n",
              "       'Lobb, Mrs. William Arthur (Cordelia K Stanlick)',\n",
              "       'Karlsson, Mr. Nils August',\n",
              "       'Frauenthal, Mrs. Henry William (Clara Heinsheimer)',\n",
              "       'Canavan, Miss. Mary', 'Fortune, Mr. Charles Alexander',\n",
              "       'Bjornstrom-Steffansson, Mr. Mauritz Hakan',\n",
              "       'Minahan, Dr. William Edward', 'Cunningham, Mr. Alfred Fleming',\n",
              "       'Aubart, Mme. Leontine Pauline',\n",
              "       'Drew, Mrs. James Vivian (Lulu Thorne Christian)',\n",
              "       'Rice, Mrs. William (Margaret Norton)', 'Masselmani, Mrs. Fatima',\n",
              "       'Panula, Master. Juha Niilo', 'Sage, Master. Thomas Henry',\n",
              "       'Braund, Mr. Lewis Richard', 'Vande Walle, Mr. Nestor Cyriel',\n",
              "       'Behr, Mr. Karl Howell', 'Pears, Mr. Thomas Clinton',\n",
              "       'Isham, Miss. Ann Elizabeth', 'Panula, Master. Eino Viljami',\n",
              "       'Lindqvist, Mr. Eino William',\n",
              "       'Hocking, Mrs. Elizabeth (Eliza Needs)',\n",
              "       'Heininen, Miss. Wendla Maria', 'McEvoy, Mr. Michael',\n",
              "       'Carter, Mrs. William Ernest (Lucile Polk)',\n",
              "       'Eustis, Miss. Elizabeth Mussey', 'Kelly, Mrs. Florence \"Fannie\"',\n",
              "       'Mellors, Mr. William John', 'Haas, Miss. Aloisia',\n",
              "       'Pears, Mrs. Thomas (Edith Wearne)', 'Peter, Miss. Anna',\n",
              "       'Wiklund, Mr. Jakob Alfred', 'Johansson, Mr. Gustaf Joel',\n",
              "       'Ford, Miss. Doolina Margaret \"Daisy\"',\n",
              "       'Andersson, Miss. Ebba Iris Alfrida', 'Cacic, Miss. Marija',\n",
              "       'Beesley, Mr. Lawrence', 'Coleff, Mr. Satio',\n",
              "       'Danbom, Mr. Ernst Gilbert', 'Nicholson, Mr. Arthur Ernest',\n",
              "       'Nye, Mrs. (Elizabeth Ramell)', 'Pinsky, Mrs. (Rosa)',\n",
              "       'Van Impe, Mrs. Jean Baptiste (Rosalie Paula Govaert)',\n",
              "       'Barton, Mr. David John', 'Connors, Mr. Patrick',\n",
              "       'Taussig, Mr. Emil',\n",
              "       'Asplund, Mrs. Carl Oscar (Selma Augusta Emilia Johansson)',\n",
              "       'Colley, Mr. Edward Pomeroy', 'Ostby, Mr. Engelhart Cornelius',\n",
              "       'Boulos, Mr. Hanna', 'Endres, Miss. Caroline Louise',\n",
              "       'Heikkinen, Miss. Laina',\n",
              "       'Faunthorpe, Mrs. Lizzie (Elizabeth Anne Wilkinson)',\n",
              "       'Dodge, Master. Washington', 'Crosby, Miss. Harriet R',\n",
              "       'Lewy, Mr. Ervin G', 'Abbott, Mr. Rossmore Edward',\n",
              "       'McCarthy, Mr. Timothy J', 'Smiljanic, Mr. Mile',\n",
              "       'Carter, Mr. William Ernest', 'Hamalainen, Mrs. William (Anna)',\n",
              "       'Abelson, Mrs. Samuel (Hannah Wizosky)', 'Simmons, Mr. John',\n",
              "       'Gavey, Mr. Lawrence', 'Fortune, Miss. Alice Elizabeth',\n",
              "       \"O'Brien, Mr. Thomas\", 'Abelson, Mr. Samuel',\n",
              "       'Harder, Mr. George Achilles', 'Bowerman, Miss. Elsie Edith',\n",
              "       'Yrois, Miss. Henriette (\"Mrs Harbeck\")',\n",
              "       'Smith, Mr. James Clinch', 'Gee, Mr. Arthur H',\n",
              "       'Sjostedt, Mr. Ernst Adolf', 'Carbines, Mr. William',\n",
              "       'Farrell, Mr. James', 'Ford, Mrs. Edward (Margaret Ann Watson)',\n",
              "       'Risien, Mr. Samuel Beard', 'Otter, Mr. Richard',\n",
              "       'Goldenberg, Mr. Samuel L', 'Fry, Mr. Richard',\n",
              "       'Mack, Mrs. (Mary)', 'Hickman, Mr. Leonard Mark',\n",
              "       'Novel, Mr. Mansouer', 'Butler, Mr. Reginald Fenton',\n",
              "       'Eitemiller, Mr. George Floyd', 'Johnson, Master. Harold Theodor',\n",
              "       'Wright, Mr. George', 'Kirkland, Rev. Charles Leonard',\n",
              "       'Hodges, Mr. Henry Price', 'McGowan, Miss. Anna \"Annie\"',\n",
              "       'Hold, Mr. Stephen', 'Scanlan, Mr. James',\n",
              "       'Hays, Mrs. Charles Melville (Clara Jennings Gregg)',\n",
              "       'Eklund, Mr. Hans Linus', 'Barkworth, Mr. Algernon Henry Wilson',\n",
              "       'Moor, Mrs. (Beila)', 'Sivic, Mr. Husein',\n",
              "       'Weisz, Mrs. Leopold (Mathilde Francoise Pede)',\n",
              "       'Panula, Mrs. Juha (Maria Emilia Ojala)',\n",
              "       'Aks, Mrs. Sam (Leah Rosen)',\n",
              "       'Strom, Mrs. Wilhelm (Elna Matilda Persson)',\n",
              "       'Palsson, Miss. Stina Viola', 'Giles, Mr. Frederick Edward',\n",
              "       'O\\'Leary, Miss. Hanora \"Norah\"', 'Navratil, Master. Edmond Roger',\n",
              "       'Woolner, Mr. Hugh', 'Palsson, Miss. Torborg Danira',\n",
              "       'Troutt, Miss. Edwina Celia \"Winnie\"',\n",
              "       'Newsom, Miss. Helen Monypeny', 'Sirota, Mr. Maurice',\n",
              "       'Robbins, Mr. Victor', 'Rice, Master. George Hugh',\n",
              "       'Rothschild, Mrs. Martin (Elizabeth L. Barrett)',\n",
              "       'Drazenoic, Mr. Jozef', 'Christmann, Mr. Emil',\n",
              "       'Backstrom, Mr. Karl Alfred', 'Calic, Mr. Jovo',\n",
              "       'Dakic, Mr. Branko', 'Hickman, Mr. Lewis', 'Coleff, Mr. Peju',\n",
              "       'de Pelsmaeker, Mr. Alfons', 'Lefebre, Miss. Jeannie',\n",
              "       'Kiernan, Mr. Philip', 'Johansson, Mr. Karl Johan',\n",
              "       'Kent, Mr. Edward Austin', 'Allison, Master. Hudson Trevor',\n",
              "       'Thorneycroft, Mr. Percival',\n",
              "       'Mayne, Mlle. Berthe Antonine (\"Mrs de Villiers\")',\n",
              "       'Coutts, Master. William Loch \"William\"', 'Webber, Miss. Susan',\n",
              "       'Ali, Mr. William', 'Lines, Miss. Mary Conover',\n",
              "       'Sage, Miss. Dorothy Edith \"Dolly\"',\n",
              "       'Simonius-Blumer, Col. Oberst Alfons',\n",
              "       'Chronopoulos, Mr. Apostolos', 'Goodwin, Miss. Lillian Amy',\n",
              "       'Warren, Mrs. Frank Manley (Anna Sophia Atkinson)',\n",
              "       'Meanwell, Miss. (Marion Ogden)', 'Wick, Miss. Mary Natalie',\n",
              "       'Van der hoef, Mr. Wyckoff', 'Jarvis, Mr. John Denzil',\n",
              "       'Sundman, Mr. Johan Julian', 'Nosworthy, Mr. Richard Cater',\n",
              "       'Patchett, Mr. George', 'Karun, Miss. Manca', 'Kelly, Mr. James',\n",
              "       'Silven, Miss. Lyyli Karoliina', 'Hirvonen, Miss. Hildur E',\n",
              "       'Hoyt, Mrs. Frederick Maxfield (Jane Anne Forby)',\n",
              "       'Harper, Rev. John', 'Gilinski, Mr. Eliezer', 'Hassab, Mr. Hammad',\n",
              "       'Carr, Miss. Helen \"Ellen\"', 'Jonkoff, Mr. Lalio',\n",
              "       'Porter, Mr. Walter Chamberlain',\n",
              "       'Davison, Mrs. Thomas Henry (Mary E Finck)',\n",
              "       'Rosblom, Mrs. Viktor (Helena Wilhelmina)',\n",
              "       'Williams-Lambert, Mr. Fletcher Fellows',\n",
              "       'Collander, Mr. Erik Gustaf', 'McDermott, Miss. Brigdet Delia',\n",
              "       'Jermyn, Miss. Annie', 'Salonen, Mr. Johan Werner',\n",
              "       'Hansen, Mr. Henry Damsgaard', 'Leyson, Mr. Robert William Norman',\n",
              "       'Johnson, Mr. William Cahoone Jr', 'Gustafsson, Mr. Johan Birger',\n",
              "       'Maioni, Miss. Roberta', 'Burns, Miss. Elizabeth Margaret',\n",
              "       'Baumann, Mr. John D', 'Olsen, Mr. Ole Martin',\n",
              "       'Palsson, Mrs. Nils (Alma Cornelia Berglund)', 'Mamee, Mr. Hanna',\n",
              "       'Homer, Mr. Harry (\"Mr E Haven\")', 'Tomlin, Mr. Ernest Portage',\n",
              "       'Hawksford, Mr. Walter James',\n",
              "       'Coutts, Master. Eden Leslie \"Neville\"',\n",
              "       'Duff Gordon, Sir. Cosmo Edmund (\"Mr Morgan\")',\n",
              "       'Ringhini, Mr. Sante', 'Hunt, Mr. George Henry',\n",
              "       'Thorne, Mrs. Gertrude Maybelle', 'Bateman, Rev. Robert James',\n",
              "       'Taylor, Mrs. Elmer Zebley (Juliet Cummins Wright)',\n",
              "       'Becker, Master. Richard F', 'Navratil, Master. Michel M',\n",
              "       'West, Miss. Constance Mirium', 'Bing, Mr. Lee',\n",
              "       'Quick, Miss. Phyllis May', 'Butt, Major. Archibald Willingham',\n",
              "       'Lindell, Mr. Edvard Bengtsson',\n",
              "       'Hakkarainen, Mrs. Pekka Pietari (Elin Matilda Dolck)',\n",
              "       'Elias, Mr. Joseph Jr', 'Andersson, Master. Sigvard Harald Elias',\n",
              "       'Thayer, Mr. John Borland Jr', 'Graham, Mr. George Edward',\n",
              "       'Moraweck, Dr. Ernest', 'Baxter, Mr. Quigg Edmond',\n",
              "       'Fahlstrom, Mr. Arne Jonas', 'Knight, Mr. Robert J',\n",
              "       'Olsen, Mr. Karl Siegwart Andreas',\n",
              "       'Stone, Mrs. George Nelson (Martha Evelyn)',\n",
              "       'Panula, Mr. Jaako Arnold', 'Harrison, Mr. William',\n",
              "       'Leeni, Mr. Fahim (\"Philip Zenni\")', 'Cohen, Mr. Gurshon \"Gus\"',\n",
              "       'Brown, Mrs. James Joseph (Margaret Tobin)',\n",
              "       'Goodwin, Master. Sidney Leonard', 'Yousseff, Mr. Gerious',\n",
              "       'Albimona, Mr. Nassef Cassem', 'Willey, Mr. Edward',\n",
              "       'Reynaldo, Ms. Encarnacion', 'Harris, Mr. Henry Birkhardt',\n",
              "       'Reeves, Mr. David', 'Jussila, Miss. Mari Aina',\n",
              "       'Greenberg, Mr. Samuel', 'Meyer, Mr. Edgar Joseph',\n",
              "       'Rogers, Mr. William John', 'Carlsson, Mr. Frans Olof',\n",
              "       'Johnson, Mr. Malkolm Joackim', 'Gustafsson, Mr. Alfred Ossian',\n",
              "       'Saad, Mr. Khalil',\n",
              "       'Arnold-Franchi, Mrs. Josef (Josefine Franchi)',\n",
              "       'Lulic, Mr. Nikola', 'Stanley, Miss. Amy Zillah Elsie',\n",
              "       'Ahlin, Mrs. Johan (Johanna Persdotter Larsson)',\n",
              "       'Sedgwick, Mr. Charles Frederick Waddington', 'Flynn, Mr. James',\n",
              "       'Davies, Mr. Charles Henry', 'Nicola-Yarred, Miss. Jamila',\n",
              "       'Slemen, Mr. Richard James',\n",
              "       'Peter, Mrs. Catherine (Catherine Rizk)',\n",
              "       'Berriman, Mr. William John', 'Futrelle, Mr. Jacques Heath',\n",
              "       'Moubarek, Master. Gerios', 'Petroff, Mr. Nedelio',\n",
              "       'Duran y More, Miss. Asuncion', 'Lehmann, Miss. Bertha',\n",
              "       'Sharp, Mr. Percival James R', 'Hanna, Mr. Mansour',\n",
              "       'Futrelle, Mrs. Jacques Heath (Lily May Peel)',\n",
              "       'Nakid, Miss. Maria (\"Mary\")', 'Celotti, Mr. Francesco',\n",
              "       'Bracken, Mr. James H', 'Abbott, Mrs. Stanton (Rosa Hunt)',\n",
              "       'Chip, Mr. Chang', 'Kelly, Miss. Mary', 'Flynn, Mr. John',\n",
              "       'Rood, Mr. Hugh Roscoe', 'Markun, Mr. Johann',\n",
              "       'Olsson, Miss. Elina', 'Crease, Mr. Ernest James',\n",
              "       'Stoytcheff, Mr. Ilia', 'Daly, Mr. Eugene Patrick',\n",
              "       'Elias, Mr. Tannous', 'Parrish, Mrs. (Lutie Davis)',\n",
              "       'Doling, Mrs. John T (Ada Julia Bone)',\n",
              "       'Vanden Steen, Mr. Leo Peter', 'Larsson, Mr. August Viktor',\n",
              "       'Leitch, Miss. Jessie Wills', 'Olsson, Mr. Nils Johan Goransson',\n",
              "       'Keane, Mr. Andrew \"Andy\"', 'Hagland, Mr. Ingvald Olai Olsen',\n",
              "       'Rice, Master. Arthur', 'Odahl, Mr. Nils Martin',\n",
              "       'Skoog, Mrs. William (Anna Bernhardina Karlsson)',\n",
              "       'Dorking, Mr. Edward Arthur', 'Stead, Mr. William Thomas',\n",
              "       'Bowen, Mr. David John \"Dai\"', 'Brocklebank, Mr. William Alfred',\n",
              "       'Berglund, Mr. Karl Ivar Sven', 'Compton, Miss. Sara Rebecca',\n",
              "       'Betros, Mr. Tannous', 'Christy, Miss. Julie Rachel',\n",
              "       'Keefe, Mr. Arthur', 'Ryan, Mr. Patrick', 'Reed, Mr. James George',\n",
              "       'Harknett, Miss. Alice Phoebe', 'Widener, Mr. Harry Elkins',\n",
              "       'Henry, Miss. Delia', 'Brown, Mr. Thomas William Solomon',\n",
              "       'Angle, Mrs. William A (Florence \"Mary\" Agnes Hughes)',\n",
              "       'Klasen, Mr. Klas Albin', 'Olsvigen, Mr. Thor Anderson',\n",
              "       'Herman, Miss. Alice', 'Emanuel, Miss. Virginia Ethel',\n",
              "       'Penasco y Castellana, Mr. Victor de Satode', 'Maisner, Mr. Simon',\n",
              "       'Caram, Mrs. Joseph (Maria Elias)',\n",
              "       'Graham, Mrs. William Thompson (Edith Junkins)',\n",
              "       'Jacobsohn, Mr. Sidney Samuel', 'Dahl, Mr. Karl Edwart',\n",
              "       'Norman, Mr. Robert Douglas', 'Thomas, Master. Assad Alexander',\n",
              "       'Pain, Dr. Alfred', 'Carrau, Mr. Francisco M',\n",
              "       'Ayoub, Miss. Banoura',\n",
              "       'Sandstrom, Mrs. Hjalmar (Agnes Charlotta Bengtsson)',\n",
              "       'Bailey, Mr. Percy Andrew', 'Hendekovic, Mr. Ignjac',\n",
              "       'Andersen-Jensen, Miss. Carla Christine Nielsine',\n",
              "       'Doharr, Mr. Tannous', 'Todoroff, Mr. Lalio',\n",
              "       'Bostandyeff, Mr. Guentcho', 'Jensen, Mr. Niels Peder',\n",
              "       'Moore, Mr. Leonard Charles', 'Sadlier, Mr. Matthew',\n",
              "       'Marvin, Mr. Daniel Warner',\n",
              "       'de Messemaeker, Mrs. Guillaume Joseph (Emma)',\n",
              "       \"O'Brien, Mr. Timothy\", 'Hickman, Mr. Stanley George',\n",
              "       'Young, Miss. Marie Grice', 'Calderhead, Mr. Edward Pennington',\n",
              "       'Osman, Mrs. Mara', 'Madill, Miss. Georgette Alexandra',\n",
              "       'Mellinger, Mrs. (Elizabeth Anne Maidment)', 'Lam, Mr. Len',\n",
              "       'Cavendish, Mr. Tyrell William', 'Allen, Miss. Elisabeth Walton',\n",
              "       'Saalfeld, Mr. Adolphe', 'Nysten, Miss. Anna Sofia',\n",
              "       'Arnold-Franchi, Mr. Josef', 'Mellinger, Miss. Madeleine Violet',\n",
              "       'Nasser, Mrs. Nicholas (Adele Achem)', 'Saad, Mr. Amin',\n",
              "       'LeRoy, Miss. Bertha', 'Waelens, Mr. Achille',\n",
              "       'Chapman, Mr. John Henry',\n",
              "       'Chambers, Mrs. Norman Campbell (Bertha Griggs)',\n",
              "       'Niskanen, Mr. Juha', 'Holm, Mr. John Fredrik Alexander',\n",
              "       'Jenkin, Mr. Stephen Curnow', 'Kraeff, Mr. Theodor',\n",
              "       'Baxter, Mrs. James (Helene DeLaudeniere Chaput)',\n",
              "       'Mudd, Mr. Thomas Charles', 'Padro y Manent, Mr. Julian',\n",
              "       'Fynney, Mr. Joseph J',\n",
              "       'Caldwell, Mrs. Albert Francis (Sylvia Mae Harbaugh)',\n",
              "       'Dowdell, Miss. Elizabeth', \"O'Driscoll, Miss. Bridget\",\n",
              "       'Fox, Mr. Stanley Hubert', 'Walker, Mr. William Anderson',\n",
              "       'Turpin, Mr. William John Robert', 'Nicholls, Mr. Joseph Charles',\n",
              "       'Millet, Mr. Francis Davis', 'Frolicher, Miss. Hedwig Margaritha',\n",
              "       'Hegarty, Miss. Hanora \"Nora\"', 'Gronnestad, Mr. Daniel Danielsen',\n",
              "       'Ivanoff, Mr. Kanio', 'Harris, Mr. George', 'Stankovic, Mr. Ivan',\n",
              "       'Chambers, Mr. Norman Campbell', 'Devaney, Miss. Margaret Delia',\n",
              "       'Stewart, Mr. Albert A',\n",
              "       'Penasco y Castellana, Mrs. Victor de Satode (Maria Josefa Perez de Soto y Vallejo)',\n",
              "       'Allum, Mr. Owen George', 'Nicola-Yarred, Master. Elias',\n",
              "       'Rommetvedt, Mr. Knud Paust', 'Hansen, Mr. Claus Peter',\n",
              "       'Charters, Mr. David', 'Sutehall, Mr. Henry Jr',\n",
              "       'Rouse, Mr. Richard Henry', 'Ilmakangas, Miss. Pieta Sofia',\n",
              "       'Dimic, Mr. Jovan', 'Honkanen, Miss. Eliina', 'Bourke, Mr. John',\n",
              "       'Cacic, Mr. Luka', 'Wick, Mrs. George Dennick (Mary Hitchcock)',\n",
              "       'Gilnagh, Miss. Katherine \"Katie\"', 'McGovern, Miss. Mary',\n",
              "       'Renouf, Mrs. Peter Henry (Lillian Jefferys)',\n",
              "       'Petroff, Mr. Pastcho (\"Pentcho\")', 'Green, Mr. George Henry',\n",
              "       'Molson, Mr. Harry Markland', 'Dantcheff, Mr. Ristiu',\n",
              "       'Pengelly, Mr. Frederick William', 'Partner, Mr. Austen',\n",
              "       'Vande Velde, Mr. Johannes Joseph', 'Gheorgheff, Mr. Stanio',\n",
              "       'Mitchell, Mr. Henry Michael',\n",
              "       'Goodwin, Master. William Frederick', 'Larsson, Mr. Bengt Edvin',\n",
              "       'Greenfield, Mr. William Bertram',\n",
              "       'Harper, Mrs. Henry Sleeper (Myna Haxtun)',\n",
              "       'Sinkkonen, Miss. Anna', 'Gaskell, Mr. Alfred',\n",
              "       'Panula, Master. Urho Abraham', 'Toomey, Miss. Ellen',\n",
              "       'Silvey, Mr. William Baird',\n",
              "       'Hogeboom, Mrs. John C (Anna Andrews)',\n",
              "       'Sandstrom, Miss. Marguerite Rut',\n",
              "       'Bishop, Mrs. Dickinson H (Helen Walton)', 'Davis, Miss. Mary',\n",
              "       'Lovell, Mr. John Hall (\"Henry\")', 'Boulos, Miss. Nourelain',\n",
              "       'Laleff, Mr. Kristo', 'Allen, Mr. William Henry',\n",
              "       'Allison, Miss. Helen Loraine', 'Stranden, Mr. Juho',\n",
              "       'Vestrom, Miss. Hulda Amanda Adolfina',\n",
              "       'Murphy, Miss. Katherine \"Kate\"', 'Longley, Miss. Gretchen Fiske',\n",
              "       'Radeff, Mr. Alexander', 'Lefebre, Miss. Mathilde',\n",
              "       'Coleridge, Mr. Reginald Charles',\n",
              "       'Foreman, Mr. Benjamin Laventall',\n",
              "       'Dick, Mrs. Albert Adrian (Vera Gillespie)',\n",
              "       'Cumings, Mrs. John Bradley (Florence Briggs Thayer)',\n",
              "       'Becker, Miss. Marion Louise', 'Hosono, Mr. Masabumi',\n",
              "       'Slayter, Miss. Hilda Mary', 'Levy, Mr. Rene Jacques',\n",
              "       'Thayer, Mr. John Borland', 'Kantor, Mrs. Sinai (Miriam Sternin)',\n",
              "       'Taussig, Mrs. Emil (Tillie Mandelbaum)',\n",
              "       'Swift, Mrs. Frederick Joel (Margaret Welles Barron)',\n",
              "       'Cairns, Mr. Alexander', 'Mernagh, Mr. Robert',\n",
              "       'Morrow, Mr. Thomas Rowan', 'Funk, Miss. Annie Clemmer',\n",
              "       'Alhomaki, Mr. Ilmari Rudolf',\n",
              "       'Andersson, Mrs. Anders Johan (Alfrida Konstantia Brogren)',\n",
              "       'Hamalainen, Master. Viljo', 'Calic, Mr. Petar',\n",
              "       'Andersson, Miss. Erna Alexandra',\n",
              "       'Pettersson, Miss. Ellen Natalia', 'Kantor, Mr. Sinai',\n",
              "       'Svensson, Mr. Johan', 'Lahoud, Mr. Sarkis',\n",
              "       'Beavan, Mr. William Thomas', 'Long, Mr. Milton Clyde',\n",
              "       'Bourke, Miss. Mary', 'Carter, Rev. Ernest Courtenay',\n",
              "       'Silvey, Mrs. William Baird (Alice Munger)',\n",
              "       'Andrews, Mr. Thomas Jr', 'Lindblom, Miss. Augusta Charlotta',\n",
              "       'Chapman, Mr. Charles Henry', 'McNamee, Mr. Neal',\n",
              "       'Osen, Mr. Olaf Elon', 'Shutes, Miss. Elizabeth W',\n",
              "       'Barbara, Miss. Saiide', 'Vander Cruyssen, Mr. Victor',\n",
              "       'Morley, Mr. Henry Samuel (\"Mr Henry Marshall\")',\n",
              "       'White, Mr. Percival Wayland', 'Williams, Mr. Leslie',\n",
              "       'Tobin, Mr. Roger', 'Francatelli, Miss. Laura Mabel',\n",
              "       'Renouf, Mr. Peter Henry', 'Ali, Mr. Ahmed',\n",
              "       'Danbom, Mrs. Ernst Gilbert (Anna Sigrid Maria Brogren)',\n",
              "       'Giglio, Mr. Victor', 'Ling, Mr. Lee', 'Augustsson, Mr. Albert',\n",
              "       'Elsbury, Mr. William James',\n",
              "       'Appleton, Mrs. Edward Dale (Charlotte Lamson)',\n",
              "       'Pasic, Mr. Jakob', 'Wells, Miss. Joan', 'Wiseman, Mr. Phillippe',\n",
              "       'Newell, Miss. Madeleine', 'Yasbeck, Mr. Antoni',\n",
              "       'Humblen, Mr. Adolf Mathias Nicolai Olsen',\n",
              "       'Wilhelms, Mr. Charles', 'Keane, Miss. Nora A',\n",
              "       'Klaber, Mr. Herman', 'Meyer, Mr. August', 'Zabour, Miss. Hileni',\n",
              "       'Hedman, Mr. Oskar Arvid', 'Dahlberg, Miss. Gerda Ulrika',\n",
              "       'Williams, Mr. Charles Eugene', 'McCormack, Mr. Thomas Joseph',\n",
              "       'Cleaver, Miss. Alice', 'Pickard, Mr. Berk (Berk Trembisky)',\n",
              "       'Banfield, Mr. Frederick James', 'Rice, Master. Eric',\n",
              "       'Mullens, Miss. Katherine \"Katie\"',\n",
              "       'Shelley, Mrs. William (Imanita Parrish Hall)',\n",
              "       'Murphy, Miss. Margaret Jane', 'Tikkanen, Mr. Juho',\n",
              "       'Goldschmidt, Mr. George B', 'Harrington, Mr. Charles H',\n",
              "       'Ford, Miss. Robina Maggie \"Ruby\"',\n",
              "       'Frolicher-Stehli, Mr. Maxmillian', 'Bishop, Mr. Dickinson H',\n",
              "       'Ford, Mr. William Neal', 'Sage, Miss. Stella Anna',\n",
              "       'Fortune, Mr. Mark', 'Coxon, Mr. Daniel',\n",
              "       'Sage, Mr. George John Jr', 'Caldwell, Master. Alden Gates',\n",
              "       'Coelho, Mr. Domingos Fernandeo', 'Lobb, Mr. William Arthur',\n",
              "       'Lester, Mr. James', 'Ohman, Miss. Velin', \"O'Connor, Mr. Maurice\",\n",
              "       'Taussig, Miss. Ruth', 'Attalah, Miss. Malake',\n",
              "       'Carlsson, Mr. August Sigfrid', 'Sage, Mr. Frederick',\n",
              "       'Kallio, Mr. Nikolai Erland', 'O\\'Dwyer, Miss. Ellen \"Nellie\"',\n",
              "       'Cribb, Mr. John Hatfield'], dtype=object)"
            ]
          },
          "metadata": {},
          "execution_count": 25
        }
      ]
    },
    {
      "cell_type": "code",
      "source": [
        "X_train['Cabin'].unique()"
      ],
      "metadata": {
        "colab": {
          "base_uri": "https://localhost:8080/"
        },
        "id": "nrYfoBU7-nXA",
        "outputId": "8c98d752-886c-4c8b-cbfa-70ef4b18a9cc"
      },
      "execution_count": null,
      "outputs": [
        {
          "output_type": "execute_result",
          "data": {
            "text/plain": [
              "array(['E31', -1, 'E34', 'B22', 'D35', 'C62 C64', 'F33', 'C93', 'F G73',\n",
              "       'E33', 'B78', 'A10', 'E17', 'B96 B98', 'B35', 'D15', 'D', 'D20',\n",
              "       'B57 B59 B63 B66', 'A19', 'B28', 'C22 C26', 'C23 C25 C27', 'C52',\n",
              "       'C78', 'C148', 'C2', 'C49', 'F E69', 'D56', 'E67', 'E58', 'B30',\n",
              "       'C45', 'A34', 'E46', 'E50', 'A7', 'E63', 'C92', 'B102', 'E77',\n",
              "       'B69', 'A23', 'E121', 'G6', 'F2', 'E101', 'D47', 'B37', 'C90',\n",
              "       'D28', 'A26', 'D37', 'C7', 'B19', 'D49', 'C110', 'C128', 'B79',\n",
              "       'E40', 'D45', 'A20', 'C126', 'F4', 'B38', 'C70', 'C91', 'B58 B60',\n",
              "       'B94', 'B4', 'C83', 'B51 B53 B55', 'C123', 'A32', 'C87', 'E49',\n",
              "       'C82', 'C65', 'C125', 'D30', 'C32', 'E24', 'B5', 'C46', 'C106',\n",
              "       'E8', 'D46', 'E38', 'B39', 'C30', 'C124', 'D10 D12', 'D33', 'E44',\n",
              "       'D11', 'B49', 'D9', 'C111', 'B20', 'C85', 'C68', 'D17', 'D6',\n",
              "       'A36', 'D26', 'F38', 'E36', 'B86', 'C101', 'D36', 'F G63', 'E10',\n",
              "       'A5', 'B41', 'E68'], dtype=object)"
            ]
          },
          "metadata": {},
          "execution_count": 26
        }
      ]
    },
    {
      "cell_type": "markdown",
      "source": [
        "**Analisis**\n",
        "\n",
        "Intentaremos usar Name y Cabin para embeding con Neural Networks."
      ],
      "metadata": {
        "id": "nSjpcOY2-zpd"
      }
    },
    {
      "cell_type": "code",
      "source": [
        "# Encoding for ticket\n",
        "X_train['Ticket'].unique()"
      ],
      "metadata": {
        "colab": {
          "base_uri": "https://localhost:8080/"
        },
        "id": "NUO1XzkbJlhz",
        "outputId": "cca9d256-1a79-48e3-f7da-234d1f5d6d86"
      },
      "execution_count": null,
      "outputs": [
        {
          "output_type": "execute_result",
          "data": {
            "text/plain": [
              "array(['W.E.P. 5734', 'C.A. 6212', '2678', '233866', '16966',\n",
              "       'A.5. 11206', '29106', '335097', '113792', 'WE/P 5735', '2663',\n",
              "       'C.A. 5547', '350034', '384461', '250646', 'SC/Paris 2123',\n",
              "       '11751', '243880', '336439', 'PC 17757', '382652', '349234',\n",
              "       'C.A. 34260', '342826', 'A/4 48871', '250655', '19943', 'PC 17604',\n",
              "       '349207', '2629', '370371', '345764', '28228', '113789',\n",
              "       'A.5. 18509', 'A/5 3536', '111428', 'W./C. 14258', '363291',\n",
              "       '348124', 'C 7076', 'S.C./PARIS 2079', '350036', 'SC/PARIS 2133',\n",
              "       '347082', 'A/5 2466', '112052', 'C.A. 33595', '113505', '3101278',\n",
              "       '315094', '28664', '345773', '349221', '345763', '19972', '233639',\n",
              "       'PC 17569', '8475', '370372', 'C 17369', '1601', '349214',\n",
              "       '347061', '347077', '349245', '239854', '12233', '2003',\n",
              "       'CA. 2343', 'C 4001', '347088', '13049', 'SOTON/OQ 392089',\n",
              "       '250651', 'C.A. 31921', 'F.C.C. 13528', '65304', '113055',\n",
              "       '370129', 'SOTON/OQ 392086', '237736', 'A/4. 20589', '113760',\n",
              "       'PC 17477', 'SOTON/OQ 3101316', '11813', '2653', '2694', '367226',\n",
              "       '4136', 'SC/AH Basle 541', '36947', '4135', 'PC 17611', '113794',\n",
              "       'SOTON/OQ 3101317', 'C.A. 2315', 'STON/O 2. 3101292', 'C.A. 34651',\n",
              "       '330935', '371110', 'PC 17608', '350035', '2641', '113056',\n",
              "       '231919', '3101265', '2699', 'STON/O 2. 3101280', '315151',\n",
              "       '113572', '370365', '4134', '113781', '349246', '17421', '2674',\n",
              "       'A/5. 3336', '350060', '364846', '19950', '110564', '19928',\n",
              "       '239853', '28220', '2649', '3101295', '3460', '345770', '111369',\n",
              "       '113776', 'PC 17595', 'STON/O 2. 3101285', '29105',\n",
              "       'STON/O2. 3101290', '36568', '223596', 'SW/PP 751', '349236',\n",
              "       '2668', '3101267', '7540', 'W./C. 6608', '315084', '248698',\n",
              "       '349209', '347080', '693', 'C.A. 29395', '234604', '324669',\n",
              "       '370369', '110413', '5727', '113509', '2664', 'STON/O2. 3101282',\n",
              "       '2926', '33638', 'PC 17612', 'C.A. 2673', '17463', '315037',\n",
              "       '250649', 'P/PP 3381', 'SOTON/OQ 392082', '31028', '11765',\n",
              "       '248747', '17764', '111320', '237442', '28424', '367232', '364498',\n",
              "       '28213', '17453', '112058', 'S.O./P.P. 3', 'S.O.C. 14879', '2697',\n",
              "       '234686', '29751', '347742', '113807', '219533', '250643',\n",
              "       '330923', '26707', '36209', '12749', '347074', '27042', '392096',\n",
              "       '349251', '228414', '392091', '347054', '349909', '28134',\n",
              "       '330919', '230080', '19947', '34218', '11752', '392092',\n",
              "       'PC 17603', '349241', '343276', '315093', '349228', '349210',\n",
              "       '345778', '4133', '367229', '347063', '11771', '376564',\n",
              "       'PC 17482', 'C.A. 37671', '27267', 'SOTON/O.Q. 3101312',\n",
              "       'PC 17592', '13213', '2680', 'CA 2144', '110813',\n",
              "       'SOTON/O.Q. 392087', '36928', '111240', '237565',\n",
              "       'STON/O 2. 3101269', 'A/4. 39886', '358585', '349256', '363592',\n",
              "       '250652', '3101298', '248727', '14973', 'PC 17572', '367231',\n",
              "       '349204', '110465', '386525', '113510', '248740', '330932',\n",
              "       '14313', '3101296', '350029', 'C.A. 29566', 'LINE', '3101277',\n",
              "       '110152', 'PC 17318', 'Fa 265302', '2677', '111426', '364499',\n",
              "       '16988', 'PC 17485', 'PC 17760', 'SCO/W 1585', 'PC 17585',\n",
              "       'S.O.P. 1166', '19996', '230136', '26360', '113050', '349910',\n",
              "       'STON/O2. 3101279', '2690', 'PC 17582', '29011', 'PC 17558',\n",
              "       '236171', '239855', '4579', '112059', '2620', 'A/5 3540',\n",
              "       'PC 17610', '2627', 'S.O./P.P. 751', '230434', '36973',\n",
              "       'C.A. 17248', '4137', '250647', 'S.C./A.4. 23567', '695', '347062',\n",
              "       '7534', '2672', '349237', '315098', 'CA. 2314', '7546', '244361',\n",
              "       '364851', '2651', '28206', '28425', '113803', '2661', '349212',\n",
              "       'SC/PARIS 2149', 'SC 1748', '244358', '2693', '343275', '220367',\n",
              "       '14312', '368323', '113767', '349257', '350407', 'S.P. 3464',\n",
              "       '349205', '382651', '2695', '230433', '345783', '7545', '347464',\n",
              "       '12460', '65303', '7267', 'A/5. 10482', '113514', '54636',\n",
              "       '364512', 'PP 4348', 'PC 17756', '2648', '237789', '323592',\n",
              "       '362316', 'W./C. 6609', '113503', '382649', '29750', '226875',\n",
              "       '350404', '6563', '220845', '364516', 'PC 17758', 'A/S 2816',\n",
              "       '2689', '243847', '7598', '218629', '2625', '244278', '113059',\n",
              "       '2687', 'PP 9549', '29108', '349243', '350046', '2686', '349216',\n",
              "       '349224', '350047', 'A4. 54510', '367655', '113773', '345572',\n",
              "       '330979', 'PC 17476', '349244', '24160', '250644', '19877',\n",
              "       '19988', '347081', '2671', 'PC 17761', '345767', 'SC/AH 29037',\n",
              "       '113806', 'STON/O 2. 3101289', 'C 7075', 'C.A. 33111', '349253',\n",
              "       'SC/PARIS 2146', '239865', '248738', '14311', '229236', '36967',\n",
              "       '11668', 'C.A. 33112', '13509', '13568', '365226', '8471',\n",
              "       '349201', 'S.W./PP 752', '349239', '330958', 'PC 17605', '2223',\n",
              "       '312993', '350026', 'A/5. 13032', 'SOTON/OQ 392076', 'A/5 3594',\n",
              "       'STON/O2. 3101271', '315088', 'STON/O2. 3101283', '364849',\n",
              "       '315089', '35851', '330931', '31027', '349215', '21440', '113787',\n",
              "       '349203', '28665', '113043', '345780', '349254', 'C.A. 24580',\n",
              "       '347067', 'PC 17759', '250648', 'F.C.C. 13531', '13507', '13502',\n",
              "       '11967', '237668', 'A/5 21173', '349217', '373450',\n",
              "       'STON/O 2. 3101288', '350406', '367230', '349223', 'W./C. 14263',\n",
              "       '113051', '17474', 'PC 17599', '237798', '234818', 'SC/Paris 2163',\n",
              "       '244367', '17466', '113798', '368703', '372622', '237671',\n",
              "       'SOTON/O2 3101287', '315086', '3101281', '347087', '347060',\n",
              "       '2624', '323951', '113501', '364848', '244252', '112050', '347073',\n",
              "       '248731', '376566', '2691', '345765', '35281', '383121',\n",
              "       'SOTON/O.Q. 3101311', 'PC 17593', '347468', 'A/5 3902', '11769',\n",
              "       '315097', '29103', 'A/4. 34244', '35273', '2659', '348121',\n",
              "       '244270', '226593', '113028', '248723', '2665', '347089', '7552',\n",
              "       '244373', '367228', 'SOTON/O.Q. 392078', 'C.A./SOTON 34068',\n",
              "       '35852', 'STON/O 2. 3101293', 'PC 17754', '113796', '13567',\n",
              "       '364500', 'SOTON/O.Q. 3101307', '347085', '371060', '350042',\n",
              "       'STON/O 2. 3101274', '330959', '371362'], dtype=object)"
            ]
          },
          "metadata": {},
          "execution_count": 27
        }
      ]
    },
    {
      "cell_type": "code",
      "source": [
        "X_train.drop(columns=['Ticket'], inplace=True)\n",
        "X_test.drop(columns=['Ticket'], inplace=True)"
      ],
      "metadata": {
        "id": "aSt5ib3CJ5Am"
      },
      "execution_count": null,
      "outputs": []
    },
    {
      "cell_type": "code",
      "source": [
        "X_train.columns"
      ],
      "metadata": {
        "colab": {
          "base_uri": "https://localhost:8080/"
        },
        "id": "GdGaNqKcKkHE",
        "outputId": "05182f76-9f2f-4b95-cdb1-81969c3e1757"
      },
      "execution_count": null,
      "outputs": [
        {
          "output_type": "execute_result",
          "data": {
            "text/plain": [
              "Index(['PassengerId', 'Pclass', 'Name', 'Sex', 'Age', 'SibSp', 'Parch', 'Fare',\n",
              "       'Cabin', 'Embarked'],\n",
              "      dtype='object')"
            ]
          },
          "metadata": {},
          "execution_count": 29
        }
      ]
    },
    {
      "cell_type": "markdown",
      "source": [
        "**Analisis**\n",
        "\n",
        "Eliminamos Ticket ya que tiene una alta cardinalidad y no se considera una variable informativa."
      ],
      "metadata": {
        "id": "LQrSlsK3KqSL"
      }
    },
    {
      "cell_type": "code",
      "source": [
        "# Embarked\n",
        "enc = OneHotEncoder(handle_unknown='ignore', sparse_output=False)\n",
        "X_train_enc = enc.fit_transform(X_train[['Embarked']])\n",
        "X_test_enc = enc.transform(X_test[['Embarked']])"
      ],
      "metadata": {
        "id": "EsvvKVNFxk5c"
      },
      "execution_count": null,
      "outputs": []
    },
    {
      "cell_type": "code",
      "source": [
        "enc.categories_"
      ],
      "metadata": {
        "colab": {
          "base_uri": "https://localhost:8080/"
        },
        "id": "0h58VJsp1nn6",
        "outputId": "0ed845c7-64a4-4975-f455-7e866f06c460"
      },
      "execution_count": null,
      "outputs": [
        {
          "output_type": "execute_result",
          "data": {
            "text/plain": [
              "[array(['C', 'Q', 'S'], dtype=object)]"
            ]
          },
          "metadata": {},
          "execution_count": 31
        }
      ]
    },
    {
      "cell_type": "code",
      "source": [
        "X_train_ohe = pd.DataFrame(X_train_enc, columns= enc.categories_)\n",
        "X_test_ohe = pd.DataFrame(X_test_enc, columns= enc.categories_)"
      ],
      "metadata": {
        "id": "yhMwhRd81xkU"
      },
      "execution_count": null,
      "outputs": []
    },
    {
      "cell_type": "code",
      "source": [
        "X_train_ohe.head()"
      ],
      "metadata": {
        "colab": {
          "base_uri": "https://localhost:8080/",
          "height": 206
        },
        "id": "Yyxo6b5m1hDF",
        "outputId": "ac93aee7-b88a-495d-852c-4da940099cf6"
      },
      "execution_count": null,
      "outputs": [
        {
          "output_type": "execute_result",
          "data": {
            "text/plain": [
              "     C    Q    S\n",
              "0  0.0  0.0  1.0\n",
              "1  0.0  0.0  1.0\n",
              "2  1.0  0.0  0.0\n",
              "3  0.0  0.0  1.0\n",
              "4  1.0  0.0  0.0"
            ],
            "text/html": [
              "\n",
              "\n",
              "  <div id=\"df-32b7279f-a450-4562-b1ce-7fae58817e47\">\n",
              "    <div class=\"colab-df-container\">\n",
              "      <div>\n",
              "<style scoped>\n",
              "    .dataframe tbody tr th:only-of-type {\n",
              "        vertical-align: middle;\n",
              "    }\n",
              "\n",
              "    .dataframe tbody tr th {\n",
              "        vertical-align: top;\n",
              "    }\n",
              "\n",
              "    .dataframe thead tr th {\n",
              "        text-align: left;\n",
              "    }\n",
              "</style>\n",
              "<table border=\"1\" class=\"dataframe\">\n",
              "  <thead>\n",
              "    <tr>\n",
              "      <th></th>\n",
              "      <th>C</th>\n",
              "      <th>Q</th>\n",
              "      <th>S</th>\n",
              "    </tr>\n",
              "  </thead>\n",
              "  <tbody>\n",
              "    <tr>\n",
              "      <th>0</th>\n",
              "      <td>0.0</td>\n",
              "      <td>0.0</td>\n",
              "      <td>1.0</td>\n",
              "    </tr>\n",
              "    <tr>\n",
              "      <th>1</th>\n",
              "      <td>0.0</td>\n",
              "      <td>0.0</td>\n",
              "      <td>1.0</td>\n",
              "    </tr>\n",
              "    <tr>\n",
              "      <th>2</th>\n",
              "      <td>1.0</td>\n",
              "      <td>0.0</td>\n",
              "      <td>0.0</td>\n",
              "    </tr>\n",
              "    <tr>\n",
              "      <th>3</th>\n",
              "      <td>0.0</td>\n",
              "      <td>0.0</td>\n",
              "      <td>1.0</td>\n",
              "    </tr>\n",
              "    <tr>\n",
              "      <th>4</th>\n",
              "      <td>1.0</td>\n",
              "      <td>0.0</td>\n",
              "      <td>0.0</td>\n",
              "    </tr>\n",
              "  </tbody>\n",
              "</table>\n",
              "</div>\n",
              "      <button class=\"colab-df-convert\" onclick=\"convertToInteractive('df-32b7279f-a450-4562-b1ce-7fae58817e47')\"\n",
              "              title=\"Convert this dataframe to an interactive table.\"\n",
              "              style=\"display:none;\">\n",
              "\n",
              "  <svg xmlns=\"http://www.w3.org/2000/svg\" height=\"24px\"viewBox=\"0 0 24 24\"\n",
              "       width=\"24px\">\n",
              "    <path d=\"M0 0h24v24H0V0z\" fill=\"none\"/>\n",
              "    <path d=\"M18.56 5.44l.94 2.06.94-2.06 2.06-.94-2.06-.94-.94-2.06-.94 2.06-2.06.94zm-11 1L8.5 8.5l.94-2.06 2.06-.94-2.06-.94L8.5 2.5l-.94 2.06-2.06.94zm10 10l.94 2.06.94-2.06 2.06-.94-2.06-.94-.94-2.06-.94 2.06-2.06.94z\"/><path d=\"M17.41 7.96l-1.37-1.37c-.4-.4-.92-.59-1.43-.59-.52 0-1.04.2-1.43.59L10.3 9.45l-7.72 7.72c-.78.78-.78 2.05 0 2.83L4 21.41c.39.39.9.59 1.41.59.51 0 1.02-.2 1.41-.59l7.78-7.78 2.81-2.81c.8-.78.8-2.07 0-2.86zM5.41 20L4 18.59l7.72-7.72 1.47 1.35L5.41 20z\"/>\n",
              "  </svg>\n",
              "      </button>\n",
              "\n",
              "\n",
              "\n",
              "    <div id=\"df-3a094408-d7d7-4c27-a3a5-6483377d5e0b\">\n",
              "      <button class=\"colab-df-quickchart\" onclick=\"quickchart('df-3a094408-d7d7-4c27-a3a5-6483377d5e0b')\"\n",
              "              title=\"Suggest charts.\"\n",
              "              style=\"display:none;\">\n",
              "\n",
              "<svg xmlns=\"http://www.w3.org/2000/svg\" height=\"24px\"viewBox=\"0 0 24 24\"\n",
              "     width=\"24px\">\n",
              "    <g>\n",
              "        <path d=\"M19 3H5c-1.1 0-2 .9-2 2v14c0 1.1.9 2 2 2h14c1.1 0 2-.9 2-2V5c0-1.1-.9-2-2-2zM9 17H7v-7h2v7zm4 0h-2V7h2v10zm4 0h-2v-4h2v4z\"/>\n",
              "    </g>\n",
              "</svg>\n",
              "      </button>\n",
              "    </div>\n",
              "\n",
              "<style>\n",
              "  .colab-df-quickchart {\n",
              "    background-color: #E8F0FE;\n",
              "    border: none;\n",
              "    border-radius: 50%;\n",
              "    cursor: pointer;\n",
              "    display: none;\n",
              "    fill: #1967D2;\n",
              "    height: 32px;\n",
              "    padding: 0 0 0 0;\n",
              "    width: 32px;\n",
              "  }\n",
              "\n",
              "  .colab-df-quickchart:hover {\n",
              "    background-color: #E2EBFA;\n",
              "    box-shadow: 0px 1px 2px rgba(60, 64, 67, 0.3), 0px 1px 3px 1px rgba(60, 64, 67, 0.15);\n",
              "    fill: #174EA6;\n",
              "  }\n",
              "\n",
              "  [theme=dark] .colab-df-quickchart {\n",
              "    background-color: #3B4455;\n",
              "    fill: #D2E3FC;\n",
              "  }\n",
              "\n",
              "  [theme=dark] .colab-df-quickchart:hover {\n",
              "    background-color: #434B5C;\n",
              "    box-shadow: 0px 1px 3px 1px rgba(0, 0, 0, 0.15);\n",
              "    filter: drop-shadow(0px 1px 2px rgba(0, 0, 0, 0.3));\n",
              "    fill: #FFFFFF;\n",
              "  }\n",
              "</style>\n",
              "\n",
              "    <script>\n",
              "      async function quickchart(key) {\n",
              "        const containerElement = document.querySelector('#' + key);\n",
              "        const charts = await google.colab.kernel.invokeFunction(\n",
              "            'suggestCharts', [key], {});\n",
              "      }\n",
              "    </script>\n",
              "\n",
              "      <script>\n",
              "\n",
              "function displayQuickchartButton(domScope) {\n",
              "  let quickchartButtonEl =\n",
              "    domScope.querySelector('#df-3a094408-d7d7-4c27-a3a5-6483377d5e0b button.colab-df-quickchart');\n",
              "  quickchartButtonEl.style.display =\n",
              "    google.colab.kernel.accessAllowed ? 'block' : 'none';\n",
              "}\n",
              "\n",
              "        displayQuickchartButton(document);\n",
              "      </script>\n",
              "      <style>\n",
              "    .colab-df-container {\n",
              "      display:flex;\n",
              "      flex-wrap:wrap;\n",
              "      gap: 12px;\n",
              "    }\n",
              "\n",
              "    .colab-df-convert {\n",
              "      background-color: #E8F0FE;\n",
              "      border: none;\n",
              "      border-radius: 50%;\n",
              "      cursor: pointer;\n",
              "      display: none;\n",
              "      fill: #1967D2;\n",
              "      height: 32px;\n",
              "      padding: 0 0 0 0;\n",
              "      width: 32px;\n",
              "    }\n",
              "\n",
              "    .colab-df-convert:hover {\n",
              "      background-color: #E2EBFA;\n",
              "      box-shadow: 0px 1px 2px rgba(60, 64, 67, 0.3), 0px 1px 3px 1px rgba(60, 64, 67, 0.15);\n",
              "      fill: #174EA6;\n",
              "    }\n",
              "\n",
              "    [theme=dark] .colab-df-convert {\n",
              "      background-color: #3B4455;\n",
              "      fill: #D2E3FC;\n",
              "    }\n",
              "\n",
              "    [theme=dark] .colab-df-convert:hover {\n",
              "      background-color: #434B5C;\n",
              "      box-shadow: 0px 1px 3px 1px rgba(0, 0, 0, 0.15);\n",
              "      filter: drop-shadow(0px 1px 2px rgba(0, 0, 0, 0.3));\n",
              "      fill: #FFFFFF;\n",
              "    }\n",
              "  </style>\n",
              "\n",
              "      <script>\n",
              "        const buttonEl =\n",
              "          document.querySelector('#df-32b7279f-a450-4562-b1ce-7fae58817e47 button.colab-df-convert');\n",
              "        buttonEl.style.display =\n",
              "          google.colab.kernel.accessAllowed ? 'block' : 'none';\n",
              "\n",
              "        async function convertToInteractive(key) {\n",
              "          const element = document.querySelector('#df-32b7279f-a450-4562-b1ce-7fae58817e47');\n",
              "          const dataTable =\n",
              "            await google.colab.kernel.invokeFunction('convertToInteractive',\n",
              "                                                     [key], {});\n",
              "          if (!dataTable) return;\n",
              "\n",
              "          const docLinkHtml = 'Like what you see? Visit the ' +\n",
              "            '<a target=\"_blank\" href=https://colab.research.google.com/notebooks/data_table.ipynb>data table notebook</a>'\n",
              "            + ' to learn more about interactive tables.';\n",
              "          element.innerHTML = '';\n",
              "          dataTable['output_type'] = 'display_data';\n",
              "          await google.colab.output.renderOutput(dataTable, element);\n",
              "          const docLink = document.createElement('div');\n",
              "          docLink.innerHTML = docLinkHtml;\n",
              "          element.appendChild(docLink);\n",
              "        }\n",
              "      </script>\n",
              "    </div>\n",
              "  </div>\n"
            ]
          },
          "metadata": {},
          "execution_count": 33
        }
      ]
    },
    {
      "cell_type": "code",
      "source": [
        "# Drop Embarke. then we will added encoded\n",
        "X_train.drop(columns=['Embarked'], inplace=True)\n",
        "X_test.drop(columns=['Embarked'], inplace=True)"
      ],
      "metadata": {
        "id": "fD5DZ8oF3RQ7"
      },
      "execution_count": null,
      "outputs": []
    },
    {
      "cell_type": "markdown",
      "source": [
        "**Analisis**\n",
        "\n",
        "Embarked al ser una varible categorica con poca cardinalidad le aplicamos one hot encoder."
      ],
      "metadata": {
        "id": "Bg3-hL6WyXdd"
      }
    },
    {
      "cell_type": "code",
      "source": [
        "X_train.info()"
      ],
      "metadata": {
        "colab": {
          "base_uri": "https://localhost:8080/"
        },
        "id": "eGqf5lMcLCji",
        "outputId": "be7e77b9-ea4b-4f93-9398-8cd835acb191"
      },
      "execution_count": null,
      "outputs": [
        {
          "output_type": "stream",
          "name": "stdout",
          "text": [
            "<class 'pandas.core.frame.DataFrame'>\n",
            "Int64Index: 623 entries, 92 to 160\n",
            "Data columns (total 9 columns):\n",
            " #   Column       Non-Null Count  Dtype  \n",
            "---  ------       --------------  -----  \n",
            " 0   PassengerId  623 non-null    int64  \n",
            " 1   Pclass       623 non-null    int64  \n",
            " 2   Name         623 non-null    object \n",
            " 3   Sex          623 non-null    float64\n",
            " 4   Age          623 non-null    float64\n",
            " 5   SibSp        623 non-null    int64  \n",
            " 6   Parch        623 non-null    int64  \n",
            " 7   Fare         623 non-null    float64\n",
            " 8   Cabin        623 non-null    object \n",
            "dtypes: float64(3), int64(4), object(2)\n",
            "memory usage: 48.7+ KB\n"
          ]
        }
      ]
    },
    {
      "cell_type": "code",
      "source": [
        "X_train.head()"
      ],
      "metadata": {
        "id": "cRS4kvG4LMkw",
        "outputId": "48cfd4aa-132f-425c-cad4-73051bd337cb",
        "colab": {
          "base_uri": "https://localhost:8080/",
          "height": 206
        }
      },
      "execution_count": null,
      "outputs": [
        {
          "output_type": "execute_result",
          "data": {
            "text/plain": [
              "     PassengerId  Pclass                                               Name  \\\n",
              "92            93       1                        Chaffee, Mr. Herbert Fuller   \n",
              "497          498       3                    Shellard, Mr. Frederick William   \n",
              "140          141       3                      Boulos, Mrs. Joseph (Sultana)   \n",
              "864          865       2                             Gill, Mr. John William   \n",
              "319          320       1  Spedden, Mrs. Frederic Oakley (Margaretta Corn...   \n",
              "\n",
              "     Sex        Age  SibSp  Parch      Fare Cabin  \n",
              "92   1.0  46.000000      1      0   61.1750   E31  \n",
              "497  1.0  29.715817      0      0   15.1000    -1  \n",
              "140  0.0  29.715817      0      2   15.2458    -1  \n",
              "864  1.0  24.000000      0      0   13.0000    -1  \n",
              "319  0.0  40.000000      1      1  134.5000   E34  "
            ],
            "text/html": [
              "\n",
              "\n",
              "  <div id=\"df-776713c3-3df8-40f6-bb00-d82a6a87343a\">\n",
              "    <div class=\"colab-df-container\">\n",
              "      <div>\n",
              "<style scoped>\n",
              "    .dataframe tbody tr th:only-of-type {\n",
              "        vertical-align: middle;\n",
              "    }\n",
              "\n",
              "    .dataframe tbody tr th {\n",
              "        vertical-align: top;\n",
              "    }\n",
              "\n",
              "    .dataframe thead th {\n",
              "        text-align: right;\n",
              "    }\n",
              "</style>\n",
              "<table border=\"1\" class=\"dataframe\">\n",
              "  <thead>\n",
              "    <tr style=\"text-align: right;\">\n",
              "      <th></th>\n",
              "      <th>PassengerId</th>\n",
              "      <th>Pclass</th>\n",
              "      <th>Name</th>\n",
              "      <th>Sex</th>\n",
              "      <th>Age</th>\n",
              "      <th>SibSp</th>\n",
              "      <th>Parch</th>\n",
              "      <th>Fare</th>\n",
              "      <th>Cabin</th>\n",
              "    </tr>\n",
              "  </thead>\n",
              "  <tbody>\n",
              "    <tr>\n",
              "      <th>92</th>\n",
              "      <td>93</td>\n",
              "      <td>1</td>\n",
              "      <td>Chaffee, Mr. Herbert Fuller</td>\n",
              "      <td>1.0</td>\n",
              "      <td>46.000000</td>\n",
              "      <td>1</td>\n",
              "      <td>0</td>\n",
              "      <td>61.1750</td>\n",
              "      <td>E31</td>\n",
              "    </tr>\n",
              "    <tr>\n",
              "      <th>497</th>\n",
              "      <td>498</td>\n",
              "      <td>3</td>\n",
              "      <td>Shellard, Mr. Frederick William</td>\n",
              "      <td>1.0</td>\n",
              "      <td>29.715817</td>\n",
              "      <td>0</td>\n",
              "      <td>0</td>\n",
              "      <td>15.1000</td>\n",
              "      <td>-1</td>\n",
              "    </tr>\n",
              "    <tr>\n",
              "      <th>140</th>\n",
              "      <td>141</td>\n",
              "      <td>3</td>\n",
              "      <td>Boulos, Mrs. Joseph (Sultana)</td>\n",
              "      <td>0.0</td>\n",
              "      <td>29.715817</td>\n",
              "      <td>0</td>\n",
              "      <td>2</td>\n",
              "      <td>15.2458</td>\n",
              "      <td>-1</td>\n",
              "    </tr>\n",
              "    <tr>\n",
              "      <th>864</th>\n",
              "      <td>865</td>\n",
              "      <td>2</td>\n",
              "      <td>Gill, Mr. John William</td>\n",
              "      <td>1.0</td>\n",
              "      <td>24.000000</td>\n",
              "      <td>0</td>\n",
              "      <td>0</td>\n",
              "      <td>13.0000</td>\n",
              "      <td>-1</td>\n",
              "    </tr>\n",
              "    <tr>\n",
              "      <th>319</th>\n",
              "      <td>320</td>\n",
              "      <td>1</td>\n",
              "      <td>Spedden, Mrs. Frederic Oakley (Margaretta Corn...</td>\n",
              "      <td>0.0</td>\n",
              "      <td>40.000000</td>\n",
              "      <td>1</td>\n",
              "      <td>1</td>\n",
              "      <td>134.5000</td>\n",
              "      <td>E34</td>\n",
              "    </tr>\n",
              "  </tbody>\n",
              "</table>\n",
              "</div>\n",
              "      <button class=\"colab-df-convert\" onclick=\"convertToInteractive('df-776713c3-3df8-40f6-bb00-d82a6a87343a')\"\n",
              "              title=\"Convert this dataframe to an interactive table.\"\n",
              "              style=\"display:none;\">\n",
              "\n",
              "  <svg xmlns=\"http://www.w3.org/2000/svg\" height=\"24px\"viewBox=\"0 0 24 24\"\n",
              "       width=\"24px\">\n",
              "    <path d=\"M0 0h24v24H0V0z\" fill=\"none\"/>\n",
              "    <path d=\"M18.56 5.44l.94 2.06.94-2.06 2.06-.94-2.06-.94-.94-2.06-.94 2.06-2.06.94zm-11 1L8.5 8.5l.94-2.06 2.06-.94-2.06-.94L8.5 2.5l-.94 2.06-2.06.94zm10 10l.94 2.06.94-2.06 2.06-.94-2.06-.94-.94-2.06-.94 2.06-2.06.94z\"/><path d=\"M17.41 7.96l-1.37-1.37c-.4-.4-.92-.59-1.43-.59-.52 0-1.04.2-1.43.59L10.3 9.45l-7.72 7.72c-.78.78-.78 2.05 0 2.83L4 21.41c.39.39.9.59 1.41.59.51 0 1.02-.2 1.41-.59l7.78-7.78 2.81-2.81c.8-.78.8-2.07 0-2.86zM5.41 20L4 18.59l7.72-7.72 1.47 1.35L5.41 20z\"/>\n",
              "  </svg>\n",
              "      </button>\n",
              "\n",
              "\n",
              "\n",
              "    <div id=\"df-8d6ed9b6-dca6-4969-a4b1-bf1b37be4bc5\">\n",
              "      <button class=\"colab-df-quickchart\" onclick=\"quickchart('df-8d6ed9b6-dca6-4969-a4b1-bf1b37be4bc5')\"\n",
              "              title=\"Suggest charts.\"\n",
              "              style=\"display:none;\">\n",
              "\n",
              "<svg xmlns=\"http://www.w3.org/2000/svg\" height=\"24px\"viewBox=\"0 0 24 24\"\n",
              "     width=\"24px\">\n",
              "    <g>\n",
              "        <path d=\"M19 3H5c-1.1 0-2 .9-2 2v14c0 1.1.9 2 2 2h14c1.1 0 2-.9 2-2V5c0-1.1-.9-2-2-2zM9 17H7v-7h2v7zm4 0h-2V7h2v10zm4 0h-2v-4h2v4z\"/>\n",
              "    </g>\n",
              "</svg>\n",
              "      </button>\n",
              "    </div>\n",
              "\n",
              "<style>\n",
              "  .colab-df-quickchart {\n",
              "    background-color: #E8F0FE;\n",
              "    border: none;\n",
              "    border-radius: 50%;\n",
              "    cursor: pointer;\n",
              "    display: none;\n",
              "    fill: #1967D2;\n",
              "    height: 32px;\n",
              "    padding: 0 0 0 0;\n",
              "    width: 32px;\n",
              "  }\n",
              "\n",
              "  .colab-df-quickchart:hover {\n",
              "    background-color: #E2EBFA;\n",
              "    box-shadow: 0px 1px 2px rgba(60, 64, 67, 0.3), 0px 1px 3px 1px rgba(60, 64, 67, 0.15);\n",
              "    fill: #174EA6;\n",
              "  }\n",
              "\n",
              "  [theme=dark] .colab-df-quickchart {\n",
              "    background-color: #3B4455;\n",
              "    fill: #D2E3FC;\n",
              "  }\n",
              "\n",
              "  [theme=dark] .colab-df-quickchart:hover {\n",
              "    background-color: #434B5C;\n",
              "    box-shadow: 0px 1px 3px 1px rgba(0, 0, 0, 0.15);\n",
              "    filter: drop-shadow(0px 1px 2px rgba(0, 0, 0, 0.3));\n",
              "    fill: #FFFFFF;\n",
              "  }\n",
              "</style>\n",
              "\n",
              "    <script>\n",
              "      async function quickchart(key) {\n",
              "        const containerElement = document.querySelector('#' + key);\n",
              "        const charts = await google.colab.kernel.invokeFunction(\n",
              "            'suggestCharts', [key], {});\n",
              "      }\n",
              "    </script>\n",
              "\n",
              "      <script>\n",
              "\n",
              "function displayQuickchartButton(domScope) {\n",
              "  let quickchartButtonEl =\n",
              "    domScope.querySelector('#df-8d6ed9b6-dca6-4969-a4b1-bf1b37be4bc5 button.colab-df-quickchart');\n",
              "  quickchartButtonEl.style.display =\n",
              "    google.colab.kernel.accessAllowed ? 'block' : 'none';\n",
              "}\n",
              "\n",
              "        displayQuickchartButton(document);\n",
              "      </script>\n",
              "      <style>\n",
              "    .colab-df-container {\n",
              "      display:flex;\n",
              "      flex-wrap:wrap;\n",
              "      gap: 12px;\n",
              "    }\n",
              "\n",
              "    .colab-df-convert {\n",
              "      background-color: #E8F0FE;\n",
              "      border: none;\n",
              "      border-radius: 50%;\n",
              "      cursor: pointer;\n",
              "      display: none;\n",
              "      fill: #1967D2;\n",
              "      height: 32px;\n",
              "      padding: 0 0 0 0;\n",
              "      width: 32px;\n",
              "    }\n",
              "\n",
              "    .colab-df-convert:hover {\n",
              "      background-color: #E2EBFA;\n",
              "      box-shadow: 0px 1px 2px rgba(60, 64, 67, 0.3), 0px 1px 3px 1px rgba(60, 64, 67, 0.15);\n",
              "      fill: #174EA6;\n",
              "    }\n",
              "\n",
              "    [theme=dark] .colab-df-convert {\n",
              "      background-color: #3B4455;\n",
              "      fill: #D2E3FC;\n",
              "    }\n",
              "\n",
              "    [theme=dark] .colab-df-convert:hover {\n",
              "      background-color: #434B5C;\n",
              "      box-shadow: 0px 1px 3px 1px rgba(0, 0, 0, 0.15);\n",
              "      filter: drop-shadow(0px 1px 2px rgba(0, 0, 0, 0.3));\n",
              "      fill: #FFFFFF;\n",
              "    }\n",
              "  </style>\n",
              "\n",
              "      <script>\n",
              "        const buttonEl =\n",
              "          document.querySelector('#df-776713c3-3df8-40f6-bb00-d82a6a87343a button.colab-df-convert');\n",
              "        buttonEl.style.display =\n",
              "          google.colab.kernel.accessAllowed ? 'block' : 'none';\n",
              "\n",
              "        async function convertToInteractive(key) {\n",
              "          const element = document.querySelector('#df-776713c3-3df8-40f6-bb00-d82a6a87343a');\n",
              "          const dataTable =\n",
              "            await google.colab.kernel.invokeFunction('convertToInteractive',\n",
              "                                                     [key], {});\n",
              "          if (!dataTable) return;\n",
              "\n",
              "          const docLinkHtml = 'Like what you see? Visit the ' +\n",
              "            '<a target=\"_blank\" href=https://colab.research.google.com/notebooks/data_table.ipynb>data table notebook</a>'\n",
              "            + ' to learn more about interactive tables.';\n",
              "          element.innerHTML = '';\n",
              "          dataTable['output_type'] = 'display_data';\n",
              "          await google.colab.output.renderOutput(dataTable, element);\n",
              "          const docLink = document.createElement('div');\n",
              "          docLink.innerHTML = docLinkHtml;\n",
              "          element.appendChild(docLink);\n",
              "        }\n",
              "      </script>\n",
              "    </div>\n",
              "  </div>\n"
            ]
          },
          "metadata": {},
          "execution_count": 36
        }
      ]
    },
    {
      "cell_type": "markdown",
      "source": [
        "#### Normalizing"
      ],
      "metadata": {
        "id": "rjnrfbuVdCby"
      }
    },
    {
      "cell_type": "code",
      "source": [
        "X_train.var(ddof=0)"
      ],
      "metadata": {
        "colab": {
          "base_uri": "https://localhost:8080/"
        },
        "id": "LEFZXn-sdep6",
        "outputId": "8d46f74e-7fdc-498f-d6c6-bbed71840890"
      },
      "execution_count": null,
      "outputs": [
        {
          "output_type": "stream",
          "name": "stderr",
          "text": [
            "<ipython-input-37-308801690129>:1: FutureWarning: The default value of numeric_only in DataFrame.var is deprecated. In a future version, it will default to False. In addition, specifying 'numeric_only=None' is deprecated. Select only valid columns or specify the value of numeric_only to silence this warning.\n",
            "  X_train.var(ddof=0)\n"
          ]
        },
        {
          "output_type": "execute_result",
          "data": {
            "text/plain": [
              "PassengerId    66791.418281\n",
              "Pclass             0.695418\n",
              "Sex                0.228429\n",
              "Age              172.975071\n",
              "SibSp              1.297950\n",
              "Parch              0.629389\n",
              "Fare            1773.442247\n",
              "dtype: float64"
            ]
          },
          "metadata": {},
          "execution_count": 37
        }
      ]
    },
    {
      "cell_type": "code",
      "source": [
        "X_test.var(ddof=0)"
      ],
      "metadata": {
        "colab": {
          "base_uri": "https://localhost:8080/"
        },
        "id": "sZdmNOd9gh_7",
        "outputId": "ebaa12b7-d26e-47df-f58d-2ac915b1247b"
      },
      "execution_count": null,
      "outputs": [
        {
          "output_type": "stream",
          "name": "stderr",
          "text": [
            "<ipython-input-38-a21e2da3a2c7>:1: FutureWarning: The default value of numeric_only in DataFrame.var is deprecated. In a future version, it will default to False. In addition, specifying 'numeric_only=None' is deprecated. Select only valid columns or specify the value of numeric_only to silence this warning.\n",
            "  X_test.var(ddof=0)\n"
          ]
        },
        {
          "output_type": "execute_result",
          "data": {
            "text/plain": [
              "PassengerId    64681.100913\n",
              "Pclass             0.703052\n",
              "Sex                0.227723\n",
              "Age              159.301625\n",
              "SibSp              1.018155\n",
              "Parch              0.694308\n",
              "Fare            4075.033343\n",
              "dtype: float64"
            ]
          },
          "metadata": {},
          "execution_count": 38
        }
      ]
    },
    {
      "cell_type": "code",
      "source": [
        "num_x_train = X_train.select_dtypes(include='number')\n",
        "num_x_test = X_test.select_dtypes(include='number')"
      ],
      "metadata": {
        "id": "UGNurPuWhTDV"
      },
      "execution_count": null,
      "outputs": []
    },
    {
      "cell_type": "code",
      "source": [
        "num_x_train.columns"
      ],
      "metadata": {
        "colab": {
          "base_uri": "https://localhost:8080/"
        },
        "id": "JZ7gL68xhlHw",
        "outputId": "4ddd0fdd-5b03-48ad-8460-b4ab204df151"
      },
      "execution_count": null,
      "outputs": [
        {
          "output_type": "execute_result",
          "data": {
            "text/plain": [
              "Index(['PassengerId', 'Pclass', 'Sex', 'Age', 'SibSp', 'Parch', 'Fare'], dtype='object')"
            ]
          },
          "metadata": {},
          "execution_count": 40
        }
      ]
    },
    {
      "cell_type": "code",
      "source": [
        "# scale using StandardScaler\n",
        "data_scaled = StandardScaler()\n",
        "X_train_scale = data_scaled.fit_transform(num_x_train)\n",
        "X_test_scale = data_scaled.transform(num_x_test)\n",
        "\n",
        "# converting back to dataframe\n",
        "X_train_scaled = pd.DataFrame(X_train_scale, columns=num_x_train.columns)\n",
        "X_test_scaled = pd.DataFrame(X_test_scale, columns=num_x_test.columns)"
      ],
      "metadata": {
        "id": "JoWE7um5gljc"
      },
      "execution_count": null,
      "outputs": []
    },
    {
      "cell_type": "code",
      "source": [
        "# taking categorical values\n",
        "X_train_categorical = X_train.select_dtypes(include='object')\n",
        "X_test_categorical = X_test.select_dtypes(include='object')"
      ],
      "metadata": {
        "id": "R3imQkIbnY8F"
      },
      "execution_count": null,
      "outputs": []
    },
    {
      "cell_type": "code",
      "source": [
        "# reset index to avoid issues\n",
        "X_train_scaled.reset_index(drop=True, inplace=True)\n",
        "X_train_categorical.reset_index(drop=True, inplace=True)\n",
        "X_test_scaled.reset_index(drop=True, inplace=True)\n",
        "X_test_categorical.reset_index(drop=True, inplace=True)\n",
        "X_train_ohe.reset_index(drop=True, inplace=True)\n",
        "X_test_ohe.reset_index(drop=True, inplace=True)\n",
        "\n",
        "# concatenate numbers and objects\n",
        "X_train = pd.concat([X_train_scaled, X_train_categorical, X_train_ohe], axis=1)\n",
        "X_test = pd.concat([X_test_scaled, X_test_categorical, X_test_ohe], axis=1)"
      ],
      "metadata": {
        "id": "FckeoipVof2Q"
      },
      "execution_count": null,
      "outputs": []
    },
    {
      "cell_type": "code",
      "source": [
        "X_train.var(ddof=0)"
      ],
      "metadata": {
        "colab": {
          "base_uri": "https://localhost:8080/"
        },
        "id": "GssE8vCXhzGd",
        "outputId": "8771dfac-4d19-4a27-ab33-7e0ec0cd9d17"
      },
      "execution_count": null,
      "outputs": [
        {
          "output_type": "stream",
          "name": "stderr",
          "text": [
            "<ipython-input-44-308801690129>:1: FutureWarning: The default value of numeric_only in DataFrame.var is deprecated. In a future version, it will default to False. In addition, specifying 'numeric_only=None' is deprecated. Select only valid columns or specify the value of numeric_only to silence this warning.\n",
            "  X_train.var(ddof=0)\n"
          ]
        },
        {
          "output_type": "execute_result",
          "data": {
            "text/plain": [
              "PassengerId    1.000000\n",
              "Pclass         1.000000\n",
              "Sex            1.000000\n",
              "Age            1.000000\n",
              "SibSp          1.000000\n",
              "Parch          1.000000\n",
              "Fare           1.000000\n",
              "(C,)           0.149502\n",
              "(Q,)           0.081808\n",
              "(S,)           0.198413\n",
              "dtype: float64"
            ]
          },
          "metadata": {},
          "execution_count": 44
        }
      ]
    },
    {
      "cell_type": "code",
      "source": [
        "X_test.var(ddof=0)"
      ],
      "metadata": {
        "colab": {
          "base_uri": "https://localhost:8080/"
        },
        "id": "13pqSsKOj34I",
        "outputId": "9e57377b-c51f-4c3a-c6ba-37178f5b8e59"
      },
      "execution_count": null,
      "outputs": [
        {
          "output_type": "stream",
          "name": "stderr",
          "text": [
            "<ipython-input-45-a21e2da3a2c7>:1: FutureWarning: The default value of numeric_only in DataFrame.var is deprecated. In a future version, it will default to False. In addition, specifying 'numeric_only=None' is deprecated. Select only valid columns or specify the value of numeric_only to silence this warning.\n",
            "  X_test.var(ddof=0)\n"
          ]
        },
        {
          "output_type": "execute_result",
          "data": {
            "text/plain": [
              "PassengerId    0.968404\n",
              "Pclass         1.010977\n",
              "Sex            0.996910\n",
              "Age            0.920951\n",
              "SibSp          0.784434\n",
              "Parch          1.103147\n",
              "Fare           2.297810\n",
              "(C,)           0.160893\n",
              "(Q,)           0.072218\n",
              "(S,)           0.201534\n",
              "dtype: float64"
            ]
          },
          "metadata": {},
          "execution_count": 45
        }
      ]
    },
    {
      "cell_type": "code",
      "source": [
        "X_train.head()"
      ],
      "metadata": {
        "colab": {
          "base_uri": "https://localhost:8080/",
          "height": 206
        },
        "id": "bCetE05XpKdU",
        "outputId": "48e310fc-69d1-4f4e-f691-9435f4bd1889"
      },
      "execution_count": null,
      "outputs": [
        {
          "output_type": "execute_result",
          "data": {
            "text/plain": [
              "   PassengerId    Pclass       Sex       Age     SibSp     Parch      Fare  \\\n",
              "0    -1.365985 -1.551401  0.738854  1.238153  0.401539 -0.473444  0.703022   \n",
              "1     0.201108  0.846918  0.738854  0.000000 -0.476211 -0.473444 -0.391077   \n",
              "2    -1.180256  0.846918 -1.353447  0.000000 -0.476211  2.047543 -0.387615   \n",
              "3     1.621164 -0.352241  0.738854 -0.434597 -0.476211 -0.473444 -0.440944   \n",
              "4    -0.487639 -1.551401 -1.353447  0.781948  0.401539  0.787050  2.444202   \n",
              "\n",
              "                                                Name Cabin  (C,)  (Q,)  (S,)  \n",
              "0                        Chaffee, Mr. Herbert Fuller   E31   0.0   0.0   1.0  \n",
              "1                    Shellard, Mr. Frederick William    -1   0.0   0.0   1.0  \n",
              "2                      Boulos, Mrs. Joseph (Sultana)    -1   1.0   0.0   0.0  \n",
              "3                             Gill, Mr. John William    -1   0.0   0.0   1.0  \n",
              "4  Spedden, Mrs. Frederic Oakley (Margaretta Corn...   E34   1.0   0.0   0.0  "
            ],
            "text/html": [
              "\n",
              "\n",
              "  <div id=\"df-e66f4a92-6a81-4598-9289-afc076707b10\">\n",
              "    <div class=\"colab-df-container\">\n",
              "      <div>\n",
              "<style scoped>\n",
              "    .dataframe tbody tr th:only-of-type {\n",
              "        vertical-align: middle;\n",
              "    }\n",
              "\n",
              "    .dataframe tbody tr th {\n",
              "        vertical-align: top;\n",
              "    }\n",
              "\n",
              "    .dataframe thead th {\n",
              "        text-align: right;\n",
              "    }\n",
              "</style>\n",
              "<table border=\"1\" class=\"dataframe\">\n",
              "  <thead>\n",
              "    <tr style=\"text-align: right;\">\n",
              "      <th></th>\n",
              "      <th>PassengerId</th>\n",
              "      <th>Pclass</th>\n",
              "      <th>Sex</th>\n",
              "      <th>Age</th>\n",
              "      <th>SibSp</th>\n",
              "      <th>Parch</th>\n",
              "      <th>Fare</th>\n",
              "      <th>Name</th>\n",
              "      <th>Cabin</th>\n",
              "      <th>(C,)</th>\n",
              "      <th>(Q,)</th>\n",
              "      <th>(S,)</th>\n",
              "    </tr>\n",
              "  </thead>\n",
              "  <tbody>\n",
              "    <tr>\n",
              "      <th>0</th>\n",
              "      <td>-1.365985</td>\n",
              "      <td>-1.551401</td>\n",
              "      <td>0.738854</td>\n",
              "      <td>1.238153</td>\n",
              "      <td>0.401539</td>\n",
              "      <td>-0.473444</td>\n",
              "      <td>0.703022</td>\n",
              "      <td>Chaffee, Mr. Herbert Fuller</td>\n",
              "      <td>E31</td>\n",
              "      <td>0.0</td>\n",
              "      <td>0.0</td>\n",
              "      <td>1.0</td>\n",
              "    </tr>\n",
              "    <tr>\n",
              "      <th>1</th>\n",
              "      <td>0.201108</td>\n",
              "      <td>0.846918</td>\n",
              "      <td>0.738854</td>\n",
              "      <td>0.000000</td>\n",
              "      <td>-0.476211</td>\n",
              "      <td>-0.473444</td>\n",
              "      <td>-0.391077</td>\n",
              "      <td>Shellard, Mr. Frederick William</td>\n",
              "      <td>-1</td>\n",
              "      <td>0.0</td>\n",
              "      <td>0.0</td>\n",
              "      <td>1.0</td>\n",
              "    </tr>\n",
              "    <tr>\n",
              "      <th>2</th>\n",
              "      <td>-1.180256</td>\n",
              "      <td>0.846918</td>\n",
              "      <td>-1.353447</td>\n",
              "      <td>0.000000</td>\n",
              "      <td>-0.476211</td>\n",
              "      <td>2.047543</td>\n",
              "      <td>-0.387615</td>\n",
              "      <td>Boulos, Mrs. Joseph (Sultana)</td>\n",
              "      <td>-1</td>\n",
              "      <td>1.0</td>\n",
              "      <td>0.0</td>\n",
              "      <td>0.0</td>\n",
              "    </tr>\n",
              "    <tr>\n",
              "      <th>3</th>\n",
              "      <td>1.621164</td>\n",
              "      <td>-0.352241</td>\n",
              "      <td>0.738854</td>\n",
              "      <td>-0.434597</td>\n",
              "      <td>-0.476211</td>\n",
              "      <td>-0.473444</td>\n",
              "      <td>-0.440944</td>\n",
              "      <td>Gill, Mr. John William</td>\n",
              "      <td>-1</td>\n",
              "      <td>0.0</td>\n",
              "      <td>0.0</td>\n",
              "      <td>1.0</td>\n",
              "    </tr>\n",
              "    <tr>\n",
              "      <th>4</th>\n",
              "      <td>-0.487639</td>\n",
              "      <td>-1.551401</td>\n",
              "      <td>-1.353447</td>\n",
              "      <td>0.781948</td>\n",
              "      <td>0.401539</td>\n",
              "      <td>0.787050</td>\n",
              "      <td>2.444202</td>\n",
              "      <td>Spedden, Mrs. Frederic Oakley (Margaretta Corn...</td>\n",
              "      <td>E34</td>\n",
              "      <td>1.0</td>\n",
              "      <td>0.0</td>\n",
              "      <td>0.0</td>\n",
              "    </tr>\n",
              "  </tbody>\n",
              "</table>\n",
              "</div>\n",
              "      <button class=\"colab-df-convert\" onclick=\"convertToInteractive('df-e66f4a92-6a81-4598-9289-afc076707b10')\"\n",
              "              title=\"Convert this dataframe to an interactive table.\"\n",
              "              style=\"display:none;\">\n",
              "\n",
              "  <svg xmlns=\"http://www.w3.org/2000/svg\" height=\"24px\"viewBox=\"0 0 24 24\"\n",
              "       width=\"24px\">\n",
              "    <path d=\"M0 0h24v24H0V0z\" fill=\"none\"/>\n",
              "    <path d=\"M18.56 5.44l.94 2.06.94-2.06 2.06-.94-2.06-.94-.94-2.06-.94 2.06-2.06.94zm-11 1L8.5 8.5l.94-2.06 2.06-.94-2.06-.94L8.5 2.5l-.94 2.06-2.06.94zm10 10l.94 2.06.94-2.06 2.06-.94-2.06-.94-.94-2.06-.94 2.06-2.06.94z\"/><path d=\"M17.41 7.96l-1.37-1.37c-.4-.4-.92-.59-1.43-.59-.52 0-1.04.2-1.43.59L10.3 9.45l-7.72 7.72c-.78.78-.78 2.05 0 2.83L4 21.41c.39.39.9.59 1.41.59.51 0 1.02-.2 1.41-.59l7.78-7.78 2.81-2.81c.8-.78.8-2.07 0-2.86zM5.41 20L4 18.59l7.72-7.72 1.47 1.35L5.41 20z\"/>\n",
              "  </svg>\n",
              "      </button>\n",
              "\n",
              "\n",
              "\n",
              "    <div id=\"df-71b8b4a6-73f2-4a77-958c-314437b09d8d\">\n",
              "      <button class=\"colab-df-quickchart\" onclick=\"quickchart('df-71b8b4a6-73f2-4a77-958c-314437b09d8d')\"\n",
              "              title=\"Suggest charts.\"\n",
              "              style=\"display:none;\">\n",
              "\n",
              "<svg xmlns=\"http://www.w3.org/2000/svg\" height=\"24px\"viewBox=\"0 0 24 24\"\n",
              "     width=\"24px\">\n",
              "    <g>\n",
              "        <path d=\"M19 3H5c-1.1 0-2 .9-2 2v14c0 1.1.9 2 2 2h14c1.1 0 2-.9 2-2V5c0-1.1-.9-2-2-2zM9 17H7v-7h2v7zm4 0h-2V7h2v10zm4 0h-2v-4h2v4z\"/>\n",
              "    </g>\n",
              "</svg>\n",
              "      </button>\n",
              "    </div>\n",
              "\n",
              "<style>\n",
              "  .colab-df-quickchart {\n",
              "    background-color: #E8F0FE;\n",
              "    border: none;\n",
              "    border-radius: 50%;\n",
              "    cursor: pointer;\n",
              "    display: none;\n",
              "    fill: #1967D2;\n",
              "    height: 32px;\n",
              "    padding: 0 0 0 0;\n",
              "    width: 32px;\n",
              "  }\n",
              "\n",
              "  .colab-df-quickchart:hover {\n",
              "    background-color: #E2EBFA;\n",
              "    box-shadow: 0px 1px 2px rgba(60, 64, 67, 0.3), 0px 1px 3px 1px rgba(60, 64, 67, 0.15);\n",
              "    fill: #174EA6;\n",
              "  }\n",
              "\n",
              "  [theme=dark] .colab-df-quickchart {\n",
              "    background-color: #3B4455;\n",
              "    fill: #D2E3FC;\n",
              "  }\n",
              "\n",
              "  [theme=dark] .colab-df-quickchart:hover {\n",
              "    background-color: #434B5C;\n",
              "    box-shadow: 0px 1px 3px 1px rgba(0, 0, 0, 0.15);\n",
              "    filter: drop-shadow(0px 1px 2px rgba(0, 0, 0, 0.3));\n",
              "    fill: #FFFFFF;\n",
              "  }\n",
              "</style>\n",
              "\n",
              "    <script>\n",
              "      async function quickchart(key) {\n",
              "        const containerElement = document.querySelector('#' + key);\n",
              "        const charts = await google.colab.kernel.invokeFunction(\n",
              "            'suggestCharts', [key], {});\n",
              "      }\n",
              "    </script>\n",
              "\n",
              "      <script>\n",
              "\n",
              "function displayQuickchartButton(domScope) {\n",
              "  let quickchartButtonEl =\n",
              "    domScope.querySelector('#df-71b8b4a6-73f2-4a77-958c-314437b09d8d button.colab-df-quickchart');\n",
              "  quickchartButtonEl.style.display =\n",
              "    google.colab.kernel.accessAllowed ? 'block' : 'none';\n",
              "}\n",
              "\n",
              "        displayQuickchartButton(document);\n",
              "      </script>\n",
              "      <style>\n",
              "    .colab-df-container {\n",
              "      display:flex;\n",
              "      flex-wrap:wrap;\n",
              "      gap: 12px;\n",
              "    }\n",
              "\n",
              "    .colab-df-convert {\n",
              "      background-color: #E8F0FE;\n",
              "      border: none;\n",
              "      border-radius: 50%;\n",
              "      cursor: pointer;\n",
              "      display: none;\n",
              "      fill: #1967D2;\n",
              "      height: 32px;\n",
              "      padding: 0 0 0 0;\n",
              "      width: 32px;\n",
              "    }\n",
              "\n",
              "    .colab-df-convert:hover {\n",
              "      background-color: #E2EBFA;\n",
              "      box-shadow: 0px 1px 2px rgba(60, 64, 67, 0.3), 0px 1px 3px 1px rgba(60, 64, 67, 0.15);\n",
              "      fill: #174EA6;\n",
              "    }\n",
              "\n",
              "    [theme=dark] .colab-df-convert {\n",
              "      background-color: #3B4455;\n",
              "      fill: #D2E3FC;\n",
              "    }\n",
              "\n",
              "    [theme=dark] .colab-df-convert:hover {\n",
              "      background-color: #434B5C;\n",
              "      box-shadow: 0px 1px 3px 1px rgba(0, 0, 0, 0.15);\n",
              "      filter: drop-shadow(0px 1px 2px rgba(0, 0, 0, 0.3));\n",
              "      fill: #FFFFFF;\n",
              "    }\n",
              "  </style>\n",
              "\n",
              "      <script>\n",
              "        const buttonEl =\n",
              "          document.querySelector('#df-e66f4a92-6a81-4598-9289-afc076707b10 button.colab-df-convert');\n",
              "        buttonEl.style.display =\n",
              "          google.colab.kernel.accessAllowed ? 'block' : 'none';\n",
              "\n",
              "        async function convertToInteractive(key) {\n",
              "          const element = document.querySelector('#df-e66f4a92-6a81-4598-9289-afc076707b10');\n",
              "          const dataTable =\n",
              "            await google.colab.kernel.invokeFunction('convertToInteractive',\n",
              "                                                     [key], {});\n",
              "          if (!dataTable) return;\n",
              "\n",
              "          const docLinkHtml = 'Like what you see? Visit the ' +\n",
              "            '<a target=\"_blank\" href=https://colab.research.google.com/notebooks/data_table.ipynb>data table notebook</a>'\n",
              "            + ' to learn more about interactive tables.';\n",
              "          element.innerHTML = '';\n",
              "          dataTable['output_type'] = 'display_data';\n",
              "          await google.colab.output.renderOutput(dataTable, element);\n",
              "          const docLink = document.createElement('div');\n",
              "          docLink.innerHTML = docLinkHtml;\n",
              "          element.appendChild(docLink);\n",
              "        }\n",
              "      </script>\n",
              "    </div>\n",
              "  </div>\n"
            ]
          },
          "metadata": {},
          "execution_count": 46
        }
      ]
    },
    {
      "cell_type": "code",
      "source": [
        "X_test.head()"
      ],
      "metadata": {
        "colab": {
          "base_uri": "https://localhost:8080/",
          "height": 206
        },
        "id": "aM0sNXshpRUq",
        "outputId": "1facd92b-9cb6-4c19-ddf2-76509cb8e71f"
      },
      "execution_count": null,
      "outputs": [
        {
          "output_type": "execute_result",
          "data": {
            "text/plain": [
              "   PassengerId    Pclass       Sex       Age     SibSp     Parch      Fare  \\\n",
              "0    -0.456684 -0.352241 -1.353447  0.477812 -0.476211 -0.473444 -0.440944   \n",
              "1    -1.056436  0.846918 -1.353447 -2.183380  0.401539  0.787050 -0.485271   \n",
              "2    -1.663926 -0.352241 -1.353447  1.922459 -0.476211 -0.473444 -0.369706   \n",
              "3     1.663727  0.846918 -1.353447 -1.118903 -0.476211 -0.473444 -0.578077   \n",
              "4    -0.100703  0.846918 -1.353447 -1.499074 -0.476211  2.047543 -0.176175   \n",
              "\n",
              "                               Name Cabin  (C,)  (Q,)  (S,)  \n",
              "0           Ball, Mrs. (Ada E Hall)     D   0.0   0.0   1.0  \n",
              "1      Johnson, Miss. Eleanor Ileen    -1   0.0   0.0   1.0  \n",
              "2  Hewlett, Mrs. (Mary D Kingcome)     -1   0.0   0.0   1.0  \n",
              "3  Najib, Miss. Adele Kiamie \"Jane\"    -1   1.0   0.0   0.0  \n",
              "4         Van Impe, Miss. Catharina    -1   0.0   0.0   1.0  "
            ],
            "text/html": [
              "\n",
              "\n",
              "  <div id=\"df-5bb52cf9-3f1f-41d6-b235-e152c9e4e567\">\n",
              "    <div class=\"colab-df-container\">\n",
              "      <div>\n",
              "<style scoped>\n",
              "    .dataframe tbody tr th:only-of-type {\n",
              "        vertical-align: middle;\n",
              "    }\n",
              "\n",
              "    .dataframe tbody tr th {\n",
              "        vertical-align: top;\n",
              "    }\n",
              "\n",
              "    .dataframe thead th {\n",
              "        text-align: right;\n",
              "    }\n",
              "</style>\n",
              "<table border=\"1\" class=\"dataframe\">\n",
              "  <thead>\n",
              "    <tr style=\"text-align: right;\">\n",
              "      <th></th>\n",
              "      <th>PassengerId</th>\n",
              "      <th>Pclass</th>\n",
              "      <th>Sex</th>\n",
              "      <th>Age</th>\n",
              "      <th>SibSp</th>\n",
              "      <th>Parch</th>\n",
              "      <th>Fare</th>\n",
              "      <th>Name</th>\n",
              "      <th>Cabin</th>\n",
              "      <th>(C,)</th>\n",
              "      <th>(Q,)</th>\n",
              "      <th>(S,)</th>\n",
              "    </tr>\n",
              "  </thead>\n",
              "  <tbody>\n",
              "    <tr>\n",
              "      <th>0</th>\n",
              "      <td>-0.456684</td>\n",
              "      <td>-0.352241</td>\n",
              "      <td>-1.353447</td>\n",
              "      <td>0.477812</td>\n",
              "      <td>-0.476211</td>\n",
              "      <td>-0.473444</td>\n",
              "      <td>-0.440944</td>\n",
              "      <td>Ball, Mrs. (Ada E Hall)</td>\n",
              "      <td>D</td>\n",
              "      <td>0.0</td>\n",
              "      <td>0.0</td>\n",
              "      <td>1.0</td>\n",
              "    </tr>\n",
              "    <tr>\n",
              "      <th>1</th>\n",
              "      <td>-1.056436</td>\n",
              "      <td>0.846918</td>\n",
              "      <td>-1.353447</td>\n",
              "      <td>-2.183380</td>\n",
              "      <td>0.401539</td>\n",
              "      <td>0.787050</td>\n",
              "      <td>-0.485271</td>\n",
              "      <td>Johnson, Miss. Eleanor Ileen</td>\n",
              "      <td>-1</td>\n",
              "      <td>0.0</td>\n",
              "      <td>0.0</td>\n",
              "      <td>1.0</td>\n",
              "    </tr>\n",
              "    <tr>\n",
              "      <th>2</th>\n",
              "      <td>-1.663926</td>\n",
              "      <td>-0.352241</td>\n",
              "      <td>-1.353447</td>\n",
              "      <td>1.922459</td>\n",
              "      <td>-0.476211</td>\n",
              "      <td>-0.473444</td>\n",
              "      <td>-0.369706</td>\n",
              "      <td>Hewlett, Mrs. (Mary D Kingcome)</td>\n",
              "      <td>-1</td>\n",
              "      <td>0.0</td>\n",
              "      <td>0.0</td>\n",
              "      <td>1.0</td>\n",
              "    </tr>\n",
              "    <tr>\n",
              "      <th>3</th>\n",
              "      <td>1.663727</td>\n",
              "      <td>0.846918</td>\n",
              "      <td>-1.353447</td>\n",
              "      <td>-1.118903</td>\n",
              "      <td>-0.476211</td>\n",
              "      <td>-0.473444</td>\n",
              "      <td>-0.578077</td>\n",
              "      <td>Najib, Miss. Adele Kiamie \"Jane\"</td>\n",
              "      <td>-1</td>\n",
              "      <td>1.0</td>\n",
              "      <td>0.0</td>\n",
              "      <td>0.0</td>\n",
              "    </tr>\n",
              "    <tr>\n",
              "      <th>4</th>\n",
              "      <td>-0.100703</td>\n",
              "      <td>0.846918</td>\n",
              "      <td>-1.353447</td>\n",
              "      <td>-1.499074</td>\n",
              "      <td>-0.476211</td>\n",
              "      <td>2.047543</td>\n",
              "      <td>-0.176175</td>\n",
              "      <td>Van Impe, Miss. Catharina</td>\n",
              "      <td>-1</td>\n",
              "      <td>0.0</td>\n",
              "      <td>0.0</td>\n",
              "      <td>1.0</td>\n",
              "    </tr>\n",
              "  </tbody>\n",
              "</table>\n",
              "</div>\n",
              "      <button class=\"colab-df-convert\" onclick=\"convertToInteractive('df-5bb52cf9-3f1f-41d6-b235-e152c9e4e567')\"\n",
              "              title=\"Convert this dataframe to an interactive table.\"\n",
              "              style=\"display:none;\">\n",
              "\n",
              "  <svg xmlns=\"http://www.w3.org/2000/svg\" height=\"24px\"viewBox=\"0 0 24 24\"\n",
              "       width=\"24px\">\n",
              "    <path d=\"M0 0h24v24H0V0z\" fill=\"none\"/>\n",
              "    <path d=\"M18.56 5.44l.94 2.06.94-2.06 2.06-.94-2.06-.94-.94-2.06-.94 2.06-2.06.94zm-11 1L8.5 8.5l.94-2.06 2.06-.94-2.06-.94L8.5 2.5l-.94 2.06-2.06.94zm10 10l.94 2.06.94-2.06 2.06-.94-2.06-.94-.94-2.06-.94 2.06-2.06.94z\"/><path d=\"M17.41 7.96l-1.37-1.37c-.4-.4-.92-.59-1.43-.59-.52 0-1.04.2-1.43.59L10.3 9.45l-7.72 7.72c-.78.78-.78 2.05 0 2.83L4 21.41c.39.39.9.59 1.41.59.51 0 1.02-.2 1.41-.59l7.78-7.78 2.81-2.81c.8-.78.8-2.07 0-2.86zM5.41 20L4 18.59l7.72-7.72 1.47 1.35L5.41 20z\"/>\n",
              "  </svg>\n",
              "      </button>\n",
              "\n",
              "\n",
              "\n",
              "    <div id=\"df-d61c83ed-5b60-4d48-97fe-dce1c6a62de3\">\n",
              "      <button class=\"colab-df-quickchart\" onclick=\"quickchart('df-d61c83ed-5b60-4d48-97fe-dce1c6a62de3')\"\n",
              "              title=\"Suggest charts.\"\n",
              "              style=\"display:none;\">\n",
              "\n",
              "<svg xmlns=\"http://www.w3.org/2000/svg\" height=\"24px\"viewBox=\"0 0 24 24\"\n",
              "     width=\"24px\">\n",
              "    <g>\n",
              "        <path d=\"M19 3H5c-1.1 0-2 .9-2 2v14c0 1.1.9 2 2 2h14c1.1 0 2-.9 2-2V5c0-1.1-.9-2-2-2zM9 17H7v-7h2v7zm4 0h-2V7h2v10zm4 0h-2v-4h2v4z\"/>\n",
              "    </g>\n",
              "</svg>\n",
              "      </button>\n",
              "    </div>\n",
              "\n",
              "<style>\n",
              "  .colab-df-quickchart {\n",
              "    background-color: #E8F0FE;\n",
              "    border: none;\n",
              "    border-radius: 50%;\n",
              "    cursor: pointer;\n",
              "    display: none;\n",
              "    fill: #1967D2;\n",
              "    height: 32px;\n",
              "    padding: 0 0 0 0;\n",
              "    width: 32px;\n",
              "  }\n",
              "\n",
              "  .colab-df-quickchart:hover {\n",
              "    background-color: #E2EBFA;\n",
              "    box-shadow: 0px 1px 2px rgba(60, 64, 67, 0.3), 0px 1px 3px 1px rgba(60, 64, 67, 0.15);\n",
              "    fill: #174EA6;\n",
              "  }\n",
              "\n",
              "  [theme=dark] .colab-df-quickchart {\n",
              "    background-color: #3B4455;\n",
              "    fill: #D2E3FC;\n",
              "  }\n",
              "\n",
              "  [theme=dark] .colab-df-quickchart:hover {\n",
              "    background-color: #434B5C;\n",
              "    box-shadow: 0px 1px 3px 1px rgba(0, 0, 0, 0.15);\n",
              "    filter: drop-shadow(0px 1px 2px rgba(0, 0, 0, 0.3));\n",
              "    fill: #FFFFFF;\n",
              "  }\n",
              "</style>\n",
              "\n",
              "    <script>\n",
              "      async function quickchart(key) {\n",
              "        const containerElement = document.querySelector('#' + key);\n",
              "        const charts = await google.colab.kernel.invokeFunction(\n",
              "            'suggestCharts', [key], {});\n",
              "      }\n",
              "    </script>\n",
              "\n",
              "      <script>\n",
              "\n",
              "function displayQuickchartButton(domScope) {\n",
              "  let quickchartButtonEl =\n",
              "    domScope.querySelector('#df-d61c83ed-5b60-4d48-97fe-dce1c6a62de3 button.colab-df-quickchart');\n",
              "  quickchartButtonEl.style.display =\n",
              "    google.colab.kernel.accessAllowed ? 'block' : 'none';\n",
              "}\n",
              "\n",
              "        displayQuickchartButton(document);\n",
              "      </script>\n",
              "      <style>\n",
              "    .colab-df-container {\n",
              "      display:flex;\n",
              "      flex-wrap:wrap;\n",
              "      gap: 12px;\n",
              "    }\n",
              "\n",
              "    .colab-df-convert {\n",
              "      background-color: #E8F0FE;\n",
              "      border: none;\n",
              "      border-radius: 50%;\n",
              "      cursor: pointer;\n",
              "      display: none;\n",
              "      fill: #1967D2;\n",
              "      height: 32px;\n",
              "      padding: 0 0 0 0;\n",
              "      width: 32px;\n",
              "    }\n",
              "\n",
              "    .colab-df-convert:hover {\n",
              "      background-color: #E2EBFA;\n",
              "      box-shadow: 0px 1px 2px rgba(60, 64, 67, 0.3), 0px 1px 3px 1px rgba(60, 64, 67, 0.15);\n",
              "      fill: #174EA6;\n",
              "    }\n",
              "\n",
              "    [theme=dark] .colab-df-convert {\n",
              "      background-color: #3B4455;\n",
              "      fill: #D2E3FC;\n",
              "    }\n",
              "\n",
              "    [theme=dark] .colab-df-convert:hover {\n",
              "      background-color: #434B5C;\n",
              "      box-shadow: 0px 1px 3px 1px rgba(0, 0, 0, 0.15);\n",
              "      filter: drop-shadow(0px 1px 2px rgba(0, 0, 0, 0.3));\n",
              "      fill: #FFFFFF;\n",
              "    }\n",
              "  </style>\n",
              "\n",
              "      <script>\n",
              "        const buttonEl =\n",
              "          document.querySelector('#df-5bb52cf9-3f1f-41d6-b235-e152c9e4e567 button.colab-df-convert');\n",
              "        buttonEl.style.display =\n",
              "          google.colab.kernel.accessAllowed ? 'block' : 'none';\n",
              "\n",
              "        async function convertToInteractive(key) {\n",
              "          const element = document.querySelector('#df-5bb52cf9-3f1f-41d6-b235-e152c9e4e567');\n",
              "          const dataTable =\n",
              "            await google.colab.kernel.invokeFunction('convertToInteractive',\n",
              "                                                     [key], {});\n",
              "          if (!dataTable) return;\n",
              "\n",
              "          const docLinkHtml = 'Like what you see? Visit the ' +\n",
              "            '<a target=\"_blank\" href=https://colab.research.google.com/notebooks/data_table.ipynb>data table notebook</a>'\n",
              "            + ' to learn more about interactive tables.';\n",
              "          element.innerHTML = '';\n",
              "          dataTable['output_type'] = 'display_data';\n",
              "          await google.colab.output.renderOutput(dataTable, element);\n",
              "          const docLink = document.createElement('div');\n",
              "          docLink.innerHTML = docLinkHtml;\n",
              "          element.appendChild(docLink);\n",
              "        }\n",
              "      </script>\n",
              "    </div>\n",
              "  </div>\n"
            ]
          },
          "metadata": {},
          "execution_count": 47
        }
      ]
    },
    {
      "cell_type": "markdown",
      "source": [
        "## Model with Embedings"
      ],
      "metadata": {
        "id": "X-D5Pnp-K3fI"
      }
    },
    {
      "cell_type": "code",
      "source": [
        "import torch\n",
        "from torch.utils.data import Dataset, DataLoader\n",
        "from sklearn import metrics"
      ],
      "metadata": {
        "id": "oOG6lOPKVjQr"
      },
      "execution_count": null,
      "outputs": []
    },
    {
      "cell_type": "markdown",
      "source": [
        "**Analisis**\n",
        "\n",
        "los embedings nos ayudan a utilizar las variables categoricas con alta cardinalidad en el entrenamiento de la red neuronal. Con esto, si consideramos que una variable de este tipo puede ayudarnos a resolver un problema, los embedings solucionan los problemas que nos traeria hacerlo con OneHotEncoding por ejemplo.\n",
        "\n",
        "Por otro lado, la red neuronal será capaz de ajustar los valores de cada vector dentro del embeding con cada iteración, manteniendo y mejorando así la relación que podrían tener estas categorías con el resto de las variables."
      ],
      "metadata": {
        "id": "eqzjjVCnFnsJ"
      }
    },
    {
      "cell_type": "code",
      "source": [
        "# Embedding\n",
        "cabin_train = X_train['Cabin']\n",
        "cabin_test = X_test['Cabin']\n",
        "\n",
        "Name_train =  X_train['Name']\n",
        "Name_test =  X_test['Name']"
      ],
      "metadata": {
        "id": "BVKm-eeXux5q"
      },
      "execution_count": null,
      "outputs": []
    },
    {
      "cell_type": "markdown",
      "source": [
        "**Nota**\n",
        "\n",
        "Por ahora se hará con un solo embedding utilizando la info de Cabin, pero luego tambien se probara con Name"
      ],
      "metadata": {
        "id": "ZnBFgPGVwqfa"
      }
    },
    {
      "cell_type": "code",
      "source": [
        "# copying both datasets\n",
        "X_train_copy = X_train.copy()\n",
        "X_test_copy = X_test.copy()\n",
        "# drop Name column\n",
        "X_train_copy.drop(columns=['Name'], inplace=True)\n",
        "X_test_copy.drop(columns=['Name'], inplace=True)\n",
        "\n",
        "# drop Cabin column\n",
        "X_train_copy.drop(columns=['Cabin'], inplace=True)\n",
        "X_test_copy.drop(columns=['Cabin'], inplace=True)"
      ],
      "metadata": {
        "id": "IBT1E3qXLBgu"
      },
      "execution_count": null,
      "outputs": []
    },
    {
      "cell_type": "code",
      "source": [
        "X_train_copy.info()"
      ],
      "metadata": {
        "colab": {
          "base_uri": "https://localhost:8080/"
        },
        "id": "rZhMXOA7xLYK",
        "outputId": "43304a97-25b6-4780-d09a-82327892fda8"
      },
      "execution_count": null,
      "outputs": [
        {
          "output_type": "stream",
          "name": "stdout",
          "text": [
            "<class 'pandas.core.frame.DataFrame'>\n",
            "RangeIndex: 623 entries, 0 to 622\n",
            "Data columns (total 10 columns):\n",
            " #   Column       Non-Null Count  Dtype  \n",
            "---  ------       --------------  -----  \n",
            " 0   PassengerId  623 non-null    float64\n",
            " 1   Pclass       623 non-null    float64\n",
            " 2   Sex          623 non-null    float64\n",
            " 3   Age          623 non-null    float64\n",
            " 4   SibSp        623 non-null    float64\n",
            " 5   Parch        623 non-null    float64\n",
            " 6   Fare         623 non-null    float64\n",
            " 7   (C,)         623 non-null    float64\n",
            " 8   (Q,)         623 non-null    float64\n",
            " 9   (S,)         623 non-null    float64\n",
            "dtypes: float64(10)\n",
            "memory usage: 48.8 KB\n"
          ]
        }
      ]
    },
    {
      "cell_type": "code",
      "source": [
        "# number of categorical values\n",
        "len(cabin_train.unique())"
      ],
      "metadata": {
        "colab": {
          "base_uri": "https://localhost:8080/"
        },
        "id": "wjE8av6sHGm_",
        "outputId": "e68c51fc-904d-4a24-d7ee-092d4f9be608"
      },
      "execution_count": null,
      "outputs": [
        {
          "output_type": "execute_result",
          "data": {
            "text/plain": [
              "116"
            ]
          },
          "metadata": {},
          "execution_count": 52
        }
      ]
    },
    {
      "cell_type": "code",
      "source": [
        "len(cabin_test.unique())"
      ],
      "metadata": {
        "colab": {
          "base_uri": "https://localhost:8080/"
        },
        "id": "ilWvOO0-zO9d",
        "outputId": "e01507ab-dbfd-41e8-ab96-8be9089919de"
      },
      "execution_count": null,
      "outputs": [
        {
          "output_type": "execute_result",
          "data": {
            "text/plain": [
              "55"
            ]
          },
          "metadata": {},
          "execution_count": 53
        }
      ]
    },
    {
      "cell_type": "code",
      "source": [
        "# total for embedding dimension\n",
        "total = len(cabin_train.unique()) + len(cabin_test.unique())\n",
        "total"
      ],
      "metadata": {
        "colab": {
          "base_uri": "https://localhost:8080/"
        },
        "id": "lqY_cT8vznsh",
        "outputId": "350bc081-95a4-4d9c-c9b7-f707ec73504a"
      },
      "execution_count": null,
      "outputs": [
        {
          "output_type": "execute_result",
          "data": {
            "text/plain": [
              "171"
            ]
          },
          "metadata": {},
          "execution_count": 54
        }
      ]
    },
    {
      "cell_type": "code",
      "source": [
        "cabin_train.unique()"
      ],
      "metadata": {
        "colab": {
          "base_uri": "https://localhost:8080/"
        },
        "id": "ZW1tiVi-P_9M",
        "outputId": "9c676709-b661-46b0-9b15-9d0db8e49948"
      },
      "execution_count": null,
      "outputs": [
        {
          "output_type": "execute_result",
          "data": {
            "text/plain": [
              "array(['E31', -1, 'E34', 'B22', 'D35', 'C62 C64', 'F33', 'C93', 'F G73',\n",
              "       'E33', 'B78', 'A10', 'E17', 'B96 B98', 'B35', 'D15', 'D', 'D20',\n",
              "       'B57 B59 B63 B66', 'A19', 'B28', 'C22 C26', 'C23 C25 C27', 'C52',\n",
              "       'C78', 'C148', 'C2', 'C49', 'F E69', 'D56', 'E67', 'E58', 'B30',\n",
              "       'C45', 'A34', 'E46', 'E50', 'A7', 'E63', 'C92', 'B102', 'E77',\n",
              "       'B69', 'A23', 'E121', 'G6', 'F2', 'E101', 'D47', 'B37', 'C90',\n",
              "       'D28', 'A26', 'D37', 'C7', 'B19', 'D49', 'C110', 'C128', 'B79',\n",
              "       'E40', 'D45', 'A20', 'C126', 'F4', 'B38', 'C70', 'C91', 'B58 B60',\n",
              "       'B94', 'B4', 'C83', 'B51 B53 B55', 'C123', 'A32', 'C87', 'E49',\n",
              "       'C82', 'C65', 'C125', 'D30', 'C32', 'E24', 'B5', 'C46', 'C106',\n",
              "       'E8', 'D46', 'E38', 'B39', 'C30', 'C124', 'D10 D12', 'D33', 'E44',\n",
              "       'D11', 'B49', 'D9', 'C111', 'B20', 'C85', 'C68', 'D17', 'D6',\n",
              "       'A36', 'D26', 'F38', 'E36', 'B86', 'C101', 'D36', 'F G63', 'E10',\n",
              "       'A5', 'B41', 'E68'], dtype=object)"
            ]
          },
          "metadata": {},
          "execution_count": 55
        }
      ]
    },
    {
      "cell_type": "code",
      "source": [
        "# map cabins with index\n",
        "cabin_idx_train = {value:key for key,value in enumerate(cabin_train.unique())}\n",
        "cabin_idx_test = {value:key for key,value in enumerate(cabin_test.unique())}"
      ],
      "metadata": {
        "id": "uGvs3W0vQD-9"
      },
      "execution_count": null,
      "outputs": []
    },
    {
      "cell_type": "code",
      "source": [
        "cabin_idx_train['C83'] # value = key. Give cabin number and return the index"
      ],
      "metadata": {
        "colab": {
          "base_uri": "https://localhost:8080/"
        },
        "id": "Y-zra4SGTNgn",
        "outputId": "dc838122-4cb0-46f1-ce12-2978bb683106"
      },
      "execution_count": null,
      "outputs": [
        {
          "output_type": "execute_result",
          "data": {
            "text/plain": [
              "71"
            ]
          },
          "metadata": {},
          "execution_count": 58
        }
      ]
    },
    {
      "cell_type": "code",
      "source": [
        "# Vector of cabin_idx en el dataset\n",
        "vector_idx_trian = np.array([cabin_idx_train[value] for value in cabin_train])\n",
        "vector_idx_test = np.array([cabin_idx_test[value] for value in cabin_test])"
      ],
      "metadata": {
        "id": "6zG2e6EAa1Km"
      },
      "execution_count": null,
      "outputs": []
    },
    {
      "cell_type": "code",
      "source": [
        "print(vector_idx_trian)"
      ],
      "metadata": {
        "colab": {
          "base_uri": "https://localhost:8080/"
        },
        "id": "74mwXg8ycWI4",
        "outputId": "b95b83be-af26-4923-a346-54aff699c625"
      },
      "execution_count": null,
      "outputs": [
        {
          "output_type": "stream",
          "name": "stdout",
          "text": [
            "[  0   1   1   1   2   1   1   1   1   3   1   1   1   1   1   1   4   1\n",
            "   1   5   1   1   6   1   1   1   7   1   1   1   1   1   1   1   1   1\n",
            "   1   1   1   8   1   1   1   1   1   1   1   1   9   1   1   1   1   1\n",
            "   1   1   1  10   1   1   1   1   1   1   1   1   1   1   1   1   1   1\n",
            "   1   1  11   1   1   1   1   1   1   1  12   1   1   1   1  13   1  14\n",
            "   1  15   1   1   1   1  16  17   1   1   1   1   1   1   1   1   1  18\n",
            "   1   1   1  19   1   1   1   1   1  20   1   1  21   1   1   1   1   1\n",
            "   1   1  22  23  24   1  14   1   1   1   1   1   1   1  25  26  27   1\n",
            "   1   1   1   1  13  17   1   1   1  26  28   1   1   1   1   1  29   1\n",
            "   1   1   6   1   1   1   1  30   1  31  32   1  33   1   1  34   3   1\n",
            "   1  35   1  13   1   1   1   1  22   1   1  36   9   1  37  38   1   1\n",
            "   1   1   1   1  39  40  41   1   1   1   1   1   1   1   1   1   1   1\n",
            "  42   1  43  44   1   1   1   1  45   1   1   1  46  23   1  47  48   1\n",
            "   1   1   1   1   1   1   1   1   1   1   1   1   1   1  49  21   1  50\n",
            "   1  47   1  51   1  52   1   1  53   1  54  55   1   1   1   1   1   1\n",
            "   1   1   7   1   1  56   1   1  57   1   1  58   1   1   1   1   1   1\n",
            "   1   1  59  60   1   1   1   1   1   1  61   1  62   1   1   1   1  63\n",
            "  64  46   1   1   1  65   1   1   1   1  66  67   1  68   1   1   1  20\n",
            "   1  69   1   1  70   1   1   1   1   1  71   1   1   1   1   1  72   1\n",
            "   1   1   1   1   1   1   1   1   1   1   1   1   1  73   1   1   1   1\n",
            "   1   1  73   1   1   1   1   1   1   1  74   1   1   1   1   1   1   1\n",
            "   1   1   1   1   1   1   1   1   1   1   1  75   1   1   1  76   1   1\n",
            "   1   1   1   1  77   1   1   1   1   1   1   1  78   1   1  79   1   1\n",
            "   1   1   1   1   1  45   1   1   1   1   1   1   1   1   1  80   1   1\n",
            "   1  81  82   1  83   1   1  84  83  85   1   1   1   1   1   1   1   1\n",
            "  86   1   1   1   1  68   1   1   1   1   1   1   1  87   1   1  88  89\n",
            "   1   1   1   1   1  86   1   1  78   1   1   1   1   1   1   1   1   1\n",
            "   1   1   1   1   1   1   1   1   1  90   1   1  91   1   1   1   1   1\n",
            "  92  93   1   1   1   1  94  95  45  96   1   1   1   1   1  21   1   1\n",
            "   1  97   1   1   1  98  99 100  64   1   1  16 101   1  30 102   1   1\n",
            "   1   1   1   1   1   1   1   1   1   1   1   1 103   1   1  94 104   1\n",
            "   1   1   1  79   1   1   1 105   1 106 107   1   1   1 108   1   1   1\n",
            " 109   1   1   1 110   1 111   1  47  91   1   1   1   1   1   1   1 112\n",
            "   1   1   1   1   1   1 113   1   1 114  96   1   1  22   1   1   1   1\n",
            "   1   1   1   1 115   1   1   1   1   1   1]\n"
          ]
        }
      ]
    },
    {
      "cell_type": "code",
      "source": [
        "# creating dataset class for pytorch\n",
        "class Mydataset(Dataset):\n",
        "\n",
        "  #__init__ save dataset\n",
        "  def __init__(self, x, embeding, y):\n",
        "    self.x = x.to_numpy()\n",
        "    self.y = y.to_numpy()\n",
        "    self.embeding = embeding\n",
        "  # __len__ define len() behaivior\n",
        "  def __len__(self) -> int:\n",
        "    return self.x.shape[0]\n",
        "  # __getitem__ define behaivior of []\n",
        "  def __getitem__(self, idx):\n",
        "     return self.x[idx], self.embeding[idx], self.y[idx]"
      ],
      "metadata": {
        "id": "d5ej9isETW4o"
      },
      "execution_count": null,
      "outputs": []
    },
    {
      "cell_type": "code",
      "source": [
        "# new datasets for NN\n",
        "X_train_one_embeding = Mydataset(X_train_copy, vector_idx_trian, y_train)\n",
        "X_test_one_embeding = Mydataset(X_test_copy, vector_idx_test, y_test)"
      ],
      "metadata": {
        "id": "ZPtqQl9zYc-V"
      },
      "execution_count": null,
      "outputs": []
    },
    {
      "cell_type": "code",
      "source": [
        "# test class\n",
        "len(X_train_one_embeding)"
      ],
      "metadata": {
        "colab": {
          "base_uri": "https://localhost:8080/"
        },
        "id": "axIfSjz7Y4t4",
        "outputId": "afd61482-d52f-4cb0-886e-416a335cc741"
      },
      "execution_count": null,
      "outputs": [
        {
          "output_type": "execute_result",
          "data": {
            "text/plain": [
              "623"
            ]
          },
          "metadata": {},
          "execution_count": 63
        }
      ]
    },
    {
      "cell_type": "code",
      "source": [
        "len(X_test_one_embeding)"
      ],
      "metadata": {
        "colab": {
          "base_uri": "https://localhost:8080/"
        },
        "id": "ks3Tyi99ZI1s",
        "outputId": "ba18d89d-5269-470a-fc61-fc4d285c79fb"
      },
      "execution_count": null,
      "outputs": [
        {
          "output_type": "execute_result",
          "data": {
            "text/plain": [
              "268"
            ]
          },
          "metadata": {},
          "execution_count": 64
        }
      ]
    },
    {
      "cell_type": "code",
      "source": [
        "X_train_one_embeding[575]"
      ],
      "metadata": {
        "colab": {
          "base_uri": "https://localhost:8080/"
        },
        "id": "HX4sWVMloGpl",
        "outputId": "8c501dec-ad13-43f6-ace5-a0f312ee4662"
      },
      "execution_count": null,
      "outputs": [
        {
          "output_type": "execute_result",
          "data": {
            "text/plain": [
              "(array([ 0.56869724,  0.84691842,  0.73885432,  1.31418681, -0.47621129,\n",
              "        -0.4734437 , -0.57748381,  0.        ,  0.        ,  1.        ]),\n",
              " 1,\n",
              " 0)"
            ]
          },
          "metadata": {},
          "execution_count": 65
        }
      ]
    },
    {
      "cell_type": "code",
      "source": [
        "# Create dataloader\n",
        "train_dataloader_one_em = DataLoader(X_train_one_embeding, batch_size=64, shuffle=True)\n",
        "test_dataloader_one_em = DataLoader(X_test_one_embeding, batch_size=64)"
      ],
      "metadata": {
        "id": "Kf2KjbzFs_tN"
      },
      "execution_count": null,
      "outputs": []
    },
    {
      "cell_type": "code",
      "source": [
        "# NN architecture with one embeding\n",
        "class NNet(torch.nn.Module):\n",
        "\n",
        "  def __init__(self):\n",
        "    # Defining NN architecture\n",
        "    super().__init__()\n",
        "    self.embeddings = torch.nn.Embedding(num_embeddings=169, embedding_dim=8)\n",
        "    self.linear_1 = torch.nn.Linear(in_features=10+8, out_features=200, bias=True)\n",
        "    self.relu_1 = torch.nn.ReLU()\n",
        "    self.linear_2 = torch.nn.Linear(in_features=200, out_features=100, bias=True)\n",
        "    self.relu_2 = torch.nn.ReLU()\n",
        "    self.output = torch.nn.Linear(in_features=100, out_features=1, bias=True)\n",
        "\n",
        "  def forward(self, x, cabin_idx):\n",
        "    embedding_out = self.embeddings(cabin_idx) # taking each raw values for our embeding\n",
        "    x = torch.cat([x, embedding_out], dim=1) # concatenate x_train and 8 embeding columns. dim it's like axis=1 from numpy\n",
        "    x = self.linear_1(x)\n",
        "    x = self.relu_1(x)\n",
        "    x = self.linear_2(x)\n",
        "    x = self.relu_2(x)\n",
        "    x = self.output(x)\n",
        "    return x\n"
      ],
      "metadata": {
        "id": "cJHt2ao7t5TH"
      },
      "execution_count": null,
      "outputs": []
    },
    {
      "cell_type": "code",
      "source": [
        "# Network instance\n",
        "nnnet_one_embedding = NNet()"
      ],
      "metadata": {
        "id": "Q_bG4ngL8y-W"
      },
      "execution_count": null,
      "outputs": []
    },
    {
      "cell_type": "code",
      "source": [
        "# loss function and optimization\n",
        "loss_f = torch.nn.BCEWithLogitsLoss(reduction='sum')\n",
        "optimizer = torch.optim.Adam(nnnet_one_embedding.parameters(), lr=0.01)"
      ],
      "metadata": {
        "id": "klEjlJP-YAf3"
      },
      "execution_count": null,
      "outputs": []
    },
    {
      "cell_type": "code",
      "source": [
        "device = \"cpu\"\n",
        "if torch.cuda.is_available():\n",
        "  device = \"cuda:0\"\n",
        "\n",
        "device"
      ],
      "metadata": {
        "colab": {
          "base_uri": "https://localhost:8080/",
          "height": 35
        },
        "id": "BWBYz_BfZlWL",
        "outputId": "b99969c5-1a14-41b1-e937-9f3f555db569"
      },
      "execution_count": null,
      "outputs": [
        {
          "output_type": "execute_result",
          "data": {
            "text/plain": [
              "'cpu'"
            ],
            "application/vnd.google.colaboratory.intrinsic+json": {
              "type": "string"
            }
          },
          "metadata": {},
          "execution_count": 70
        }
      ]
    },
    {
      "cell_type": "code",
      "source": [
        "# copy NN to device\n",
        "nn = nnnet_one_embedding.to(device)"
      ],
      "metadata": {
        "id": "EkWDfEWuZpx4"
      },
      "execution_count": null,
      "outputs": []
    },
    {
      "cell_type": "code",
      "source": [
        "# Mini-batch\n",
        "epochs = 100\n",
        "\n",
        "train_loss_by_epoch=[]\n",
        "test_loss_by_epoch=[]\n",
        "\n",
        "for epoch in range(epochs):\n",
        "\n",
        "  # starting training\n",
        "  nn.train(True)\n",
        "  # loss per epoch\n",
        "  loss_epoch = 0\n",
        "  # y and prediction\n",
        "  y_epoch = []\n",
        "  y_pred_epoch = []\n",
        "\n",
        "  for i,data in enumerate(train_dataloader_one_em):\n",
        "    # Data from train batch\n",
        "    x_batch, embedding_batch, y_batch = data\n",
        "    # copy batch to device where nn was instanciated\n",
        "    x_batch = x_batch.to(device).float()\n",
        "    embedding_batch = embedding_batch.to(device).int()\n",
        "    y_batch = y_batch.to(device).float().reshape(-1,1)\n",
        "\n",
        "    # cleaning optimizer\n",
        "    optimizer.zero_grad()\n",
        "    # forward\n",
        "    nn_forward_out = nn(x_batch, embedding_batch)\n",
        "    y_batch_pred = torch.sigmoid(nn_forward_out)\n",
        "\n",
        "    # loss calculation -> loss(input, target)\n",
        "    loss = loss_f(nn_forward_out, y_batch)\n",
        "\n",
        "    # backward\n",
        "    loss.backward()\n",
        "\n",
        "    # update parameters\n",
        "    optimizer.step()\n",
        "\n",
        "    # save true values and predicted\n",
        "    y_epoch += list(y_batch.detach().cpu().numpy())\n",
        "    y_pred_epoch += list(y_batch_pred.detach().cpu().numpy())\n",
        "\n",
        "    # save current loss\n",
        "    loss_epoch = loss_epoch + loss.item()\n",
        "\n",
        "  # mean loss\n",
        "  loss_epoch = loss_epoch / X_train_copy.shape[0]\n",
        "  # save loss to plot later\n",
        "  train_loss_by_epoch.append(loss_epoch)\n",
        "  # epoch metric\n",
        "  accuracy = metrics.accuracy_score(y_epoch, [j>=0.5 for j in y_pred_epoch])\n",
        "\n",
        "\n",
        "  ############\n",
        "  # test dataset\n",
        "\n",
        "  nn.train(False) # desactivate gradient calculation\n",
        "  # loss per epoch\n",
        "  loss_epoch_test = 0\n",
        "  # y and prediction\n",
        "  y_epoch_test = []\n",
        "  y_pred_epoch_test = []\n",
        "\n",
        "  for i,data in enumerate(test_dataloader_one_em):\n",
        "    # Data from train batch\n",
        "    x_batch, embedding_batch, y_batch = data\n",
        "    # copy batch to device where nn was instanciated\n",
        "    x_batch = x_batch.to(device).float()\n",
        "    embedding_batch = embedding_batch.to(device).int()\n",
        "    y_batch = y_batch.to(device).float().reshape(-1,1)\n",
        "\n",
        "    # cleaning optimizer\n",
        "    optimizer.zero_grad()\n",
        "    # forward\n",
        "    nn_forward_out = nn(x_batch, embedding_batch)\n",
        "    y_batch_pred = torch.sigmoid(nn_forward_out)\n",
        "\n",
        "    # loss calculation -> loss(input, target)\n",
        "    loss = loss_f(nn_forward_out, y_batch)\n",
        "\n",
        "    # No backward added on test batch\n",
        "\n",
        "    # save true values and predicted\n",
        "    y_epoch_test += list(y_batch.detach().cpu().numpy())\n",
        "    y_pred_epoch_test += list(y_batch_pred.detach().cpu().numpy())\n",
        "\n",
        "    # save current loss\n",
        "    loss_epoch_test = loss_epoch_test + loss.item()\n",
        "\n",
        "  # mean loss\n",
        "  loss_epoch_test = loss_epoch_test / X_test_copy.shape[0]\n",
        "  # save loss to plot later\n",
        "  test_loss_by_epoch.append(loss_epoch_test)\n",
        "  # epoch metric\n",
        "  accuracy_test = metrics.accuracy_score(y_epoch_test, [ j >= 0.5 for j in y_pred_epoch_test])\n",
        "\n",
        "  print(f\" Epoch {epoch} | \" \\\n",
        "        f\"Train/Valid loss: {loss_epoch:.3f} / {loss_epoch_test:.3f} | \" \\\n",
        "        f\"Train/Valid accuracy: {accuracy:.3f} / {accuracy_test:.3f}\")"
      ],
      "metadata": {
        "colab": {
          "base_uri": "https://localhost:8080/"
        },
        "id": "ixdB0K49Z2P6",
        "outputId": "5e870415-e65f-4017-f5d2-f5b62d7d7cf5"
      },
      "execution_count": null,
      "outputs": [
        {
          "output_type": "stream",
          "name": "stdout",
          "text": [
            " Epoch 0 | Train/Valid loss: 0.518 / 30.293 | Train/Valid accuracy: 0.738 / 0.646\n",
            " Epoch 1 | Train/Valid loss: 0.519 / 30.293 | Train/Valid accuracy: 0.738 / 0.646\n",
            " Epoch 2 | Train/Valid loss: 0.518 / 30.293 | Train/Valid accuracy: 0.738 / 0.646\n",
            " Epoch 3 | Train/Valid loss: 0.519 / 30.293 | Train/Valid accuracy: 0.738 / 0.646\n",
            " Epoch 4 | Train/Valid loss: 0.518 / 30.293 | Train/Valid accuracy: 0.738 / 0.646\n",
            " Epoch 5 | Train/Valid loss: 0.519 / 30.293 | Train/Valid accuracy: 0.738 / 0.646\n",
            " Epoch 6 | Train/Valid loss: 0.519 / 30.294 | Train/Valid accuracy: 0.738 / 0.646\n",
            " Epoch 7 | Train/Valid loss: 0.518 / 30.293 | Train/Valid accuracy: 0.738 / 0.646\n",
            " Epoch 8 | Train/Valid loss: 0.519 / 30.294 | Train/Valid accuracy: 0.738 / 0.646\n",
            " Epoch 9 | Train/Valid loss: 0.519 / 30.293 | Train/Valid accuracy: 0.738 / 0.646\n",
            " Epoch 10 | Train/Valid loss: 0.519 / 30.293 | Train/Valid accuracy: 0.738 / 0.646\n",
            " Epoch 11 | Train/Valid loss: 0.519 / 30.294 | Train/Valid accuracy: 0.738 / 0.646\n",
            " Epoch 12 | Train/Valid loss: 0.518 / 30.293 | Train/Valid accuracy: 0.738 / 0.646\n",
            " Epoch 13 | Train/Valid loss: 0.518 / 30.293 | Train/Valid accuracy: 0.738 / 0.646\n",
            " Epoch 14 | Train/Valid loss: 0.518 / 30.293 | Train/Valid accuracy: 0.738 / 0.646\n",
            " Epoch 15 | Train/Valid loss: 0.519 / 30.293 | Train/Valid accuracy: 0.738 / 0.646\n",
            " Epoch 16 | Train/Valid loss: 0.518 / 30.293 | Train/Valid accuracy: 0.738 / 0.646\n",
            " Epoch 17 | Train/Valid loss: 0.518 / 30.293 | Train/Valid accuracy: 0.738 / 0.646\n",
            " Epoch 18 | Train/Valid loss: 0.518 / 30.293 | Train/Valid accuracy: 0.738 / 0.646\n",
            " Epoch 19 | Train/Valid loss: 0.519 / 30.294 | Train/Valid accuracy: 0.738 / 0.646\n",
            " Epoch 20 | Train/Valid loss: 0.519 / 30.293 | Train/Valid accuracy: 0.738 / 0.646\n",
            " Epoch 21 | Train/Valid loss: 0.518 / 30.293 | Train/Valid accuracy: 0.738 / 0.646\n",
            " Epoch 22 | Train/Valid loss: 0.518 / 30.293 | Train/Valid accuracy: 0.738 / 0.646\n",
            " Epoch 23 | Train/Valid loss: 0.519 / 30.294 | Train/Valid accuracy: 0.738 / 0.646\n",
            " Epoch 24 | Train/Valid loss: 0.519 / 30.294 | Train/Valid accuracy: 0.738 / 0.646\n",
            " Epoch 25 | Train/Valid loss: 0.518 / 30.294 | Train/Valid accuracy: 0.738 / 0.646\n",
            " Epoch 26 | Train/Valid loss: 0.519 / 30.293 | Train/Valid accuracy: 0.738 / 0.646\n",
            " Epoch 27 | Train/Valid loss: 0.518 / 30.293 | Train/Valid accuracy: 0.738 / 0.646\n",
            " Epoch 28 | Train/Valid loss: 0.518 / 30.293 | Train/Valid accuracy: 0.738 / 0.646\n",
            " Epoch 29 | Train/Valid loss: 0.518 / 30.293 | Train/Valid accuracy: 0.738 / 0.646\n",
            " Epoch 30 | Train/Valid loss: 0.518 / 30.293 | Train/Valid accuracy: 0.738 / 0.646\n",
            " Epoch 31 | Train/Valid loss: 0.518 / 30.293 | Train/Valid accuracy: 0.738 / 0.646\n",
            " Epoch 32 | Train/Valid loss: 0.519 / 30.294 | Train/Valid accuracy: 0.738 / 0.646\n",
            " Epoch 33 | Train/Valid loss: 0.519 / 30.293 | Train/Valid accuracy: 0.738 / 0.646\n",
            " Epoch 34 | Train/Valid loss: 0.518 / 30.293 | Train/Valid accuracy: 0.738 / 0.646\n",
            " Epoch 35 | Train/Valid loss: 0.518 / 30.293 | Train/Valid accuracy: 0.738 / 0.646\n",
            " Epoch 36 | Train/Valid loss: 0.518 / 30.293 | Train/Valid accuracy: 0.738 / 0.646\n",
            " Epoch 37 | Train/Valid loss: 0.518 / 30.294 | Train/Valid accuracy: 0.738 / 0.646\n",
            " Epoch 38 | Train/Valid loss: 0.519 / 30.293 | Train/Valid accuracy: 0.738 / 0.646\n",
            " Epoch 39 | Train/Valid loss: 0.518 / 30.293 | Train/Valid accuracy: 0.738 / 0.646\n",
            " Epoch 40 | Train/Valid loss: 0.519 / 30.294 | Train/Valid accuracy: 0.738 / 0.646\n",
            " Epoch 41 | Train/Valid loss: 0.519 / 30.293 | Train/Valid accuracy: 0.738 / 0.646\n",
            " Epoch 42 | Train/Valid loss: 0.519 / 30.294 | Train/Valid accuracy: 0.738 / 0.646\n",
            " Epoch 43 | Train/Valid loss: 0.519 / 30.293 | Train/Valid accuracy: 0.738 / 0.646\n",
            " Epoch 44 | Train/Valid loss: 0.519 / 30.293 | Train/Valid accuracy: 0.738 / 0.646\n",
            " Epoch 45 | Train/Valid loss: 0.518 / 30.293 | Train/Valid accuracy: 0.738 / 0.646\n",
            " Epoch 46 | Train/Valid loss: 0.519 / 30.294 | Train/Valid accuracy: 0.738 / 0.646\n",
            " Epoch 47 | Train/Valid loss: 0.519 / 30.294 | Train/Valid accuracy: 0.738 / 0.646\n",
            " Epoch 48 | Train/Valid loss: 0.519 / 30.294 | Train/Valid accuracy: 0.738 / 0.646\n",
            " Epoch 49 | Train/Valid loss: 0.519 / 30.293 | Train/Valid accuracy: 0.738 / 0.646\n",
            " Epoch 50 | Train/Valid loss: 0.518 / 30.294 | Train/Valid accuracy: 0.738 / 0.646\n",
            " Epoch 51 | Train/Valid loss: 0.518 / 30.293 | Train/Valid accuracy: 0.738 / 0.646\n",
            " Epoch 52 | Train/Valid loss: 0.518 / 30.294 | Train/Valid accuracy: 0.738 / 0.646\n",
            " Epoch 53 | Train/Valid loss: 0.519 / 30.294 | Train/Valid accuracy: 0.738 / 0.646\n",
            " Epoch 54 | Train/Valid loss: 0.518 / 30.294 | Train/Valid accuracy: 0.738 / 0.646\n",
            " Epoch 55 | Train/Valid loss: 0.518 / 30.294 | Train/Valid accuracy: 0.738 / 0.646\n",
            " Epoch 56 | Train/Valid loss: 0.519 / 30.293 | Train/Valid accuracy: 0.738 / 0.646\n",
            " Epoch 57 | Train/Valid loss: 0.519 / 30.294 | Train/Valid accuracy: 0.738 / 0.646\n",
            " Epoch 58 | Train/Valid loss: 0.518 / 30.294 | Train/Valid accuracy: 0.738 / 0.646\n",
            " Epoch 59 | Train/Valid loss: 0.519 / 30.294 | Train/Valid accuracy: 0.738 / 0.646\n",
            " Epoch 60 | Train/Valid loss: 0.518 / 30.293 | Train/Valid accuracy: 0.738 / 0.646\n",
            " Epoch 61 | Train/Valid loss: 0.518 / 30.293 | Train/Valid accuracy: 0.738 / 0.646\n",
            " Epoch 62 | Train/Valid loss: 0.518 / 30.293 | Train/Valid accuracy: 0.738 / 0.646\n",
            " Epoch 63 | Train/Valid loss: 0.518 / 30.293 | Train/Valid accuracy: 0.738 / 0.646\n",
            " Epoch 64 | Train/Valid loss: 0.519 / 30.293 | Train/Valid accuracy: 0.738 / 0.646\n",
            " Epoch 65 | Train/Valid loss: 0.519 / 30.293 | Train/Valid accuracy: 0.738 / 0.646\n",
            " Epoch 66 | Train/Valid loss: 0.519 / 30.294 | Train/Valid accuracy: 0.738 / 0.646\n",
            " Epoch 67 | Train/Valid loss: 0.518 / 30.294 | Train/Valid accuracy: 0.738 / 0.646\n",
            " Epoch 68 | Train/Valid loss: 0.518 / 30.293 | Train/Valid accuracy: 0.738 / 0.646\n",
            " Epoch 69 | Train/Valid loss: 0.519 / 30.294 | Train/Valid accuracy: 0.738 / 0.646\n",
            " Epoch 70 | Train/Valid loss: 0.518 / 30.294 | Train/Valid accuracy: 0.738 / 0.646\n",
            " Epoch 71 | Train/Valid loss: 0.519 / 30.293 | Train/Valid accuracy: 0.738 / 0.646\n",
            " Epoch 72 | Train/Valid loss: 0.518 / 30.293 | Train/Valid accuracy: 0.738 / 0.646\n",
            " Epoch 73 | Train/Valid loss: 0.518 / 30.293 | Train/Valid accuracy: 0.738 / 0.646\n",
            " Epoch 74 | Train/Valid loss: 0.518 / 30.294 | Train/Valid accuracy: 0.738 / 0.646\n",
            " Epoch 75 | Train/Valid loss: 0.518 / 30.293 | Train/Valid accuracy: 0.738 / 0.646\n",
            " Epoch 76 | Train/Valid loss: 0.518 / 30.293 | Train/Valid accuracy: 0.738 / 0.646\n",
            " Epoch 77 | Train/Valid loss: 0.518 / 30.294 | Train/Valid accuracy: 0.738 / 0.646\n",
            " Epoch 78 | Train/Valid loss: 0.519 / 30.294 | Train/Valid accuracy: 0.738 / 0.646\n",
            " Epoch 79 | Train/Valid loss: 0.519 / 30.294 | Train/Valid accuracy: 0.738 / 0.646\n",
            " Epoch 80 | Train/Valid loss: 0.518 / 30.294 | Train/Valid accuracy: 0.738 / 0.646\n",
            " Epoch 81 | Train/Valid loss: 0.518 / 30.294 | Train/Valid accuracy: 0.738 / 0.646\n",
            " Epoch 82 | Train/Valid loss: 0.518 / 30.294 | Train/Valid accuracy: 0.738 / 0.646\n",
            " Epoch 83 | Train/Valid loss: 0.519 / 30.293 | Train/Valid accuracy: 0.738 / 0.646\n",
            " Epoch 84 | Train/Valid loss: 0.518 / 30.294 | Train/Valid accuracy: 0.738 / 0.646\n",
            " Epoch 85 | Train/Valid loss: 0.519 / 30.294 | Train/Valid accuracy: 0.738 / 0.646\n",
            " Epoch 86 | Train/Valid loss: 0.518 / 30.294 | Train/Valid accuracy: 0.738 / 0.646\n",
            " Epoch 87 | Train/Valid loss: 0.518 / 30.294 | Train/Valid accuracy: 0.738 / 0.646\n",
            " Epoch 88 | Train/Valid loss: 0.519 / 30.293 | Train/Valid accuracy: 0.738 / 0.646\n",
            " Epoch 89 | Train/Valid loss: 0.519 / 30.294 | Train/Valid accuracy: 0.738 / 0.646\n",
            " Epoch 90 | Train/Valid loss: 0.519 / 30.293 | Train/Valid accuracy: 0.738 / 0.646\n",
            " Epoch 91 | Train/Valid loss: 0.518 / 30.294 | Train/Valid accuracy: 0.738 / 0.646\n",
            " Epoch 92 | Train/Valid loss: 0.518 / 30.294 | Train/Valid accuracy: 0.738 / 0.646\n",
            " Epoch 93 | Train/Valid loss: 0.518 / 30.294 | Train/Valid accuracy: 0.738 / 0.646\n",
            " Epoch 94 | Train/Valid loss: 0.518 / 30.294 | Train/Valid accuracy: 0.738 / 0.646\n",
            " Epoch 95 | Train/Valid loss: 0.519 / 30.293 | Train/Valid accuracy: 0.738 / 0.646\n",
            " Epoch 96 | Train/Valid loss: 0.518 / 30.294 | Train/Valid accuracy: 0.738 / 0.646\n",
            " Epoch 97 | Train/Valid loss: 0.518 / 30.294 | Train/Valid accuracy: 0.738 / 0.646\n",
            " Epoch 98 | Train/Valid loss: 0.518 / 30.294 | Train/Valid accuracy: 0.738 / 0.646\n",
            " Epoch 99 | Train/Valid loss: 0.518 / 30.294 | Train/Valid accuracy: 0.738 / 0.646\n"
          ]
        }
      ]
    }
  ]
}