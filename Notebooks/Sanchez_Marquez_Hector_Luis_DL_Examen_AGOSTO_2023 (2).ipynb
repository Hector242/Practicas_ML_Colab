{
  "nbformat": 4,
  "nbformat_minor": 0,
  "metadata": {
    "colab": {
      "provenance": [],
      "gpuType": "T4"
    },
    "kernelspec": {
      "name": "python3",
      "display_name": "Python 3"
    },
    "accelerator": "GPU"
  },
  "cells": [
    {
      "cell_type": "markdown",
      "metadata": {
        "id": "ftXnmgdtOuZs"
      },
      "source": [
        "# Universidad de Buenos Aires\n",
        "# Deep Learning - Examen\n",
        "# Agosto 2023\n",
        "\n"
      ]
    },
    {
      "cell_type": "markdown",
      "source": [
        "El examen comienza al momento de recibir este correo y la ventana de entrega estará abierta hasta el domingo 27 de Agosto a las 20:00hs. Toda comunicación con otros alumnos respecto del examen y la resolución de los ejercicios, queda estrictamente prohibida. Los exámenes serán comparados desde el punto de vista de la redacción, de los resultados y del código para determinar que el trabajo fue 100% individual y único. El examen es a libro abierto, pudiendo utilizar los contenidos vistos en clase y otra bibliografía. Todas las soluciones deben ser originales y si se toman ideas de fuentes externas deben ser correctamente citas incluyendo el correspondiente link o página de libro.\n",
        "\n",
        "El formato de entrega debe ser un “link a un colab” (compartir a las siguientes direcciones: maxit1992@gmail.com y lelectronfou@gmail.com ) o un “link a un notebook en un github público”.\n",
        "\n",
        "**Consideraciones a tener en cuenta:**\n",
        "- Se entregará 1 solo colab para la totalidad del examen.\n",
        "- Renombrar el archivo de la siguiente manera: **APELLIDO-NOMBRE-DL-Examen AGOSTO 2023.ipynb**\n",
        "- Los códigos deben poder ejecutarse.\n",
        "- Los resultados, cómo el código y las explicaciones deben quedar guardados y visualizables en el correspondiente link.\n",
        "- Prestar atención a las consignas, responder las preguntas cuando corresponda.\n",
        "\n"
      ],
      "metadata": {
        "id": "aEx1gM2sG4OP"
      }
    },
    {
      "cell_type": "markdown",
      "metadata": {
        "id": "nlfSxrehmuYW"
      },
      "source": [
        "## Ejercicio 1\n",
        "\n"
      ]
    },
    {
      "cell_type": "markdown",
      "source": [
        "Dada la siguiente función:\n",
        "\n",
        "$$\n",
        "f(x,y) = (1.5 - x + xy)^2 + (2.25-x+xy^2)^2 + (2.625 -x + xy^3)^2\n",
        "$$\n",
        "\n",
        "\n",
        "Encontrar el punto donde la función es mínima y el valor de dicho mínimo:\n",
        "\n",
        "a. Utilizando SGD y cálculo de gradiente con regla de la cadena.\n",
        "\n",
        "b. Utilizando SGD y pytorch."
      ],
      "metadata": {
        "id": "AwCiDRncfsaI"
      }
    },
    {
      "cell_type": "markdown",
      "source": [
        "Resolución:\n",
        "\n",
        "a. Hallamos la gradiente como\n",
        "$$\n",
        " \\nabla f(x,y) = (\\frac{\\partial f}{\\partial x}, \\frac{\\partial f}{\\partial y})\n",
        "$$\n",
        "\n",
        "Calculamos la derivada parciale con respecto a X\n",
        "$$\n",
        "\\frac{\\partial f}{\\partial x} = 2(1.5 - x + xy)\\frac{\\partial }{\\partial x}(1.5 - x + xy) + 2(2.25 - x + xy^2)\\frac{\\partial }{\\partial x}(2.25 - x + xy^2) + 2(2.625 - x + xy^3)\\frac{\\partial }{\\partial x}(2.625 - x + xy^3)\n",
        "$$\n",
        "\n",
        "Entonces\n",
        "$$\n",
        "\\frac{\\partial f}{\\partial x} = 2(1.5 - x + xy)(y-1) + 2(2.25 - x + xy^2)(y^2 -1) + 2(2.625 - x + xy^3)(y^3 - 1)\n",
        "$$\n",
        "\n",
        "Calculamos la derivada parcial con respecto a Y\n",
        "\n",
        "$$\n",
        "\\frac{\\partial f}{\\partial y} = 2(1.5 - x + xy)\\frac{\\partial }{\\partial y}(1.5 - x + xy) + 2(2.25 - x + xy^2)\\frac{\\partial }{\\partial y}(2.25 - x + xy^2) + 2(2.625 - x + xy^3)\\frac{\\partial }{\\partial y}(2.625 - x + xy^3)\n",
        "$$\n",
        "\n",
        "Quedando como\n",
        "\n",
        "$$\n",
        "\\frac{\\partial f}{\\partial y} = 2(1.5 - x + xy)(x) + 2(2.25 - x + xy^2)(2xy) + 2(2.625 - x + xy^3)(3xy^2)\n",
        "$$"
      ],
      "metadata": {
        "id": "nciglj_Bgpjc"
      }
    },
    {
      "cell_type": "code",
      "source": [
        "from numpy.random.mtrand import seed\n",
        "# Utilizando SGD y cálculo de gradiente con regla de la cadena\n",
        "\n",
        "# Importamos librerias\n",
        "import numpy as np\n",
        "\n",
        "# Primero configuramos parametros iniciales\n",
        "lr = 0.01\n",
        "n_epoch = 100\n",
        "x = np.random.rand() # numero random entre 0 y 1\n",
        "y = np.random.rand() # numero random entre 0 y 1\n",
        "print(f\"Inicializamos con X = {x} Y = {y}\\n\")\n",
        "\n",
        "# Creamos Loop por epocas\n",
        "for epoch in range(n_epoch):\n",
        "  # Calculamos gradiente\n",
        "  grad_x = 2*(1.5 - x + x*y)*(y-1) + 2*(2.25 - x + x*y**2)*(y**2 - 1) + 2*(2.625 - x + x*y**3)*(y**3 -1)\n",
        "  grad_y = 2*(1.5 - x + x*y)*(x) + 2*(2.25 - x + x*y**2)*(2*x*y) + 2*(2.625 - x + x*y**3)*(3*x*y**2)\n",
        "\n",
        "  print(f\"Gradiente x: {grad_x} y: {grad_y} para la epoca: {epoch}\")\n",
        "\n",
        "  # Actualizamos parametros\n",
        "  x -= (lr * grad_x) #Nos movemos en direccion al gradiente negativo para encontrar el minimo\n",
        "  y -= (lr * grad_y) #Nos movemos en direccion al gradiente negativo para encontrar el minimo\n",
        "\n",
        "# Calculamos minimo de la funcion\n",
        "f_min = (1.5 - x + x*y)**2 + (2.25 - x + x*y**2)**2 + (2.625 - x + x*y**3)**2\n",
        "print(\"---\")\n",
        "print(f\"El punto donde la función es mínima: ({x},{y})\")\n",
        "print(\"---\")\n",
        "print(f\"El valor del mínimo: {f_min}\")"
      ],
      "metadata": {
        "colab": {
          "base_uri": "https://localhost:8080/"
        },
        "id": "9JukE-qqNwKQ",
        "outputId": "75e6f8fc-95ea-4614-f7cb-0a5d6ad31204"
      },
      "execution_count": null,
      "outputs": [
        {
          "output_type": "stream",
          "name": "stdout",
          "text": [
            "Inicializamos con X = 0.9037979652275434 Y = 0.3344435883137056\n",
            "\n",
            "Gradiente x: -7.145507205793557 y: 4.438471057519891 para la epoca: 0\n",
            "Gradiente x: -6.897439944172297 y: 3.9344405745565525 para la epoca: 1\n",
            "Gradiente x: -6.602437823193087 y: 3.459091245510516 para la epoca: 2\n",
            "Gradiente x: -6.280213143073555 y: 3.016771954481279 para la epoca: 3\n",
            "Gradiente x: -5.94538399260226 y: 2.6091130507300884 para la epoca: 4\n",
            "Gradiente x: -5.6085311793931005 y: 2.2359385213876677 para la epoca: 5\n",
            "Gradiente x: -5.277135679668689 y: 1.8960053184521333 para la epoca: 6\n",
            "Gradiente x: -4.956344127783643 y: 1.587523547679936 para la epoca: 7\n",
            "Gradiente x: -4.649564941814399 y: 1.3084862254311371 para la epoca: 8\n",
            "Gradiente x: -4.358920498347187 y: 1.0568581668368977 para la epoca: 9\n",
            "Gradiente x: -4.0855858634037325 y: 0.8306710344316052 para la epoca: 10\n",
            "Gradiente x: -3.8300417574228094 y: 0.6280613677632669 para la epoca: 11\n",
            "Gradiente x: -3.5922640388088567 y: 0.4472774670519003 para la epoca: 12\n",
            "Gradiente x: -3.371866530259781 y: 0.28667183965321763 para la epoca: 13\n",
            "Gradiente x: -3.1682094307890676 y: 0.1446890934188106 para la epoca: 14\n",
            "Gradiente x: -2.9804820565215877 y: 0.01985446926501559 para la epoca: 15\n",
            "Gradiente x: -2.8077661277656314 y: -0.08923479042499002 para la epoca: 16\n",
            "Gradiente x: -2.649084063721948 y: -0.18391479248534162 para la epoca: 17\n",
            "Gradiente x: -2.5034355516765636 y: -0.2654575155010645 para la epoca: 18\n",
            "Gradiente x: -2.3698248502886714 y: -0.33507130945248614 para la epoca: 19\n",
            "Gradiente x: -2.247280734716086 y: -0.3939002126541938 para la epoca: 20\n",
            "Gradiente x: -2.134870602202337 y: -0.4430228010176872 para la epoca: 21\n",
            "Gradiente x: -2.031709969396598 y: -0.4834511003051261 para la epoca: 22\n",
            "Gradiente x: -1.9369683692915136 y: -0.5161299068661918 para la epoca: 23\n",
            "Gradiente x: -1.8498724741536052 y: -0.541936705210461 para la epoca: 24\n",
            "Gradiente x: -1.7697071189483953 y: -0.5616822516716085 para la epoca: 25\n",
            "Gradiente x: -1.695814770973734 y: -0.5761118116293997 para la epoca: 26\n",
            "Gradiente x: -1.6275938821172917 y: -0.5859069873874838 para la epoca: 27\n",
            "Gradiente x: -1.5644964680957338 y: -0.5916880473456392 para la epoca: 28\n",
            "Gradiente x: -1.5060251824410584 y: -0.5940166573611665 para la epoca: 29\n",
            "Gradiente x: -1.4517300901958419 y: -0.593398916185541 para la epoca: 30\n",
            "Gradiente x: -1.4012052955630547 y: -0.5902886040687583 para la epoca: 31\n",
            "Gradiente x: -1.354085537417845 y: -0.5850905638846534 para la epoca: 32\n",
            "Gradiente x: -1.310042834968626 y: -0.5781641453986497 para la epoca: 33\n",
            "Gradiente x: -1.2687832414069313 y: -0.5698266543599009 para la epoca: 34\n",
            "Gradiente x: -1.2300437447237997 y: -0.5603567583161626 para la epoca: 35\n",
            "Gradiente x: -1.193589340794486 y: -0.5499978101585268 para la epoca: 36\n",
            "Gradiente x: -1.1592102933341755 y: -0.5389610583628367 para la epoca: 37\n",
            "Gradiente x: -1.1267195875799056 y: -0.5274287197795454 para la epoca: 38\n",
            "Gradiente x: -1.0959505788985728 y: -0.5155568967572326 para la epoca: 39\n",
            "Gradiente x: -1.0667548334418062 y: -0.5034783254985752 para la epoca: 40\n",
            "Gradiente x: -1.0390001550695986 y: -0.49130494695995736 para la epoca: 41\n",
            "Gradiente x: -1.0125687907467154 y: -0.4791302954147484 para la epoca: 42\n",
            "Gradiente x: -0.9873558052557978 y: -0.46703170308105846 para la epoca: 43\n",
            "Gradiente x: -0.963267615204352 y: -0.4550723220233538 para la epoca: 44\n",
            "Gradiente x: -0.9402206718083492 y: -0.4433029669155256 para la epoca: 45\n",
            "Gradiente x: -0.9181402817241708 y: -0.4317637842327409 para la epoca: 46\n",
            "Gradiente x: -0.8969595552072395 y: -0.4204857550475661 para la epoca: 47\n",
            "Gradiente x: -0.8766184710502056 y: -0.4094920398673871 para la epoca: 48\n",
            "Gradiente x: -0.8570630480578927 y: -0.3987991748903109 para la epoca: 49\n",
            "Gradiente x: -0.8382446132197886 y: -0.38841812970255657 para la epoca: 50\n",
            "Gradiente x: -0.8201191572191899 y: -0.378355236820604 para la epoca: 51\n",
            "Gradiente x: -0.8026467684501919 y: -0.3686130036269081 para la epoca: 52\n",
            "Gradiente x: -0.7857911372821547 y: -0.359190817190527 para la epoca: 53\n",
            "Gradiente x: -0.7695191229007915 y: -0.35008555223583543 para la epoca: 54\n",
            "Gradiente x: -0.753800375652749 y: -0.341292092155137 para la epoca: 55\n",
            "Gradiente x: -0.7386070084153883 y: -0.3328037724847758 para la epoca: 56\n",
            "Gradiente x: -0.7239133110963295 y: -0.3246127557072608 para la epoca: 57\n",
            "Gradiente x: -0.7096955029305643 y: -0.31671034562966655 para la epoca: 58\n",
            "Gradiente x: -0.6959315177807657 y: -0.30908724894347306 para la epoca: 59\n",
            "Gradiente x: -0.6826008181543307 y: -0.3017337909125703 para la epoca: 60\n",
            "Gradiente x: -0.6696842341255811 y: -0.2946400914804358 para la epoca: 61\n",
            "Gradiente x: -0.6571638237914721 y: -0.2877962074476954 para la epoca: 62\n",
            "Gradiente x: -0.6450227522932512 y: -0.28119224575741125 para la epoca: 63\n",
            "Gradiente x: -0.6332451868046969 y: -0.2748184523452368 para la epoca: 64\n",
            "Gradiente x: -0.6218162052205529 y: -0.26866528047012467 para la epoca: 65\n",
            "Gradiente x: -0.6107217165777996 y: -0.26272344194185415 para la epoca: 66\n",
            "Gradiente x: -0.5999483915091434 y: -0.2569839442058054 para la epoca: 67\n",
            "Gradiente x: -0.5894836012645466 y: -0.25143811583329373 para la epoca: 68\n",
            "Gradiente x: -0.5793153640449427 y: -0.24607762259655525 para la epoca: 69\n",
            "Gradiente x: -0.5694322975747719 y: -0.2408944759793713 para la epoca: 70\n",
            "Gradiente x: -0.5598235769990171 y: -0.2358810356850336 para la epoca: 71\n",
            "Gradiente x: -0.5504788973282075 y: -0.2310300074502729 para la epoca: 72\n",
            "Gradiente x: -0.5413884397737501 y: -0.226334437253833 para la epoca: 73\n",
            "Gradiente x: -0.532542841417945 y: -0.22178770281868992 para la epoca: 74\n",
            "Gradiente x: -0.5239331677502529 y: -0.21738350314426907 para la epoca: 75\n",
            "Gradiente x: -0.5155508876754958 y: -0.21311584666669614 para la epoca: 76\n",
            "Gradiente x: -0.5073878506625487 y: -0.2089790385280283 para la epoca: 77\n",
            "Gradiente x: -0.49943626575506395 y: -0.20496766733717037 para la epoca: 78\n",
            "Gradiente x: -0.49168868221037826 y: -0.20107659172315656 para la epoca: 79\n",
            "Gradiente x: -0.4841379715700702 y: -0.1973009269135948 para la epoca: 80\n",
            "Gradiente x: -0.4767773109968825 y: -0.19363603151513875 para la epoca: 81\n",
            "Gradiente x: -0.46960016773864344 y: -0.19007749462735762 para la epoca: 82\n",
            "Gradiente x: -0.4626002846014665 y: -0.18662112338438525 para la epoca: 83\n",
            "Gradiente x: -0.45577166633234034 y: -0.18326293098921798 para la epoca: 84\n",
            "Gradiente x: -0.44910856682605477 y: -0.17999912528201 para la epoca: 85\n",
            "Gradiente x: -0.44260547708363146 y: -0.17682609786525205 para la epoca: 86\n",
            "Gradiente x: -0.43625711385952476 y: -0.17374041379450533 para la epoca: 87\n",
            "Gradiente x: -0.43005840894320285 y: -0.1707388018324515 para la epoca: 88\n",
            "Gradiente x: -0.42400449902762055 y: -0.1678181452559217 para la epoca: 89\n",
            "Gradiente x: -0.4180907161228068 y: -0.1649754731996802 para la epoca: 90\n",
            "Gradiente x: -0.41231257847750324 y: -0.16220795251666442 para la epoca: 91\n",
            "Gradiente x: -0.4066657819757832 y: -0.15951288013159554 para la epoca: 92\n",
            "Gradiente x: -0.40114619197884105 y: -0.15688767586334057 para la epoca: 93\n",
            "Gradiente x: -0.39574983558496546 y: -0.1543298756905513 para la epoca: 94\n",
            "Gradiente x: -0.39047289428304566 y: -0.1518371254350126 para la epoca: 95\n",
            "Gradiente x: -0.38531169697698286 y: -0.14940717483746702 para la epoca: 96\n",
            "Gradiente x: -0.3802627133601302 y: -0.14703787200133445 para la epoca: 97\n",
            "Gradiente x: -0.37532254762038453 y: -0.14472715818069887 para la epoca: 98\n",
            "Gradiente x: -0.37048793245790623 y: -0.14247306288996453 para la epoca: 99\n",
            "---\n",
            "El punto donde la función es mínima: (2.4765916254573987,0.33564996023996896)\n",
            "---\n",
            "El valor del mínimo: 0.08246013101973218\n"
          ]
        }
      ]
    },
    {
      "cell_type": "markdown",
      "source": [
        "**Analisis**\n",
        "\n",
        "Como se puede observar el minimo de la función f(x,y) se halló a traves de SGD, donde se configuró un valor inicial entre 0 y 1 de nuestros parametros x e y. Posteriormente, se calculó la gradiente de la funcion f(x,y) y se añadio un learning rate (lr) para luego ir actualizando los parametros iniciales de x e y a traves de la ecuación.\n",
        "\n",
        "$$\n",
        "x = x - (lr*\\nabla fx)\n",
        "$$\n",
        "\n",
        "$$\n",
        "y = y - (lr*\\nabla fy)\n",
        "$$\n",
        "\n",
        "De este modo, para cada epoca se busca el sentido o dirección hacia la gradiente negativa y se logra obtener un minimo de la función. Cabe destacar que hay veces donde realmente encontramos un minimo local en vez del minimo global lo cual es un problema del SGD.\n",
        "\n",
        "Ahora se hará lo mismo, pero usando el framework de Pytorch"
      ],
      "metadata": {
        "id": "Nlv1VywuFFW4"
      }
    },
    {
      "cell_type": "code",
      "source": [
        "# Utilizando SGD y pytorch.\n",
        "\n",
        "# Importamos librerias\n",
        "import torch\n",
        "\n",
        "# Primero configuramos parametros iniciales\n",
        "lr = 0.01\n",
        "n_epoch = 100\n",
        "x_input = torch.rand(1, requires_grad=True) # numero random entre 0 y 1\n",
        "y_input = torch.rand(1, requires_grad=True) # numero random entre 0 y 1\n",
        "print(f\"Inicializamos con X = {x_input} Y = {y_input}\")\n",
        "\n",
        "# Configuramos el optimizador de SGD\n",
        "optimizer = torch.optim.SGD(params=[x_input,y_input], lr=lr)\n",
        "\n",
        "for epoch in range(n_epoch):\n",
        "  f = (1.5 - x_input + x_input*y_input)**2 + (2.25 - x_input + x_input*y_input**2)**2 + (2.625 - x_input + x_input*y_input**3)**2\n",
        "  # limpio optimizer\n",
        "  optimizer.zero_grad()\n",
        "  # hacemos el calculo de gradientes\n",
        "  f.backward()\n",
        "  # Actualizamos\n",
        "  optimizer.step()\n",
        "\n",
        "x_output = x_input.item()\n",
        "y_output = y_input.item()\n",
        "v_min = f.item()\n",
        "print(\"---\")\n",
        "print(f\"El punto donde la función es mínima: ({x_output},{y_output})\")\n",
        "print(\"---\")\n",
        "print(f\"El valor del mínimo: {v_min}\")"
      ],
      "metadata": {
        "colab": {
          "base_uri": "https://localhost:8080/"
        },
        "id": "Wm0hIPRxMR4m",
        "outputId": "6bc96204-9ea2-4b49-b292-cc2ba89f54cf"
      },
      "execution_count": null,
      "outputs": [
        {
          "output_type": "stream",
          "name": "stdout",
          "text": [
            "Inicializamos con X = tensor([0.9294], requires_grad=True) Y = tensor([0.6837], requires_grad=True)\n",
            "---\n",
            "El punto donde la función es mínima: (2.4802143573760986,0.33703941106796265)\n",
            "---\n",
            "El valor del mínimo: 0.08247494697570801\n"
          ]
        }
      ]
    },
    {
      "cell_type": "markdown",
      "source": [
        "## Ejercicio 2"
      ],
      "metadata": {
        "id": "4CMta3Dj_Mjq"
      }
    },
    {
      "cell_type": "markdown",
      "metadata": {
        "id": "C_hXG5W6KMBx"
      },
      "source": [
        "Si tiene una imagen a procesar de 1024x720x3 y desea aplicar en cascada, 2 capas de convolución, seguido por una capa de activación y una de pooling,  con las siguientes características:\n",
        "\n",
        "*Conv1:*\n",
        "* tamaño kernel = 7x7\n",
        "* padding = 2\n",
        "* stride = 1\n",
        "* número de kernel = 16\n",
        "\n",
        "*Conv2:*\n",
        "* tamaño kernel = 5x5\n",
        "* padding = 0\n",
        "* stride = 1\n",
        "* número de kernel = 32\n",
        "\n",
        "*activación*\n",
        "* Tanh()\n",
        "\n",
        "*pooling*\n",
        "* tamaño pooling = 5x5\n",
        "* padding pooling = 0\n",
        "* stride pooling = 5\n",
        "\n",
        "a) ¿Cual es el tamaño final de la salida y cuantos canales tiene?\n",
        "\n",
        "b) Si tiene que conectar esa salida a una `fully_connected` para clasificar 3 clases ¿que tamaño debe tener?\n",
        "\n",
        "\n",
        "\n",
        "\n"
      ]
    },
    {
      "cell_type": "code",
      "source": [
        "# Importamos librerias\n",
        "import torch\n",
        "import numpy as np\n",
        "\n",
        "# imagen de 1024x720x3\n",
        "img = torch.rand(1, 3, 1024, 720)\n",
        "\n",
        "# Definimos arquitectura\n",
        "conv1 = torch.nn.Conv2d(in_channels=3, out_channels=16, kernel_size=7, padding=2, stride=1)\n",
        "conv2 = torch.nn.Conv2d(in_channels=16, out_channels=32, kernel_size=5, padding=0, stride=1)\n",
        "tanh = torch.nn.Tanh()\n",
        "pooling = torch.nn.MaxPool2d(kernel_size=5, padding=0, stride=5)\n",
        "\n",
        "# forward\n",
        "x_in = conv1(img)\n",
        "x_in = conv2(x_in)\n",
        "x_in = tanh(x_in)\n",
        "x_in = pooling(x_in)\n",
        "\n",
        "print(f\"Tamaño de imagen de entrada: \\n{img.shape}\")\n",
        "print(\"---\")\n",
        "print(f\"Tamaño de imagen de salida: \\n{x_in.shape}\")\n",
        "print(\"---\")\n",
        "print(f\"Numero de canales imagen de salida: \\n{x_in.shape[1]}\")"
      ],
      "metadata": {
        "colab": {
          "base_uri": "https://localhost:8080/"
        },
        "id": "SiQ9LbxPZ85l",
        "outputId": "eb029661-9fb1-478f-f59e-4bed7b68a503"
      },
      "execution_count": null,
      "outputs": [
        {
          "output_type": "stream",
          "name": "stdout",
          "text": [
            "Tamaño de imagen de entrada: \n",
            "torch.Size([1, 3, 1024, 720])\n",
            "---\n",
            "Tamaño de imagen de salida: \n",
            "torch.Size([1, 32, 203, 142])\n",
            "---\n",
            "Numero de canales imagen de salida: \n",
            "32\n"
          ]
        }
      ]
    },
    {
      "cell_type": "code",
      "source": [
        "# Si tiene que conectar esa salida a una fully_connected para clasificar 3 clases ¿que tamaño debe tener?\n",
        "n_neurons = x_in.shape[1]*x_in.shape[2]*x_in.shape[3]\n",
        "print(f\"Numero de neuronas necesarias en la fc \\n{n_neurons}\")\n",
        "\n",
        "# fully-connected para 3 clases y 922432 pixeles a la entrada\n",
        "fc = torch.nn.Linear(in_features=n_neurons, out_features=3)\n",
        "# hacemos el reshape del tensor con pytorch a 2D\n",
        "fc_output = fc(x_in.view(x_in.shape[0], -1))\n",
        "print(\"---\")\n",
        "print(f\"Salida de la fully connected: \\n{fc_output.shape}\")"
      ],
      "metadata": {
        "colab": {
          "base_uri": "https://localhost:8080/"
        },
        "id": "tRA1VqsDL83Q",
        "outputId": "1aea9d9f-38a9-4c73-8a44-c2f34d474af8"
      },
      "execution_count": null,
      "outputs": [
        {
          "output_type": "stream",
          "name": "stdout",
          "text": [
            "Numero de neuronas necesarias en la fc \n",
            "922432\n",
            "---\n",
            "Salida de la fully connected: \n",
            "torch.Size([1, 3])\n"
          ]
        }
      ]
    },
    {
      "cell_type": "markdown",
      "source": [
        "**Analisis**\n",
        "\n",
        "Si tiene que conectar esa salida a una fully_connected para clasificar 3 clases ¿que tamaño debe tener?\n",
        "\n",
        "El tamaño corresponde a la cantidad de pixeles que tengamos a la salida de nuestra CNN. Esto se debe a que nuestra NN fully connected va a esperar tener tantas neuronas a la entrada, como cantidad de pixeles tenga la imagen.\n",
        "\n",
        "En este caso, se tiene a la salida del Pooling 32(filtros) x 203 x 142. Lo que va a ser igual a 922.432 pixeles. Entonces, la cantidad de neuronas a la entrada de la fully connected será igual."
      ],
      "metadata": {
        "id": "UADpCuoDOKlT"
      }
    },
    {
      "cell_type": "markdown",
      "source": [
        "## Ejercicio 3\n",
        "\n"
      ],
      "metadata": {
        "id": "fvsqmJwx_Rb8"
      }
    },
    {
      "cell_type": "markdown",
      "metadata": {
        "id": "ABeIRvAkKLy7"
      },
      "source": [
        "\n",
        "Para la siguiente red neuronal recurrente, se pide expresar las ecuaciones \"*unfolded*\" de la salida de la misma y de sus estados ocultos, si el vector de entrada son 3 muestras secuenciadas de la variable $x(t)$.\n",
        "\n",
        "![b](https://drive.google.com/uc?export=view&id=1Fz46GTK7Oy_w5OEgwLCLfHFMr7b6-AnL)\n",
        "\n",
        "\n",
        "\n",
        "\n",
        "Ecuaciones de la RNN:\n",
        "\n",
        "$$ \\hat{y}(t) = w_{h1y} * h1(t) + w_{h2y} * h2(t) + by$$\n",
        "\n",
        "$$ h1(t) = w_{xh1} * x(t) + w_{h1h1} * h1(t-1) + w_{h2h1} * h2(t-1)+ bh1$$\n",
        "$$ h2(t) = w_{xh2} * x(t) + w_{h2h2} * h2(t-1) + w_{h1h2} * h1(t-1)+ bh2 $$"
      ]
    },
    {
      "cell_type": "markdown",
      "source": [
        "Resolucion\n",
        "--\n",
        "\n",
        "Si se tiene un vector con 3 muestras secuenciales, entonces decimos que\n",
        "$$x(t) = x(1), x(2), x(3)$$\n",
        "\n",
        "Donde x(1), x(2), x(3) puede ser cualquier numero real.\n",
        "\n",
        "**Se tiene que para x(1):**\n",
        "\n",
        "Primera capa oculta\n",
        "$$\n",
        "h1(1) = w_{xh1} * x(1) + w_{h1h1} * h1(0) + w_{h2h1} * h2(0)+ bh1\n",
        "$$\n",
        "\n",
        "Como el estado anterior h1(0) = 0 y h2(0) = 0, entonces que daría de la siguiente forma\n",
        "\n",
        "$$\n",
        "h1(1) = w_{xh1} * x(1) + bh1\n",
        "$$\n",
        "\n",
        "ahora para la segunda capa oculta\n",
        "\n",
        "$$\n",
        "h2(1) = w_{xh2} * x(1) + w_{h2h2} * h2(0) + w_{h1h2} * h1(0)+ bh2\n",
        "$$\n",
        "\n",
        "Siendo el estado anterior h1(0) = 0 y h2(0) = 0\n",
        "\n",
        "$$\n",
        "h2(1) = w_{xh2} * x(1) + bh2\n",
        "$$\n",
        "\n",
        "Por ultimo la salida quedaría\n",
        "\n",
        "$$\n",
        "\\hat{y}(1) = w_{h1y} * h1(1) + w_{h2y} * h2(1) + by\n",
        "$$\n",
        "\n",
        "$$\n",
        "\\hat{y}(1) = w_{h1y} * (w_{xh1} * x(1) + bh1) + w_{h2y} * (w_{xh2} * x(1) + bh2) + by\n",
        "$$\n",
        "\n",
        "**Para el siguiente termino x(2):**\n",
        "\n",
        "$$\n",
        "h1(2) = w_{xh1} * x(2) + w_{h1h1} * h1(1) + w_{h2h1} * h2(1)+ bh1\n",
        "$$\n",
        "\n",
        "$$\n",
        "h2(2) = w_{xh2} * x(2) + w_{h2h2} * h2(1) + w_{h1h2} * h1(1)+ bh2\n",
        "$$\n",
        "\n",
        "Donde h1(1), h2(1) contienen el valor del estado anterior por lo tanto quedaría\n",
        "\n",
        "$$\n",
        "h1(2) = w_{xh1} * x(2) + w_{h1h1} * (w_{xh1} * x(1) + bh1) + w_{h2h1} * (w_{xh2} * x(1) + bh2)+ bh1\n",
        "$$\n",
        "\n",
        "$$\n",
        "h2(2) = w_{xh2} * x(2) + w_{h2h2} * (w_{xh2} * x(1) + bh2) + w_{h1h2} * (w_{xh1} * x(1) + bh1)+ bh2\n",
        "$$\n",
        "\n",
        "Y su salida\n",
        "\n",
        "$$\n",
        "\\hat{y}(2) = w_{h1y} * h1(2) + w_{h2y} * h2(2) + by\n",
        "$$\n",
        "\n",
        "$$\n",
        "\\hat{y}(2) = w_{h1y} * [w_{xh1} * x(2) + w_{h1h1} * (w_{xh1} * x(1) + bh1) + w_{h2h1} * (w_{xh2} * x(1) + bh2)+ bh1] + w_{h2y} * [w_{xh2} * x(2) + w_{h2h2} * (w_{xh2} * x(1) + bh2) + w_{h1h2} * (w_{xh1} * x(1) + bh1)+ bh2] + by\n",
        "$$\n",
        "\n",
        "**Para el ultimo termino x(3):**\n",
        "\n",
        "$$\n",
        "h1(3) = w_{xh1} * x(3) + w_{h1h1} * h1(2) + w_{h2h1} * h2(2)+ bh1\n",
        "$$\n",
        "\n",
        "$$\n",
        "h2(3) = w_{xh2} * x(3) + w_{h2h2} * h2(2) + w_{h1h2} * h1(2)+ bh2\n",
        "$$\n",
        "\n",
        "Ahora se tendría que expandiendo la funcion con los valores de las capas ocultas del estado anterior, pero en este caso no lo incluyo porque se vuelve ilegible.\n",
        "\n",
        "Ahora para la salida se tendrá\n",
        "\n",
        "$$\n",
        "\\hat{y}(3) = w_{h1y} * h1(3) + w_{h2y} * h2(3) + by\n",
        "$$\n",
        "\n",
        "$$\n",
        "\\hat{y}(3) = w_{h1y} * [w_{xh1} * x(3) + w_{h1h1} * h1(2) + w_{h2h1} * h2(2)+ bh1] + w_{h2y} * [w_{xh2} * x(3) + w_{h2h2} * h2(2) + w_{h1h2} * h1(2)+ bh2] + by\n",
        "$$"
      ],
      "metadata": {
        "id": "uylz973TH1sT"
      }
    },
    {
      "cell_type": "markdown",
      "source": [
        "## Ejercicio 4"
      ],
      "metadata": {
        "id": "WL2PjUnT_Uvk"
      }
    },
    {
      "cell_type": "markdown",
      "metadata": {
        "id": "73yqE_Sslwif"
      },
      "source": [
        "\n",
        "\n",
        "Descargar el dataset del siguiente link: https://drive.google.com/file/d/1X8_G5BpQMi-Nnbtms2RL8lcWSxzD8ixd/view?usp=sharing. El dataset son compras de productos que diferentes clientes realizaron durante un black sales. El dataset contiene información sobre las transacciones y el objetivo es poder utilizar el dataset para crear diferentes modelos que puedan predecir cuánto un cliente está dispuesto a gastar en un producto en el futuro. Particularmente, vamos a tratar este problema como una clasificación binaria donde queremos averiguar si el cliente va a gastar mucha plata (más de 9000) o poca plata (menos de 9000).\n",
        "\n",
        "- a)\tEntrenar un modelo de deep learning que no utilice embeddings y que no emplee el `user_id` ni el `product_id`.\n",
        "- b)\tEntrenar un modelo de deep learning que utilice embeddings tanto para los productos como los usuarios. Realizar el mapeo de identificador de producto y usuarios a indices antes de separar el dataset en training, validation y testing.\n",
        "- c)\tGrafique las curvas de la loss function en función de las epochs de cada modelo y comente lo necesario.\n",
        "- d) Compare el score de cada modelo.\n",
        "\n"
      ]
    },
    {
      "cell_type": "code",
      "source": [
        "# Subimos dataset\n",
        "from google.colab import files\n",
        "\n",
        "uploaded = files.upload()\n",
        "\n",
        "for fn in uploaded.keys():\n",
        "  print('User uploaded file \"{name}\" with length {length} bytes'.format(\n",
        "      name=fn, length=len(uploaded[fn])))"
      ],
      "metadata": {
        "id": "eLQzdNeRjzym",
        "colab": {
          "base_uri": "https://localhost:8080/",
          "height": 90
        },
        "outputId": "43de7994-061f-4b7d-9a7b-d011fe8d0718"
      },
      "execution_count": null,
      "outputs": [
        {
          "output_type": "display_data",
          "data": {
            "text/plain": [
              "<IPython.core.display.HTML object>"
            ],
            "text/html": [
              "\n",
              "     <input type=\"file\" id=\"files-94546cb8-d103-4c3a-8ad3-fb25fec19375\" name=\"files[]\" multiple disabled\n",
              "        style=\"border:none\" />\n",
              "     <output id=\"result-94546cb8-d103-4c3a-8ad3-fb25fec19375\">\n",
              "      Upload widget is only available when the cell has been executed in the\n",
              "      current browser session. Please rerun this cell to enable.\n",
              "      </output>\n",
              "      <script>// Copyright 2017 Google LLC\n",
              "//\n",
              "// Licensed under the Apache License, Version 2.0 (the \"License\");\n",
              "// you may not use this file except in compliance with the License.\n",
              "// You may obtain a copy of the License at\n",
              "//\n",
              "//      http://www.apache.org/licenses/LICENSE-2.0\n",
              "//\n",
              "// Unless required by applicable law or agreed to in writing, software\n",
              "// distributed under the License is distributed on an \"AS IS\" BASIS,\n",
              "// WITHOUT WARRANTIES OR CONDITIONS OF ANY KIND, either express or implied.\n",
              "// See the License for the specific language governing permissions and\n",
              "// limitations under the License.\n",
              "\n",
              "/**\n",
              " * @fileoverview Helpers for google.colab Python module.\n",
              " */\n",
              "(function(scope) {\n",
              "function span(text, styleAttributes = {}) {\n",
              "  const element = document.createElement('span');\n",
              "  element.textContent = text;\n",
              "  for (const key of Object.keys(styleAttributes)) {\n",
              "    element.style[key] = styleAttributes[key];\n",
              "  }\n",
              "  return element;\n",
              "}\n",
              "\n",
              "// Max number of bytes which will be uploaded at a time.\n",
              "const MAX_PAYLOAD_SIZE = 100 * 1024;\n",
              "\n",
              "function _uploadFiles(inputId, outputId) {\n",
              "  const steps = uploadFilesStep(inputId, outputId);\n",
              "  const outputElement = document.getElementById(outputId);\n",
              "  // Cache steps on the outputElement to make it available for the next call\n",
              "  // to uploadFilesContinue from Python.\n",
              "  outputElement.steps = steps;\n",
              "\n",
              "  return _uploadFilesContinue(outputId);\n",
              "}\n",
              "\n",
              "// This is roughly an async generator (not supported in the browser yet),\n",
              "// where there are multiple asynchronous steps and the Python side is going\n",
              "// to poll for completion of each step.\n",
              "// This uses a Promise to block the python side on completion of each step,\n",
              "// then passes the result of the previous step as the input to the next step.\n",
              "function _uploadFilesContinue(outputId) {\n",
              "  const outputElement = document.getElementById(outputId);\n",
              "  const steps = outputElement.steps;\n",
              "\n",
              "  const next = steps.next(outputElement.lastPromiseValue);\n",
              "  return Promise.resolve(next.value.promise).then((value) => {\n",
              "    // Cache the last promise value to make it available to the next\n",
              "    // step of the generator.\n",
              "    outputElement.lastPromiseValue = value;\n",
              "    return next.value.response;\n",
              "  });\n",
              "}\n",
              "\n",
              "/**\n",
              " * Generator function which is called between each async step of the upload\n",
              " * process.\n",
              " * @param {string} inputId Element ID of the input file picker element.\n",
              " * @param {string} outputId Element ID of the output display.\n",
              " * @return {!Iterable<!Object>} Iterable of next steps.\n",
              " */\n",
              "function* uploadFilesStep(inputId, outputId) {\n",
              "  const inputElement = document.getElementById(inputId);\n",
              "  inputElement.disabled = false;\n",
              "\n",
              "  const outputElement = document.getElementById(outputId);\n",
              "  outputElement.innerHTML = '';\n",
              "\n",
              "  const pickedPromise = new Promise((resolve) => {\n",
              "    inputElement.addEventListener('change', (e) => {\n",
              "      resolve(e.target.files);\n",
              "    });\n",
              "  });\n",
              "\n",
              "  const cancel = document.createElement('button');\n",
              "  inputElement.parentElement.appendChild(cancel);\n",
              "  cancel.textContent = 'Cancel upload';\n",
              "  const cancelPromise = new Promise((resolve) => {\n",
              "    cancel.onclick = () => {\n",
              "      resolve(null);\n",
              "    };\n",
              "  });\n",
              "\n",
              "  // Wait for the user to pick the files.\n",
              "  const files = yield {\n",
              "    promise: Promise.race([pickedPromise, cancelPromise]),\n",
              "    response: {\n",
              "      action: 'starting',\n",
              "    }\n",
              "  };\n",
              "\n",
              "  cancel.remove();\n",
              "\n",
              "  // Disable the input element since further picks are not allowed.\n",
              "  inputElement.disabled = true;\n",
              "\n",
              "  if (!files) {\n",
              "    return {\n",
              "      response: {\n",
              "        action: 'complete',\n",
              "      }\n",
              "    };\n",
              "  }\n",
              "\n",
              "  for (const file of files) {\n",
              "    const li = document.createElement('li');\n",
              "    li.append(span(file.name, {fontWeight: 'bold'}));\n",
              "    li.append(span(\n",
              "        `(${file.type || 'n/a'}) - ${file.size} bytes, ` +\n",
              "        `last modified: ${\n",
              "            file.lastModifiedDate ? file.lastModifiedDate.toLocaleDateString() :\n",
              "                                    'n/a'} - `));\n",
              "    const percent = span('0% done');\n",
              "    li.appendChild(percent);\n",
              "\n",
              "    outputElement.appendChild(li);\n",
              "\n",
              "    const fileDataPromise = new Promise((resolve) => {\n",
              "      const reader = new FileReader();\n",
              "      reader.onload = (e) => {\n",
              "        resolve(e.target.result);\n",
              "      };\n",
              "      reader.readAsArrayBuffer(file);\n",
              "    });\n",
              "    // Wait for the data to be ready.\n",
              "    let fileData = yield {\n",
              "      promise: fileDataPromise,\n",
              "      response: {\n",
              "        action: 'continue',\n",
              "      }\n",
              "    };\n",
              "\n",
              "    // Use a chunked sending to avoid message size limits. See b/62115660.\n",
              "    let position = 0;\n",
              "    do {\n",
              "      const length = Math.min(fileData.byteLength - position, MAX_PAYLOAD_SIZE);\n",
              "      const chunk = new Uint8Array(fileData, position, length);\n",
              "      position += length;\n",
              "\n",
              "      const base64 = btoa(String.fromCharCode.apply(null, chunk));\n",
              "      yield {\n",
              "        response: {\n",
              "          action: 'append',\n",
              "          file: file.name,\n",
              "          data: base64,\n",
              "        },\n",
              "      };\n",
              "\n",
              "      let percentDone = fileData.byteLength === 0 ?\n",
              "          100 :\n",
              "          Math.round((position / fileData.byteLength) * 100);\n",
              "      percent.textContent = `${percentDone}% done`;\n",
              "\n",
              "    } while (position < fileData.byteLength);\n",
              "  }\n",
              "\n",
              "  // All done.\n",
              "  yield {\n",
              "    response: {\n",
              "      action: 'complete',\n",
              "    }\n",
              "  };\n",
              "}\n",
              "\n",
              "scope.google = scope.google || {};\n",
              "scope.google.colab = scope.google.colab || {};\n",
              "scope.google.colab._files = {\n",
              "  _uploadFiles,\n",
              "  _uploadFilesContinue,\n",
              "};\n",
              "})(self);\n",
              "</script> "
            ]
          },
          "metadata": {}
        },
        {
          "output_type": "stream",
          "name": "stdout",
          "text": [
            "Saving dataset_black_sales.csv to dataset_black_sales.csv\n",
            "User uploaded file \"dataset_black_sales.csv\" with length 25525678 bytes\n"
          ]
        }
      ]
    },
    {
      "cell_type": "markdown",
      "source": [
        "### Minimo EDA"
      ],
      "metadata": {
        "id": "HGJ0T1qbXJDE"
      }
    },
    {
      "cell_type": "code",
      "source": [
        "# Importamos librerias\n",
        "import pandas as pd\n",
        "import numpy as np\n",
        "import matplotlib.pyplot as plt\n",
        "import seaborn as sns"
      ],
      "metadata": {
        "id": "Px3r6wvyXGFX"
      },
      "execution_count": null,
      "outputs": []
    },
    {
      "cell_type": "code",
      "source": [
        "# cargamos el dataframe\n",
        "df = pd.read_csv('/content/dataset_black_sales.csv')\n",
        "df.head()"
      ],
      "metadata": {
        "colab": {
          "base_uri": "https://localhost:8080/",
          "height": 206
        },
        "id": "U3VkYdAKXVIN",
        "outputId": "e3f2ae19-96c5-4ca7-ba3f-06dd4da2ce8a"
      },
      "execution_count": null,
      "outputs": [
        {
          "output_type": "execute_result",
          "data": {
            "text/plain": [
              "   User_ID Product_ID Gender   Age  Occupation City_Category  \\\n",
              "0  1000001  P00069042      F  0-17          10             A   \n",
              "1  1000001  P00248942      F  0-17          10             A   \n",
              "2  1000001  P00087842      F  0-17          10             A   \n",
              "3  1000001  P00085442      F  0-17          10             A   \n",
              "4  1000002  P00285442      M   55+          16             C   \n",
              "\n",
              "  Stay_In_Current_City_Years  Marital_Status  Product_Category_1  \\\n",
              "0                          2               0                   3   \n",
              "1                          2               0                   1   \n",
              "2                          2               0                  12   \n",
              "3                          2               0                  12   \n",
              "4                         4+               0                   8   \n",
              "\n",
              "   Product_Category_2  Product_Category_3  Purchase  \n",
              "0                 NaN                 NaN      8370  \n",
              "1                 6.0                14.0     15200  \n",
              "2                 NaN                 NaN      1422  \n",
              "3                14.0                 NaN      1057  \n",
              "4                 NaN                 NaN      7969  "
            ],
            "text/html": [
              "\n",
              "  <div id=\"df-e8643e56-7d81-4b37-bdc2-0287aac661a6\" class=\"colab-df-container\">\n",
              "    <div>\n",
              "<style scoped>\n",
              "    .dataframe tbody tr th:only-of-type {\n",
              "        vertical-align: middle;\n",
              "    }\n",
              "\n",
              "    .dataframe tbody tr th {\n",
              "        vertical-align: top;\n",
              "    }\n",
              "\n",
              "    .dataframe thead th {\n",
              "        text-align: right;\n",
              "    }\n",
              "</style>\n",
              "<table border=\"1\" class=\"dataframe\">\n",
              "  <thead>\n",
              "    <tr style=\"text-align: right;\">\n",
              "      <th></th>\n",
              "      <th>User_ID</th>\n",
              "      <th>Product_ID</th>\n",
              "      <th>Gender</th>\n",
              "      <th>Age</th>\n",
              "      <th>Occupation</th>\n",
              "      <th>City_Category</th>\n",
              "      <th>Stay_In_Current_City_Years</th>\n",
              "      <th>Marital_Status</th>\n",
              "      <th>Product_Category_1</th>\n",
              "      <th>Product_Category_2</th>\n",
              "      <th>Product_Category_3</th>\n",
              "      <th>Purchase</th>\n",
              "    </tr>\n",
              "  </thead>\n",
              "  <tbody>\n",
              "    <tr>\n",
              "      <th>0</th>\n",
              "      <td>1000001</td>\n",
              "      <td>P00069042</td>\n",
              "      <td>F</td>\n",
              "      <td>0-17</td>\n",
              "      <td>10</td>\n",
              "      <td>A</td>\n",
              "      <td>2</td>\n",
              "      <td>0</td>\n",
              "      <td>3</td>\n",
              "      <td>NaN</td>\n",
              "      <td>NaN</td>\n",
              "      <td>8370</td>\n",
              "    </tr>\n",
              "    <tr>\n",
              "      <th>1</th>\n",
              "      <td>1000001</td>\n",
              "      <td>P00248942</td>\n",
              "      <td>F</td>\n",
              "      <td>0-17</td>\n",
              "      <td>10</td>\n",
              "      <td>A</td>\n",
              "      <td>2</td>\n",
              "      <td>0</td>\n",
              "      <td>1</td>\n",
              "      <td>6.0</td>\n",
              "      <td>14.0</td>\n",
              "      <td>15200</td>\n",
              "    </tr>\n",
              "    <tr>\n",
              "      <th>2</th>\n",
              "      <td>1000001</td>\n",
              "      <td>P00087842</td>\n",
              "      <td>F</td>\n",
              "      <td>0-17</td>\n",
              "      <td>10</td>\n",
              "      <td>A</td>\n",
              "      <td>2</td>\n",
              "      <td>0</td>\n",
              "      <td>12</td>\n",
              "      <td>NaN</td>\n",
              "      <td>NaN</td>\n",
              "      <td>1422</td>\n",
              "    </tr>\n",
              "    <tr>\n",
              "      <th>3</th>\n",
              "      <td>1000001</td>\n",
              "      <td>P00085442</td>\n",
              "      <td>F</td>\n",
              "      <td>0-17</td>\n",
              "      <td>10</td>\n",
              "      <td>A</td>\n",
              "      <td>2</td>\n",
              "      <td>0</td>\n",
              "      <td>12</td>\n",
              "      <td>14.0</td>\n",
              "      <td>NaN</td>\n",
              "      <td>1057</td>\n",
              "    </tr>\n",
              "    <tr>\n",
              "      <th>4</th>\n",
              "      <td>1000002</td>\n",
              "      <td>P00285442</td>\n",
              "      <td>M</td>\n",
              "      <td>55+</td>\n",
              "      <td>16</td>\n",
              "      <td>C</td>\n",
              "      <td>4+</td>\n",
              "      <td>0</td>\n",
              "      <td>8</td>\n",
              "      <td>NaN</td>\n",
              "      <td>NaN</td>\n",
              "      <td>7969</td>\n",
              "    </tr>\n",
              "  </tbody>\n",
              "</table>\n",
              "</div>\n",
              "    <div class=\"colab-df-buttons\">\n",
              "\n",
              "  <div class=\"colab-df-container\">\n",
              "    <button class=\"colab-df-convert\" onclick=\"convertToInteractive('df-e8643e56-7d81-4b37-bdc2-0287aac661a6')\"\n",
              "            title=\"Convert this dataframe to an interactive table.\"\n",
              "            style=\"display:none;\">\n",
              "\n",
              "  <svg xmlns=\"http://www.w3.org/2000/svg\" height=\"24px\" viewBox=\"0 -960 960 960\">\n",
              "    <path d=\"M120-120v-720h720v720H120Zm60-500h600v-160H180v160Zm220 220h160v-160H400v160Zm0 220h160v-160H400v160ZM180-400h160v-160H180v160Zm440 0h160v-160H620v160ZM180-180h160v-160H180v160Zm440 0h160v-160H620v160Z\"/>\n",
              "  </svg>\n",
              "    </button>\n",
              "\n",
              "  <style>\n",
              "    .colab-df-container {\n",
              "      display:flex;\n",
              "      gap: 12px;\n",
              "    }\n",
              "\n",
              "    .colab-df-convert {\n",
              "      background-color: #E8F0FE;\n",
              "      border: none;\n",
              "      border-radius: 50%;\n",
              "      cursor: pointer;\n",
              "      display: none;\n",
              "      fill: #1967D2;\n",
              "      height: 32px;\n",
              "      padding: 0 0 0 0;\n",
              "      width: 32px;\n",
              "    }\n",
              "\n",
              "    .colab-df-convert:hover {\n",
              "      background-color: #E2EBFA;\n",
              "      box-shadow: 0px 1px 2px rgba(60, 64, 67, 0.3), 0px 1px 3px 1px rgba(60, 64, 67, 0.15);\n",
              "      fill: #174EA6;\n",
              "    }\n",
              "\n",
              "    .colab-df-buttons div {\n",
              "      margin-bottom: 4px;\n",
              "    }\n",
              "\n",
              "    [theme=dark] .colab-df-convert {\n",
              "      background-color: #3B4455;\n",
              "      fill: #D2E3FC;\n",
              "    }\n",
              "\n",
              "    [theme=dark] .colab-df-convert:hover {\n",
              "      background-color: #434B5C;\n",
              "      box-shadow: 0px 1px 3px 1px rgba(0, 0, 0, 0.15);\n",
              "      filter: drop-shadow(0px 1px 2px rgba(0, 0, 0, 0.3));\n",
              "      fill: #FFFFFF;\n",
              "    }\n",
              "  </style>\n",
              "\n",
              "    <script>\n",
              "      const buttonEl =\n",
              "        document.querySelector('#df-e8643e56-7d81-4b37-bdc2-0287aac661a6 button.colab-df-convert');\n",
              "      buttonEl.style.display =\n",
              "        google.colab.kernel.accessAllowed ? 'block' : 'none';\n",
              "\n",
              "      async function convertToInteractive(key) {\n",
              "        const element = document.querySelector('#df-e8643e56-7d81-4b37-bdc2-0287aac661a6');\n",
              "        const dataTable =\n",
              "          await google.colab.kernel.invokeFunction('convertToInteractive',\n",
              "                                                    [key], {});\n",
              "        if (!dataTable) return;\n",
              "\n",
              "        const docLinkHtml = 'Like what you see? Visit the ' +\n",
              "          '<a target=\"_blank\" href=https://colab.research.google.com/notebooks/data_table.ipynb>data table notebook</a>'\n",
              "          + ' to learn more about interactive tables.';\n",
              "        element.innerHTML = '';\n",
              "        dataTable['output_type'] = 'display_data';\n",
              "        await google.colab.output.renderOutput(dataTable, element);\n",
              "        const docLink = document.createElement('div');\n",
              "        docLink.innerHTML = docLinkHtml;\n",
              "        element.appendChild(docLink);\n",
              "      }\n",
              "    </script>\n",
              "  </div>\n",
              "\n",
              "\n",
              "<div id=\"df-dede9906-eef1-4c12-940a-5784e66ffbf0\">\n",
              "  <button class=\"colab-df-quickchart\" onclick=\"quickchart('df-dede9906-eef1-4c12-940a-5784e66ffbf0')\"\n",
              "            title=\"Suggest charts.\"\n",
              "            style=\"display:none;\">\n",
              "\n",
              "<svg xmlns=\"http://www.w3.org/2000/svg\" height=\"24px\"viewBox=\"0 0 24 24\"\n",
              "     width=\"24px\">\n",
              "    <g>\n",
              "        <path d=\"M19 3H5c-1.1 0-2 .9-2 2v14c0 1.1.9 2 2 2h14c1.1 0 2-.9 2-2V5c0-1.1-.9-2-2-2zM9 17H7v-7h2v7zm4 0h-2V7h2v10zm4 0h-2v-4h2v4z\"/>\n",
              "    </g>\n",
              "</svg>\n",
              "  </button>\n",
              "\n",
              "<style>\n",
              "  .colab-df-quickchart {\n",
              "    background-color: #E8F0FE;\n",
              "    border: none;\n",
              "    border-radius: 50%;\n",
              "    cursor: pointer;\n",
              "    display: none;\n",
              "    fill: #1967D2;\n",
              "    height: 32px;\n",
              "    padding: 0 0 0 0;\n",
              "    width: 32px;\n",
              "  }\n",
              "\n",
              "  .colab-df-quickchart:hover {\n",
              "    background-color: #E2EBFA;\n",
              "    box-shadow: 0px 1px 2px rgba(60, 64, 67, 0.3), 0px 1px 3px 1px rgba(60, 64, 67, 0.15);\n",
              "    fill: #174EA6;\n",
              "  }\n",
              "\n",
              "  [theme=dark] .colab-df-quickchart {\n",
              "    background-color: #3B4455;\n",
              "    fill: #D2E3FC;\n",
              "  }\n",
              "\n",
              "  [theme=dark] .colab-df-quickchart:hover {\n",
              "    background-color: #434B5C;\n",
              "    box-shadow: 0px 1px 3px 1px rgba(0, 0, 0, 0.15);\n",
              "    filter: drop-shadow(0px 1px 2px rgba(0, 0, 0, 0.3));\n",
              "    fill: #FFFFFF;\n",
              "  }\n",
              "</style>\n",
              "\n",
              "  <script>\n",
              "    async function quickchart(key) {\n",
              "      const charts = await google.colab.kernel.invokeFunction(\n",
              "          'suggestCharts', [key], {});\n",
              "    }\n",
              "    (() => {\n",
              "      let quickchartButtonEl =\n",
              "        document.querySelector('#df-dede9906-eef1-4c12-940a-5784e66ffbf0 button');\n",
              "      quickchartButtonEl.style.display =\n",
              "        google.colab.kernel.accessAllowed ? 'block' : 'none';\n",
              "    })();\n",
              "  </script>\n",
              "</div>\n",
              "    </div>\n",
              "  </div>\n"
            ]
          },
          "metadata": {},
          "execution_count": 100
        }
      ]
    },
    {
      "cell_type": "code",
      "source": [
        "# Tamaño del dataset\n",
        "n_samples, n_features = df.shape\n",
        "print(f\"Cantidad de Observaciones: {n_samples}, Cantidad de caracteristicas: {n_features}\")"
      ],
      "metadata": {
        "colab": {
          "base_uri": "https://localhost:8080/"
        },
        "id": "3wAiDMFeXtDJ",
        "outputId": "e0ea0d49-3c44-40b1-e015-c6a2ea753422"
      },
      "execution_count": null,
      "outputs": [
        {
          "output_type": "stream",
          "name": "stdout",
          "text": [
            "Cantidad de Observaciones: 550068, Cantidad de caracteristicas: 12\n"
          ]
        }
      ]
    },
    {
      "cell_type": "code",
      "source": [
        "# valores nulos\n",
        "df.isnull().sum()"
      ],
      "metadata": {
        "colab": {
          "base_uri": "https://localhost:8080/"
        },
        "id": "XF0mnRjVX38C",
        "outputId": "eec513cf-8715-47a1-b8bf-e9ef235766ad"
      },
      "execution_count": null,
      "outputs": [
        {
          "output_type": "execute_result",
          "data": {
            "text/plain": [
              "User_ID                            0\n",
              "Product_ID                         0\n",
              "Gender                             0\n",
              "Age                                0\n",
              "Occupation                         0\n",
              "City_Category                      0\n",
              "Stay_In_Current_City_Years         0\n",
              "Marital_Status                     0\n",
              "Product_Category_1                 0\n",
              "Product_Category_2            173638\n",
              "Product_Category_3            383247\n",
              "Purchase                           0\n",
              "dtype: int64"
            ]
          },
          "metadata": {},
          "execution_count": 102
        }
      ]
    },
    {
      "cell_type": "code",
      "source": [
        "# Tipo de dato\n",
        "df.info()"
      ],
      "metadata": {
        "colab": {
          "base_uri": "https://localhost:8080/"
        },
        "id": "_ARqdPc4e-WT",
        "outputId": "e97ab7cf-754c-42b0-89cd-cc82018037ba"
      },
      "execution_count": null,
      "outputs": [
        {
          "output_type": "stream",
          "name": "stdout",
          "text": [
            "<class 'pandas.core.frame.DataFrame'>\n",
            "RangeIndex: 550068 entries, 0 to 550067\n",
            "Data columns (total 12 columns):\n",
            " #   Column                      Non-Null Count   Dtype  \n",
            "---  ------                      --------------   -----  \n",
            " 0   User_ID                     550068 non-null  int64  \n",
            " 1   Product_ID                  550068 non-null  object \n",
            " 2   Gender                      550068 non-null  object \n",
            " 3   Age                         550068 non-null  object \n",
            " 4   Occupation                  550068 non-null  int64  \n",
            " 5   City_Category               550068 non-null  object \n",
            " 6   Stay_In_Current_City_Years  550068 non-null  object \n",
            " 7   Marital_Status              550068 non-null  int64  \n",
            " 8   Product_Category_1          550068 non-null  int64  \n",
            " 9   Product_Category_2          376430 non-null  float64\n",
            " 10  Product_Category_3          166821 non-null  float64\n",
            " 11  Purchase                    550068 non-null  int64  \n",
            "dtypes: float64(2), int64(5), object(5)\n",
            "memory usage: 50.4+ MB\n"
          ]
        }
      ]
    },
    {
      "cell_type": "code",
      "source": [
        "# Valores unicos para gender\n",
        "df['Gender'].unique()"
      ],
      "metadata": {
        "colab": {
          "base_uri": "https://localhost:8080/"
        },
        "id": "mixxPw4QvX_M",
        "outputId": "d67d50db-d03b-4c35-ab07-66f0c3b4ca00"
      },
      "execution_count": null,
      "outputs": [
        {
          "output_type": "execute_result",
          "data": {
            "text/plain": [
              "array(['F', 'M'], dtype=object)"
            ]
          },
          "metadata": {},
          "execution_count": 104
        }
      ]
    },
    {
      "cell_type": "code",
      "source": [
        "# Variable con alta cardinalidad\n",
        "len(df['User_ID'].unique())"
      ],
      "metadata": {
        "colab": {
          "base_uri": "https://localhost:8080/"
        },
        "id": "oD6TcAOvvq_O",
        "outputId": "271c0175-4719-4999-cc2b-48188c4cd873"
      },
      "execution_count": null,
      "outputs": [
        {
          "output_type": "execute_result",
          "data": {
            "text/plain": [
              "5891"
            ]
          },
          "metadata": {},
          "execution_count": 105
        }
      ]
    },
    {
      "cell_type": "code",
      "source": [
        "# Variable con alta cardinalidad\n",
        "len(df['Product_ID'].unique())"
      ],
      "metadata": {
        "colab": {
          "base_uri": "https://localhost:8080/"
        },
        "id": "ATDko6M5v2fs",
        "outputId": "1fc6be62-2185-4dfd-a1eb-a0192bd22c13"
      },
      "execution_count": null,
      "outputs": [
        {
          "output_type": "execute_result",
          "data": {
            "text/plain": [
              "3631"
            ]
          },
          "metadata": {},
          "execution_count": 106
        }
      ]
    },
    {
      "cell_type": "code",
      "source": [
        "# valores de Age\n",
        "df['Age'].unique()"
      ],
      "metadata": {
        "colab": {
          "base_uri": "https://localhost:8080/"
        },
        "id": "-TGsGcTMwl-Z",
        "outputId": "30254c69-b12f-4578-db01-4aee1e9009b9"
      },
      "execution_count": null,
      "outputs": [
        {
          "output_type": "execute_result",
          "data": {
            "text/plain": [
              "array(['0-17', '55+', '26-35', '46-50', '51-55', '36-45', '18-25'],\n",
              "      dtype=object)"
            ]
          },
          "metadata": {},
          "execution_count": 107
        }
      ]
    },
    {
      "cell_type": "code",
      "source": [
        "# valores de City_Category\n",
        "df['City_Category'].unique()"
      ],
      "metadata": {
        "colab": {
          "base_uri": "https://localhost:8080/"
        },
        "id": "dkfSqd-C04lX",
        "outputId": "e0729f4a-f34b-4607-8510-9c60fa0b2825"
      },
      "execution_count": null,
      "outputs": [
        {
          "output_type": "execute_result",
          "data": {
            "text/plain": [
              "array(['A', 'C', 'B'], dtype=object)"
            ]
          },
          "metadata": {},
          "execution_count": 108
        }
      ]
    },
    {
      "cell_type": "code",
      "source": [
        "# valores de Stay_In_Current_City_Years\n",
        "df['Stay_In_Current_City_Years'].unique()"
      ],
      "metadata": {
        "colab": {
          "base_uri": "https://localhost:8080/"
        },
        "id": "GEIExnyh1See",
        "outputId": "1cbe0e58-cf51-4b0f-b44e-92784db7d96a"
      },
      "execution_count": null,
      "outputs": [
        {
          "output_type": "execute_result",
          "data": {
            "text/plain": [
              "array(['2', '4+', '3', '1', '0'], dtype=object)"
            ]
          },
          "metadata": {},
          "execution_count": 109
        }
      ]
    },
    {
      "cell_type": "code",
      "source": [
        "# valores de Product_Category_3\n",
        "df['Product_Category_2'].unique()"
      ],
      "metadata": {
        "colab": {
          "base_uri": "https://localhost:8080/"
        },
        "id": "SjmNezue6XbA",
        "outputId": "46ac943b-b748-4700-b8c7-8a718f4ec54c"
      },
      "execution_count": null,
      "outputs": [
        {
          "output_type": "execute_result",
          "data": {
            "text/plain": [
              "array([nan,  6., 14.,  2.,  8., 15., 16., 11.,  5.,  3.,  4., 12.,  9.,\n",
              "       10., 17., 13.,  7., 18.])"
            ]
          },
          "metadata": {},
          "execution_count": 110
        }
      ]
    },
    {
      "cell_type": "code",
      "source": [
        "# valores de Product_Category_3\n",
        "df['Product_Category_3'].unique()"
      ],
      "metadata": {
        "colab": {
          "base_uri": "https://localhost:8080/"
        },
        "id": "kFJ6DNH36hiw",
        "outputId": "58bcfe9c-7c51-44a8-a9a3-08512472bf93"
      },
      "execution_count": null,
      "outputs": [
        {
          "output_type": "execute_result",
          "data": {
            "text/plain": [
              "array([nan, 14., 17.,  5.,  4., 16., 15.,  8.,  9., 13.,  6., 12.,  3.,\n",
              "       18., 11., 10.])"
            ]
          },
          "metadata": {},
          "execution_count": 111
        }
      ]
    },
    {
      "cell_type": "code",
      "source": [
        "# cantidad de observaciones perdidas\n",
        "observaciones_prod2 = 550068\n",
        "missing_prod2 = 173638\n",
        "print(f\"cantidas de observaciones faltantes para Product_Category_2 = {(missing_prod2*100)/observaciones_prod2}%\")\n",
        "\n",
        "observaciones_prod3 = 550068\n",
        "missing_prod3 = 166821\n",
        "print(f\"cantidas de observaciones faltantes para Product_Category_3 = {(missing_prod3*100)/observaciones_prod3}%\")"
      ],
      "metadata": {
        "colab": {
          "base_uri": "https://localhost:8080/"
        },
        "id": "NDG0SLwU8ya5",
        "outputId": "cd561391-d418-4878-a40c-bb1ef41dacea"
      },
      "execution_count": null,
      "outputs": [
        {
          "output_type": "stream",
          "name": "stdout",
          "text": [
            "cantidas de observaciones faltantes para Product_Category_2 = 31.566642669633573%\n",
            "cantidas de observaciones faltantes para Product_Category_3 = 30.327341346888023%\n"
          ]
        }
      ]
    },
    {
      "cell_type": "code",
      "source": [
        "# estudiamos correlacion\n",
        "df_corr = df.copy()\n",
        "df_corr = df_corr.select_dtypes(include='number')\n",
        "\n",
        "df_corr.columns"
      ],
      "metadata": {
        "colab": {
          "base_uri": "https://localhost:8080/"
        },
        "id": "IPM9Oi1hCSFi",
        "outputId": "31ea550c-5c69-4586-c5eb-8d8003903ade"
      },
      "execution_count": null,
      "outputs": [
        {
          "output_type": "execute_result",
          "data": {
            "text/plain": [
              "Index(['User_ID', 'Occupation', 'Marital_Status', 'Product_Category_1',\n",
              "       'Product_Category_2', 'Product_Category_3', 'Purchase'],\n",
              "      dtype='object')"
            ]
          },
          "metadata": {},
          "execution_count": 113
        }
      ]
    },
    {
      "cell_type": "code",
      "source": [
        "# buscamos si existe linealidad en las features\n",
        "from scipy import stats\n",
        "import matplotlib.pyplot as plt\n",
        "\n",
        "df_corr.dropna(inplace=True)\n",
        "\n",
        "num_features = len(df_corr.columns)\n",
        "num_rows = (num_features + 1) // 2\n",
        "num_cols = 2\n",
        "\n",
        "fig, axes = plt.subplots(num_rows, num_cols, figsize=(10, 15))\n",
        "\n",
        "for k, xi in enumerate(df_corr.columns):\n",
        "    row = k // num_cols\n",
        "    col = k % num_cols\n",
        "    stats.probplot(df_corr[xi], dist=\"norm\", plot=axes[row, col])\n",
        "    axes[row, col].set_title(xi)\n",
        "    axes[row, col].get_lines()[0].set_markerfacecolor('#66c2a5')\n",
        "    axes[row, col].get_lines()[0].set_markeredgecolor('#007540')\n",
        "\n",
        "\n",
        "if num_features % 2 != 0:\n",
        "    axes[num_rows - 1, num_cols - 1].axis(\"off\")\n",
        "\n",
        "plt.tight_layout()\n",
        "plt.show()"
      ],
      "metadata": {
        "colab": {
          "base_uri": "https://localhost:8080/",
          "height": 1000
        },
        "id": "eH--sS8SCaLk",
        "outputId": "37a5af67-c769-4dd6-c07e-e6f251fb92be"
      },
      "execution_count": null,
      "outputs": [
        {
          "output_type": "display_data",
          "data": {
            "text/plain": [
              "<Figure size 1000x1500 with 8 Axes>"
            ],
            "image/png": "[encoded data removed]"
          },
          "metadata": {}
        }
      ]
    },
    {
      "cell_type": "markdown",
      "source": [
        "**Analisis**\n",
        "\n",
        "No se observa una linealidad sobre todas las features numericas, por lo tanto, no se puede hacer un estudio de correlacion con pearson y se tendra que realizar con spearman"
      ],
      "metadata": {
        "id": "bxedYOIgCopo"
      }
    },
    {
      "cell_type": "code",
      "source": [
        "corr = df_corr.corr(method='spearman')\n",
        "fig = plt.figure(figsize=(15,5))\n",
        "plt.title(\"Spearman\")\n",
        "sns.heatmap(corr, cmap=sns.diverging_palette(220,10,as_cmap=True),annot=True,fmt=\".2f\")\n",
        "sns.set(font_scale=0.9)"
      ],
      "metadata": {
        "colab": {
          "base_uri": "https://localhost:8080/",
          "height": 593
        },
        "id": "IzobFzK3Cwvw",
        "outputId": "66bfbd86-35d6-4ea1-b4e1-4a3805894037"
      },
      "execution_count": null,
      "outputs": [
        {
          "output_type": "display_data",
          "data": {
            "text/plain": [
              "<Figure size 1500x500 with 2 Axes>"
            ],
            "image/png": "[encoded data removed]"
          },
          "metadata": {}
        }
      ]
    },
    {
      "cell_type": "markdown",
      "source": [
        "**Analisis**\n",
        "\n",
        "Se observa muy poca correlación con la variable objetivo por parte de las variables numericas. Tambien se observar que \"Product_Category_1\" tiene una correlacion negativa con respecto a \"Purchase\" lo que indica que estan inversamente relacionadas. Por otro lado, \"Product_Category_2\" y \"Product_Category_3\" estan altamente correlacionadas entre si.\n",
        "\n",
        "El dataset cuenta con valores nulos en las variables \"Product_Category_2\" y \"Product_Category_3\". Al tener más del 5% de datos faltantes en ambos casos, se decide descartar ambdas columnas del dataset.\n",
        "\n",
        "La caracteristica \"Gender\" al solo contener F y M se puede encodear con 0 para F y 1 para M.\n",
        "\n",
        "\"User_ID\" y \"Product_ID\" son caracteristicas con cardinalidad alta, por lo tanto, serán más adelante nuestra capa de Embeddings.\n",
        "\n",
        "\"Age\" son grupos de edades que pueden ser mapeadas a un formato distinto para que el modelo las puede procesar. Formato propuesto:\n",
        "  * '0-17' = 0\n",
        "  * '18-25' = 1\n",
        "  * '26-35' = 2\n",
        "  * '36-45' = 3\n",
        "  * '46-50' = 4\n",
        "  * '51-55' = 5\n",
        "  * '55+' = 6\n",
        "\n",
        "\"City_Category\" al ser una caracteristica con cardinalidad baja se puede usar un OneHotEncoding.\n",
        "\n",
        "\"Stay_In_Current_City_Years\" puede matener la cantidad de años 0,1,2,3 pero para 4+ lo mapeamos a solo 4 y con eso asumimos 4 años o más.\n",
        "\n",
        "Por ultimo, \"Purchase\" se binariza como pide el enunciado. Se creara una nueva columna Purchase_Quantity que si es > 9000 es igual a 1 y si es < 9000 es igual a 0."
      ],
      "metadata": {
        "id": "Pji1MyARgKWA"
      }
    },
    {
      "cell_type": "markdown",
      "source": [
        "### Feature engineering"
      ],
      "metadata": {
        "id": "YunsFgm93u0Q"
      }
    },
    {
      "cell_type": "code",
      "source": [
        "# Importamos librerias\n",
        "import pandas as pd\n",
        "import numpy as np\n",
        "from sklearn.model_selection import train_test_split\n",
        "from sklearn.preprocessing import StandardScaler"
      ],
      "metadata": {
        "id": "B61P9Y8Q34aZ"
      },
      "execution_count": null,
      "outputs": []
    },
    {
      "cell_type": "code",
      "source": [
        "# imputamos valores nulos eliminando ambas columnas\n",
        "df.drop(columns=['Product_Category_2', 'Product_Category_3'], inplace=True)\n",
        "df.info()"
      ],
      "metadata": {
        "colab": {
          "base_uri": "https://localhost:8080/"
        },
        "id": "eAvWzlI14Q2a",
        "outputId": "ed8d701f-5213-4c98-fe9a-b084c69b372f"
      },
      "execution_count": null,
      "outputs": [
        {
          "output_type": "stream",
          "name": "stdout",
          "text": [
            "<class 'pandas.core.frame.DataFrame'>\n",
            "RangeIndex: 550068 entries, 0 to 550067\n",
            "Data columns (total 10 columns):\n",
            " #   Column                      Non-Null Count   Dtype \n",
            "---  ------                      --------------   ----- \n",
            " 0   User_ID                     550068 non-null  int64 \n",
            " 1   Product_ID                  550068 non-null  object\n",
            " 2   Gender                      550068 non-null  object\n",
            " 3   Age                         550068 non-null  object\n",
            " 4   Occupation                  550068 non-null  int64 \n",
            " 5   City_Category               550068 non-null  object\n",
            " 6   Stay_In_Current_City_Years  550068 non-null  object\n",
            " 7   Marital_Status              550068 non-null  int64 \n",
            " 8   Product_Category_1          550068 non-null  int64 \n",
            " 9   Purchase                    550068 non-null  int64 \n",
            "dtypes: int64(5), object(5)\n",
            "memory usage: 42.0+ MB\n"
          ]
        }
      ]
    },
    {
      "cell_type": "code",
      "source": [
        "df.isnull().sum()"
      ],
      "metadata": {
        "colab": {
          "base_uri": "https://localhost:8080/"
        },
        "id": "yCXrIBZiE_d2",
        "outputId": "84e6d991-e6ca-43a3-b639-bfd7125aba69"
      },
      "execution_count": null,
      "outputs": [
        {
          "output_type": "execute_result",
          "data": {
            "text/plain": [
              "User_ID                       0\n",
              "Product_ID                    0\n",
              "Gender                        0\n",
              "Age                           0\n",
              "Occupation                    0\n",
              "City_Category                 0\n",
              "Stay_In_Current_City_Years    0\n",
              "Marital_Status                0\n",
              "Product_Category_1            0\n",
              "Purchase                      0\n",
              "dtype: int64"
            ]
          },
          "metadata": {},
          "execution_count": 118
        }
      ]
    },
    {
      "cell_type": "markdown",
      "source": [
        "#### Encoding de variables categoricas"
      ],
      "metadata": {
        "id": "JxTgpBYrHHiR"
      }
    },
    {
      "cell_type": "code",
      "source": [
        "# Encoding Gender\n",
        "dict_gender = {\n",
        "    'M':'1',\n",
        "    'F':'0'\n",
        "}\n",
        "df[['Gender']] = df[['Gender']].replace(dict_gender).astype(float)\n",
        "df['Gender'].unique()"
      ],
      "metadata": {
        "colab": {
          "base_uri": "https://localhost:8080/"
        },
        "id": "-0JHcLmeFFSr",
        "outputId": "27779c24-14ea-4054-8f5c-18c8031a0237"
      },
      "execution_count": null,
      "outputs": [
        {
          "output_type": "execute_result",
          "data": {
            "text/plain": [
              "array([0., 1.])"
            ]
          },
          "metadata": {},
          "execution_count": 119
        }
      ]
    },
    {
      "cell_type": "code",
      "source": [
        "# Tratamos la feature Age\n",
        "dict_age = {\n",
        "    '0-17':'0',\n",
        "    '18-25':'1',\n",
        "    '26-35':'2',\n",
        "    '36-45':'3',\n",
        "    '46-50':'4',\n",
        "    '51-55':'5',\n",
        "    '55+':'6'\n",
        "}\n",
        "df[['Age']] = df[['Age']].replace(dict_age).astype(float)\n",
        "df['Age'].unique()"
      ],
      "metadata": {
        "id": "i1kRu4LpIK91",
        "colab": {
          "base_uri": "https://localhost:8080/"
        },
        "outputId": "37074bf9-8abd-48d8-e6ba-a95b503d7d4d"
      },
      "execution_count": null,
      "outputs": [
        {
          "output_type": "execute_result",
          "data": {
            "text/plain": [
              "array([0., 6., 2., 4., 5., 3., 1.])"
            ]
          },
          "metadata": {},
          "execution_count": 120
        }
      ]
    },
    {
      "cell_type": "code",
      "source": [
        "# tratamos Stay_In_Current_City_Years\n",
        "df[['Stay_In_Current_City_Years']] = df[['Stay_In_Current_City_Years']].replace({'4+':'4'}).astype(float)\n",
        "df['Stay_In_Current_City_Years'].unique()"
      ],
      "metadata": {
        "colab": {
          "base_uri": "https://localhost:8080/"
        },
        "id": "XQ1NVCieoHyX",
        "outputId": "d50035e4-692b-43a6-dfb1-9e887f8ba946"
      },
      "execution_count": null,
      "outputs": [
        {
          "output_type": "execute_result",
          "data": {
            "text/plain": [
              "array([2., 4., 3., 1., 0.])"
            ]
          },
          "metadata": {},
          "execution_count": 121
        }
      ]
    },
    {
      "cell_type": "code",
      "source": [
        "# aplicamos OneHotEncoding para City_Category\n",
        "ohe = pd.get_dummies(df['City_Category'], prefix='City_Category')\n",
        "ohe"
      ],
      "metadata": {
        "colab": {
          "base_uri": "https://localhost:8080/",
          "height": 424
        },
        "id": "gHO_pHksqN50",
        "outputId": "68a2af79-d6a2-424e-b560-0c8b2471eab8"
      },
      "execution_count": null,
      "outputs": [
        {
          "output_type": "execute_result",
          "data": {
            "text/plain": [
              "        City_Category_A  City_Category_B  City_Category_C\n",
              "0                     1                0                0\n",
              "1                     1                0                0\n",
              "2                     1                0                0\n",
              "3                     1                0                0\n",
              "4                     0                0                1\n",
              "...                 ...              ...              ...\n",
              "550063                0                1                0\n",
              "550064                0                0                1\n",
              "550065                0                1                0\n",
              "550066                0                0                1\n",
              "550067                0                1                0\n",
              "\n",
              "[550068 rows x 3 columns]"
            ],
            "text/html": [
              "\n",
              "  <div id=\"df-a3edafe6-34b8-42ef-90c9-3005dd7a8d1a\" class=\"colab-df-container\">\n",
              "    <div>\n",
              "<style scoped>\n",
              "    .dataframe tbody tr th:only-of-type {\n",
              "        vertical-align: middle;\n",
              "    }\n",
              "\n",
              "    .dataframe tbody tr th {\n",
              "        vertical-align: top;\n",
              "    }\n",
              "\n",
              "    .dataframe thead th {\n",
              "        text-align: right;\n",
              "    }\n",
              "</style>\n",
              "<table border=\"1\" class=\"dataframe\">\n",
              "  <thead>\n",
              "    <tr style=\"text-align: right;\">\n",
              "      <th></th>\n",
              "      <th>City_Category_A</th>\n",
              "      <th>City_Category_B</th>\n",
              "      <th>City_Category_C</th>\n",
              "    </tr>\n",
              "  </thead>\n",
              "  <tbody>\n",
              "    <tr>\n",
              "      <th>0</th>\n",
              "      <td>1</td>\n",
              "      <td>0</td>\n",
              "      <td>0</td>\n",
              "    </tr>\n",
              "    <tr>\n",
              "      <th>1</th>\n",
              "      <td>1</td>\n",
              "      <td>0</td>\n",
              "      <td>0</td>\n",
              "    </tr>\n",
              "    <tr>\n",
              "      <th>2</th>\n",
              "      <td>1</td>\n",
              "      <td>0</td>\n",
              "      <td>0</td>\n",
              "    </tr>\n",
              "    <tr>\n",
              "      <th>3</th>\n",
              "      <td>1</td>\n",
              "      <td>0</td>\n",
              "      <td>0</td>\n",
              "    </tr>\n",
              "    <tr>\n",
              "      <th>4</th>\n",
              "      <td>0</td>\n",
              "      <td>0</td>\n",
              "      <td>1</td>\n",
              "    </tr>\n",
              "    <tr>\n",
              "      <th>...</th>\n",
              "      <td>...</td>\n",
              "      <td>...</td>\n",
              "      <td>...</td>\n",
              "    </tr>\n",
              "    <tr>\n",
              "      <th>550063</th>\n",
              "      <td>0</td>\n",
              "      <td>1</td>\n",
              "      <td>0</td>\n",
              "    </tr>\n",
              "    <tr>\n",
              "      <th>550064</th>\n",
              "      <td>0</td>\n",
              "      <td>0</td>\n",
              "      <td>1</td>\n",
              "    </tr>\n",
              "    <tr>\n",
              "      <th>550065</th>\n",
              "      <td>0</td>\n",
              "      <td>1</td>\n",
              "      <td>0</td>\n",
              "    </tr>\n",
              "    <tr>\n",
              "      <th>550066</th>\n",
              "      <td>0</td>\n",
              "      <td>0</td>\n",
              "      <td>1</td>\n",
              "    </tr>\n",
              "    <tr>\n",
              "      <th>550067</th>\n",
              "      <td>0</td>\n",
              "      <td>1</td>\n",
              "      <td>0</td>\n",
              "    </tr>\n",
              "  </tbody>\n",
              "</table>\n",
              "<p>550068 rows × 3 columns</p>\n",
              "</div>\n",
              "    <div class=\"colab-df-buttons\">\n",
              "\n",
              "  <div class=\"colab-df-container\">\n",
              "    <button class=\"colab-df-convert\" onclick=\"convertToInteractive('df-a3edafe6-34b8-42ef-90c9-3005dd7a8d1a')\"\n",
              "            title=\"Convert this dataframe to an interactive table.\"\n",
              "            style=\"display:none;\">\n",
              "\n",
              "  <svg xmlns=\"http://www.w3.org/2000/svg\" height=\"24px\" viewBox=\"0 -960 960 960\">\n",
              "    <path d=\"M120-120v-720h720v720H120Zm60-500h600v-160H180v160Zm220 220h160v-160H400v160Zm0 220h160v-160H400v160ZM180-400h160v-160H180v160Zm440 0h160v-160H620v160ZM180-180h160v-160H180v160Zm440 0h160v-160H620v160Z\"/>\n",
              "  </svg>\n",
              "    </button>\n",
              "\n",
              "  <style>\n",
              "    .colab-df-container {\n",
              "      display:flex;\n",
              "      gap: 12px;\n",
              "    }\n",
              "\n",
              "    .colab-df-convert {\n",
              "      background-color: #E8F0FE;\n",
              "      border: none;\n",
              "      border-radius: 50%;\n",
              "      cursor: pointer;\n",
              "      display: none;\n",
              "      fill: #1967D2;\n",
              "      height: 32px;\n",
              "      padding: 0 0 0 0;\n",
              "      width: 32px;\n",
              "    }\n",
              "\n",
              "    .colab-df-convert:hover {\n",
              "      background-color: #E2EBFA;\n",
              "      box-shadow: 0px 1px 2px rgba(60, 64, 67, 0.3), 0px 1px 3px 1px rgba(60, 64, 67, 0.15);\n",
              "      fill: #174EA6;\n",
              "    }\n",
              "\n",
              "    .colab-df-buttons div {\n",
              "      margin-bottom: 4px;\n",
              "    }\n",
              "\n",
              "    [theme=dark] .colab-df-convert {\n",
              "      background-color: #3B4455;\n",
              "      fill: #D2E3FC;\n",
              "    }\n",
              "\n",
              "    [theme=dark] .colab-df-convert:hover {\n",
              "      background-color: #434B5C;\n",
              "      box-shadow: 0px 1px 3px 1px rgba(0, 0, 0, 0.15);\n",
              "      filter: drop-shadow(0px 1px 2px rgba(0, 0, 0, 0.3));\n",
              "      fill: #FFFFFF;\n",
              "    }\n",
              "  </style>\n",
              "\n",
              "    <script>\n",
              "      const buttonEl =\n",
              "        document.querySelector('#df-a3edafe6-34b8-42ef-90c9-3005dd7a8d1a button.colab-df-convert');\n",
              "      buttonEl.style.display =\n",
              "        google.colab.kernel.accessAllowed ? 'block' : 'none';\n",
              "\n",
              "      async function convertToInteractive(key) {\n",
              "        const element = document.querySelector('#df-a3edafe6-34b8-42ef-90c9-3005dd7a8d1a');\n",
              "        const dataTable =\n",
              "          await google.colab.kernel.invokeFunction('convertToInteractive',\n",
              "                                                    [key], {});\n",
              "        if (!dataTable) return;\n",
              "\n",
              "        const docLinkHtml = 'Like what you see? Visit the ' +\n",
              "          '<a target=\"_blank\" href=https://colab.research.google.com/notebooks/data_table.ipynb>data table notebook</a>'\n",
              "          + ' to learn more about interactive tables.';\n",
              "        element.innerHTML = '';\n",
              "        dataTable['output_type'] = 'display_data';\n",
              "        await google.colab.output.renderOutput(dataTable, element);\n",
              "        const docLink = document.createElement('div');\n",
              "        docLink.innerHTML = docLinkHtml;\n",
              "        element.appendChild(docLink);\n",
              "      }\n",
              "    </script>\n",
              "  </div>\n",
              "\n",
              "\n",
              "<div id=\"df-9b4d84c9-b851-4f84-bd5f-0b76ecde13df\">\n",
              "  <button class=\"colab-df-quickchart\" onclick=\"quickchart('df-9b4d84c9-b851-4f84-bd5f-0b76ecde13df')\"\n",
              "            title=\"Suggest charts.\"\n",
              "            style=\"display:none;\">\n",
              "\n",
              "<svg xmlns=\"http://www.w3.org/2000/svg\" height=\"24px\"viewBox=\"0 0 24 24\"\n",
              "     width=\"24px\">\n",
              "    <g>\n",
              "        <path d=\"M19 3H5c-1.1 0-2 .9-2 2v14c0 1.1.9 2 2 2h14c1.1 0 2-.9 2-2V5c0-1.1-.9-2-2-2zM9 17H7v-7h2v7zm4 0h-2V7h2v10zm4 0h-2v-4h2v4z\"/>\n",
              "    </g>\n",
              "</svg>\n",
              "  </button>\n",
              "\n",
              "<style>\n",
              "  .colab-df-quickchart {\n",
              "    background-color: #E8F0FE;\n",
              "    border: none;\n",
              "    border-radius: 50%;\n",
              "    cursor: pointer;\n",
              "    display: none;\n",
              "    fill: #1967D2;\n",
              "    height: 32px;\n",
              "    padding: 0 0 0 0;\n",
              "    width: 32px;\n",
              "  }\n",
              "\n",
              "  .colab-df-quickchart:hover {\n",
              "    background-color: #E2EBFA;\n",
              "    box-shadow: 0px 1px 2px rgba(60, 64, 67, 0.3), 0px 1px 3px 1px rgba(60, 64, 67, 0.15);\n",
              "    fill: #174EA6;\n",
              "  }\n",
              "\n",
              "  [theme=dark] .colab-df-quickchart {\n",
              "    background-color: #3B4455;\n",
              "    fill: #D2E3FC;\n",
              "  }\n",
              "\n",
              "  [theme=dark] .colab-df-quickchart:hover {\n",
              "    background-color: #434B5C;\n",
              "    box-shadow: 0px 1px 3px 1px rgba(0, 0, 0, 0.15);\n",
              "    filter: drop-shadow(0px 1px 2px rgba(0, 0, 0, 0.3));\n",
              "    fill: #FFFFFF;\n",
              "  }\n",
              "</style>\n",
              "\n",
              "  <script>\n",
              "    async function quickchart(key) {\n",
              "      const charts = await google.colab.kernel.invokeFunction(\n",
              "          'suggestCharts', [key], {});\n",
              "    }\n",
              "    (() => {\n",
              "      let quickchartButtonEl =\n",
              "        document.querySelector('#df-9b4d84c9-b851-4f84-bd5f-0b76ecde13df button');\n",
              "      quickchartButtonEl.style.display =\n",
              "        google.colab.kernel.accessAllowed ? 'block' : 'none';\n",
              "    })();\n",
              "  </script>\n",
              "</div>\n",
              "    </div>\n",
              "  </div>\n"
            ]
          },
          "metadata": {},
          "execution_count": 122
        }
      ]
    },
    {
      "cell_type": "code",
      "source": [
        "# Unimos con dataset\n",
        "df = pd.concat([df, ohe], axis=1)\n",
        "df.info()"
      ],
      "metadata": {
        "colab": {
          "base_uri": "https://localhost:8080/"
        },
        "id": "PkvD0gmQrA_v",
        "outputId": "bb9f80a7-5042-41fb-fa17-11f8a887f741"
      },
      "execution_count": null,
      "outputs": [
        {
          "output_type": "stream",
          "name": "stdout",
          "text": [
            "<class 'pandas.core.frame.DataFrame'>\n",
            "RangeIndex: 550068 entries, 0 to 550067\n",
            "Data columns (total 13 columns):\n",
            " #   Column                      Non-Null Count   Dtype  \n",
            "---  ------                      --------------   -----  \n",
            " 0   User_ID                     550068 non-null  int64  \n",
            " 1   Product_ID                  550068 non-null  object \n",
            " 2   Gender                      550068 non-null  float64\n",
            " 3   Age                         550068 non-null  float64\n",
            " 4   Occupation                  550068 non-null  int64  \n",
            " 5   City_Category               550068 non-null  object \n",
            " 6   Stay_In_Current_City_Years  550068 non-null  float64\n",
            " 7   Marital_Status              550068 non-null  int64  \n",
            " 8   Product_Category_1          550068 non-null  int64  \n",
            " 9   Purchase                    550068 non-null  int64  \n",
            " 10  City_Category_A             550068 non-null  uint8  \n",
            " 11  City_Category_B             550068 non-null  uint8  \n",
            " 12  City_Category_C             550068 non-null  uint8  \n",
            "dtypes: float64(3), int64(5), object(2), uint8(3)\n",
            "memory usage: 43.5+ MB\n"
          ]
        }
      ]
    },
    {
      "cell_type": "code",
      "source": [
        "df.head()"
      ],
      "metadata": {
        "colab": {
          "base_uri": "https://localhost:8080/",
          "height": 206
        },
        "id": "iabqFTNqruTp",
        "outputId": "b1e52166-b15a-4cca-8988-3200aa74f8e2"
      },
      "execution_count": null,
      "outputs": [
        {
          "output_type": "execute_result",
          "data": {
            "text/plain": [
              "   User_ID Product_ID  Gender  Age  Occupation City_Category  \\\n",
              "0  1000001  P00069042     0.0  0.0          10             A   \n",
              "1  1000001  P00248942     0.0  0.0          10             A   \n",
              "2  1000001  P00087842     0.0  0.0          10             A   \n",
              "3  1000001  P00085442     0.0  0.0          10             A   \n",
              "4  1000002  P00285442     1.0  6.0          16             C   \n",
              "\n",
              "   Stay_In_Current_City_Years  Marital_Status  Product_Category_1  Purchase  \\\n",
              "0                         2.0               0                   3      8370   \n",
              "1                         2.0               0                   1     15200   \n",
              "2                         2.0               0                  12      1422   \n",
              "3                         2.0               0                  12      1057   \n",
              "4                         4.0               0                   8      7969   \n",
              "\n",
              "   City_Category_A  City_Category_B  City_Category_C  \n",
              "0                1                0                0  \n",
              "1                1                0                0  \n",
              "2                1                0                0  \n",
              "3                1                0                0  \n",
              "4                0                0                1  "
            ],
            "text/html": [
              "\n",
              "  <div id=\"df-41ae153b-0fb0-400e-b1b5-9d583b2cb8ca\" class=\"colab-df-container\">\n",
              "    <div>\n",
              "<style scoped>\n",
              "    .dataframe tbody tr th:only-of-type {\n",
              "        vertical-align: middle;\n",
              "    }\n",
              "\n",
              "    .dataframe tbody tr th {\n",
              "        vertical-align: top;\n",
              "    }\n",
              "\n",
              "    .dataframe thead th {\n",
              "        text-align: right;\n",
              "    }\n",
              "</style>\n",
              "<table border=\"1\" class=\"dataframe\">\n",
              "  <thead>\n",
              "    <tr style=\"text-align: right;\">\n",
              "      <th></th>\n",
              "      <th>User_ID</th>\n",
              "      <th>Product_ID</th>\n",
              "      <th>Gender</th>\n",
              "      <th>Age</th>\n",
              "      <th>Occupation</th>\n",
              "      <th>City_Category</th>\n",
              "      <th>Stay_In_Current_City_Years</th>\n",
              "      <th>Marital_Status</th>\n",
              "      <th>Product_Category_1</th>\n",
              "      <th>Purchase</th>\n",
              "      <th>City_Category_A</th>\n",
              "      <th>City_Category_B</th>\n",
              "      <th>City_Category_C</th>\n",
              "    </tr>\n",
              "  </thead>\n",
              "  <tbody>\n",
              "    <tr>\n",
              "      <th>0</th>\n",
              "      <td>1000001</td>\n",
              "      <td>P00069042</td>\n",
              "      <td>0.0</td>\n",
              "      <td>0.0</td>\n",
              "      <td>10</td>\n",
              "      <td>A</td>\n",
              "      <td>2.0</td>\n",
              "      <td>0</td>\n",
              "      <td>3</td>\n",
              "      <td>8370</td>\n",
              "      <td>1</td>\n",
              "      <td>0</td>\n",
              "      <td>0</td>\n",
              "    </tr>\n",
              "    <tr>\n",
              "      <th>1</th>\n",
              "      <td>1000001</td>\n",
              "      <td>P00248942</td>\n",
              "      <td>0.0</td>\n",
              "      <td>0.0</td>\n",
              "      <td>10</td>\n",
              "      <td>A</td>\n",
              "      <td>2.0</td>\n",
              "      <td>0</td>\n",
              "      <td>1</td>\n",
              "      <td>15200</td>\n",
              "      <td>1</td>\n",
              "      <td>0</td>\n",
              "      <td>0</td>\n",
              "    </tr>\n",
              "    <tr>\n",
              "      <th>2</th>\n",
              "      <td>1000001</td>\n",
              "      <td>P00087842</td>\n",
              "      <td>0.0</td>\n",
              "      <td>0.0</td>\n",
              "      <td>10</td>\n",
              "      <td>A</td>\n",
              "      <td>2.0</td>\n",
              "      <td>0</td>\n",
              "      <td>12</td>\n",
              "      <td>1422</td>\n",
              "      <td>1</td>\n",
              "      <td>0</td>\n",
              "      <td>0</td>\n",
              "    </tr>\n",
              "    <tr>\n",
              "      <th>3</th>\n",
              "      <td>1000001</td>\n",
              "      <td>P00085442</td>\n",
              "      <td>0.0</td>\n",
              "      <td>0.0</td>\n",
              "      <td>10</td>\n",
              "      <td>A</td>\n",
              "      <td>2.0</td>\n",
              "      <td>0</td>\n",
              "      <td>12</td>\n",
              "      <td>1057</td>\n",
              "      <td>1</td>\n",
              "      <td>0</td>\n",
              "      <td>0</td>\n",
              "    </tr>\n",
              "    <tr>\n",
              "      <th>4</th>\n",
              "      <td>1000002</td>\n",
              "      <td>P00285442</td>\n",
              "      <td>1.0</td>\n",
              "      <td>6.0</td>\n",
              "      <td>16</td>\n",
              "      <td>C</td>\n",
              "      <td>4.0</td>\n",
              "      <td>0</td>\n",
              "      <td>8</td>\n",
              "      <td>7969</td>\n",
              "      <td>0</td>\n",
              "      <td>0</td>\n",
              "      <td>1</td>\n",
              "    </tr>\n",
              "  </tbody>\n",
              "</table>\n",
              "</div>\n",
              "    <div class=\"colab-df-buttons\">\n",
              "\n",
              "  <div class=\"colab-df-container\">\n",
              "    <button class=\"colab-df-convert\" onclick=\"convertToInteractive('df-41ae153b-0fb0-400e-b1b5-9d583b2cb8ca')\"\n",
              "            title=\"Convert this dataframe to an interactive table.\"\n",
              "            style=\"display:none;\">\n",
              "\n",
              "  <svg xmlns=\"http://www.w3.org/2000/svg\" height=\"24px\" viewBox=\"0 -960 960 960\">\n",
              "    <path d=\"M120-120v-720h720v720H120Zm60-500h600v-160H180v160Zm220 220h160v-160H400v160Zm0 220h160v-160H400v160ZM180-400h160v-160H180v160Zm440 0h160v-160H620v160ZM180-180h160v-160H180v160Zm440 0h160v-160H620v160Z\"/>\n",
              "  </svg>\n",
              "    </button>\n",
              "\n",
              "  <style>\n",
              "    .colab-df-container {\n",
              "      display:flex;\n",
              "      gap: 12px;\n",
              "    }\n",
              "\n",
              "    .colab-df-convert {\n",
              "      background-color: #E8F0FE;\n",
              "      border: none;\n",
              "      border-radius: 50%;\n",
              "      cursor: pointer;\n",
              "      display: none;\n",
              "      fill: #1967D2;\n",
              "      height: 32px;\n",
              "      padding: 0 0 0 0;\n",
              "      width: 32px;\n",
              "    }\n",
              "\n",
              "    .colab-df-convert:hover {\n",
              "      background-color: #E2EBFA;\n",
              "      box-shadow: 0px 1px 2px rgba(60, 64, 67, 0.3), 0px 1px 3px 1px rgba(60, 64, 67, 0.15);\n",
              "      fill: #174EA6;\n",
              "    }\n",
              "\n",
              "    .colab-df-buttons div {\n",
              "      margin-bottom: 4px;\n",
              "    }\n",
              "\n",
              "    [theme=dark] .colab-df-convert {\n",
              "      background-color: #3B4455;\n",
              "      fill: #D2E3FC;\n",
              "    }\n",
              "\n",
              "    [theme=dark] .colab-df-convert:hover {\n",
              "      background-color: #434B5C;\n",
              "      box-shadow: 0px 1px 3px 1px rgba(0, 0, 0, 0.15);\n",
              "      filter: drop-shadow(0px 1px 2px rgba(0, 0, 0, 0.3));\n",
              "      fill: #FFFFFF;\n",
              "    }\n",
              "  </style>\n",
              "\n",
              "    <script>\n",
              "      const buttonEl =\n",
              "        document.querySelector('#df-41ae153b-0fb0-400e-b1b5-9d583b2cb8ca button.colab-df-convert');\n",
              "      buttonEl.style.display =\n",
              "        google.colab.kernel.accessAllowed ? 'block' : 'none';\n",
              "\n",
              "      async function convertToInteractive(key) {\n",
              "        const element = document.querySelector('#df-41ae153b-0fb0-400e-b1b5-9d583b2cb8ca');\n",
              "        const dataTable =\n",
              "          await google.colab.kernel.invokeFunction('convertToInteractive',\n",
              "                                                    [key], {});\n",
              "        if (!dataTable) return;\n",
              "\n",
              "        const docLinkHtml = 'Like what you see? Visit the ' +\n",
              "          '<a target=\"_blank\" href=https://colab.research.google.com/notebooks/data_table.ipynb>data table notebook</a>'\n",
              "          + ' to learn more about interactive tables.';\n",
              "        element.innerHTML = '';\n",
              "        dataTable['output_type'] = 'display_data';\n",
              "        await google.colab.output.renderOutput(dataTable, element);\n",
              "        const docLink = document.createElement('div');\n",
              "        docLink.innerHTML = docLinkHtml;\n",
              "        element.appendChild(docLink);\n",
              "      }\n",
              "    </script>\n",
              "  </div>\n",
              "\n",
              "\n",
              "<div id=\"df-8a9810d1-793e-4f48-b135-4adc7f0a09bb\">\n",
              "  <button class=\"colab-df-quickchart\" onclick=\"quickchart('df-8a9810d1-793e-4f48-b135-4adc7f0a09bb')\"\n",
              "            title=\"Suggest charts.\"\n",
              "            style=\"display:none;\">\n",
              "\n",
              "<svg xmlns=\"http://www.w3.org/2000/svg\" height=\"24px\"viewBox=\"0 0 24 24\"\n",
              "     width=\"24px\">\n",
              "    <g>\n",
              "        <path d=\"M19 3H5c-1.1 0-2 .9-2 2v14c0 1.1.9 2 2 2h14c1.1 0 2-.9 2-2V5c0-1.1-.9-2-2-2zM9 17H7v-7h2v7zm4 0h-2V7h2v10zm4 0h-2v-4h2v4z\"/>\n",
              "    </g>\n",
              "</svg>\n",
              "  </button>\n",
              "\n",
              "<style>\n",
              "  .colab-df-quickchart {\n",
              "    background-color: #E8F0FE;\n",
              "    border: none;\n",
              "    border-radius: 50%;\n",
              "    cursor: pointer;\n",
              "    display: none;\n",
              "    fill: #1967D2;\n",
              "    height: 32px;\n",
              "    padding: 0 0 0 0;\n",
              "    width: 32px;\n",
              "  }\n",
              "\n",
              "  .colab-df-quickchart:hover {\n",
              "    background-color: #E2EBFA;\n",
              "    box-shadow: 0px 1px 2px rgba(60, 64, 67, 0.3), 0px 1px 3px 1px rgba(60, 64, 67, 0.15);\n",
              "    fill: #174EA6;\n",
              "  }\n",
              "\n",
              "  [theme=dark] .colab-df-quickchart {\n",
              "    background-color: #3B4455;\n",
              "    fill: #D2E3FC;\n",
              "  }\n",
              "\n",
              "  [theme=dark] .colab-df-quickchart:hover {\n",
              "    background-color: #434B5C;\n",
              "    box-shadow: 0px 1px 3px 1px rgba(0, 0, 0, 0.15);\n",
              "    filter: drop-shadow(0px 1px 2px rgba(0, 0, 0, 0.3));\n",
              "    fill: #FFFFFF;\n",
              "  }\n",
              "</style>\n",
              "\n",
              "  <script>\n",
              "    async function quickchart(key) {\n",
              "      const charts = await google.colab.kernel.invokeFunction(\n",
              "          'suggestCharts', [key], {});\n",
              "    }\n",
              "    (() => {\n",
              "      let quickchartButtonEl =\n",
              "        document.querySelector('#df-8a9810d1-793e-4f48-b135-4adc7f0a09bb button');\n",
              "      quickchartButtonEl.style.display =\n",
              "        google.colab.kernel.accessAllowed ? 'block' : 'none';\n",
              "    })();\n",
              "  </script>\n",
              "</div>\n",
              "    </div>\n",
              "  </div>\n"
            ]
          },
          "metadata": {},
          "execution_count": 124
        }
      ]
    },
    {
      "cell_type": "code",
      "source": [
        "# creamos nueva feature que será nuestra variable objetivo\n",
        "df['Purchase_Quantity'] = df['Purchase'].apply(lambda purchase:0 if purchase<=9000 else 1)\n",
        "df.head(10)"
      ],
      "metadata": {
        "colab": {
          "base_uri": "https://localhost:8080/",
          "height": 383
        },
        "id": "RalctJQLr4Ob",
        "outputId": "aa99a6fd-9d85-408d-d1fa-fbee631b9998"
      },
      "execution_count": null,
      "outputs": [
        {
          "output_type": "execute_result",
          "data": {
            "text/plain": [
              "   User_ID Product_ID  Gender  Age  Occupation City_Category  \\\n",
              "0  1000001  P00069042     0.0  0.0          10             A   \n",
              "1  1000001  P00248942     0.0  0.0          10             A   \n",
              "2  1000001  P00087842     0.0  0.0          10             A   \n",
              "3  1000001  P00085442     0.0  0.0          10             A   \n",
              "4  1000002  P00285442     1.0  6.0          16             C   \n",
              "5  1000003  P00193542     1.0  2.0          15             A   \n",
              "6  1000004  P00184942     1.0  4.0           7             B   \n",
              "7  1000004  P00346142     1.0  4.0           7             B   \n",
              "8  1000004   P0097242     1.0  4.0           7             B   \n",
              "9  1000005  P00274942     1.0  2.0          20             A   \n",
              "\n",
              "   Stay_In_Current_City_Years  Marital_Status  Product_Category_1  Purchase  \\\n",
              "0                         2.0               0                   3      8370   \n",
              "1                         2.0               0                   1     15200   \n",
              "2                         2.0               0                  12      1422   \n",
              "3                         2.0               0                  12      1057   \n",
              "4                         4.0               0                   8      7969   \n",
              "5                         3.0               0                   1     15227   \n",
              "6                         2.0               1                   1     19215   \n",
              "7                         2.0               1                   1     15854   \n",
              "8                         2.0               1                   1     15686   \n",
              "9                         1.0               1                   8      7871   \n",
              "\n",
              "   City_Category_A  City_Category_B  City_Category_C  Purchase_Quantity  \n",
              "0                1                0                0                  0  \n",
              "1                1                0                0                  1  \n",
              "2                1                0                0                  0  \n",
              "3                1                0                0                  0  \n",
              "4                0                0                1                  0  \n",
              "5                1                0                0                  1  \n",
              "6                0                1                0                  1  \n",
              "7                0                1                0                  1  \n",
              "8                0                1                0                  1  \n",
              "9                1                0                0                  0  "
            ],
            "text/html": [
              "\n",
              "  <div id=\"df-67b0efc4-9577-4984-a7fe-97fc4e284643\" class=\"colab-df-container\">\n",
              "    <div>\n",
              "<style scoped>\n",
              "    .dataframe tbody tr th:only-of-type {\n",
              "        vertical-align: middle;\n",
              "    }\n",
              "\n",
              "    .dataframe tbody tr th {\n",
              "        vertical-align: top;\n",
              "    }\n",
              "\n",
              "    .dataframe thead th {\n",
              "        text-align: right;\n",
              "    }\n",
              "</style>\n",
              "<table border=\"1\" class=\"dataframe\">\n",
              "  <thead>\n",
              "    <tr style=\"text-align: right;\">\n",
              "      <th></th>\n",
              "      <th>User_ID</th>\n",
              "      <th>Product_ID</th>\n",
              "      <th>Gender</th>\n",
              "      <th>Age</th>\n",
              "      <th>Occupation</th>\n",
              "      <th>City_Category</th>\n",
              "      <th>Stay_In_Current_City_Years</th>\n",
              "      <th>Marital_Status</th>\n",
              "      <th>Product_Category_1</th>\n",
              "      <th>Purchase</th>\n",
              "      <th>City_Category_A</th>\n",
              "      <th>City_Category_B</th>\n",
              "      <th>City_Category_C</th>\n",
              "      <th>Purchase_Quantity</th>\n",
              "    </tr>\n",
              "  </thead>\n",
              "  <tbody>\n",
              "    <tr>\n",
              "      <th>0</th>\n",
              "      <td>1000001</td>\n",
              "      <td>P00069042</td>\n",
              "      <td>0.0</td>\n",
              "      <td>0.0</td>\n",
              "      <td>10</td>\n",
              "      <td>A</td>\n",
              "      <td>2.0</td>\n",
              "      <td>0</td>\n",
              "      <td>3</td>\n",
              "      <td>8370</td>\n",
              "      <td>1</td>\n",
              "      <td>0</td>\n",
              "      <td>0</td>\n",
              "      <td>0</td>\n",
              "    </tr>\n",
              "    <tr>\n",
              "      <th>1</th>\n",
              "      <td>1000001</td>\n",
              "      <td>P00248942</td>\n",
              "      <td>0.0</td>\n",
              "      <td>0.0</td>\n",
              "      <td>10</td>\n",
              "      <td>A</td>\n",
              "      <td>2.0</td>\n",
              "      <td>0</td>\n",
              "      <td>1</td>\n",
              "      <td>15200</td>\n",
              "      <td>1</td>\n",
              "      <td>0</td>\n",
              "      <td>0</td>\n",
              "      <td>1</td>\n",
              "    </tr>\n",
              "    <tr>\n",
              "      <th>2</th>\n",
              "      <td>1000001</td>\n",
              "      <td>P00087842</td>\n",
              "      <td>0.0</td>\n",
              "      <td>0.0</td>\n",
              "      <td>10</td>\n",
              "      <td>A</td>\n",
              "      <td>2.0</td>\n",
              "      <td>0</td>\n",
              "      <td>12</td>\n",
              "      <td>1422</td>\n",
              "      <td>1</td>\n",
              "      <td>0</td>\n",
              "      <td>0</td>\n",
              "      <td>0</td>\n",
              "    </tr>\n",
              "    <tr>\n",
              "      <th>3</th>\n",
              "      <td>1000001</td>\n",
              "      <td>P00085442</td>\n",
              "      <td>0.0</td>\n",
              "      <td>0.0</td>\n",
              "      <td>10</td>\n",
              "      <td>A</td>\n",
              "      <td>2.0</td>\n",
              "      <td>0</td>\n",
              "      <td>12</td>\n",
              "      <td>1057</td>\n",
              "      <td>1</td>\n",
              "      <td>0</td>\n",
              "      <td>0</td>\n",
              "      <td>0</td>\n",
              "    </tr>\n",
              "    <tr>\n",
              "      <th>4</th>\n",
              "      <td>1000002</td>\n",
              "      <td>P00285442</td>\n",
              "      <td>1.0</td>\n",
              "      <td>6.0</td>\n",
              "      <td>16</td>\n",
              "      <td>C</td>\n",
              "      <td>4.0</td>\n",
              "      <td>0</td>\n",
              "      <td>8</td>\n",
              "      <td>7969</td>\n",
              "      <td>0</td>\n",
              "      <td>0</td>\n",
              "      <td>1</td>\n",
              "      <td>0</td>\n",
              "    </tr>\n",
              "    <tr>\n",
              "      <th>5</th>\n",
              "      <td>1000003</td>\n",
              "      <td>P00193542</td>\n",
              "      <td>1.0</td>\n",
              "      <td>2.0</td>\n",
              "      <td>15</td>\n",
              "      <td>A</td>\n",
              "      <td>3.0</td>\n",
              "      <td>0</td>\n",
              "      <td>1</td>\n",
              "      <td>15227</td>\n",
              "      <td>1</td>\n",
              "      <td>0</td>\n",
              "      <td>0</td>\n",
              "      <td>1</td>\n",
              "    </tr>\n",
              "    <tr>\n",
              "      <th>6</th>\n",
              "      <td>1000004</td>\n",
              "      <td>P00184942</td>\n",
              "      <td>1.0</td>\n",
              "      <td>4.0</td>\n",
              "      <td>7</td>\n",
              "      <td>B</td>\n",
              "      <td>2.0</td>\n",
              "      <td>1</td>\n",
              "      <td>1</td>\n",
              "      <td>19215</td>\n",
              "      <td>0</td>\n",
              "      <td>1</td>\n",
              "      <td>0</td>\n",
              "      <td>1</td>\n",
              "    </tr>\n",
              "    <tr>\n",
              "      <th>7</th>\n",
              "      <td>1000004</td>\n",
              "      <td>P00346142</td>\n",
              "      <td>1.0</td>\n",
              "      <td>4.0</td>\n",
              "      <td>7</td>\n",
              "      <td>B</td>\n",
              "      <td>2.0</td>\n",
              "      <td>1</td>\n",
              "      <td>1</td>\n",
              "      <td>15854</td>\n",
              "      <td>0</td>\n",
              "      <td>1</td>\n",
              "      <td>0</td>\n",
              "      <td>1</td>\n",
              "    </tr>\n",
              "    <tr>\n",
              "      <th>8</th>\n",
              "      <td>1000004</td>\n",
              "      <td>P0097242</td>\n",
              "      <td>1.0</td>\n",
              "      <td>4.0</td>\n",
              "      <td>7</td>\n",
              "      <td>B</td>\n",
              "      <td>2.0</td>\n",
              "      <td>1</td>\n",
              "      <td>1</td>\n",
              "      <td>15686</td>\n",
              "      <td>0</td>\n",
              "      <td>1</td>\n",
              "      <td>0</td>\n",
              "      <td>1</td>\n",
              "    </tr>\n",
              "    <tr>\n",
              "      <th>9</th>\n",
              "      <td>1000005</td>\n",
              "      <td>P00274942</td>\n",
              "      <td>1.0</td>\n",
              "      <td>2.0</td>\n",
              "      <td>20</td>\n",
              "      <td>A</td>\n",
              "      <td>1.0</td>\n",
              "      <td>1</td>\n",
              "      <td>8</td>\n",
              "      <td>7871</td>\n",
              "      <td>1</td>\n",
              "      <td>0</td>\n",
              "      <td>0</td>\n",
              "      <td>0</td>\n",
              "    </tr>\n",
              "  </tbody>\n",
              "</table>\n",
              "</div>\n",
              "    <div class=\"colab-df-buttons\">\n",
              "\n",
              "  <div class=\"colab-df-container\">\n",
              "    <button class=\"colab-df-convert\" onclick=\"convertToInteractive('df-67b0efc4-9577-4984-a7fe-97fc4e284643')\"\n",
              "            title=\"Convert this dataframe to an interactive table.\"\n",
              "            style=\"display:none;\">\n",
              "\n",
              "  <svg xmlns=\"http://www.w3.org/2000/svg\" height=\"24px\" viewBox=\"0 -960 960 960\">\n",
              "    <path d=\"M120-120v-720h720v720H120Zm60-500h600v-160H180v160Zm220 220h160v-160H400v160Zm0 220h160v-160H400v160ZM180-400h160v-160H180v160Zm440 0h160v-160H620v160ZM180-180h160v-160H180v160Zm440 0h160v-160H620v160Z\"/>\n",
              "  </svg>\n",
              "    </button>\n",
              "\n",
              "  <style>\n",
              "    .colab-df-container {\n",
              "      display:flex;\n",
              "      gap: 12px;\n",
              "    }\n",
              "\n",
              "    .colab-df-convert {\n",
              "      background-color: #E8F0FE;\n",
              "      border: none;\n",
              "      border-radius: 50%;\n",
              "      cursor: pointer;\n",
              "      display: none;\n",
              "      fill: #1967D2;\n",
              "      height: 32px;\n",
              "      padding: 0 0 0 0;\n",
              "      width: 32px;\n",
              "    }\n",
              "\n",
              "    .colab-df-convert:hover {\n",
              "      background-color: #E2EBFA;\n",
              "      box-shadow: 0px 1px 2px rgba(60, 64, 67, 0.3), 0px 1px 3px 1px rgba(60, 64, 67, 0.15);\n",
              "      fill: #174EA6;\n",
              "    }\n",
              "\n",
              "    .colab-df-buttons div {\n",
              "      margin-bottom: 4px;\n",
              "    }\n",
              "\n",
              "    [theme=dark] .colab-df-convert {\n",
              "      background-color: #3B4455;\n",
              "      fill: #D2E3FC;\n",
              "    }\n",
              "\n",
              "    [theme=dark] .colab-df-convert:hover {\n",
              "      background-color: #434B5C;\n",
              "      box-shadow: 0px 1px 3px 1px rgba(0, 0, 0, 0.15);\n",
              "      filter: drop-shadow(0px 1px 2px rgba(0, 0, 0, 0.3));\n",
              "      fill: #FFFFFF;\n",
              "    }\n",
              "  </style>\n",
              "\n",
              "    <script>\n",
              "      const buttonEl =\n",
              "        document.querySelector('#df-67b0efc4-9577-4984-a7fe-97fc4e284643 button.colab-df-convert');\n",
              "      buttonEl.style.display =\n",
              "        google.colab.kernel.accessAllowed ? 'block' : 'none';\n",
              "\n",
              "      async function convertToInteractive(key) {\n",
              "        const element = document.querySelector('#df-67b0efc4-9577-4984-a7fe-97fc4e284643');\n",
              "        const dataTable =\n",
              "          await google.colab.kernel.invokeFunction('convertToInteractive',\n",
              "                                                    [key], {});\n",
              "        if (!dataTable) return;\n",
              "\n",
              "        const docLinkHtml = 'Like what you see? Visit the ' +\n",
              "          '<a target=\"_blank\" href=https://colab.research.google.com/notebooks/data_table.ipynb>data table notebook</a>'\n",
              "          + ' to learn more about interactive tables.';\n",
              "        element.innerHTML = '';\n",
              "        dataTable['output_type'] = 'display_data';\n",
              "        await google.colab.output.renderOutput(dataTable, element);\n",
              "        const docLink = document.createElement('div');\n",
              "        docLink.innerHTML = docLinkHtml;\n",
              "        element.appendChild(docLink);\n",
              "      }\n",
              "    </script>\n",
              "  </div>\n",
              "\n",
              "\n",
              "<div id=\"df-7c9784ed-c161-4ba1-9d7e-6469f4ebb0b9\">\n",
              "  <button class=\"colab-df-quickchart\" onclick=\"quickchart('df-7c9784ed-c161-4ba1-9d7e-6469f4ebb0b9')\"\n",
              "            title=\"Suggest charts.\"\n",
              "            style=\"display:none;\">\n",
              "\n",
              "<svg xmlns=\"http://www.w3.org/2000/svg\" height=\"24px\"viewBox=\"0 0 24 24\"\n",
              "     width=\"24px\">\n",
              "    <g>\n",
              "        <path d=\"M19 3H5c-1.1 0-2 .9-2 2v14c0 1.1.9 2 2 2h14c1.1 0 2-.9 2-2V5c0-1.1-.9-2-2-2zM9 17H7v-7h2v7zm4 0h-2V7h2v10zm4 0h-2v-4h2v4z\"/>\n",
              "    </g>\n",
              "</svg>\n",
              "  </button>\n",
              "\n",
              "<style>\n",
              "  .colab-df-quickchart {\n",
              "    background-color: #E8F0FE;\n",
              "    border: none;\n",
              "    border-radius: 50%;\n",
              "    cursor: pointer;\n",
              "    display: none;\n",
              "    fill: #1967D2;\n",
              "    height: 32px;\n",
              "    padding: 0 0 0 0;\n",
              "    width: 32px;\n",
              "  }\n",
              "\n",
              "  .colab-df-quickchart:hover {\n",
              "    background-color: #E2EBFA;\n",
              "    box-shadow: 0px 1px 2px rgba(60, 64, 67, 0.3), 0px 1px 3px 1px rgba(60, 64, 67, 0.15);\n",
              "    fill: #174EA6;\n",
              "  }\n",
              "\n",
              "  [theme=dark] .colab-df-quickchart {\n",
              "    background-color: #3B4455;\n",
              "    fill: #D2E3FC;\n",
              "  }\n",
              "\n",
              "  [theme=dark] .colab-df-quickchart:hover {\n",
              "    background-color: #434B5C;\n",
              "    box-shadow: 0px 1px 3px 1px rgba(0, 0, 0, 0.15);\n",
              "    filter: drop-shadow(0px 1px 2px rgba(0, 0, 0, 0.3));\n",
              "    fill: #FFFFFF;\n",
              "  }\n",
              "</style>\n",
              "\n",
              "  <script>\n",
              "    async function quickchart(key) {\n",
              "      const charts = await google.colab.kernel.invokeFunction(\n",
              "          'suggestCharts', [key], {});\n",
              "    }\n",
              "    (() => {\n",
              "      let quickchartButtonEl =\n",
              "        document.querySelector('#df-7c9784ed-c161-4ba1-9d7e-6469f4ebb0b9 button');\n",
              "      quickchartButtonEl.style.display =\n",
              "        google.colab.kernel.accessAllowed ? 'block' : 'none';\n",
              "    })();\n",
              "  </script>\n",
              "</div>\n",
              "    </div>\n",
              "  </div>\n"
            ]
          },
          "metadata": {},
          "execution_count": 125
        }
      ]
    },
    {
      "cell_type": "code",
      "source": [
        "# features que reservamos a Embedding\n",
        "user_id = df['User_ID']\n",
        "prd_id = df['Product_ID']\n",
        "# armamos x e y\n",
        "x = df.drop(columns=['City_Category', 'Purchase', 'Purchase_Quantity', 'User_ID', 'Product_ID'], axis=1)\n",
        "y = df['Purchase_Quantity']"
      ],
      "metadata": {
        "id": "Ql4WqKemtqfj"
      },
      "execution_count": null,
      "outputs": []
    },
    {
      "cell_type": "code",
      "source": [
        "x.info()"
      ],
      "metadata": {
        "colab": {
          "base_uri": "https://localhost:8080/"
        },
        "id": "9AKuxcviysLv",
        "outputId": "3bf3cf77-78ab-4d1b-f97d-fd771a5f20c4"
      },
      "execution_count": null,
      "outputs": [
        {
          "output_type": "stream",
          "name": "stdout",
          "text": [
            "<class 'pandas.core.frame.DataFrame'>\n",
            "RangeIndex: 550068 entries, 0 to 550067\n",
            "Data columns (total 9 columns):\n",
            " #   Column                      Non-Null Count   Dtype  \n",
            "---  ------                      --------------   -----  \n",
            " 0   Gender                      550068 non-null  float64\n",
            " 1   Age                         550068 non-null  float64\n",
            " 2   Occupation                  550068 non-null  int64  \n",
            " 3   Stay_In_Current_City_Years  550068 non-null  float64\n",
            " 4   Marital_Status              550068 non-null  int64  \n",
            " 5   Product_Category_1          550068 non-null  int64  \n",
            " 6   City_Category_A             550068 non-null  uint8  \n",
            " 7   City_Category_B             550068 non-null  uint8  \n",
            " 8   City_Category_C             550068 non-null  uint8  \n",
            "dtypes: float64(3), int64(3), uint8(3)\n",
            "memory usage: 26.8 MB\n"
          ]
        }
      ]
    },
    {
      "cell_type": "code",
      "source": [
        "# paso el resto de features a punto flotante\n",
        "list_feature = ['Occupation', 'Marital_Status', 'Product_Category_1',\n",
        "            'City_Category_A', 'City_Category_B', 'City_Category_C']\n",
        "for i in range(len(list_feature)):\n",
        "  x[list_feature[i]] = x[list_feature[i]].astype(float)\n",
        "\n",
        "x.info()"
      ],
      "metadata": {
        "colab": {
          "base_uri": "https://localhost:8080/"
        },
        "id": "_fRtD2Bfy3A9",
        "outputId": "65ae3ca3-969f-411a-ced0-809f16f47830"
      },
      "execution_count": null,
      "outputs": [
        {
          "output_type": "stream",
          "name": "stdout",
          "text": [
            "<class 'pandas.core.frame.DataFrame'>\n",
            "RangeIndex: 550068 entries, 0 to 550067\n",
            "Data columns (total 9 columns):\n",
            " #   Column                      Non-Null Count   Dtype  \n",
            "---  ------                      --------------   -----  \n",
            " 0   Gender                      550068 non-null  float64\n",
            " 1   Age                         550068 non-null  float64\n",
            " 2   Occupation                  550068 non-null  float64\n",
            " 3   Stay_In_Current_City_Years  550068 non-null  float64\n",
            " 4   Marital_Status              550068 non-null  float64\n",
            " 5   Product_Category_1          550068 non-null  float64\n",
            " 6   City_Category_A             550068 non-null  float64\n",
            " 7   City_Category_B             550068 non-null  float64\n",
            " 8   City_Category_C             550068 non-null  float64\n",
            "dtypes: float64(9)\n",
            "memory usage: 37.8 MB\n"
          ]
        }
      ]
    },
    {
      "cell_type": "code",
      "source": [
        "y.info()"
      ],
      "metadata": {
        "colab": {
          "base_uri": "https://localhost:8080/"
        },
        "id": "hU4H-Y1T0Jj7",
        "outputId": "557cca14-f0f8-446f-c778-ce74bd6b3fe7"
      },
      "execution_count": null,
      "outputs": [
        {
          "output_type": "stream",
          "name": "stdout",
          "text": [
            "<class 'pandas.core.series.Series'>\n",
            "RangeIndex: 550068 entries, 0 to 550067\n",
            "Series name: Purchase_Quantity\n",
            "Non-Null Count   Dtype\n",
            "--------------   -----\n",
            "550068 non-null  int64\n",
            "dtypes: int64(1)\n",
            "memory usage: 4.2 MB\n"
          ]
        }
      ]
    },
    {
      "cell_type": "markdown",
      "source": [
        "#### Normalizamos"
      ],
      "metadata": {
        "id": "SAlYl1ER0SlE"
      }
    },
    {
      "cell_type": "code",
      "source": [
        "x.var(ddof=0)"
      ],
      "metadata": {
        "colab": {
          "base_uri": "https://localhost:8080/"
        },
        "id": "AeJgzxmx0RFd",
        "outputId": "7c9e5101-c39d-483a-f3fb-48ef9be56a55"
      },
      "execution_count": null,
      "outputs": [
        {
          "output_type": "execute_result",
          "data": {
            "text/plain": [
              "Gender                         0.185938\n",
              "Age                            1.832315\n",
              "Occupation                    42.545022\n",
              "Stay_In_Current_City_Years     1.662659\n",
              "Marital_Status                 0.241837\n",
              "Product_Category_1            15.493732\n",
              "City_Category_A                0.196430\n",
              "City_Category_B                0.243642\n",
              "City_Category_C                0.214350\n",
              "dtype: float64"
            ]
          },
          "metadata": {},
          "execution_count": 130
        }
      ]
    },
    {
      "cell_type": "code",
      "source": [
        "# guardo nombre de las columnas\n",
        "x_columns = x.columns\n",
        "x_columns"
      ],
      "metadata": {
        "colab": {
          "base_uri": "https://localhost:8080/"
        },
        "id": "DLevY58i34gs",
        "outputId": "ff6eb423-bd55-4c8f-9725-298e4a0d6907"
      },
      "execution_count": null,
      "outputs": [
        {
          "output_type": "execute_result",
          "data": {
            "text/plain": [
              "Index(['Gender', 'Age', 'Occupation', 'Stay_In_Current_City_Years',\n",
              "       'Marital_Status', 'Product_Category_1', 'City_Category_A',\n",
              "       'City_Category_B', 'City_Category_C'],\n",
              "      dtype='object')"
            ]
          },
          "metadata": {},
          "execution_count": 131
        }
      ]
    },
    {
      "cell_type": "code",
      "source": [
        "# Normalizamos\n",
        "standard_scale = StandardScaler()\n",
        "x_scaled = standard_scale.fit_transform(x[x_columns])\n",
        "\n",
        "# convertimos de vuelta dataframe\n",
        "x = pd.DataFrame(x_scaled, columns=x_columns)\n",
        "x.var(ddof=0)"
      ],
      "metadata": {
        "colab": {
          "base_uri": "https://localhost:8080/"
        },
        "id": "yGQVAOnB13sI",
        "outputId": "71c476d5-70b0-438c-f8b8-76424dacb3d6"
      },
      "execution_count": null,
      "outputs": [
        {
          "output_type": "execute_result",
          "data": {
            "text/plain": [
              "Gender                        1.0\n",
              "Age                           1.0\n",
              "Occupation                    1.0\n",
              "Stay_In_Current_City_Years    1.0\n",
              "Marital_Status                1.0\n",
              "Product_Category_1            1.0\n",
              "City_Category_A               1.0\n",
              "City_Category_B               1.0\n",
              "City_Category_C               1.0\n",
              "dtype: float64"
            ]
          },
          "metadata": {},
          "execution_count": 132
        }
      ]
    },
    {
      "cell_type": "code",
      "source": [
        "# pasamos x e y a formato numpy\n",
        "x = x.to_numpy()\n",
        "y = y.to_numpy()"
      ],
      "metadata": {
        "id": "YP5aLUPH5PQO"
      },
      "execution_count": null,
      "outputs": []
    },
    {
      "cell_type": "markdown",
      "source": [
        "#### Dividimos dataset"
      ],
      "metadata": {
        "id": "kpsSAXdG59nJ"
      }
    },
    {
      "cell_type": "code",
      "source": [
        "# dividimos dataset\n",
        "train_ratio = 0.70\n",
        "test_ratio = 0.30\n",
        "\n",
        "X_train, X_test, y_train, y_test = train_test_split(x, y, test_size=test_ratio)\n",
        "print(\"Train: \", X_train.shape,y_train.shape)\n",
        "print(\"Test:\", X_test.shape,y_test.shape)"
      ],
      "metadata": {
        "colab": {
          "base_uri": "https://localhost:8080/"
        },
        "id": "g--HppTQ5tat",
        "outputId": "751c6eac-1b04-4ae2-fdae-cdd6fe08f057"
      },
      "execution_count": null,
      "outputs": [
        {
          "output_type": "stream",
          "name": "stdout",
          "text": [
            "Train:  (385047, 9) (385047,)\n",
            "Test: (165021, 9) (165021,)\n"
          ]
        }
      ]
    },
    {
      "cell_type": "markdown",
      "source": [
        "### Modelo sin Embeddings"
      ],
      "metadata": {
        "id": "rSY1Yikz7dZs"
      }
    },
    {
      "cell_type": "code",
      "source": [
        "import torch\n",
        "from torch.utils.data import Dataset, DataLoader\n",
        "from sklearn import metrics\n",
        "from tqdm import tqdm\n",
        "import seaborn as sns"
      ],
      "metadata": {
        "id": "dalOhSFu7mQv"
      },
      "execution_count": null,
      "outputs": []
    },
    {
      "cell_type": "code",
      "source": [
        "# armamos clase dataset de pytorch\n",
        "class CustomDataset(Dataset):\n",
        "  def __init__(self, x, y):\n",
        "        self.x = x\n",
        "        self.y = y\n",
        "\n",
        "  def __len__(self):\n",
        "    return len(self.x)\n",
        "\n",
        "  def __getitem__(self, idx):\n",
        "    return self.x[idx], self.y[idx]"
      ],
      "metadata": {
        "id": "XBDVVFqBFHD6"
      },
      "execution_count": null,
      "outputs": []
    },
    {
      "cell_type": "code",
      "source": [
        "# armo dataset de entrenamiento y test\n",
        "train_dataset = CustomDataset(X_train, y_train)\n",
        "test_dataset = CustomDataset(X_test, y_test)"
      ],
      "metadata": {
        "id": "5QNtrSg9G1PW"
      },
      "execution_count": null,
      "outputs": []
    },
    {
      "cell_type": "code",
      "source": [
        "# pruebo funcionamiento de __len__\n",
        "len(train_dataset)"
      ],
      "metadata": {
        "colab": {
          "base_uri": "https://localhost:8080/"
        },
        "id": "MpMcL2IQIC0e",
        "outputId": "3d65dc76-ce8b-42d2-d9d4-9de9b0017d5d"
      },
      "execution_count": null,
      "outputs": [
        {
          "output_type": "execute_result",
          "data": {
            "text/plain": [
              "385047"
            ]
          },
          "metadata": {},
          "execution_count": 138
        }
      ]
    },
    {
      "cell_type": "code",
      "source": [
        "# pruebo funcionamiento de __getitem__\n",
        "train_dataset[5]"
      ],
      "metadata": {
        "colab": {
          "base_uri": "https://localhost:8080/"
        },
        "id": "lzoxPtOtIMAx",
        "outputId": "b8ed5dfa-428f-4e69-bc08-12c97d7f6902"
      },
      "execution_count": null,
      "outputs": [
        {
          "output_type": "execute_result",
          "data": {
            "text/plain": [
              "(array([ 0.57256962, -1.10549345, -0.47169551, -1.44125784,  1.20045427,\n",
              "         0.65944943, -0.6059248 ,  1.17450616, -0.67214331]),\n",
              " 1)"
            ]
          },
          "metadata": {},
          "execution_count": 139
        }
      ]
    },
    {
      "cell_type": "code",
      "source": [
        "# cargo la data en batches\n",
        "train_dl = DataLoader(train_dataset, batch_size=1000, shuffle=True)\n",
        "test_dl = DataLoader(test_dataset, batch_size=1000)"
      ],
      "metadata": {
        "id": "gDztpHpXIkJF"
      },
      "execution_count": null,
      "outputs": []
    },
    {
      "cell_type": "code",
      "source": [
        "# Armamos arquitectura\n",
        "class NN(torch.nn.Module):\n",
        "  def __init__(self) -> None:\n",
        "    super().__init__()\n",
        "    self.Linear_1 = torch.nn.Linear(in_features=9, out_features=512, bias=True)\n",
        "    self.relu_1 = torch.nn.ReLU()\n",
        "    self.Linear_2 = torch.nn.Linear(in_features=512, out_features=200, bias=True)\n",
        "    self.relu_2 = torch.nn.ReLU()\n",
        "    self.Linear_3 = torch.nn.Linear(in_features=200, out_features=1, bias=True)\n",
        "\n",
        "  def forward(self, x):\n",
        "    x = self.Linear_1(x)\n",
        "    x = self.relu_1(x)\n",
        "    x = self.Linear_2(x)\n",
        "    x = self.relu_2(x)\n",
        "    x = self.Linear_3(x)\n",
        "    return x"
      ],
      "metadata": {
        "id": "JnWowO2OLBPE"
      },
      "execution_count": null,
      "outputs": []
    },
    {
      "cell_type": "code",
      "source": [
        "# instanciamos la NN\n",
        "nn = NN()\n",
        "print(nn)"
      ],
      "metadata": {
        "colab": {
          "base_uri": "https://localhost:8080/"
        },
        "id": "FKh_hnfdhFb6",
        "outputId": "a6b54bd8-f306-4735-cf6d-3e71bf5a0d4c"
      },
      "execution_count": null,
      "outputs": [
        {
          "output_type": "stream",
          "name": "stdout",
          "text": [
            "NN(\n",
            "  (Linear_1): Linear(in_features=9, out_features=512, bias=True)\n",
            "  (relu_1): ReLU()\n",
            "  (Linear_2): Linear(in_features=512, out_features=200, bias=True)\n",
            "  (relu_2): ReLU()\n",
            "  (Linear_3): Linear(in_features=200, out_features=1, bias=True)\n",
            ")\n"
          ]
        }
      ]
    },
    {
      "cell_type": "code",
      "source": [
        "# configuramos device\n",
        "device = \"cpu\"\n",
        "if torch.cuda.is_available():\n",
        "  device = \"cuda:0\"\n",
        "\n",
        "# copio NN al cpu/gpu\n",
        "nn = nn.to(device)\n",
        "print(f\"la NN se encuentran en el {device}\")"
      ],
      "metadata": {
        "colab": {
          "base_uri": "https://localhost:8080/"
        },
        "id": "rMoCKH5ZhT_-",
        "outputId": "c57424f1-3223-42eb-9722-65ea132402ac"
      },
      "execution_count": null,
      "outputs": [
        {
          "output_type": "stream",
          "name": "stdout",
          "text": [
            "la NN se encuentran en el cuda:0\n"
          ]
        }
      ]
    },
    {
      "cell_type": "code",
      "source": [
        "# creamos funcion de perdida\n",
        "loss_fn = torch.nn.BCEWithLogitsLoss(reduction='sum')\n",
        "# instanciamos optimizador de Adam\n",
        "opt = torch.optim.Adam(nn.parameters(), lr=0.0001)"
      ],
      "metadata": {
        "id": "hDOYO3JTkHgD"
      },
      "execution_count": null,
      "outputs": []
    },
    {
      "cell_type": "code",
      "source": [
        "# Mini-batch\n",
        "n_epoch = 100\n",
        "train_loss = []\n",
        "test_loss = []\n",
        "\n",
        "for epoch in tqdm(range(n_epoch)):\n",
        "  # Entrenamiento de la NN\n",
        "  nn.train(True)\n",
        "\n",
        "  # inicializamos variables\n",
        "  loss_epoch = 0 # perdida por epoca\n",
        "  y_epoch = []  # guarda valor real\n",
        "  y_pred_epoch = [] # guarda valor predicho\n",
        "\n",
        "  for i,data in enumerate(train_dl):\n",
        "    # obtenemos batch del set de entrenamiento\n",
        "    x_batch, y_batch = data\n",
        "    # copiamos batch al dispositivo donde esta la NN\n",
        "    x_batch = x_batch.to(device).float()\n",
        "    y_batch = y_batch.to(device).float().reshape(-1,1)\n",
        "\n",
        "    # limpio el optimizador\n",
        "    opt.zero_grad()\n",
        "    # paso forward\n",
        "    nn_forward_out = nn(x_batch)\n",
        "    y_batch_pred = torch.sigmoid(nn_forward_out) #utilizo sigmoid para la clasificacion.\n",
        "\n",
        "    # calculo de la perdida -> loss(input, target)\n",
        "    loss = loss_fn(nn_forward_out, y_batch)\n",
        "\n",
        "    # paso backward\n",
        "    loss.backward()\n",
        "\n",
        "    # Actualizamos parametros\n",
        "    opt.step()\n",
        "\n",
        "    # guardamos valor real y predicho\n",
        "    y_epoch += list(y_batch.detach().cpu().numpy())\n",
        "    y_pred_epoch += list(y_batch_pred.detach().cpu().numpy())\n",
        "\n",
        "    # acumulo la perdida\n",
        "    loss_epoch += loss.item()\n",
        "\n",
        "  loss_epoch = loss_epoch / X_train.shape[0]\n",
        "  train_loss.append(loss_epoch)\n",
        "\n",
        "  # accuracy por epoca\n",
        "  accuracy = metrics.accuracy_score(y_epoch, [j>=0.5 for j in y_pred_epoch])\n",
        "\n",
        "  ############\n",
        "  # test dataset\n",
        "  # modo de prediccion\n",
        "  nn.train(False)\n",
        "\n",
        "  loss_epoch_test = 0\n",
        "  y_epoch_test = []\n",
        "  y_pred_epoch_test = []\n",
        "\n",
        "  for i,data in enumerate(test_dl):\n",
        "\n",
        "    x_batch, y_batch = data\n",
        "    x_batch = x_batch.to(device).float()\n",
        "    y_batch = y_batch.to(device).float().reshape(-1,1)\n",
        "\n",
        "    #forward\n",
        "    nn_forward_out = nn(x_batch)\n",
        "    y_batch_pred = torch.sigmoid(nn_forward_out)\n",
        "\n",
        "    # perdida\n",
        "    loss = loss_fn(nn_forward_out, y_batch)\n",
        "\n",
        "    # guardamos valores reales y predichos\n",
        "    y_epoch_test += list(y_batch.detach().cpu().numpy())\n",
        "    y_pred_epoch_test += list(y_batch_pred.detach().cpu().numpy())\n",
        "\n",
        "    # acumulamos perdida\n",
        "    loss_epoch_test += loss.item()\n",
        "\n",
        "  loss_epoch_test = loss_epoch_test / X_test.shape[0]\n",
        "  test_loss.append(loss_epoch_test)\n",
        "  # sacamos metrica\n",
        "  accuracy_test = metrics.accuracy_score(y_epoch_test, [ j >= 0.5 for j in y_pred_epoch_test])\n",
        "\n",
        "  print(f\"\\nEpoch {epoch +1} | \" \\\n",
        "      f\"Train/Test loss: {loss_epoch:.3f} / {loss_epoch_test:.3f} | \" \\\n",
        "      f\"Train/Test accuracy: {accuracy:.3f} / {accuracy_test:.3f}\")"
      ],
      "metadata": {
        "colab": {
          "base_uri": "https://localhost:8080/"
        },
        "id": "Q5c_tUPfqlm5",
        "outputId": "582626a6-f03b-4eb4-a890-5e7b0071c206"
      },
      "execution_count": null,
      "outputs": [
        {
          "output_type": "stream",
          "name": "stderr",
          "text": [
            "  1%|          | 1/100 [00:07<11:37,  7.04s/it]"
          ]
        },
        {
          "output_type": "stream",
          "name": "stdout",
          "text": [
            "\n",
            "Epoch 1 | Train/Test loss: 0.535 / 0.487 | Train/Test accuracy: 0.771 / 0.783\n"
          ]
        },
        {
          "output_type": "stream",
          "name": "stderr",
          "text": [
            "\r  2%|▏         | 2/100 [00:13<11:14,  6.88s/it]"
          ]
        },
        {
          "output_type": "stream",
          "name": "stdout",
          "text": [
            "\n",
            "Epoch 2 | Train/Test loss: 0.483 / 0.476 | Train/Test accuracy: 0.784 / 0.790\n"
          ]
        },
        {
          "output_type": "stream",
          "name": "stderr",
          "text": [
            "\r  3%|▎         | 3/100 [00:19<10:13,  6.32s/it]"
          ]
        },
        {
          "output_type": "stream",
          "name": "stdout",
          "text": [
            "\n",
            "Epoch 3 | Train/Test loss: 0.472 / 0.464 | Train/Test accuracy: 0.789 / 0.790\n"
          ]
        },
        {
          "output_type": "stream",
          "name": "stderr",
          "text": [
            "\r  4%|▍         | 4/100 [00:26<10:15,  6.42s/it]"
          ]
        },
        {
          "output_type": "stream",
          "name": "stdout",
          "text": [
            "\n",
            "Epoch 4 | Train/Test loss: 0.460 / 0.452 | Train/Test accuracy: 0.789 / 0.790\n"
          ]
        },
        {
          "output_type": "stream",
          "name": "stderr",
          "text": [
            "\r  5%|▌         | 5/100 [00:31<09:44,  6.15s/it]"
          ]
        },
        {
          "output_type": "stream",
          "name": "stdout",
          "text": [
            "\n",
            "Epoch 5 | Train/Test loss: 0.448 / 0.440 | Train/Test accuracy: 0.788 / 0.790\n"
          ]
        },
        {
          "output_type": "stream",
          "name": "stderr",
          "text": [
            "\r  6%|▌         | 6/100 [00:38<09:53,  6.31s/it]"
          ]
        },
        {
          "output_type": "stream",
          "name": "stdout",
          "text": [
            "\n",
            "Epoch 6 | Train/Test loss: 0.437 / 0.429 | Train/Test accuracy: 0.789 / 0.790\n"
          ]
        },
        {
          "output_type": "stream",
          "name": "stderr",
          "text": [
            "\r  7%|▋         | 7/100 [00:43<09:20,  6.03s/it]"
          ]
        },
        {
          "output_type": "stream",
          "name": "stdout",
          "text": [
            "\n",
            "Epoch 7 | Train/Test loss: 0.426 / 0.419 | Train/Test accuracy: 0.789 / 0.792\n"
          ]
        },
        {
          "output_type": "stream",
          "name": "stderr",
          "text": [
            "\r  8%|▊         | 8/100 [00:50<09:38,  6.29s/it]"
          ]
        },
        {
          "output_type": "stream",
          "name": "stdout",
          "text": [
            "\n",
            "Epoch 8 | Train/Test loss: 0.416 / 0.409 | Train/Test accuracy: 0.791 / 0.797\n"
          ]
        },
        {
          "output_type": "stream",
          "name": "stderr",
          "text": [
            "\r  9%|▉         | 9/100 [00:56<09:11,  6.06s/it]"
          ]
        },
        {
          "output_type": "stream",
          "name": "stdout",
          "text": [
            "\n",
            "Epoch 9 | Train/Test loss: 0.407 / 0.400 | Train/Test accuracy: 0.801 / 0.812\n"
          ]
        },
        {
          "output_type": "stream",
          "name": "stderr",
          "text": [
            "\r 10%|█         | 10/100 [01:02<09:26,  6.29s/it]"
          ]
        },
        {
          "output_type": "stream",
          "name": "stdout",
          "text": [
            "\n",
            "Epoch 10 | Train/Test loss: 0.398 / 0.392 | Train/Test accuracy: 0.815 / 0.820\n"
          ]
        },
        {
          "output_type": "stream",
          "name": "stderr",
          "text": [
            "\r 11%|█         | 11/100 [01:08<08:58,  6.05s/it]"
          ]
        },
        {
          "output_type": "stream",
          "name": "stdout",
          "text": [
            "\n",
            "Epoch 11 | Train/Test loss: 0.391 / 0.386 | Train/Test accuracy: 0.821 / 0.821\n"
          ]
        },
        {
          "output_type": "stream",
          "name": "stderr",
          "text": [
            "\r 12%|█▏        | 12/100 [01:15<09:14,  6.30s/it]"
          ]
        },
        {
          "output_type": "stream",
          "name": "stdout",
          "text": [
            "\n",
            "Epoch 12 | Train/Test loss: 0.385 / 0.379 | Train/Test accuracy: 0.824 / 0.826\n"
          ]
        },
        {
          "output_type": "stream",
          "name": "stderr",
          "text": [
            "\r 13%|█▎        | 13/100 [01:21<08:51,  6.11s/it]"
          ]
        },
        {
          "output_type": "stream",
          "name": "stdout",
          "text": [
            "\n",
            "Epoch 13 | Train/Test loss: 0.380 / 0.376 | Train/Test accuracy: 0.827 / 0.829\n"
          ]
        },
        {
          "output_type": "stream",
          "name": "stderr",
          "text": [
            "\r 14%|█▍        | 14/100 [01:27<08:55,  6.22s/it]"
          ]
        },
        {
          "output_type": "stream",
          "name": "stdout",
          "text": [
            "\n",
            "Epoch 14 | Train/Test loss: 0.376 / 0.372 | Train/Test accuracy: 0.829 / 0.832\n"
          ]
        },
        {
          "output_type": "stream",
          "name": "stderr",
          "text": [
            "\r 15%|█▌        | 15/100 [01:33<08:32,  6.03s/it]"
          ]
        },
        {
          "output_type": "stream",
          "name": "stdout",
          "text": [
            "\n",
            "Epoch 15 | Train/Test loss: 0.373 / 0.371 | Train/Test accuracy: 0.831 / 0.839\n"
          ]
        },
        {
          "output_type": "stream",
          "name": "stderr",
          "text": [
            "\r 16%|█▌        | 16/100 [01:39<08:43,  6.23s/it]"
          ]
        },
        {
          "output_type": "stream",
          "name": "stdout",
          "text": [
            "\n",
            "Epoch 16 | Train/Test loss: 0.370 / 0.366 | Train/Test accuracy: 0.834 / 0.837\n"
          ]
        },
        {
          "output_type": "stream",
          "name": "stderr",
          "text": [
            "\r 17%|█▋        | 17/100 [01:45<08:24,  6.08s/it]"
          ]
        },
        {
          "output_type": "stream",
          "name": "stdout",
          "text": [
            "\n",
            "Epoch 17 | Train/Test loss: 0.368 / 0.365 | Train/Test accuracy: 0.836 / 0.839\n"
          ]
        },
        {
          "output_type": "stream",
          "name": "stderr",
          "text": [
            "\r 18%|█▊        | 18/100 [01:52<08:32,  6.25s/it]"
          ]
        },
        {
          "output_type": "stream",
          "name": "stdout",
          "text": [
            "\n",
            "Epoch 18 | Train/Test loss: 0.366 / 0.363 | Train/Test accuracy: 0.839 / 0.842\n"
          ]
        },
        {
          "output_type": "stream",
          "name": "stderr",
          "text": [
            "\r 19%|█▉        | 19/100 [01:57<08:12,  6.08s/it]"
          ]
        },
        {
          "output_type": "stream",
          "name": "stdout",
          "text": [
            "\n",
            "Epoch 19 | Train/Test loss: 0.364 / 0.362 | Train/Test accuracy: 0.841 / 0.842\n"
          ]
        },
        {
          "output_type": "stream",
          "name": "stderr",
          "text": [
            "\r 20%|██        | 20/100 [02:04<08:22,  6.28s/it]"
          ]
        },
        {
          "output_type": "stream",
          "name": "stdout",
          "text": [
            "\n",
            "Epoch 20 | Train/Test loss: 0.363 / 0.360 | Train/Test accuracy: 0.843 / 0.847\n"
          ]
        },
        {
          "output_type": "stream",
          "name": "stderr",
          "text": [
            "\r 21%|██        | 21/100 [02:09<07:54,  6.01s/it]"
          ]
        },
        {
          "output_type": "stream",
          "name": "stdout",
          "text": [
            "\n",
            "Epoch 21 | Train/Test loss: 0.361 / 0.359 | Train/Test accuracy: 0.845 / 0.848\n"
          ]
        },
        {
          "output_type": "stream",
          "name": "stderr",
          "text": [
            "\r 22%|██▏       | 22/100 [02:16<08:08,  6.26s/it]"
          ]
        },
        {
          "output_type": "stream",
          "name": "stdout",
          "text": [
            "\n",
            "Epoch 22 | Train/Test loss: 0.360 / 0.358 | Train/Test accuracy: 0.846 / 0.844\n"
          ]
        },
        {
          "output_type": "stream",
          "name": "stderr",
          "text": [
            "\r 23%|██▎       | 23/100 [02:22<07:50,  6.10s/it]"
          ]
        },
        {
          "output_type": "stream",
          "name": "stdout",
          "text": [
            "\n",
            "Epoch 23 | Train/Test loss: 0.359 / 0.357 | Train/Test accuracy: 0.848 / 0.846\n"
          ]
        },
        {
          "output_type": "stream",
          "name": "stderr",
          "text": [
            "\r 24%|██▍       | 24/100 [02:29<07:53,  6.23s/it]"
          ]
        },
        {
          "output_type": "stream",
          "name": "stdout",
          "text": [
            "\n",
            "Epoch 24 | Train/Test loss: 0.358 / 0.356 | Train/Test accuracy: 0.849 / 0.846\n"
          ]
        },
        {
          "output_type": "stream",
          "name": "stderr",
          "text": [
            "\r 25%|██▌       | 25/100 [02:34<07:32,  6.03s/it]"
          ]
        },
        {
          "output_type": "stream",
          "name": "stdout",
          "text": [
            "\n",
            "Epoch 25 | Train/Test loss: 0.357 / 0.355 | Train/Test accuracy: 0.850 / 0.848\n"
          ]
        },
        {
          "output_type": "stream",
          "name": "stderr",
          "text": [
            "\r 26%|██▌       | 26/100 [02:41<07:41,  6.24s/it]"
          ]
        },
        {
          "output_type": "stream",
          "name": "stdout",
          "text": [
            "\n",
            "Epoch 26 | Train/Test loss: 0.356 / 0.353 | Train/Test accuracy: 0.850 / 0.850\n"
          ]
        },
        {
          "output_type": "stream",
          "name": "stderr",
          "text": [
            "\r 27%|██▋       | 27/100 [02:46<07:20,  6.03s/it]"
          ]
        },
        {
          "output_type": "stream",
          "name": "stdout",
          "text": [
            "\n",
            "Epoch 27 | Train/Test loss: 0.355 / 0.353 | Train/Test accuracy: 0.851 / 0.851\n"
          ]
        },
        {
          "output_type": "stream",
          "name": "stderr",
          "text": [
            "\r 28%|██▊       | 28/100 [02:53<07:27,  6.22s/it]"
          ]
        },
        {
          "output_type": "stream",
          "name": "stdout",
          "text": [
            "\n",
            "Epoch 28 | Train/Test loss: 0.354 / 0.352 | Train/Test accuracy: 0.851 / 0.852\n"
          ]
        },
        {
          "output_type": "stream",
          "name": "stderr",
          "text": [
            "\r 29%|██▉       | 29/100 [02:59<07:09,  6.04s/it]"
          ]
        },
        {
          "output_type": "stream",
          "name": "stdout",
          "text": [
            "\n",
            "Epoch 29 | Train/Test loss: 0.353 / 0.351 | Train/Test accuracy: 0.852 / 0.852\n"
          ]
        },
        {
          "output_type": "stream",
          "name": "stderr",
          "text": [
            "\r 30%|███       | 30/100 [03:05<07:14,  6.21s/it]"
          ]
        },
        {
          "output_type": "stream",
          "name": "stdout",
          "text": [
            "\n",
            "Epoch 30 | Train/Test loss: 0.353 / 0.350 | Train/Test accuracy: 0.852 / 0.853\n"
          ]
        },
        {
          "output_type": "stream",
          "name": "stderr",
          "text": [
            "\r 31%|███       | 31/100 [03:11<06:52,  5.97s/it]"
          ]
        },
        {
          "output_type": "stream",
          "name": "stdout",
          "text": [
            "\n",
            "Epoch 31 | Train/Test loss: 0.352 / 0.350 | Train/Test accuracy: 0.852 / 0.853\n"
          ]
        },
        {
          "output_type": "stream",
          "name": "stderr",
          "text": [
            "\r 32%|███▏      | 32/100 [03:17<07:02,  6.21s/it]"
          ]
        },
        {
          "output_type": "stream",
          "name": "stdout",
          "text": [
            "\n",
            "Epoch 32 | Train/Test loss: 0.351 / 0.350 | Train/Test accuracy: 0.852 / 0.854\n"
          ]
        },
        {
          "output_type": "stream",
          "name": "stderr",
          "text": [
            "\r 33%|███▎      | 33/100 [03:23<06:44,  6.04s/it]"
          ]
        },
        {
          "output_type": "stream",
          "name": "stdout",
          "text": [
            "\n",
            "Epoch 33 | Train/Test loss: 0.350 / 0.349 | Train/Test accuracy: 0.852 / 0.852\n"
          ]
        },
        {
          "output_type": "stream",
          "name": "stderr",
          "text": [
            "\r 34%|███▍      | 34/100 [03:30<06:53,  6.26s/it]"
          ]
        },
        {
          "output_type": "stream",
          "name": "stdout",
          "text": [
            "\n",
            "Epoch 34 | Train/Test loss: 0.350 / 0.347 | Train/Test accuracy: 0.852 / 0.854\n"
          ]
        },
        {
          "output_type": "stream",
          "name": "stderr",
          "text": [
            "\r 35%|███▌      | 35/100 [03:35<06:29,  5.99s/it]"
          ]
        },
        {
          "output_type": "stream",
          "name": "stdout",
          "text": [
            "\n",
            "Epoch 35 | Train/Test loss: 0.349 / 0.347 | Train/Test accuracy: 0.853 / 0.854\n"
          ]
        },
        {
          "output_type": "stream",
          "name": "stderr",
          "text": [
            "\r 36%|███▌      | 36/100 [03:42<06:37,  6.22s/it]"
          ]
        },
        {
          "output_type": "stream",
          "name": "stdout",
          "text": [
            "\n",
            "Epoch 36 | Train/Test loss: 0.348 / 0.346 | Train/Test accuracy: 0.853 / 0.854\n"
          ]
        },
        {
          "output_type": "stream",
          "name": "stderr",
          "text": [
            "\r 37%|███▋      | 37/100 [03:48<06:20,  6.04s/it]"
          ]
        },
        {
          "output_type": "stream",
          "name": "stdout",
          "text": [
            "\n",
            "Epoch 37 | Train/Test loss: 0.347 / 0.346 | Train/Test accuracy: 0.853 / 0.854\n"
          ]
        },
        {
          "output_type": "stream",
          "name": "stderr",
          "text": [
            "\r 38%|███▊      | 38/100 [03:54<06:23,  6.19s/it]"
          ]
        },
        {
          "output_type": "stream",
          "name": "stdout",
          "text": [
            "\n",
            "Epoch 38 | Train/Test loss: 0.346 / 0.345 | Train/Test accuracy: 0.853 / 0.854\n"
          ]
        },
        {
          "output_type": "stream",
          "name": "stderr",
          "text": [
            "\r 39%|███▉      | 39/100 [04:00<06:07,  6.02s/it]"
          ]
        },
        {
          "output_type": "stream",
          "name": "stdout",
          "text": [
            "\n",
            "Epoch 39 | Train/Test loss: 0.346 / 0.344 | Train/Test accuracy: 0.853 / 0.855\n"
          ]
        },
        {
          "output_type": "stream",
          "name": "stderr",
          "text": [
            "\r 40%|████      | 40/100 [04:06<06:10,  6.18s/it]"
          ]
        },
        {
          "output_type": "stream",
          "name": "stdout",
          "text": [
            "\n",
            "Epoch 40 | Train/Test loss: 0.345 / 0.343 | Train/Test accuracy: 0.853 / 0.854\n"
          ]
        },
        {
          "output_type": "stream",
          "name": "stderr",
          "text": [
            "\r 41%|████      | 41/100 [04:12<05:50,  5.94s/it]"
          ]
        },
        {
          "output_type": "stream",
          "name": "stdout",
          "text": [
            "\n",
            "Epoch 41 | Train/Test loss: 0.344 / 0.342 | Train/Test accuracy: 0.853 / 0.854\n"
          ]
        },
        {
          "output_type": "stream",
          "name": "stderr",
          "text": [
            "\r 42%|████▏     | 42/100 [04:18<05:56,  6.15s/it]"
          ]
        },
        {
          "output_type": "stream",
          "name": "stdout",
          "text": [
            "\n",
            "Epoch 42 | Train/Test loss: 0.343 / 0.341 | Train/Test accuracy: 0.853 / 0.855\n"
          ]
        },
        {
          "output_type": "stream",
          "name": "stderr",
          "text": [
            "\r 43%|████▎     | 43/100 [04:24<05:41,  5.99s/it]"
          ]
        },
        {
          "output_type": "stream",
          "name": "stdout",
          "text": [
            "\n",
            "Epoch 43 | Train/Test loss: 0.342 / 0.343 | Train/Test accuracy: 0.853 / 0.853\n"
          ]
        },
        {
          "output_type": "stream",
          "name": "stderr",
          "text": [
            "\r 44%|████▍     | 44/100 [04:30<05:44,  6.14s/it]"
          ]
        },
        {
          "output_type": "stream",
          "name": "stdout",
          "text": [
            "\n",
            "Epoch 44 | Train/Test loss: 0.341 / 0.339 | Train/Test accuracy: 0.853 / 0.854\n"
          ]
        },
        {
          "output_type": "stream",
          "name": "stderr",
          "text": [
            "\r 45%|████▌     | 45/100 [04:36<05:26,  5.93s/it]"
          ]
        },
        {
          "output_type": "stream",
          "name": "stdout",
          "text": [
            "\n",
            "Epoch 45 | Train/Test loss: 0.340 / 0.339 | Train/Test accuracy: 0.853 / 0.854\n"
          ]
        },
        {
          "output_type": "stream",
          "name": "stderr",
          "text": [
            "\r 46%|████▌     | 46/100 [04:42<05:30,  6.12s/it]"
          ]
        },
        {
          "output_type": "stream",
          "name": "stdout",
          "text": [
            "\n",
            "Epoch 46 | Train/Test loss: 0.339 / 0.338 | Train/Test accuracy: 0.853 / 0.855\n"
          ]
        },
        {
          "output_type": "stream",
          "name": "stderr",
          "text": [
            "\r 47%|████▋     | 47/100 [04:48<05:17,  5.98s/it]"
          ]
        },
        {
          "output_type": "stream",
          "name": "stdout",
          "text": [
            "\n",
            "Epoch 47 | Train/Test loss: 0.338 / 0.337 | Train/Test accuracy: 0.853 / 0.855\n"
          ]
        },
        {
          "output_type": "stream",
          "name": "stderr",
          "text": [
            "\r 48%|████▊     | 48/100 [04:54<05:15,  6.06s/it]"
          ]
        },
        {
          "output_type": "stream",
          "name": "stdout",
          "text": [
            "\n",
            "Epoch 48 | Train/Test loss: 0.338 / 0.337 | Train/Test accuracy: 0.854 / 0.854\n"
          ]
        },
        {
          "output_type": "stream",
          "name": "stderr",
          "text": [
            "\r 49%|████▉     | 49/100 [05:00<05:03,  5.94s/it]"
          ]
        },
        {
          "output_type": "stream",
          "name": "stdout",
          "text": [
            "\n",
            "Epoch 49 | Train/Test loss: 0.337 / 0.336 | Train/Test accuracy: 0.854 / 0.854\n"
          ]
        },
        {
          "output_type": "stream",
          "name": "stderr",
          "text": [
            "\r 50%|█████     | 50/100 [05:06<05:00,  6.01s/it]"
          ]
        },
        {
          "output_type": "stream",
          "name": "stdout",
          "text": [
            "\n",
            "Epoch 50 | Train/Test loss: 0.336 / 0.334 | Train/Test accuracy: 0.854 / 0.854\n"
          ]
        },
        {
          "output_type": "stream",
          "name": "stderr",
          "text": [
            "\r 51%|█████     | 51/100 [05:12<04:52,  5.98s/it]"
          ]
        },
        {
          "output_type": "stream",
          "name": "stdout",
          "text": [
            "\n",
            "Epoch 51 | Train/Test loss: 0.335 / 0.334 | Train/Test accuracy: 0.854 / 0.854\n"
          ]
        },
        {
          "output_type": "stream",
          "name": "stderr",
          "text": [
            "\r 52%|█████▏    | 52/100 [05:18<04:40,  5.85s/it]"
          ]
        },
        {
          "output_type": "stream",
          "name": "stdout",
          "text": [
            "\n",
            "Epoch 52 | Train/Test loss: 0.334 / 0.333 | Train/Test accuracy: 0.854 / 0.855\n"
          ]
        },
        {
          "output_type": "stream",
          "name": "stderr",
          "text": [
            "\r 53%|█████▎    | 53/100 [05:24<04:41,  5.98s/it]"
          ]
        },
        {
          "output_type": "stream",
          "name": "stdout",
          "text": [
            "\n",
            "Epoch 53 | Train/Test loss: 0.333 / 0.332 | Train/Test accuracy: 0.854 / 0.856\n"
          ]
        },
        {
          "output_type": "stream",
          "name": "stderr",
          "text": [
            "\r 54%|█████▍    | 54/100 [05:29<04:28,  5.83s/it]"
          ]
        },
        {
          "output_type": "stream",
          "name": "stdout",
          "text": [
            "\n",
            "Epoch 54 | Train/Test loss: 0.332 / 0.332 | Train/Test accuracy: 0.855 / 0.855\n"
          ]
        },
        {
          "output_type": "stream",
          "name": "stderr",
          "text": [
            "\r 55%|█████▌    | 55/100 [05:36<04:26,  5.92s/it]"
          ]
        },
        {
          "output_type": "stream",
          "name": "stdout",
          "text": [
            "\n",
            "Epoch 55 | Train/Test loss: 0.331 / 0.331 | Train/Test accuracy: 0.855 / 0.855\n"
          ]
        },
        {
          "output_type": "stream",
          "name": "stderr",
          "text": [
            "\r 56%|█████▌    | 56/100 [05:41<04:15,  5.80s/it]"
          ]
        },
        {
          "output_type": "stream",
          "name": "stdout",
          "text": [
            "\n",
            "Epoch 56 | Train/Test loss: 0.331 / 0.333 | Train/Test accuracy: 0.856 / 0.853\n"
          ]
        },
        {
          "output_type": "stream",
          "name": "stderr",
          "text": [
            "\r 57%|█████▋    | 57/100 [05:48<04:18,  6.01s/it]"
          ]
        },
        {
          "output_type": "stream",
          "name": "stdout",
          "text": [
            "\n",
            "Epoch 57 | Train/Test loss: 0.330 / 0.329 | Train/Test accuracy: 0.856 / 0.859\n"
          ]
        },
        {
          "output_type": "stream",
          "name": "stderr",
          "text": [
            "\r 58%|█████▊    | 58/100 [05:53<04:05,  5.84s/it]"
          ]
        },
        {
          "output_type": "stream",
          "name": "stdout",
          "text": [
            "\n",
            "Epoch 58 | Train/Test loss: 0.329 / 0.330 | Train/Test accuracy: 0.857 / 0.858\n"
          ]
        },
        {
          "output_type": "stream",
          "name": "stderr",
          "text": [
            "\r 59%|█████▉    | 59/100 [05:59<04:06,  6.00s/it]"
          ]
        },
        {
          "output_type": "stream",
          "name": "stdout",
          "text": [
            "\n",
            "Epoch 59 | Train/Test loss: 0.328 / 0.328 | Train/Test accuracy: 0.858 / 0.856\n"
          ]
        },
        {
          "output_type": "stream",
          "name": "stderr",
          "text": [
            "\r 60%|██████    | 60/100 [06:05<03:54,  5.85s/it]"
          ]
        },
        {
          "output_type": "stream",
          "name": "stdout",
          "text": [
            "\n",
            "Epoch 60 | Train/Test loss: 0.327 / 0.327 | Train/Test accuracy: 0.858 / 0.859\n"
          ]
        },
        {
          "output_type": "stream",
          "name": "stderr",
          "text": [
            "\r 61%|██████    | 61/100 [06:11<03:54,  6.02s/it]"
          ]
        },
        {
          "output_type": "stream",
          "name": "stdout",
          "text": [
            "\n",
            "Epoch 61 | Train/Test loss: 0.326 / 0.326 | Train/Test accuracy: 0.859 / 0.860\n"
          ]
        },
        {
          "output_type": "stream",
          "name": "stderr",
          "text": [
            "\r 62%|██████▏   | 62/100 [06:17<03:41,  5.82s/it]"
          ]
        },
        {
          "output_type": "stream",
          "name": "stdout",
          "text": [
            "\n",
            "Epoch 62 | Train/Test loss: 0.326 / 0.325 | Train/Test accuracy: 0.860 / 0.861\n"
          ]
        },
        {
          "output_type": "stream",
          "name": "stderr",
          "text": [
            "\r 63%|██████▎   | 63/100 [06:23<03:43,  6.03s/it]"
          ]
        },
        {
          "output_type": "stream",
          "name": "stdout",
          "text": [
            "\n",
            "Epoch 63 | Train/Test loss: 0.325 / 0.325 | Train/Test accuracy: 0.860 / 0.861\n"
          ]
        },
        {
          "output_type": "stream",
          "name": "stderr",
          "text": [
            "\r 64%|██████▍   | 64/100 [06:29<03:31,  5.88s/it]"
          ]
        },
        {
          "output_type": "stream",
          "name": "stdout",
          "text": [
            "\n",
            "Epoch 64 | Train/Test loss: 0.324 / 0.323 | Train/Test accuracy: 0.861 / 0.862\n"
          ]
        },
        {
          "output_type": "stream",
          "name": "stderr",
          "text": [
            "\r 65%|██████▌   | 65/100 [06:35<03:32,  6.08s/it]"
          ]
        },
        {
          "output_type": "stream",
          "name": "stdout",
          "text": [
            "\n",
            "Epoch 65 | Train/Test loss: 0.324 / 0.323 | Train/Test accuracy: 0.861 / 0.861\n"
          ]
        },
        {
          "output_type": "stream",
          "name": "stderr",
          "text": [
            "\r 66%|██████▌   | 66/100 [06:41<03:20,  5.90s/it]"
          ]
        },
        {
          "output_type": "stream",
          "name": "stdout",
          "text": [
            "\n",
            "Epoch 66 | Train/Test loss: 0.323 / 0.322 | Train/Test accuracy: 0.862 / 0.863\n"
          ]
        },
        {
          "output_type": "stream",
          "name": "stderr",
          "text": [
            "\r 67%|██████▋   | 67/100 [06:47<03:21,  6.12s/it]"
          ]
        },
        {
          "output_type": "stream",
          "name": "stdout",
          "text": [
            "\n",
            "Epoch 67 | Train/Test loss: 0.323 / 0.322 | Train/Test accuracy: 0.862 / 0.862\n"
          ]
        },
        {
          "output_type": "stream",
          "name": "stderr",
          "text": [
            "\r 68%|██████▊   | 68/100 [06:53<03:09,  5.91s/it]"
          ]
        },
        {
          "output_type": "stream",
          "name": "stdout",
          "text": [
            "\n",
            "Epoch 68 | Train/Test loss: 0.322 / 0.322 | Train/Test accuracy: 0.862 / 0.862\n"
          ]
        },
        {
          "output_type": "stream",
          "name": "stderr",
          "text": [
            "\r 69%|██████▉   | 69/100 [06:59<03:09,  6.12s/it]"
          ]
        },
        {
          "output_type": "stream",
          "name": "stdout",
          "text": [
            "\n",
            "Epoch 69 | Train/Test loss: 0.321 / 0.320 | Train/Test accuracy: 0.862 / 0.863\n"
          ]
        },
        {
          "output_type": "stream",
          "name": "stderr",
          "text": [
            "\r 70%|███████   | 70/100 [07:05<02:58,  5.94s/it]"
          ]
        },
        {
          "output_type": "stream",
          "name": "stdout",
          "text": [
            "\n",
            "Epoch 70 | Train/Test loss: 0.321 / 0.321 | Train/Test accuracy: 0.863 / 0.863\n"
          ]
        },
        {
          "output_type": "stream",
          "name": "stderr",
          "text": [
            "\r 71%|███████   | 71/100 [07:11<02:57,  6.11s/it]"
          ]
        },
        {
          "output_type": "stream",
          "name": "stdout",
          "text": [
            "\n",
            "Epoch 71 | Train/Test loss: 0.320 / 0.320 | Train/Test accuracy: 0.863 / 0.863\n"
          ]
        },
        {
          "output_type": "stream",
          "name": "stderr",
          "text": [
            "\r 72%|███████▏  | 72/100 [07:17<02:46,  5.93s/it]"
          ]
        },
        {
          "output_type": "stream",
          "name": "stdout",
          "text": [
            "\n",
            "Epoch 72 | Train/Test loss: 0.320 / 0.319 | Train/Test accuracy: 0.863 / 0.863\n"
          ]
        },
        {
          "output_type": "stream",
          "name": "stderr",
          "text": [
            "\r 73%|███████▎  | 73/100 [07:24<02:46,  6.18s/it]"
          ]
        },
        {
          "output_type": "stream",
          "name": "stdout",
          "text": [
            "\n",
            "Epoch 73 | Train/Test loss: 0.319 / 0.320 | Train/Test accuracy: 0.863 / 0.864\n"
          ]
        },
        {
          "output_type": "stream",
          "name": "stderr",
          "text": [
            "\r 74%|███████▍  | 74/100 [07:29<02:36,  6.03s/it]"
          ]
        },
        {
          "output_type": "stream",
          "name": "stdout",
          "text": [
            "\n",
            "Epoch 74 | Train/Test loss: 0.319 / 0.318 | Train/Test accuracy: 0.863 / 0.864\n"
          ]
        },
        {
          "output_type": "stream",
          "name": "stderr",
          "text": [
            "\r 75%|███████▌  | 75/100 [07:36<02:35,  6.21s/it]"
          ]
        },
        {
          "output_type": "stream",
          "name": "stdout",
          "text": [
            "\n",
            "Epoch 75 | Train/Test loss: 0.318 / 0.318 | Train/Test accuracy: 0.863 / 0.864\n"
          ]
        },
        {
          "output_type": "stream",
          "name": "stderr",
          "text": [
            "\r 76%|███████▌  | 76/100 [07:41<02:22,  5.96s/it]"
          ]
        },
        {
          "output_type": "stream",
          "name": "stdout",
          "text": [
            "\n",
            "Epoch 76 | Train/Test loss: 0.318 / 0.318 | Train/Test accuracy: 0.863 / 0.864\n"
          ]
        },
        {
          "output_type": "stream",
          "name": "stderr",
          "text": [
            "\r 77%|███████▋  | 77/100 [07:48<02:21,  6.14s/it]"
          ]
        },
        {
          "output_type": "stream",
          "name": "stdout",
          "text": [
            "\n",
            "Epoch 77 | Train/Test loss: 0.318 / 0.319 | Train/Test accuracy: 0.863 / 0.865\n"
          ]
        },
        {
          "output_type": "stream",
          "name": "stderr",
          "text": [
            "\r 78%|███████▊  | 78/100 [07:53<02:10,  5.95s/it]"
          ]
        },
        {
          "output_type": "stream",
          "name": "stdout",
          "text": [
            "\n",
            "Epoch 78 | Train/Test loss: 0.318 / 0.319 | Train/Test accuracy: 0.863 / 0.864\n"
          ]
        },
        {
          "output_type": "stream",
          "name": "stderr",
          "text": [
            "\r 79%|███████▉  | 79/100 [08:00<02:08,  6.12s/it]"
          ]
        },
        {
          "output_type": "stream",
          "name": "stdout",
          "text": [
            "\n",
            "Epoch 79 | Train/Test loss: 0.317 / 0.317 | Train/Test accuracy: 0.864 / 0.864\n"
          ]
        },
        {
          "output_type": "stream",
          "name": "stderr",
          "text": [
            "\r 80%|████████  | 80/100 [08:06<01:59,  5.96s/it]"
          ]
        },
        {
          "output_type": "stream",
          "name": "stdout",
          "text": [
            "\n",
            "Epoch 80 | Train/Test loss: 0.317 / 0.317 | Train/Test accuracy: 0.864 / 0.864\n"
          ]
        },
        {
          "output_type": "stream",
          "name": "stderr",
          "text": [
            "\r 81%|████████  | 81/100 [08:12<01:56,  6.13s/it]"
          ]
        },
        {
          "output_type": "stream",
          "name": "stdout",
          "text": [
            "\n",
            "Epoch 81 | Train/Test loss: 0.317 / 0.317 | Train/Test accuracy: 0.864 / 0.864\n"
          ]
        },
        {
          "output_type": "stream",
          "name": "stderr",
          "text": [
            "\r 82%|████████▏ | 82/100 [08:17<01:46,  5.90s/it]"
          ]
        },
        {
          "output_type": "stream",
          "name": "stdout",
          "text": [
            "\n",
            "Epoch 82 | Train/Test loss: 0.316 / 0.316 | Train/Test accuracy: 0.864 / 0.864\n"
          ]
        },
        {
          "output_type": "stream",
          "name": "stderr",
          "text": [
            "\r 83%|████████▎ | 83/100 [08:24<01:42,  6.04s/it]"
          ]
        },
        {
          "output_type": "stream",
          "name": "stdout",
          "text": [
            "\n",
            "Epoch 83 | Train/Test loss: 0.316 / 0.317 | Train/Test accuracy: 0.864 / 0.863\n"
          ]
        },
        {
          "output_type": "stream",
          "name": "stderr",
          "text": [
            "\r 84%|████████▍ | 84/100 [08:30<01:35,  5.94s/it]"
          ]
        },
        {
          "output_type": "stream",
          "name": "stdout",
          "text": [
            "\n",
            "Epoch 84 | Train/Test loss: 0.316 / 0.318 | Train/Test accuracy: 0.864 / 0.863\n"
          ]
        },
        {
          "output_type": "stream",
          "name": "stderr",
          "text": [
            "\r 85%|████████▌ | 85/100 [08:36<01:30,  6.05s/it]"
          ]
        },
        {
          "output_type": "stream",
          "name": "stdout",
          "text": [
            "\n",
            "Epoch 85 | Train/Test loss: 0.316 / 0.317 | Train/Test accuracy: 0.864 / 0.864\n"
          ]
        },
        {
          "output_type": "stream",
          "name": "stderr",
          "text": [
            "\r 86%|████████▌ | 86/100 [08:41<01:22,  5.89s/it]"
          ]
        },
        {
          "output_type": "stream",
          "name": "stdout",
          "text": [
            "\n",
            "Epoch 86 | Train/Test loss: 0.315 / 0.315 | Train/Test accuracy: 0.864 / 0.864\n"
          ]
        },
        {
          "output_type": "stream",
          "name": "stderr",
          "text": [
            "\r 87%|████████▋ | 87/100 [08:47<01:16,  5.89s/it]"
          ]
        },
        {
          "output_type": "stream",
          "name": "stdout",
          "text": [
            "\n",
            "Epoch 87 | Train/Test loss: 0.315 / 0.315 | Train/Test accuracy: 0.864 / 0.864\n"
          ]
        },
        {
          "output_type": "stream",
          "name": "stderr",
          "text": [
            "\r 88%|████████▊ | 88/100 [08:53<01:11,  5.98s/it]"
          ]
        },
        {
          "output_type": "stream",
          "name": "stdout",
          "text": [
            "\n",
            "Epoch 88 | Train/Test loss: 0.315 / 0.315 | Train/Test accuracy: 0.864 / 0.864\n"
          ]
        },
        {
          "output_type": "stream",
          "name": "stderr",
          "text": [
            "\r 89%|████████▉ | 89/100 [08:59<01:04,  5.83s/it]"
          ]
        },
        {
          "output_type": "stream",
          "name": "stdout",
          "text": [
            "\n",
            "Epoch 89 | Train/Test loss: 0.315 / 0.315 | Train/Test accuracy: 0.864 / 0.864\n"
          ]
        },
        {
          "output_type": "stream",
          "name": "stderr",
          "text": [
            "\r 90%|█████████ | 90/100 [09:05<00:59,  5.97s/it]"
          ]
        },
        {
          "output_type": "stream",
          "name": "stdout",
          "text": [
            "\n",
            "Epoch 90 | Train/Test loss: 0.315 / 0.316 | Train/Test accuracy: 0.864 / 0.865\n"
          ]
        },
        {
          "output_type": "stream",
          "name": "stderr",
          "text": [
            "\r 91%|█████████ | 91/100 [09:11<00:52,  5.86s/it]"
          ]
        },
        {
          "output_type": "stream",
          "name": "stdout",
          "text": [
            "\n",
            "Epoch 91 | Train/Test loss: 0.314 / 0.315 | Train/Test accuracy: 0.864 / 0.865\n"
          ]
        },
        {
          "output_type": "stream",
          "name": "stderr",
          "text": [
            "\r 92%|█████████▏| 92/100 [09:18<00:49,  6.13s/it]"
          ]
        },
        {
          "output_type": "stream",
          "name": "stdout",
          "text": [
            "\n",
            "Epoch 92 | Train/Test loss: 0.314 / 0.314 | Train/Test accuracy: 0.864 / 0.864\n"
          ]
        },
        {
          "output_type": "stream",
          "name": "stderr",
          "text": [
            "\r 93%|█████████▎| 93/100 [09:23<00:41,  5.95s/it]"
          ]
        },
        {
          "output_type": "stream",
          "name": "stdout",
          "text": [
            "\n",
            "Epoch 93 | Train/Test loss: 0.314 / 0.314 | Train/Test accuracy: 0.864 / 0.864\n"
          ]
        },
        {
          "output_type": "stream",
          "name": "stderr",
          "text": [
            "\r 94%|█████████▍| 94/100 [09:30<00:36,  6.14s/it]"
          ]
        },
        {
          "output_type": "stream",
          "name": "stdout",
          "text": [
            "\n",
            "Epoch 94 | Train/Test loss: 0.314 / 0.316 | Train/Test accuracy: 0.864 / 0.864\n"
          ]
        },
        {
          "output_type": "stream",
          "name": "stderr",
          "text": [
            "\r 95%|█████████▌| 95/100 [09:36<00:30,  6.09s/it]"
          ]
        },
        {
          "output_type": "stream",
          "name": "stdout",
          "text": [
            "\n",
            "Epoch 95 | Train/Test loss: 0.314 / 0.314 | Train/Test accuracy: 0.864 / 0.864\n"
          ]
        },
        {
          "output_type": "stream",
          "name": "stderr",
          "text": [
            "\r 96%|█████████▌| 96/100 [09:42<00:24,  6.24s/it]"
          ]
        },
        {
          "output_type": "stream",
          "name": "stdout",
          "text": [
            "\n",
            "Epoch 96 | Train/Test loss: 0.314 / 0.314 | Train/Test accuracy: 0.864 / 0.864\n"
          ]
        },
        {
          "output_type": "stream",
          "name": "stderr",
          "text": [
            "\r 97%|█████████▋| 97/100 [09:49<00:19,  6.51s/it]"
          ]
        },
        {
          "output_type": "stream",
          "name": "stdout",
          "text": [
            "\n",
            "Epoch 97 | Train/Test loss: 0.314 / 0.314 | Train/Test accuracy: 0.864 / 0.864\n"
          ]
        },
        {
          "output_type": "stream",
          "name": "stderr",
          "text": [
            "\r 98%|█████████▊| 98/100 [09:56<00:13,  6.61s/it]"
          ]
        },
        {
          "output_type": "stream",
          "name": "stdout",
          "text": [
            "\n",
            "Epoch 98 | Train/Test loss: 0.313 / 0.315 | Train/Test accuracy: 0.864 / 0.863\n"
          ]
        },
        {
          "output_type": "stream",
          "name": "stderr",
          "text": [
            "\r 99%|█████████▉| 99/100 [10:03<00:06,  6.51s/it]"
          ]
        },
        {
          "output_type": "stream",
          "name": "stdout",
          "text": [
            "\n",
            "Epoch 99 | Train/Test loss: 0.313 / 0.315 | Train/Test accuracy: 0.864 / 0.863\n"
          ]
        },
        {
          "output_type": "stream",
          "name": "stderr",
          "text": [
            "100%|██████████| 100/100 [10:09<00:00,  6.09s/it]"
          ]
        },
        {
          "output_type": "stream",
          "name": "stdout",
          "text": [
            "\n",
            "Epoch 100 | Train/Test loss: 0.313 / 0.314 | Train/Test accuracy: 0.864 / 0.865\n"
          ]
        },
        {
          "output_type": "stream",
          "name": "stderr",
          "text": [
            "\n"
          ]
        }
      ]
    },
    {
      "cell_type": "code",
      "source": [
        "fig, ax1= plt.subplots(1,1)\n",
        "ax1.plot(train_loss, label=\"Train loss\")\n",
        "ax1.plot(test_loss, label=\"Test loss\")\n",
        "ax1.legend()\n",
        "ax1.set_title(\"Funcion de perdida por epoca\")\n",
        "ax1.set_xlabel(\"epoca\")\n",
        "ax1.set_ylabel(\"BinaryCrossEntropy\")"
      ],
      "metadata": {
        "colab": {
          "base_uri": "https://localhost:8080/",
          "height": 491
        },
        "id": "_eKITDDZZNsq",
        "outputId": "85e559cb-9917-4192-dd48-bdb443750934"
      },
      "execution_count": null,
      "outputs": [
        {
          "output_type": "execute_result",
          "data": {
            "text/plain": [
              "Text(0, 0.5, 'BinaryCrossEntropy')"
            ]
          },
          "metadata": {},
          "execution_count": 146
        },
        {
          "output_type": "display_data",
          "data": {
            "text/plain": [
              "<Figure size 640x480 with 1 Axes>"
            ],
            "image/png": "[encoded data removed]"
          },
          "metadata": {}
        }
      ]
    },
    {
      "cell_type": "markdown",
      "source": [
        "**Analisis**\n",
        "\n",
        "Como se puede observar, la red neuronal bajo los hiperparametros y condiciones configuradas funciona bastante bien. teniendo un accuracy alrededor de 80-86%.\n",
        "\n",
        "Viendo la curva de la funcion de perdida por epoca se puede apreciar varias cosas:\n",
        "\n",
        "1.   El modelo no sufre de Overfitting, por lo tanto, no fue necesario aplicarle ninguna estrategia de regularización.\n",
        "2.   Es notable que la red neuronal es capaz de aprender. Por lo que la curva del error acumulado descende a medida que pasan las epocas de entrenamiento.\n",
        "\n",
        "Se notaron cambios importantes en el performance de la red neuronal con lo siguiente:\n",
        "\n",
        "1.   Utilizando batches de entrenamiento y test de tamaño igual a 1000. Anteriormente se usaron batches de 32, 64 y 100, pero bajo estas condiciones la NN tardaba mucho en entrenar, incluso usando la GPU. Además, la función de perdida no disminuía como se esperaba a medida que avanzaban las epocas.\n",
        "2.   Learning rate igual a 0.0001. Anteriormente se probo con 0.1 y el performance de la NN no fue muy bueno.\n",
        "3.   El uso de la GPU tambien ayudó a que la velocidad de entrenamiento fuera mayor\n",
        "\n",
        "Se puede notar que en esta red no se utilizaron Embeddings y las caracteristicas que tenían cardinalidad alta fueron descartadas de este entrenamiento.\n",
        "\n"
      ],
      "metadata": {
        "id": "4eAVXVVB2Y-5"
      }
    },
    {
      "cell_type": "markdown",
      "source": [
        "### Modelo con Embeddings"
      ],
      "metadata": {
        "id": "Ny6oALg42fBp"
      }
    },
    {
      "cell_type": "code",
      "source": [
        "import torch\n",
        "from torch.utils.data import Dataset, DataLoader\n",
        "from sklearn import metrics\n",
        "from tqdm import tqdm\n",
        "import seaborn as sns"
      ],
      "metadata": {
        "id": "InQ7yAQdJDGZ"
      },
      "execution_count": null,
      "outputs": []
    },
    {
      "cell_type": "code",
      "source": [
        "# Usamos embeddings\n",
        "user_id.unique()"
      ],
      "metadata": {
        "colab": {
          "base_uri": "https://localhost:8080/"
        },
        "id": "hrdBESYm2250",
        "outputId": "ba7f7124-814c-4dce-d2e7-d94ee4e56587"
      },
      "execution_count": null,
      "outputs": [
        {
          "output_type": "execute_result",
          "data": {
            "text/plain": [
              "array([1000001, 1000002, 1000003, ..., 1004113, 1005391, 1001529])"
            ]
          },
          "metadata": {},
          "execution_count": 148
        }
      ]
    },
    {
      "cell_type": "code",
      "source": [
        "prd_id.unique()"
      ],
      "metadata": {
        "colab": {
          "base_uri": "https://localhost:8080/"
        },
        "id": "pEKf17ry3O5f",
        "outputId": "f1cc47c7-f8cf-4744-a20f-bbed3ae01ad5"
      },
      "execution_count": null,
      "outputs": [
        {
          "output_type": "execute_result",
          "data": {
            "text/plain": [
              "array(['P00069042', 'P00248942', 'P00087842', ..., 'P00370293',\n",
              "       'P00371644', 'P00370853'], dtype=object)"
            ]
          },
          "metadata": {},
          "execution_count": 149
        }
      ]
    },
    {
      "cell_type": "code",
      "source": [
        "# Mapeo a indices para ambas caracteristicas\n",
        "user_id_idx = {value:key for key,value in enumerate(user_id.unique())}\n",
        "prd_id_idx = {value:key for key,value in enumerate(prd_id.unique())}"
      ],
      "metadata": {
        "id": "Mb6wSTcy3TQ-"
      },
      "execution_count": null,
      "outputs": []
    },
    {
      "cell_type": "code",
      "source": [
        "# Probamos buscar indices de valores\n",
        "user_id_idx[1000002]"
      ],
      "metadata": {
        "colab": {
          "base_uri": "https://localhost:8080/"
        },
        "id": "87dwSv7c38jN",
        "outputId": "dde46cd8-587c-4828-b138-bd570cc6316e"
      },
      "execution_count": null,
      "outputs": [
        {
          "output_type": "execute_result",
          "data": {
            "text/plain": [
              "1"
            ]
          },
          "metadata": {},
          "execution_count": 151
        }
      ]
    },
    {
      "cell_type": "code",
      "source": [
        "prd_id_idx['P00087842']"
      ],
      "metadata": {
        "colab": {
          "base_uri": "https://localhost:8080/"
        },
        "id": "CBAJnmG-5nXW",
        "outputId": "c850b5d6-5eaf-4d19-e2e0-071f52671cc8"
      },
      "execution_count": null,
      "outputs": [
        {
          "output_type": "execute_result",
          "data": {
            "text/plain": [
              "2"
            ]
          },
          "metadata": {},
          "execution_count": 152
        }
      ]
    },
    {
      "cell_type": "code",
      "source": [
        "# Vectorizamos\n",
        "vector_user_id = np.array([user_id_idx[value] for value in user_id])\n",
        "vector_prd_id = np.array([prd_id_idx[value] for value in prd_id])"
      ],
      "metadata": {
        "id": "8qtzNypT5ykn"
      },
      "execution_count": null,
      "outputs": []
    },
    {
      "cell_type": "code",
      "source": [
        "vector_prd_id"
      ],
      "metadata": {
        "colab": {
          "base_uri": "https://localhost:8080/"
        },
        "id": "l42_JCu8BVj7",
        "outputId": "a0079a4a-8179-414f-8748-40538e9cd1a2"
      },
      "execution_count": null,
      "outputs": [
        {
          "output_type": "execute_result",
          "data": {
            "text/plain": [
              "array([   0,    1,    2, ..., 3626, 3626, 3629])"
            ]
          },
          "metadata": {},
          "execution_count": 154
        }
      ]
    },
    {
      "cell_type": "code",
      "source": [
        "vector_user_id"
      ],
      "metadata": {
        "colab": {
          "base_uri": "https://localhost:8080/"
        },
        "id": "BSKSxQz4Brbv",
        "outputId": "42e25137-4f4f-405c-fd0a-23f91fc2507e"
      },
      "execution_count": null,
      "outputs": [
        {
          "output_type": "execute_result",
          "data": {
            "text/plain": [
              "array([   0,    0,    0, ..., 5328, 5878, 5330])"
            ]
          },
          "metadata": {},
          "execution_count": 155
        }
      ]
    },
    {
      "cell_type": "code",
      "source": [
        "# Dividimos en train y test\n",
        "vector_user_id_train, vector_user_id_test, _, _ = train_test_split(vector_user_id, y, test_size=test_ratio)\n",
        "print(\"Train: \", vector_user_id_train.shape)\n",
        "print(\"Test:\", vector_user_id_test.shape)"
      ],
      "metadata": {
        "colab": {
          "base_uri": "https://localhost:8080/"
        },
        "id": "RsSxAhOj71ai",
        "outputId": "b88ad0f6-5e66-4036-b62c-728b47bf0557"
      },
      "execution_count": null,
      "outputs": [
        {
          "output_type": "stream",
          "name": "stdout",
          "text": [
            "Train:  (385047,)\n",
            "Test: (165021,)\n"
          ]
        }
      ]
    },
    {
      "cell_type": "code",
      "source": [
        "vector_user_id_train"
      ],
      "metadata": {
        "colab": {
          "base_uri": "https://localhost:8080/"
        },
        "id": "esZ2NCL_BwC8",
        "outputId": "c727a7d7-b942-4007-c9eb-ce721a678b93"
      },
      "execution_count": null,
      "outputs": [
        {
          "output_type": "execute_result",
          "data": {
            "text/plain": [
              "array([3478, 2709,  366, ..., 1082,  371, 2015])"
            ]
          },
          "metadata": {},
          "execution_count": 157
        }
      ]
    },
    {
      "cell_type": "code",
      "source": [
        "# Dividimos en train y test\n",
        "vector_prd_id_train, vector_prd_id_test, _, _ = train_test_split(vector_prd_id, y, test_size=test_ratio)\n",
        "print(\"Train: \", vector_prd_id_train.shape)\n",
        "print(\"Test:\", vector_prd_id_test.shape)"
      ],
      "metadata": {
        "colab": {
          "base_uri": "https://localhost:8080/"
        },
        "id": "GmrUvy7ZBA2t",
        "outputId": "ff03aeaf-6f2b-4df5-d644-14935fd71e0c"
      },
      "execution_count": null,
      "outputs": [
        {
          "output_type": "stream",
          "name": "stdout",
          "text": [
            "Train:  (385047,)\n",
            "Test: (165021,)\n"
          ]
        }
      ]
    },
    {
      "cell_type": "code",
      "source": [
        "vector_prd_id_train"
      ],
      "metadata": {
        "colab": {
          "base_uri": "https://localhost:8080/"
        },
        "id": "J00WHgc1BQ9f",
        "outputId": "623ebf6a-b63b-4301-93b5-6bab7c109132"
      },
      "execution_count": null,
      "outputs": [
        {
          "output_type": "execute_result",
          "data": {
            "text/plain": [
              "array([ 494, 2228, 2382, ..., 1356, 1191, 1661])"
            ]
          },
          "metadata": {},
          "execution_count": 159
        }
      ]
    },
    {
      "cell_type": "code",
      "source": [
        "# armamos clase dataset de pytorch con embeddings\n",
        "class CustomDatasetEmb(Dataset):\n",
        "  def __init__(self, x, embedding_1, embedding_2, y):\n",
        "        self.x = x\n",
        "        self.embedding_1 = embedding_1\n",
        "        self.embedding_2 = embedding_2\n",
        "        self.y = y\n",
        "\n",
        "  def __len__(self):\n",
        "    return len(self.x)\n",
        "\n",
        "  def __getitem__(self, idx):\n",
        "    return self.x[idx], self.embedding_1[idx], self.embedding_2[idx], self.y[idx]"
      ],
      "metadata": {
        "id": "3WL4IWJyBpSO"
      },
      "execution_count": null,
      "outputs": []
    },
    {
      "cell_type": "code",
      "source": [
        "# armo dataset de entrenamiento y test\n",
        "train_ds_emb = CustomDatasetEmb(X_train, vector_user_id_train, vector_prd_id_train, y_train)\n",
        "test_ds_emb = CustomDatasetEmb(X_test, vector_user_id_test, vector_prd_id_test, y_test)"
      ],
      "metadata": {
        "id": "X_LOmqCKC_XQ"
      },
      "execution_count": null,
      "outputs": []
    },
    {
      "cell_type": "code",
      "source": [
        "# pruebo funcionamiento de __len__\n",
        "len(train_ds_emb)"
      ],
      "metadata": {
        "colab": {
          "base_uri": "https://localhost:8080/"
        },
        "id": "xC0yQwTLEWFM",
        "outputId": "0e96ef26-8f1b-4398-9f4c-60f69eb21ead"
      },
      "execution_count": null,
      "outputs": [
        {
          "output_type": "execute_result",
          "data": {
            "text/plain": [
              "385047"
            ]
          },
          "metadata": {},
          "execution_count": 162
        }
      ]
    },
    {
      "cell_type": "code",
      "source": [
        "len(test_ds_emb)"
      ],
      "metadata": {
        "colab": {
          "base_uri": "https://localhost:8080/"
        },
        "id": "KKpI09kNEaaG",
        "outputId": "bbf52ed8-04e0-4932-e535-14a31effafa6"
      },
      "execution_count": null,
      "outputs": [
        {
          "output_type": "execute_result",
          "data": {
            "text/plain": [
              "165021"
            ]
          },
          "metadata": {},
          "execution_count": 163
        }
      ]
    },
    {
      "cell_type": "code",
      "source": [
        "# pruebo funcionamiento de __getitem__\n",
        "train_ds_emb[5]"
      ],
      "metadata": {
        "colab": {
          "base_uri": "https://localhost:8080/"
        },
        "id": "dQuDOKK4EuYR",
        "outputId": "98520a52-3eeb-47b8-cc86-1cde421aff52"
      },
      "execution_count": null,
      "outputs": [
        {
          "output_type": "execute_result",
          "data": {
            "text/plain": [
              "(array([ 0.57256962, -1.10549345, -0.47169551, -1.44125784,  1.20045427,\n",
              "         0.65944943, -0.6059248 ,  1.17450616, -0.67214331]),\n",
              " 461,\n",
              " 2245,\n",
              " 1)"
            ]
          },
          "metadata": {},
          "execution_count": 164
        }
      ]
    },
    {
      "cell_type": "code",
      "source": [
        "test_ds_emb[5]"
      ],
      "metadata": {
        "colab": {
          "base_uri": "https://localhost:8080/"
        },
        "id": "8D4m68g7E4k0",
        "outputId": "4110ebba-85e4-48cc-9d36-e9b9011558dd"
      },
      "execution_count": null,
      "outputs": [
        {
          "output_type": "execute_result",
          "data": {
            "text/plain": [
              "(array([ 0.57256962,  0.37201475,  1.21473444, -1.44125784, -0.83301799,\n",
              "        -1.11891197,  1.65036982, -0.85142167, -0.67214331]),\n",
              " 1010,\n",
              " 29,\n",
              " 1)"
            ]
          },
          "metadata": {},
          "execution_count": 165
        }
      ]
    },
    {
      "cell_type": "code",
      "source": [
        "# cargo la data en batches\n",
        "train_dl_emb = DataLoader(train_ds_emb, batch_size=1000, shuffle=True)\n",
        "test_dl_emb = DataLoader(test_ds_emb, batch_size=1000)"
      ],
      "metadata": {
        "id": "tQoBUlYqE9up"
      },
      "execution_count": null,
      "outputs": []
    },
    {
      "cell_type": "code",
      "source": [
        "# Armamos arquitectura con Embeddings\n",
        "class NNEmb(torch.nn.Module):\n",
        "  def __init__(self) -> None:\n",
        "    super().__init__()\n",
        "    self.embedding_1 = torch.nn.Embedding(num_embeddings=5891, embedding_dim=10) # for user_id\n",
        "    self.embedding_2 = torch.nn.Embedding(num_embeddings=3631, embedding_dim=10) # for prd_id\n",
        "    self.Linear_1 = torch.nn.Linear(in_features=9+10+10, out_features=512, bias=True)\n",
        "    self.relu_1 = torch.nn.ReLU()\n",
        "    self.Linear_2 = torch.nn.Linear(in_features=512, out_features=200, bias=True)\n",
        "    self.relu_2 = torch.nn.ReLU()\n",
        "    self.Linear_3 = torch.nn.Linear(in_features=200, out_features=1, bias=True)\n",
        "\n",
        "  def forward(self, x, user_emb, prd_emb):\n",
        "    embedding_out_1 = self.embedding_1(user_emb)\n",
        "    embedding_out_2 = self.embedding_2(prd_emb)\n",
        "    x = torch.cat([x, embedding_out_1, embedding_out_2], dim=1)\n",
        "    x = self.Linear_1(x)\n",
        "    x = self.relu_1(x)\n",
        "    x = self.Linear_2(x)\n",
        "    x = self.relu_2(x)\n",
        "    x = self.Linear_3(x)\n",
        "    return x"
      ],
      "metadata": {
        "id": "-6msJFMaFOmz"
      },
      "execution_count": null,
      "outputs": []
    },
    {
      "cell_type": "code",
      "source": [
        "nn_emb = NNEmb()\n",
        "print(nn_emb)"
      ],
      "metadata": {
        "colab": {
          "base_uri": "https://localhost:8080/"
        },
        "id": "8Sm5YE3QIsEW",
        "outputId": "dd928c4e-3b9d-47d5-beb2-1f6b1dc96caf"
      },
      "execution_count": null,
      "outputs": [
        {
          "output_type": "stream",
          "name": "stdout",
          "text": [
            "NNEmb(\n",
            "  (embedding_1): Embedding(5891, 10)\n",
            "  (embedding_2): Embedding(3631, 10)\n",
            "  (Linear_1): Linear(in_features=29, out_features=512, bias=True)\n",
            "  (relu_1): ReLU()\n",
            "  (Linear_2): Linear(in_features=512, out_features=200, bias=True)\n",
            "  (relu_2): ReLU()\n",
            "  (Linear_3): Linear(in_features=200, out_features=1, bias=True)\n",
            ")\n"
          ]
        }
      ]
    },
    {
      "cell_type": "code",
      "source": [
        "# configuramos device\n",
        "device = \"cpu\"\n",
        "if torch.cuda.is_available():\n",
        "  device = \"cuda:0\"\n",
        "\n",
        "# copio NN al cpu/gpu\n",
        "nn_emb = nn_emb.to(device)\n",
        "print(f\"la NN se encuentran en el {device}\")"
      ],
      "metadata": {
        "colab": {
          "base_uri": "https://localhost:8080/"
        },
        "id": "zs8i_5uXJJfz",
        "outputId": "aada33b5-7ee9-4496-c80e-043cf175d106"
      },
      "execution_count": null,
      "outputs": [
        {
          "output_type": "stream",
          "name": "stdout",
          "text": [
            "la NN se encuentran en el cuda:0\n"
          ]
        }
      ]
    },
    {
      "cell_type": "code",
      "source": [
        "# creamos funcion de perdida\n",
        "loss_fn = torch.nn.BCEWithLogitsLoss(reduction='sum')\n",
        "# instanciamos optimizador de Adam\n",
        "opt = torch.optim.Adam(nn_emb.parameters(), lr=0.0001)"
      ],
      "metadata": {
        "id": "BRAxjLBYK30l"
      },
      "execution_count": null,
      "outputs": []
    },
    {
      "cell_type": "code",
      "source": [
        "# Mini-batch\n",
        "n_epoch = 100\n",
        "train_loss = []\n",
        "test_loss = []\n",
        "\n",
        "for epoch in tqdm(range(n_epoch)):\n",
        "  # Entrenamiento de la NN\n",
        "  nn_emb.train(True)\n",
        "\n",
        "  # inicializamos variables\n",
        "  loss_epoch = 0 # perdida por epoca\n",
        "  y_epoch = []  # guarda valor real\n",
        "  y_pred_epoch = [] # guarda valor predicho\n",
        "\n",
        "  for i,data in enumerate(train_dl_emb):\n",
        "    # obtenemos batch del set de entrenamiento\n",
        "    x_batch, embed_1_batch, embed_2_batch, y_batch = data\n",
        "    # copiamos batch al dispositivo donde esta la NN\n",
        "    x_batch = x_batch.to(device).float()\n",
        "    embed_1_batch = embed_1_batch.to(device).int()\n",
        "    embed_2_batch = embed_2_batch.to(device).int()\n",
        "    y_batch = y_batch.to(device).float().reshape(-1,1)\n",
        "\n",
        "    # limpio el optimizador\n",
        "    opt.zero_grad()\n",
        "    # paso forward\n",
        "    nn_forward_out = nn_emb(x_batch, embed_1_batch, embed_2_batch)\n",
        "    y_batch_pred = torch.sigmoid(nn_forward_out) #utilizo sigmoid para la clasificacion.\n",
        "\n",
        "    # calculo de la perdida -> loss(input, target)\n",
        "    loss = loss_fn(nn_forward_out, y_batch)\n",
        "\n",
        "    # paso backward\n",
        "    loss.backward()\n",
        "\n",
        "    # Actualizamos parametros\n",
        "    opt.step()\n",
        "\n",
        "    # guardamos valor real y predicho\n",
        "    y_epoch += list(y_batch.detach().cpu().numpy())\n",
        "    y_pred_epoch += list(y_batch_pred.detach().cpu().numpy())\n",
        "\n",
        "    # acumulo la perdida\n",
        "    loss_epoch += loss.item()\n",
        "\n",
        "  loss_epoch = loss_epoch / X_train.shape[0]\n",
        "  train_loss.append(loss_epoch)\n",
        "\n",
        "  # accuracy por epoca\n",
        "  accuracy = metrics.accuracy_score(y_epoch, [j>=0.5 for j in y_pred_epoch])\n",
        "\n",
        "  ############\n",
        "  # test dataset\n",
        "  # modo de prediccion\n",
        "  nn_emb.train(False)\n",
        "\n",
        "  loss_epoch_test = 0\n",
        "  y_epoch_test = []\n",
        "  y_pred_epoch_test = []\n",
        "\n",
        "  for i,data in enumerate(test_dl_emb):\n",
        "\n",
        "    x_batch, embed_1_batch, embed_2_batch, y_batch = data\n",
        "    x_batch = x_batch.to(device).float()\n",
        "    embed_1_batch = embed_1_batch.to(device).int()\n",
        "    embed_2_batch = embed_2_batch.to(device).int()\n",
        "    y_batch = y_batch.to(device).float().reshape(-1,1)\n",
        "\n",
        "    #forward\n",
        "    nn_forward_out = nn_emb(x_batch, embed_1_batch, embed_2_batch)\n",
        "    y_batch_pred = torch.sigmoid(nn_forward_out)\n",
        "\n",
        "    # perdida\n",
        "    loss = loss_fn(nn_forward_out, y_batch)\n",
        "\n",
        "    # guardamos valores reales y predichos\n",
        "    y_epoch_test += list(y_batch.detach().cpu().numpy())\n",
        "    y_pred_epoch_test += list(y_batch_pred.detach().cpu().numpy())\n",
        "\n",
        "    # acumulamos perdida\n",
        "    loss_epoch_test += loss.item()\n",
        "\n",
        "  loss_epoch_test = loss_epoch_test / X_test.shape[0]\n",
        "  test_loss.append(loss_epoch_test)\n",
        "  # sacamos metrica\n",
        "  accuracy_test = metrics.accuracy_score(y_epoch_test, [ j >= 0.5 for j in y_pred_epoch_test])\n",
        "\n",
        "  print(f\"\\nEpoch {epoch +1} | \" \\\n",
        "      f\"Train/Test loss: {loss_epoch:.3f} / {loss_epoch_test:.3f} | \" \\\n",
        "      f\"Train/Test accuracy: {accuracy:.3f} / {accuracy_test:.3f}\")"
      ],
      "metadata": {
        "colab": {
          "base_uri": "https://localhost:8080/"
        },
        "id": "dxyT2l3bK9LG",
        "outputId": "0841eaf5-aea7-49c5-cc20-fb6e66709bd2"
      },
      "execution_count": null,
      "outputs": [
        {
          "output_type": "stream",
          "name": "stderr",
          "text": [
            "  1%|          | 1/100 [00:06<10:43,  6.50s/it]"
          ]
        },
        {
          "output_type": "stream",
          "name": "stdout",
          "text": [
            "\n",
            "Epoch 1 | Train/Test loss: 0.576 / 0.504 | Train/Test accuracy: 0.756 / 0.790\n"
          ]
        },
        {
          "output_type": "stream",
          "name": "stderr",
          "text": [
            "\r  2%|▏         | 2/100 [00:13<11:17,  6.92s/it]"
          ]
        },
        {
          "output_type": "stream",
          "name": "stdout",
          "text": [
            "\n",
            "Epoch 2 | Train/Test loss: 0.495 / 0.489 | Train/Test accuracy: 0.782 / 0.782\n"
          ]
        },
        {
          "output_type": "stream",
          "name": "stderr",
          "text": [
            "\r  3%|▎         | 3/100 [00:20<11:15,  6.97s/it]"
          ]
        },
        {
          "output_type": "stream",
          "name": "stdout",
          "text": [
            "\n",
            "Epoch 3 | Train/Test loss: 0.487 / 0.481 | Train/Test accuracy: 0.784 / 0.788\n"
          ]
        },
        {
          "output_type": "stream",
          "name": "stderr",
          "text": [
            "\r  4%|▍         | 4/100 [00:27<10:53,  6.81s/it]"
          ]
        },
        {
          "output_type": "stream",
          "name": "stdout",
          "text": [
            "\n",
            "Epoch 4 | Train/Test loss: 0.478 / 0.473 | Train/Test accuracy: 0.788 / 0.789\n"
          ]
        },
        {
          "output_type": "stream",
          "name": "stderr",
          "text": [
            "\r  5%|▌         | 5/100 [00:34<11:09,  7.05s/it]"
          ]
        },
        {
          "output_type": "stream",
          "name": "stdout",
          "text": [
            "\n",
            "Epoch 5 | Train/Test loss: 0.469 / 0.465 | Train/Test accuracy: 0.788 / 0.788\n"
          ]
        },
        {
          "output_type": "stream",
          "name": "stderr",
          "text": [
            "\r  6%|▌         | 6/100 [00:41<10:39,  6.80s/it]"
          ]
        },
        {
          "output_type": "stream",
          "name": "stdout",
          "text": [
            "\n",
            "Epoch 6 | Train/Test loss: 0.460 / 0.456 | Train/Test accuracy: 0.788 / 0.790\n"
          ]
        },
        {
          "output_type": "stream",
          "name": "stderr",
          "text": [
            "\r  7%|▋         | 7/100 [00:48<10:47,  6.96s/it]"
          ]
        },
        {
          "output_type": "stream",
          "name": "stdout",
          "text": [
            "\n",
            "Epoch 7 | Train/Test loss: 0.451 / 0.448 | Train/Test accuracy: 0.788 / 0.789\n"
          ]
        },
        {
          "output_type": "stream",
          "name": "stderr",
          "text": [
            "\r  8%|▊         | 8/100 [00:54<10:23,  6.78s/it]"
          ]
        },
        {
          "output_type": "stream",
          "name": "stdout",
          "text": [
            "\n",
            "Epoch 8 | Train/Test loss: 0.444 / 0.440 | Train/Test accuracy: 0.788 / 0.790\n"
          ]
        },
        {
          "output_type": "stream",
          "name": "stderr",
          "text": [
            "\r  9%|▉         | 9/100 [01:02<10:30,  6.93s/it]"
          ]
        },
        {
          "output_type": "stream",
          "name": "stdout",
          "text": [
            "\n",
            "Epoch 9 | Train/Test loss: 0.435 / 0.431 | Train/Test accuracy: 0.788 / 0.788\n"
          ]
        },
        {
          "output_type": "stream",
          "name": "stderr",
          "text": [
            "\r 10%|█         | 10/100 [01:08<10:09,  6.78s/it]"
          ]
        },
        {
          "output_type": "stream",
          "name": "stdout",
          "text": [
            "\n",
            "Epoch 10 | Train/Test loss: 0.425 / 0.420 | Train/Test accuracy: 0.789 / 0.790\n"
          ]
        },
        {
          "output_type": "stream",
          "name": "stderr",
          "text": [
            "\r 11%|█         | 11/100 [01:15<10:06,  6.81s/it]"
          ]
        },
        {
          "output_type": "stream",
          "name": "stdout",
          "text": [
            "\n",
            "Epoch 11 | Train/Test loss: 0.415 / 0.411 | Train/Test accuracy: 0.793 / 0.799\n"
          ]
        },
        {
          "output_type": "stream",
          "name": "stderr",
          "text": [
            "\r 12%|█▏        | 12/100 [01:22<10:08,  6.92s/it]"
          ]
        },
        {
          "output_type": "stream",
          "name": "stdout",
          "text": [
            "\n",
            "Epoch 12 | Train/Test loss: 0.407 / 0.403 | Train/Test accuracy: 0.804 / 0.816\n"
          ]
        },
        {
          "output_type": "stream",
          "name": "stderr",
          "text": [
            "\r 13%|█▎        | 13/100 [01:29<09:51,  6.80s/it]"
          ]
        },
        {
          "output_type": "stream",
          "name": "stdout",
          "text": [
            "\n",
            "Epoch 13 | Train/Test loss: 0.400 / 0.397 | Train/Test accuracy: 0.815 / 0.819\n"
          ]
        },
        {
          "output_type": "stream",
          "name": "stderr",
          "text": [
            "\r 14%|█▍        | 14/100 [01:36<09:57,  6.94s/it]"
          ]
        },
        {
          "output_type": "stream",
          "name": "stdout",
          "text": [
            "\n",
            "Epoch 14 | Train/Test loss: 0.393 / 0.392 | Train/Test accuracy: 0.818 / 0.820\n"
          ]
        },
        {
          "output_type": "stream",
          "name": "stderr",
          "text": [
            "\r 15%|█▌        | 15/100 [01:42<09:32,  6.74s/it]"
          ]
        },
        {
          "output_type": "stream",
          "name": "stdout",
          "text": [
            "\n",
            "Epoch 15 | Train/Test loss: 0.388 / 0.387 | Train/Test accuracy: 0.820 / 0.820\n"
          ]
        },
        {
          "output_type": "stream",
          "name": "stderr",
          "text": [
            "\r 16%|█▌        | 16/100 [01:49<09:41,  6.92s/it]"
          ]
        },
        {
          "output_type": "stream",
          "name": "stdout",
          "text": [
            "\n",
            "Epoch 16 | Train/Test loss: 0.384 / 0.384 | Train/Test accuracy: 0.821 / 0.821\n"
          ]
        },
        {
          "output_type": "stream",
          "name": "stderr",
          "text": [
            "\r 17%|█▋        | 17/100 [01:56<09:21,  6.76s/it]"
          ]
        },
        {
          "output_type": "stream",
          "name": "stdout",
          "text": [
            "\n",
            "Epoch 17 | Train/Test loss: 0.381 / 0.381 | Train/Test accuracy: 0.823 / 0.825\n"
          ]
        },
        {
          "output_type": "stream",
          "name": "stderr",
          "text": [
            "\r 18%|█▊        | 18/100 [02:03<09:22,  6.86s/it]"
          ]
        },
        {
          "output_type": "stream",
          "name": "stdout",
          "text": [
            "\n",
            "Epoch 18 | Train/Test loss: 0.378 / 0.379 | Train/Test accuracy: 0.824 / 0.823\n"
          ]
        },
        {
          "output_type": "stream",
          "name": "stderr",
          "text": [
            "\r 19%|█▉        | 19/100 [02:09<09:03,  6.71s/it]"
          ]
        },
        {
          "output_type": "stream",
          "name": "stdout",
          "text": [
            "\n",
            "Epoch 19 | Train/Test loss: 0.376 / 0.378 | Train/Test accuracy: 0.825 / 0.825\n"
          ]
        },
        {
          "output_type": "stream",
          "name": "stderr",
          "text": [
            "\r 20%|██        | 20/100 [02:16<09:08,  6.86s/it]"
          ]
        },
        {
          "output_type": "stream",
          "name": "stdout",
          "text": [
            "\n",
            "Epoch 20 | Train/Test loss: 0.374 / 0.377 | Train/Test accuracy: 0.827 / 0.828\n"
          ]
        },
        {
          "output_type": "stream",
          "name": "stderr",
          "text": [
            "\r 21%|██        | 21/100 [02:24<09:09,  6.96s/it]"
          ]
        },
        {
          "output_type": "stream",
          "name": "stdout",
          "text": [
            "\n",
            "Epoch 21 | Train/Test loss: 0.372 / 0.375 | Train/Test accuracy: 0.827 / 0.828\n"
          ]
        },
        {
          "output_type": "stream",
          "name": "stderr",
          "text": [
            "\r 22%|██▏       | 22/100 [02:30<08:52,  6.82s/it]"
          ]
        },
        {
          "output_type": "stream",
          "name": "stdout",
          "text": [
            "\n",
            "Epoch 22 | Train/Test loss: 0.371 / 0.373 | Train/Test accuracy: 0.828 / 0.828\n"
          ]
        },
        {
          "output_type": "stream",
          "name": "stderr",
          "text": [
            "\r 23%|██▎       | 23/100 [02:38<09:04,  7.07s/it]"
          ]
        },
        {
          "output_type": "stream",
          "name": "stdout",
          "text": [
            "\n",
            "Epoch 23 | Train/Test loss: 0.369 / 0.372 | Train/Test accuracy: 0.829 / 0.829\n"
          ]
        },
        {
          "output_type": "stream",
          "name": "stderr",
          "text": [
            "\r 24%|██▍       | 24/100 [02:44<08:43,  6.89s/it]"
          ]
        },
        {
          "output_type": "stream",
          "name": "stdout",
          "text": [
            "\n",
            "Epoch 24 | Train/Test loss: 0.368 / 0.371 | Train/Test accuracy: 0.830 / 0.830\n"
          ]
        },
        {
          "output_type": "stream",
          "name": "stderr",
          "text": [
            "\r 25%|██▌       | 25/100 [02:52<08:44,  7.00s/it]"
          ]
        },
        {
          "output_type": "stream",
          "name": "stdout",
          "text": [
            "\n",
            "Epoch 25 | Train/Test loss: 0.367 / 0.370 | Train/Test accuracy: 0.831 / 0.831\n"
          ]
        },
        {
          "output_type": "stream",
          "name": "stderr",
          "text": [
            "\r 26%|██▌       | 26/100 [02:58<08:26,  6.84s/it]"
          ]
        },
        {
          "output_type": "stream",
          "name": "stdout",
          "text": [
            "\n",
            "Epoch 26 | Train/Test loss: 0.366 / 0.372 | Train/Test accuracy: 0.832 / 0.832\n"
          ]
        },
        {
          "output_type": "stream",
          "name": "stderr",
          "text": [
            "\r 27%|██▋       | 27/100 [03:05<08:30,  7.00s/it]"
          ]
        },
        {
          "output_type": "stream",
          "name": "stdout",
          "text": [
            "\n",
            "Epoch 27 | Train/Test loss: 0.364 / 0.369 | Train/Test accuracy: 0.833 / 0.833\n"
          ]
        },
        {
          "output_type": "stream",
          "name": "stderr",
          "text": [
            "\r 28%|██▊       | 28/100 [03:13<08:46,  7.31s/it]"
          ]
        },
        {
          "output_type": "stream",
          "name": "stdout",
          "text": [
            "\n",
            "Epoch 28 | Train/Test loss: 0.363 / 0.369 | Train/Test accuracy: 0.834 / 0.834\n"
          ]
        },
        {
          "output_type": "stream",
          "name": "stderr",
          "text": [
            "\r 29%|██▉       | 29/100 [03:20<08:15,  6.97s/it]"
          ]
        },
        {
          "output_type": "stream",
          "name": "stdout",
          "text": [
            "\n",
            "Epoch 29 | Train/Test loss: 0.362 / 0.367 | Train/Test accuracy: 0.835 / 0.835\n"
          ]
        },
        {
          "output_type": "stream",
          "name": "stderr",
          "text": [
            "\r 30%|███       | 30/100 [03:27<08:19,  7.13s/it]"
          ]
        },
        {
          "output_type": "stream",
          "name": "stdout",
          "text": [
            "\n",
            "Epoch 30 | Train/Test loss: 0.361 / 0.368 | Train/Test accuracy: 0.837 / 0.834\n"
          ]
        },
        {
          "output_type": "stream",
          "name": "stderr",
          "text": [
            "\r 31%|███       | 31/100 [03:34<07:58,  6.93s/it]"
          ]
        },
        {
          "output_type": "stream",
          "name": "stdout",
          "text": [
            "\n",
            "Epoch 31 | Train/Test loss: 0.360 / 0.367 | Train/Test accuracy: 0.838 / 0.835\n"
          ]
        },
        {
          "output_type": "stream",
          "name": "stderr",
          "text": [
            "\r 32%|███▏      | 32/100 [03:41<07:54,  6.97s/it]"
          ]
        },
        {
          "output_type": "stream",
          "name": "stdout",
          "text": [
            "\n",
            "Epoch 32 | Train/Test loss: 0.359 / 0.365 | Train/Test accuracy: 0.839 / 0.838\n"
          ]
        },
        {
          "output_type": "stream",
          "name": "stderr",
          "text": [
            "\r 33%|███▎      | 33/100 [03:47<07:34,  6.79s/it]"
          ]
        },
        {
          "output_type": "stream",
          "name": "stdout",
          "text": [
            "\n",
            "Epoch 33 | Train/Test loss: 0.358 / 0.365 | Train/Test accuracy: 0.841 / 0.840\n"
          ]
        },
        {
          "output_type": "stream",
          "name": "stderr",
          "text": [
            "\r 34%|███▍      | 34/100 [03:54<07:40,  6.97s/it]"
          ]
        },
        {
          "output_type": "stream",
          "name": "stdout",
          "text": [
            "\n",
            "Epoch 34 | Train/Test loss: 0.357 / 0.366 | Train/Test accuracy: 0.842 / 0.842\n"
          ]
        },
        {
          "output_type": "stream",
          "name": "stderr",
          "text": [
            "\r 35%|███▌      | 35/100 [04:01<07:34,  7.00s/it]"
          ]
        },
        {
          "output_type": "stream",
          "name": "stdout",
          "text": [
            "\n",
            "Epoch 35 | Train/Test loss: 0.355 / 0.364 | Train/Test accuracy: 0.844 / 0.843\n"
          ]
        },
        {
          "output_type": "stream",
          "name": "stderr",
          "text": [
            "\r 36%|███▌      | 36/100 [04:08<07:17,  6.84s/it]"
          ]
        },
        {
          "output_type": "stream",
          "name": "stdout",
          "text": [
            "\n",
            "Epoch 36 | Train/Test loss: 0.354 / 0.363 | Train/Test accuracy: 0.845 / 0.845\n"
          ]
        },
        {
          "output_type": "stream",
          "name": "stderr",
          "text": [
            "\r 37%|███▋      | 37/100 [04:15<07:22,  7.03s/it]"
          ]
        },
        {
          "output_type": "stream",
          "name": "stdout",
          "text": [
            "\n",
            "Epoch 37 | Train/Test loss: 0.353 / 0.363 | Train/Test accuracy: 0.847 / 0.845\n"
          ]
        },
        {
          "output_type": "stream",
          "name": "stderr",
          "text": [
            "\r 38%|███▊      | 38/100 [04:22<07:03,  6.83s/it]"
          ]
        },
        {
          "output_type": "stream",
          "name": "stdout",
          "text": [
            "\n",
            "Epoch 38 | Train/Test loss: 0.351 / 0.361 | Train/Test accuracy: 0.848 / 0.847\n"
          ]
        },
        {
          "output_type": "stream",
          "name": "stderr",
          "text": [
            "\r 39%|███▉      | 39/100 [04:29<07:05,  6.97s/it]"
          ]
        },
        {
          "output_type": "stream",
          "name": "stdout",
          "text": [
            "\n",
            "Epoch 39 | Train/Test loss: 0.350 / 0.360 | Train/Test accuracy: 0.849 / 0.847\n"
          ]
        },
        {
          "output_type": "stream",
          "name": "stderr",
          "text": [
            "\r 40%|████      | 40/100 [04:36<06:51,  6.86s/it]"
          ]
        },
        {
          "output_type": "stream",
          "name": "stdout",
          "text": [
            "\n",
            "Epoch 40 | Train/Test loss: 0.349 / 0.360 | Train/Test accuracy: 0.849 / 0.848\n"
          ]
        },
        {
          "output_type": "stream",
          "name": "stderr",
          "text": [
            "\r 41%|████      | 41/100 [04:43<06:50,  6.96s/it]"
          ]
        },
        {
          "output_type": "stream",
          "name": "stdout",
          "text": [
            "\n",
            "Epoch 41 | Train/Test loss: 0.347 / 0.360 | Train/Test accuracy: 0.850 / 0.849\n"
          ]
        },
        {
          "output_type": "stream",
          "name": "stderr",
          "text": [
            "\r 42%|████▏     | 42/100 [04:49<06:36,  6.84s/it]"
          ]
        },
        {
          "output_type": "stream",
          "name": "stdout",
          "text": [
            "\n",
            "Epoch 42 | Train/Test loss: 0.346 / 0.360 | Train/Test accuracy: 0.851 / 0.847\n"
          ]
        },
        {
          "output_type": "stream",
          "name": "stderr",
          "text": [
            "\r 43%|████▎     | 43/100 [04:57<06:34,  6.91s/it]"
          ]
        },
        {
          "output_type": "stream",
          "name": "stdout",
          "text": [
            "\n",
            "Epoch 43 | Train/Test loss: 0.345 / 0.359 | Train/Test accuracy: 0.851 / 0.849\n"
          ]
        },
        {
          "output_type": "stream",
          "name": "stderr",
          "text": [
            "\r 44%|████▍     | 44/100 [05:04<06:38,  7.11s/it]"
          ]
        },
        {
          "output_type": "stream",
          "name": "stdout",
          "text": [
            "\n",
            "Epoch 44 | Train/Test loss: 0.344 / 0.358 | Train/Test accuracy: 0.851 / 0.848\n"
          ]
        },
        {
          "output_type": "stream",
          "name": "stderr",
          "text": [
            "\r 45%|████▌     | 45/100 [05:11<06:21,  6.94s/it]"
          ]
        },
        {
          "output_type": "stream",
          "name": "stdout",
          "text": [
            "\n",
            "Epoch 45 | Train/Test loss: 0.343 / 0.360 | Train/Test accuracy: 0.852 / 0.850\n"
          ]
        },
        {
          "output_type": "stream",
          "name": "stderr",
          "text": [
            "\r 46%|████▌     | 46/100 [05:19<06:30,  7.23s/it]"
          ]
        },
        {
          "output_type": "stream",
          "name": "stdout",
          "text": [
            "\n",
            "Epoch 46 | Train/Test loss: 0.342 / 0.356 | Train/Test accuracy: 0.852 / 0.850\n"
          ]
        },
        {
          "output_type": "stream",
          "name": "stderr",
          "text": [
            "\r 47%|████▋     | 47/100 [05:25<06:11,  7.01s/it]"
          ]
        },
        {
          "output_type": "stream",
          "name": "stdout",
          "text": [
            "\n",
            "Epoch 47 | Train/Test loss: 0.340 / 0.356 | Train/Test accuracy: 0.853 / 0.850\n"
          ]
        },
        {
          "output_type": "stream",
          "name": "stderr",
          "text": [
            "\r 48%|████▊     | 48/100 [05:33<06:11,  7.15s/it]"
          ]
        },
        {
          "output_type": "stream",
          "name": "stdout",
          "text": [
            "\n",
            "Epoch 48 | Train/Test loss: 0.340 / 0.355 | Train/Test accuracy: 0.853 / 0.850\n"
          ]
        },
        {
          "output_type": "stream",
          "name": "stderr",
          "text": [
            "\r 49%|████▉     | 49/100 [05:40<06:06,  7.18s/it]"
          ]
        },
        {
          "output_type": "stream",
          "name": "stdout",
          "text": [
            "\n",
            "Epoch 49 | Train/Test loss: 0.339 / 0.355 | Train/Test accuracy: 0.853 / 0.850\n"
          ]
        },
        {
          "output_type": "stream",
          "name": "stderr",
          "text": [
            "\r 50%|█████     | 50/100 [05:46<05:51,  7.03s/it]"
          ]
        },
        {
          "output_type": "stream",
          "name": "stdout",
          "text": [
            "\n",
            "Epoch 50 | Train/Test loss: 0.338 / 0.356 | Train/Test accuracy: 0.853 / 0.849\n"
          ]
        },
        {
          "output_type": "stream",
          "name": "stderr",
          "text": [
            "\r 51%|█████     | 51/100 [05:54<05:52,  7.20s/it]"
          ]
        },
        {
          "output_type": "stream",
          "name": "stdout",
          "text": [
            "\n",
            "Epoch 51 | Train/Test loss: 0.337 / 0.354 | Train/Test accuracy: 0.853 / 0.850\n"
          ]
        },
        {
          "output_type": "stream",
          "name": "stderr",
          "text": [
            "\r 52%|█████▏    | 52/100 [06:01<05:36,  7.00s/it]"
          ]
        },
        {
          "output_type": "stream",
          "name": "stdout",
          "text": [
            "\n",
            "Epoch 52 | Train/Test loss: 0.336 / 0.356 | Train/Test accuracy: 0.854 / 0.851\n"
          ]
        },
        {
          "output_type": "stream",
          "name": "stderr",
          "text": [
            "\r 53%|█████▎    | 53/100 [06:08<05:37,  7.17s/it]"
          ]
        },
        {
          "output_type": "stream",
          "name": "stdout",
          "text": [
            "\n",
            "Epoch 53 | Train/Test loss: 0.335 / 0.355 | Train/Test accuracy: 0.854 / 0.851\n"
          ]
        },
        {
          "output_type": "stream",
          "name": "stderr",
          "text": [
            "\r 54%|█████▍    | 54/100 [06:14<05:17,  6.89s/it]"
          ]
        },
        {
          "output_type": "stream",
          "name": "stdout",
          "text": [
            "\n",
            "Epoch 54 | Train/Test loss: 0.335 / 0.356 | Train/Test accuracy: 0.854 / 0.849\n"
          ]
        },
        {
          "output_type": "stream",
          "name": "stderr",
          "text": [
            "\r 55%|█████▌    | 55/100 [06:22<05:14,  7.00s/it]"
          ]
        },
        {
          "output_type": "stream",
          "name": "stdout",
          "text": [
            "\n",
            "Epoch 55 | Train/Test loss: 0.334 / 0.355 | Train/Test accuracy: 0.854 / 0.851\n"
          ]
        },
        {
          "output_type": "stream",
          "name": "stderr",
          "text": [
            "\r 56%|█████▌    | 56/100 [06:28<05:06,  6.96s/it]"
          ]
        },
        {
          "output_type": "stream",
          "name": "stdout",
          "text": [
            "\n",
            "Epoch 56 | Train/Test loss: 0.333 / 0.354 | Train/Test accuracy: 0.855 / 0.850\n"
          ]
        },
        {
          "output_type": "stream",
          "name": "stderr",
          "text": [
            "\r 57%|█████▋    | 57/100 [06:35<04:57,  6.91s/it]"
          ]
        },
        {
          "output_type": "stream",
          "name": "stdout",
          "text": [
            "\n",
            "Epoch 57 | Train/Test loss: 0.332 / 0.355 | Train/Test accuracy: 0.855 / 0.849\n"
          ]
        },
        {
          "output_type": "stream",
          "name": "stderr",
          "text": [
            "\r 58%|█████▊    | 58/100 [06:43<04:58,  7.10s/it]"
          ]
        },
        {
          "output_type": "stream",
          "name": "stdout",
          "text": [
            "\n",
            "Epoch 58 | Train/Test loss: 0.331 / 0.354 | Train/Test accuracy: 0.855 / 0.851\n"
          ]
        },
        {
          "output_type": "stream",
          "name": "stderr",
          "text": [
            "\r 59%|█████▉    | 59/100 [06:49<04:42,  6.89s/it]"
          ]
        },
        {
          "output_type": "stream",
          "name": "stdout",
          "text": [
            "\n",
            "Epoch 59 | Train/Test loss: 0.330 / 0.356 | Train/Test accuracy: 0.855 / 0.848\n"
          ]
        },
        {
          "output_type": "stream",
          "name": "stderr",
          "text": [
            "\r 60%|██████    | 60/100 [06:57<04:44,  7.10s/it]"
          ]
        },
        {
          "output_type": "stream",
          "name": "stdout",
          "text": [
            "\n",
            "Epoch 60 | Train/Test loss: 0.330 / 0.353 | Train/Test accuracy: 0.855 / 0.851\n"
          ]
        },
        {
          "output_type": "stream",
          "name": "stderr",
          "text": [
            "\r 61%|██████    | 61/100 [07:03<04:26,  6.84s/it]"
          ]
        },
        {
          "output_type": "stream",
          "name": "stdout",
          "text": [
            "\n",
            "Epoch 61 | Train/Test loss: 0.329 / 0.354 | Train/Test accuracy: 0.855 / 0.851\n"
          ]
        },
        {
          "output_type": "stream",
          "name": "stderr",
          "text": [
            "\r 62%|██████▏   | 62/100 [07:11<04:26,  7.02s/it]"
          ]
        },
        {
          "output_type": "stream",
          "name": "stdout",
          "text": [
            "\n",
            "Epoch 62 | Train/Test loss: 0.329 / 0.354 | Train/Test accuracy: 0.856 / 0.851\n"
          ]
        },
        {
          "output_type": "stream",
          "name": "stderr",
          "text": [
            "\r 63%|██████▎   | 63/100 [07:17<04:12,  6.82s/it]"
          ]
        },
        {
          "output_type": "stream",
          "name": "stdout",
          "text": [
            "\n",
            "Epoch 63 | Train/Test loss: 0.328 / 0.357 | Train/Test accuracy: 0.856 / 0.852\n"
          ]
        },
        {
          "output_type": "stream",
          "name": "stderr",
          "text": [
            "\r 64%|██████▍   | 64/100 [07:24<04:11,  6.97s/it]"
          ]
        },
        {
          "output_type": "stream",
          "name": "stdout",
          "text": [
            "\n",
            "Epoch 64 | Train/Test loss: 0.327 / 0.355 | Train/Test accuracy: 0.856 / 0.851\n"
          ]
        },
        {
          "output_type": "stream",
          "name": "stderr",
          "text": [
            "\r 65%|██████▌   | 65/100 [07:31<04:07,  7.07s/it]"
          ]
        },
        {
          "output_type": "stream",
          "name": "stdout",
          "text": [
            "\n",
            "Epoch 65 | Train/Test loss: 0.327 / 0.354 | Train/Test accuracy: 0.856 / 0.850\n"
          ]
        },
        {
          "output_type": "stream",
          "name": "stderr",
          "text": [
            "\r 66%|██████▌   | 66/100 [07:38<03:53,  6.88s/it]"
          ]
        },
        {
          "output_type": "stream",
          "name": "stdout",
          "text": [
            "\n",
            "Epoch 66 | Train/Test loss: 0.326 / 0.354 | Train/Test accuracy: 0.856 / 0.850\n"
          ]
        },
        {
          "output_type": "stream",
          "name": "stderr",
          "text": [
            "\r 67%|██████▋   | 67/100 [07:46<03:54,  7.11s/it]"
          ]
        },
        {
          "output_type": "stream",
          "name": "stdout",
          "text": [
            "\n",
            "Epoch 67 | Train/Test loss: 0.325 / 0.355 | Train/Test accuracy: 0.856 / 0.850\n"
          ]
        },
        {
          "output_type": "stream",
          "name": "stderr",
          "text": [
            "\r 68%|██████▊   | 68/100 [07:52<03:38,  6.84s/it]"
          ]
        },
        {
          "output_type": "stream",
          "name": "stdout",
          "text": [
            "\n",
            "Epoch 68 | Train/Test loss: 0.325 / 0.358 | Train/Test accuracy: 0.856 / 0.851\n"
          ]
        },
        {
          "output_type": "stream",
          "name": "stderr",
          "text": [
            "\r 69%|██████▉   | 69/100 [07:59<03:36,  6.97s/it]"
          ]
        },
        {
          "output_type": "stream",
          "name": "stdout",
          "text": [
            "\n",
            "Epoch 69 | Train/Test loss: 0.324 / 0.354 | Train/Test accuracy: 0.857 / 0.851\n"
          ]
        },
        {
          "output_type": "stream",
          "name": "stderr",
          "text": [
            "\r 70%|███████   | 70/100 [08:05<03:24,  6.81s/it]"
          ]
        },
        {
          "output_type": "stream",
          "name": "stdout",
          "text": [
            "\n",
            "Epoch 70 | Train/Test loss: 0.324 / 0.355 | Train/Test accuracy: 0.857 / 0.848\n"
          ]
        },
        {
          "output_type": "stream",
          "name": "stderr",
          "text": [
            "\r 71%|███████   | 71/100 [08:13<03:21,  6.96s/it]"
          ]
        },
        {
          "output_type": "stream",
          "name": "stdout",
          "text": [
            "\n",
            "Epoch 71 | Train/Test loss: 0.323 / 0.355 | Train/Test accuracy: 0.857 / 0.850\n"
          ]
        },
        {
          "output_type": "stream",
          "name": "stderr",
          "text": [
            "\r 72%|███████▏  | 72/100 [08:20<03:13,  6.92s/it]"
          ]
        },
        {
          "output_type": "stream",
          "name": "stdout",
          "text": [
            "\n",
            "Epoch 72 | Train/Test loss: 0.322 / 0.355 | Train/Test accuracy: 0.857 / 0.850\n"
          ]
        },
        {
          "output_type": "stream",
          "name": "stderr",
          "text": [
            "\r 73%|███████▎  | 73/100 [08:26<03:05,  6.88s/it]"
          ]
        },
        {
          "output_type": "stream",
          "name": "stdout",
          "text": [
            "\n",
            "Epoch 73 | Train/Test loss: 0.322 / 0.355 | Train/Test accuracy: 0.857 / 0.849\n"
          ]
        },
        {
          "output_type": "stream",
          "name": "stderr",
          "text": [
            "\r 74%|███████▍  | 74/100 [08:34<03:03,  7.08s/it]"
          ]
        },
        {
          "output_type": "stream",
          "name": "stdout",
          "text": [
            "\n",
            "Epoch 74 | Train/Test loss: 0.321 / 0.356 | Train/Test accuracy: 0.857 / 0.850\n"
          ]
        },
        {
          "output_type": "stream",
          "name": "stderr",
          "text": [
            "\r 75%|███████▌  | 75/100 [08:41<02:53,  6.92s/it]"
          ]
        },
        {
          "output_type": "stream",
          "name": "stdout",
          "text": [
            "\n",
            "Epoch 75 | Train/Test loss: 0.321 / 0.356 | Train/Test accuracy: 0.857 / 0.847\n"
          ]
        },
        {
          "output_type": "stream",
          "name": "stderr",
          "text": [
            "\r 76%|███████▌  | 76/100 [08:48<02:49,  7.06s/it]"
          ]
        },
        {
          "output_type": "stream",
          "name": "stdout",
          "text": [
            "\n",
            "Epoch 76 | Train/Test loss: 0.320 / 0.356 | Train/Test accuracy: 0.857 / 0.849\n"
          ]
        },
        {
          "output_type": "stream",
          "name": "stderr",
          "text": [
            "\r 77%|███████▋  | 77/100 [08:54<02:38,  6.87s/it]"
          ]
        },
        {
          "output_type": "stream",
          "name": "stdout",
          "text": [
            "\n",
            "Epoch 77 | Train/Test loss: 0.319 / 0.356 | Train/Test accuracy: 0.858 / 0.850\n"
          ]
        },
        {
          "output_type": "stream",
          "name": "stderr",
          "text": [
            "\r 78%|███████▊  | 78/100 [09:02<02:34,  7.03s/it]"
          ]
        },
        {
          "output_type": "stream",
          "name": "stdout",
          "text": [
            "\n",
            "Epoch 78 | Train/Test loss: 0.319 / 0.356 | Train/Test accuracy: 0.858 / 0.850\n"
          ]
        },
        {
          "output_type": "stream",
          "name": "stderr",
          "text": [
            "\r 79%|███████▉  | 79/100 [09:08<02:24,  6.89s/it]"
          ]
        },
        {
          "output_type": "stream",
          "name": "stdout",
          "text": [
            "\n",
            "Epoch 79 | Train/Test loss: 0.318 / 0.356 | Train/Test accuracy: 0.858 / 0.847\n"
          ]
        },
        {
          "output_type": "stream",
          "name": "stderr",
          "text": [
            "\r 80%|████████  | 80/100 [09:15<02:18,  6.93s/it]"
          ]
        },
        {
          "output_type": "stream",
          "name": "stdout",
          "text": [
            "\n",
            "Epoch 80 | Train/Test loss: 0.318 / 0.357 | Train/Test accuracy: 0.858 / 0.850\n"
          ]
        },
        {
          "output_type": "stream",
          "name": "stderr",
          "text": [
            "\r 81%|████████  | 81/100 [09:23<02:14,  7.07s/it]"
          ]
        },
        {
          "output_type": "stream",
          "name": "stdout",
          "text": [
            "\n",
            "Epoch 81 | Train/Test loss: 0.317 / 0.357 | Train/Test accuracy: 0.858 / 0.847\n"
          ]
        },
        {
          "output_type": "stream",
          "name": "stderr",
          "text": [
            "\r 82%|████████▏ | 82/100 [09:29<02:04,  6.90s/it]"
          ]
        },
        {
          "output_type": "stream",
          "name": "stdout",
          "text": [
            "\n",
            "Epoch 82 | Train/Test loss: 0.316 / 0.357 | Train/Test accuracy: 0.858 / 0.845\n"
          ]
        },
        {
          "output_type": "stream",
          "name": "stderr",
          "text": [
            "\r 83%|████████▎ | 83/100 [09:37<02:00,  7.08s/it]"
          ]
        },
        {
          "output_type": "stream",
          "name": "stdout",
          "text": [
            "\n",
            "Epoch 83 | Train/Test loss: 0.315 / 0.357 | Train/Test accuracy: 0.859 / 0.847\n"
          ]
        },
        {
          "output_type": "stream",
          "name": "stderr",
          "text": [
            "\r 84%|████████▍ | 84/100 [09:43<01:51,  6.94s/it]"
          ]
        },
        {
          "output_type": "stream",
          "name": "stdout",
          "text": [
            "\n",
            "Epoch 84 | Train/Test loss: 0.315 / 0.357 | Train/Test accuracy: 0.859 / 0.847\n"
          ]
        },
        {
          "output_type": "stream",
          "name": "stderr",
          "text": [
            "\r 85%|████████▌ | 85/100 [09:51<01:45,  7.06s/it]"
          ]
        },
        {
          "output_type": "stream",
          "name": "stdout",
          "text": [
            "\n",
            "Epoch 85 | Train/Test loss: 0.314 / 0.356 | Train/Test accuracy: 0.859 / 0.849\n"
          ]
        },
        {
          "output_type": "stream",
          "name": "stderr",
          "text": [
            "\r 86%|████████▌ | 86/100 [09:57<01:35,  6.85s/it]"
          ]
        },
        {
          "output_type": "stream",
          "name": "stdout",
          "text": [
            "\n",
            "Epoch 86 | Train/Test loss: 0.313 / 0.357 | Train/Test accuracy: 0.859 / 0.848\n"
          ]
        },
        {
          "output_type": "stream",
          "name": "stderr",
          "text": [
            "\r 87%|████████▋ | 87/100 [10:04<01:30,  6.93s/it]"
          ]
        },
        {
          "output_type": "stream",
          "name": "stdout",
          "text": [
            "\n",
            "Epoch 87 | Train/Test loss: 0.312 / 0.356 | Train/Test accuracy: 0.859 / 0.847\n"
          ]
        },
        {
          "output_type": "stream",
          "name": "stderr",
          "text": [
            "\r 88%|████████▊ | 88/100 [10:12<01:25,  7.09s/it]"
          ]
        },
        {
          "output_type": "stream",
          "name": "stdout",
          "text": [
            "\n",
            "Epoch 88 | Train/Test loss: 0.312 / 0.358 | Train/Test accuracy: 0.859 / 0.846\n"
          ]
        },
        {
          "output_type": "stream",
          "name": "stderr",
          "text": [
            "\r 89%|████████▉ | 89/100 [10:18<01:16,  6.93s/it]"
          ]
        },
        {
          "output_type": "stream",
          "name": "stdout",
          "text": [
            "\n",
            "Epoch 89 | Train/Test loss: 0.311 / 0.357 | Train/Test accuracy: 0.860 / 0.847\n"
          ]
        },
        {
          "output_type": "stream",
          "name": "stderr",
          "text": [
            "\r 90%|█████████ | 90/100 [10:26<01:10,  7.07s/it]"
          ]
        },
        {
          "output_type": "stream",
          "name": "stdout",
          "text": [
            "\n",
            "Epoch 90 | Train/Test loss: 0.310 / 0.357 | Train/Test accuracy: 0.860 / 0.849\n"
          ]
        },
        {
          "output_type": "stream",
          "name": "stderr",
          "text": [
            "\r 91%|█████████ | 91/100 [10:32<01:01,  6.89s/it]"
          ]
        },
        {
          "output_type": "stream",
          "name": "stdout",
          "text": [
            "\n",
            "Epoch 91 | Train/Test loss: 0.309 / 0.357 | Train/Test accuracy: 0.860 / 0.849\n"
          ]
        },
        {
          "output_type": "stream",
          "name": "stderr",
          "text": [
            "\r 92%|█████████▏| 92/100 [10:39<00:55,  6.99s/it]"
          ]
        },
        {
          "output_type": "stream",
          "name": "stdout",
          "text": [
            "\n",
            "Epoch 92 | Train/Test loss: 0.308 / 0.358 | Train/Test accuracy: 0.861 / 0.843\n"
          ]
        },
        {
          "output_type": "stream",
          "name": "stderr",
          "text": [
            "\r 93%|█████████▎| 93/100 [10:46<00:48,  6.87s/it]"
          ]
        },
        {
          "output_type": "stream",
          "name": "stdout",
          "text": [
            "\n",
            "Epoch 93 | Train/Test loss: 0.308 / 0.359 | Train/Test accuracy: 0.861 / 0.841\n"
          ]
        },
        {
          "output_type": "stream",
          "name": "stderr",
          "text": [
            "\r 94%|█████████▍| 94/100 [10:53<00:41,  6.96s/it]"
          ]
        },
        {
          "output_type": "stream",
          "name": "stdout",
          "text": [
            "\n",
            "Epoch 94 | Train/Test loss: 0.307 / 0.357 | Train/Test accuracy: 0.861 / 0.845\n"
          ]
        },
        {
          "output_type": "stream",
          "name": "stderr",
          "text": [
            "\r 95%|█████████▌| 95/100 [11:01<00:35,  7.14s/it]"
          ]
        },
        {
          "output_type": "stream",
          "name": "stdout",
          "text": [
            "\n",
            "Epoch 95 | Train/Test loss: 0.306 / 0.356 | Train/Test accuracy: 0.861 / 0.847\n"
          ]
        },
        {
          "output_type": "stream",
          "name": "stderr",
          "text": [
            "\r 96%|█████████▌| 96/100 [11:07<00:27,  6.98s/it]"
          ]
        },
        {
          "output_type": "stream",
          "name": "stdout",
          "text": [
            "\n",
            "Epoch 96 | Train/Test loss: 0.305 / 0.357 | Train/Test accuracy: 0.862 / 0.845\n"
          ]
        },
        {
          "output_type": "stream",
          "name": "stderr",
          "text": [
            "\r 97%|█████████▋| 97/100 [11:15<00:21,  7.16s/it]"
          ]
        },
        {
          "output_type": "stream",
          "name": "stdout",
          "text": [
            "\n",
            "Epoch 97 | Train/Test loss: 0.305 / 0.357 | Train/Test accuracy: 0.862 / 0.845\n"
          ]
        },
        {
          "output_type": "stream",
          "name": "stderr",
          "text": [
            "\r 98%|█████████▊| 98/100 [11:21<00:13,  6.91s/it]"
          ]
        },
        {
          "output_type": "stream",
          "name": "stdout",
          "text": [
            "\n",
            "Epoch 98 | Train/Test loss: 0.304 / 0.359 | Train/Test accuracy: 0.862 / 0.840\n"
          ]
        },
        {
          "output_type": "stream",
          "name": "stderr",
          "text": [
            "\r 99%|█████████▉| 99/100 [11:28<00:07,  7.01s/it]"
          ]
        },
        {
          "output_type": "stream",
          "name": "stdout",
          "text": [
            "\n",
            "Epoch 99 | Train/Test loss: 0.303 / 0.357 | Train/Test accuracy: 0.863 / 0.848\n"
          ]
        },
        {
          "output_type": "stream",
          "name": "stderr",
          "text": [
            "100%|██████████| 100/100 [11:35<00:00,  6.95s/it]"
          ]
        },
        {
          "output_type": "stream",
          "name": "stdout",
          "text": [
            "\n",
            "Epoch 100 | Train/Test loss: 0.302 / 0.357 | Train/Test accuracy: 0.863 / 0.844\n"
          ]
        },
        {
          "output_type": "stream",
          "name": "stderr",
          "text": [
            "\n"
          ]
        }
      ]
    },
    {
      "cell_type": "code",
      "source": [
        "fig, ax1= plt.subplots(1,1)\n",
        "ax1.plot(train_loss, label=\"Train loss\")\n",
        "ax1.plot(test_loss, label=\"Test loss\")\n",
        "ax1.legend()\n",
        "ax1.set_title(\"Funcion de perdida por epoca\")\n",
        "ax1.set_xlabel(\"epoca\")\n",
        "ax1.set_ylabel(\"BinaryCrossEntropy\")"
      ],
      "metadata": {
        "colab": {
          "base_uri": "https://localhost:8080/",
          "height": 491
        },
        "id": "9wRHgLBfSEW4",
        "outputId": "b0d00a5f-07dc-40d6-cde9-eae166f33ea3"
      },
      "execution_count": null,
      "outputs": [
        {
          "output_type": "execute_result",
          "data": {
            "text/plain": [
              "Text(0, 0.5, 'BinaryCrossEntropy')"
            ]
          },
          "metadata": {},
          "execution_count": 172
        },
        {
          "output_type": "display_data",
          "data": {
            "text/plain": [
              "<Figure size 640x480 with 1 Axes>"
            ],
            "image/png": "[encoded data removed]"
          },
          "metadata": {}
        }
      ]
    },
    {
      "cell_type": "markdown",
      "source": [
        "**Analisis**\n",
        "\n",
        "Despues de utilizar embeddings con las caracteristicas product_id y user-id se tuvo un buen accuracy en set de entrenamiento, pero no tan bueno para el set de prueba.\n",
        "\n",
        "Según la curva de la funcion de perdida por epoca se observa que la NN tiene overfitting. Para solventar esto se puede aplicar cualquier metodo Regularización (L1, L2, Dropout)."
      ],
      "metadata": {
        "id": "vp35b7xRWIrI"
      }
    }
  ]
}